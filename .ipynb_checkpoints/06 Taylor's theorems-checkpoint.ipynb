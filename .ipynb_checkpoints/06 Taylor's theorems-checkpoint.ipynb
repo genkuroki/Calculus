{
 "cells": [
  {
   "cell_type": "markdown",
   "metadata": {},
   "source": [
    "# 06 Taylorの定理\n",
    "\n",
    "黒木玄\n",
    "\n",
    "2018-04-20～2019-04-03, 2020-08-18, 2023-06-02～2023-06-22\n",
    "\n",
    "* Copyright 2018,2019,2020,2023 Gen Kuroki\n",
    "* License: MIT https://opensource.org/licenses/MIT\n",
    "* Repository: https://github.com/genkuroki/Calculus\n",
    "\n",
    "このファイルは次の場所できれいに閲覧できる:\n",
    "\n",
    "* http://nbviewer.jupyter.org/github/genkuroki/Calculus/blob/master/06%20Taylor%27s%20theorems.ipynb\n",
    "\n",
    "* https://genkuroki.github.io/documents/Calculus/06%20Taylor%27s%20theorems.pdf\n",
    "\n",
    "このファイルは <a href=\"https://juliabox.com\">Julia Box</a> で利用できる.\n",
    "\n",
    "自分のパソコンに<a href=\"https://julialang.org/\">Julia言語</a>をインストールしたい場合には\n",
    "\n",
    "* [WindowsへのJulia言語のインストール](http://nbviewer.jupyter.org/gist/genkuroki/81de23edcae631a995e19a2ecf946a4f)\n",
    "\n",
    "* [Julia v1.1.0 の Windows 8.1 へのインストール](https://nbviewer.jupyter.org/github/genkuroki/msfd28/blob/master/install.ipynb)\n",
    "\n",
    "を参照せよ. 前者は古く, 後者の方が新しい.\n",
    "\n",
    "論理的に完璧な説明をするつもりはない. 細部のいい加減な部分は自分で訂正・修正せよ.\n",
    "\n",
    "$\n",
    "\\newcommand\\eps{\\varepsilon}\n",
    "\\newcommand\\ds{\\displaystyle}\n",
    "\\newcommand\\Z{{\\mathbb Z}}\n",
    "\\newcommand\\R{{\\mathbb R}}\n",
    "\\newcommand\\C{{\\mathbb C}}\n",
    "\\newcommand\\QED{\\text{□}}\n",
    "\\newcommand\\root{\\sqrt}\n",
    "\\newcommand\\bra{\\langle}\n",
    "\\newcommand\\ket{\\rangle}\n",
    "\\newcommand\\d{\\partial}\n",
    "\\newcommand\\sech{\\operatorname{sech}}\n",
    "\\newcommand\\cosec{\\operatorname{cosec}}\n",
    "\\newcommand\\sign{\\operatorname{sign}}\n",
    "\\newcommand\\sinc{\\operatorname{sinc}}\n",
    "\\newcommand\\arctanh{\\operatorname{arctanh}}\n",
    "\\newcommand\\real{\\operatorname{Re}}\n",
    "\\newcommand\\imag{\\operatorname{Im}}\n",
    "\\newcommand\\Li{\\operatorname{Li}}\n",
    "\\newcommand\\PROD{\\mathop{\\coprod\\kern-1.35em\\prod}}\n",
    "$"
   ]
  },
  {
   "cell_type": "markdown",
   "metadata": {
    "toc": true
   },
   "source": [
    "<h1>目次<span class=\"tocSkip\"></span></h1>\n",
    "<div class=\"toc\"><ul class=\"toc-item\"><li><span><a href=\"#Taylorの定理\" data-toc-modified-id=\"Taylorの定理-1\"><span class=\"toc-item-num\">1&nbsp;&nbsp;</span>Taylorの定理</a></span><ul class=\"toc-item\"><li><span><a href=\"#積分型剰余項版Taylorの定理\" data-toc-modified-id=\"積分型剰余項版Taylorの定理-1.1\"><span class=\"toc-item-num\">1.1&nbsp;&nbsp;</span>積分型剰余項版Taylorの定理</a></span><ul class=\"toc-item\"><li><span><a href=\"#積分型剰余項の絶対値の上からの評価\" data-toc-modified-id=\"積分型剰余項の絶対値の上からの評価-1.1.1\"><span class=\"toc-item-num\">1.1.1&nbsp;&nbsp;</span>積分型剰余項の絶対値の上からの評価</a></span></li><li><span><a href=\"#積分型剰余項の書き直し:-1重積分表示\" data-toc-modified-id=\"積分型剰余項の書き直し:-1重積分表示-1.1.2\"><span class=\"toc-item-num\">1.1.2&nbsp;&nbsp;</span>積分型剰余項の書き直し: 1重積分表示</a></span></li><li><span><a href=\"#積分型剰余項の書き直し:-Lagrangeの剰余項\" data-toc-modified-id=\"積分型剰余項の書き直し:-Lagrangeの剰余項-1.1.3\"><span class=\"toc-item-num\">1.1.3&nbsp;&nbsp;</span>積分型剰余項の書き直し: Lagrangeの剰余項</a></span></li><li><span><a href=\"#積分型剰余項の書き直し:-Cauchyの剰余項\" data-toc-modified-id=\"積分型剰余項の書き直し:-Cauchyの剰余項-1.1.4\"><span class=\"toc-item-num\">1.1.4&nbsp;&nbsp;</span>積分型剰余項の書き直し: Cauchyの剰余項</a></span></li><li><span><a href=\"#Landau記号を用いたTaylorの定理\" data-toc-modified-id=\"Landau記号を用いたTaylorの定理-1.1.5\"><span class=\"toc-item-num\">1.1.5&nbsp;&nbsp;</span>Landau記号を用いたTaylorの定理</a></span></li></ul></li><li><span><a href=\"#$n$-回微分可能性だけを仮定した場合のTaylorの定理について\" data-toc-modified-id=\"$n$-回微分可能性だけを仮定した場合のTaylorの定理について-1.2\"><span class=\"toc-item-num\">1.2&nbsp;&nbsp;</span>$n$ 回微分可能性だけを仮定した場合のTaylorの定理について</a></span></li></ul></li><li><span><a href=\"#Taylor展開\" data-toc-modified-id=\"Taylor展開-2\"><span class=\"toc-item-num\">2&nbsp;&nbsp;</span>Taylor展開</a></span><ul class=\"toc-item\"><li><span><a href=\"#基本的なTaylor展開の例\" data-toc-modified-id=\"基本的なTaylor展開の例-2.1\"><span class=\"toc-item-num\">2.1&nbsp;&nbsp;</span>基本的なTaylor展開の例</a></span></li><li><span><a href=\"#コンピューターを用いた計算例\" data-toc-modified-id=\"コンピューターを用いた計算例-2.2\"><span class=\"toc-item-num\">2.2&nbsp;&nbsp;</span>コンピューターを用いた計算例</a></span></li></ul></li><li><span><a href=\"#Bernoulli数とEuler数を用いたTaylor展開\" data-toc-modified-id=\"Bernoulli数とEuler数を用いたTaylor展開-3\"><span class=\"toc-item-num\">3&nbsp;&nbsp;</span>Bernoulli数とEuler数を用いたTaylor展開</a></span><ul class=\"toc-item\"><li><span><a href=\"#Bernoulli数とEuler数の定義\" data-toc-modified-id=\"Bernoulli数とEuler数の定義-3.1\"><span class=\"toc-item-num\">3.1&nbsp;&nbsp;</span>Bernoulli数とEuler数の定義</a></span></li><li><span><a href=\"#tan,-cot,-sec,-cosec-の展開\" data-toc-modified-id=\"tan,-cot,-sec,-cosec-の展開-3.2\"><span class=\"toc-item-num\">3.2&nbsp;&nbsp;</span>tan, cot, sec, cosec の展開</a></span></li></ul></li><li><span><a href=\"#べき級数の収束\" data-toc-modified-id=\"べき級数の収束-4\"><span class=\"toc-item-num\">4&nbsp;&nbsp;</span>べき級数の収束</a></span><ul class=\"toc-item\"><li><span><a href=\"#べき級数の定義\" data-toc-modified-id=\"べき級数の定義-4.1\"><span class=\"toc-item-num\">4.1&nbsp;&nbsp;</span>べき級数の定義</a></span></li><li><span><a href=\"#べき級数の収束半径\" data-toc-modified-id=\"べき級数の収束半径-4.2\"><span class=\"toc-item-num\">4.2&nbsp;&nbsp;</span>べき級数の収束半径</a></span><ul class=\"toc-item\"><li><span><a href=\"#d'Alembert-の判定法\" data-toc-modified-id=\"d'Alembert-の判定法-4.2.1\"><span class=\"toc-item-num\">4.2.1&nbsp;&nbsp;</span>d'Alembert の判定法</a></span></li><li><span><a href=\"#Cauchy-Hadamard定理\" data-toc-modified-id=\"Cauchy-Hadamard定理-4.2.2\"><span class=\"toc-item-num\">4.2.2&nbsp;&nbsp;</span>Cauchy-Hadamard定理</a></span></li></ul></li><li><span><a href=\"#収束円盤の境界上でのべき級数の収束\" data-toc-modified-id=\"収束円盤の境界上でのべき級数の収束-4.3\"><span class=\"toc-item-num\">4.3&nbsp;&nbsp;</span>収束円盤の境界上でのべき級数の収束</a></span><ul class=\"toc-item\"><li><span><a href=\"#準備:-Cesàro総和可能性\" data-toc-modified-id=\"準備:-Cesàro総和可能性-4.3.1\"><span class=\"toc-item-num\">4.3.1&nbsp;&nbsp;</span>準備: Cesàro総和可能性</a></span></li><li><span><a href=\"#Abel総和可能性\" data-toc-modified-id=\"Abel総和可能性-4.3.2\"><span class=\"toc-item-num\">4.3.2&nbsp;&nbsp;</span>Abel総和可能性</a></span></li><li><span><a href=\"#準備:-Vitaliの定理\" data-toc-modified-id=\"準備:-Vitaliの定理-4.3.3\"><span class=\"toc-item-num\">4.3.3&nbsp;&nbsp;</span>準備: Vitaliの定理</a></span></li><li><span><a href=\"#M.-Riesz-の補題とその応用\" data-toc-modified-id=\"M.-Riesz-の補題とその応用-4.3.4\"><span class=\"toc-item-num\">4.3.4&nbsp;&nbsp;</span>M. Riesz の補題とその応用</a></span></li></ul></li></ul></li><li><span><a href=\"#超幾何級数\" data-toc-modified-id=\"超幾何級数-5\"><span class=\"toc-item-num\">5&nbsp;&nbsp;</span>超幾何級数</a></span></li></ul></div>"
   ]
  },
  {
   "cell_type": "code",
   "execution_count": 1,
   "metadata": {},
   "outputs": [],
   "source": [
    "using Base.MathConstants\n",
    "using Base64\n",
    "using Printf\n",
    "using Statistics\n",
    "const e = ℯ\n",
    "endof(a) = lastindex(a)\n",
    "linspace(start, stop, length) = range(start, stop, length=length)\n",
    "\n",
    "using Plots\n",
    "default(fmt = :png)\n",
    "#gr(); ENV[\"PLOTS_TEST\"] = \"true\"\n",
    "#clibrary(:colorcet)\n",
    "#clibrary(:misc)\n",
    "\n",
    "function pngplot(P...; kwargs...)\n",
    "    sleep(0.1)\n",
    "    pngfile = tempname() * \".png\"\n",
    "    savefig(plot(P...; kwargs...), pngfile)\n",
    "    showimg(\"image/png\", pngfile)\n",
    "end\n",
    "pngplot(; kwargs...) = pngplot(plot!(; kwargs...))\n",
    "\n",
    "showimg(mime, fn) = open(fn) do f\n",
    "    base64 = base64encode(f)\n",
    "    display(\"text/html\", \"\"\"<img src=\"data:$mime;base64,$base64\">\"\"\")\n",
    "end\n",
    "\n",
    "using SymPy\n",
    "#sympy.init_printing(order=\"lex\") # default\n",
    "#sympy.init_printing(order=\"rev-lex\")\n",
    "\n",
    "using SpecialFunctions\n",
    "using QuadGK"
   ]
  },
  {
   "cell_type": "code",
   "execution_count": 2,
   "metadata": {},
   "outputs": [],
   "source": [
    "# Override the Base.show definition of SymPy.jl:\n",
    "# https://github.com/JuliaPy/SymPy.jl/blob/29c5bfd1d10ac53014fa7fef468bc8deccadc2fc/src/types.jl#L87-L105\n",
    "\n",
    "@eval SymPy function Base.show(io::IO, ::MIME\"text/latex\", x::SymbolicObject)\n",
    "    print(io, as_markdown(\"\\\\displaystyle \" * sympy.latex(x, mode=\"plain\", fold_short_frac=false)))\n",
    "end\n",
    "@eval SymPy function Base.show(io::IO, ::MIME\"text/latex\", x::AbstractArray{Sym})\n",
    "    function toeqnarray(x::Vector{Sym})\n",
    "        a = join([\"\\\\displaystyle \" * sympy.latex(x[i]) for i in 1:length(x)], \"\\\\\\\\\")\n",
    "        \"\"\"\\\\left[ \\\\begin{array}{r}$a\\\\end{array} \\\\right]\"\"\"\n",
    "    end\n",
    "    function toeqnarray(x::AbstractArray{Sym,2})\n",
    "        sz = size(x)\n",
    "        a = join([join(\"\\\\displaystyle \" .* map(sympy.latex, x[i,:]), \"&\") for i in 1:sz[1]], \"\\\\\\\\\")\n",
    "        \"\\\\left[ \\\\begin{array}{\" * repeat(\"r\",sz[2]) * \"}\" * a * \"\\\\end{array}\\\\right]\"\n",
    "    end\n",
    "    print(io, as_markdown(toeqnarray(x)))\n",
    "end"
   ]
  },
  {
   "cell_type": "markdown",
   "metadata": {},
   "source": [
    "## Taylorの定理\n",
    "\n",
    "$$\n",
    "f(x) = f(a) + f'(a)(x-a) + \\frac{1}{2}f''(a)(x-a)^2 + \\cdots + \\frac{1}{k!}f^{(k)}(a)(x-a)^k + \\cdots\n",
    "$$\n",
    "\n",
    "の最後の $+\\cdots$ の部分を $f$ の $k+1$ 階の導函数の式で書いた結果を**Taylorの定理**と呼ぶことにする.  その表示の仕方には様々な形がある."
   ]
  },
  {
   "cell_type": "markdown",
   "metadata": {},
   "source": [
    "### 積分型剰余項版Taylorの定理"
   ]
  },
  {
   "cell_type": "markdown",
   "metadata": {},
   "source": [
    "$f$ は $C^n$ 級函数であると仮定する.  \n",
    "\n",
    "まず, $n=4$ の場合を例として扱う. そのとき\n",
    "\n",
    "$$\n",
    "f'''(x) = f'''(a) + \\int_a^x f^{(4)}(x_4)\\,dx_4.\n",
    "$$\n",
    "\n",
    "ゆえに\n",
    "\n",
    "$$\n",
    "\\begin{aligned}\n",
    "f''(x) &= \n",
    "f''(a) + \\int_a^x f'''(x_3)\\,dx_3\n",
    "\\\\ & =\n",
    "f''(a) + f'''(a)(x-a) + \\int_a^x\\left[\\int_a^{x_3} f^{(4)}(x_4)\\,dx_4\\right]\\,dx_3.\n",
    "\\end{aligned}\n",
    "$$\n",
    "\n",
    "括弧が増えると書くのが面倒になるので\n",
    "\n",
    "$$\n",
    "\\int_a^x dx_3\\int_a^{x_3} dx_4\\; f^{(4)}(x_4) :=\n",
    "\\int_a^x\\left[\\int_a^{x_3} f^{(4)}(x_4)\\,dx_4\\right]\\,dx_3\n",
    "$$\n",
    "\n",
    "と書くことにする. 積分が3重以上でも同様に書くことにする.  そのように書くと, \n",
    "\n",
    "$$\n",
    "f''(x) = \n",
    "f''(a) + f'''(a)(x-a) + \\int_a^x dx_3\\int_a^{x_3} dx_4\\; f^{(4)}(x_4).\n",
    "$$\n",
    "\n",
    "ゆえに\n",
    "\n",
    "$$\n",
    "\\begin{aligned}\n",
    "f'(x) &= f'(a) + \\int_a^x dx_2\\,f''(x_2)\n",
    "\\\\ & =\n",
    "f'(a) + f''(a)(x-a) + \\frac{1}{2}f'''(a)(x-a)^2 + \n",
    "\\int_a^x dx_2\\int_a^{x_2}dx_3\\int_a^{x_3} dx_4\\; f^{(4)}(x_4).\n",
    "\\end{aligned}\n",
    "$$\n",
    "\n",
    "さらに, \n",
    "\n",
    "$$\n",
    "\\begin{aligned}\n",
    "f(x) &= f(a) + \\int_a^x dx_1\\,f'(x_1)\n",
    "\\\\ & =\n",
    "f(a) + f'(a)(x-a) + \\frac{1}{2}f''(a)(x-a)^2 + \\frac{1}{3!}f'''(a)(x-a)^3 +\n",
    "\\int_a^x dx_1 \\int_a^{x_1} dx_2\\int_a^{x_2}dx_3\\int_a^{x_3} dx_4\\; f^{(4)}(x_4).\n",
    "\\end{aligned}\n",
    "$$\n",
    "\n",
    "以上をまとめると, \n",
    "\n",
    "$$\n",
    "\\begin{aligned}\n",
    "&\n",
    "f(x) = f(a) + f'(a)(x-a) + \\frac{1}{2}f''(a)(x-a)^2 + \\frac{1}{3!}f'''(a)(x-a)^3 + R_4,\n",
    "\\\\ &\n",
    "R_4 = \\int_a^x dx_1 \\int_a^{x_1} dx_2\\int_a^{x_2}dx_3\\int_a^{x_3} dx_4\\; f^{(4)}(x_4).\n",
    "\\end{aligned}\n",
    "$$"
   ]
  },
  {
   "cell_type": "markdown",
   "metadata": {},
   "source": [
    "上と同様にして次が成立することを示せる.\n",
    "\n",
    "**Taylorの定理:** $f$ は $C^n$ 級函数であると仮定する. そのとき, \n",
    "$$\n",
    "\\begin{aligned}\n",
    "&\n",
    "f(x) = f(a) + f'(a)(x-a) + \\frac{1}{2}f''(a)(x-a)^2 + \\cdots + \n",
    "\\frac{1}{(n-1)!}f^{(n-1)}(a)(x-a)^{n-1} + R_n,\n",
    "\\\\ &\n",
    "R_n = \\int_a^x dx_1 \\int_a^{x_1} dx_2\\cdots\\int_a^{x_{n-1}} dx_n\\; f^{(n)}(x_n).\n",
    "\\qquad \n",
    "\\end{aligned}\n",
    "$$\n",
    "\n",
    "$R_n$ を**剰余項**と呼ぶ. $\\QED$\n",
    "\n",
    "この形のTaylorの定理は $f^{(n)}(x)$ を何度も積分するだけで得られ, 技巧的な証明の工夫をする必要が一切ない.\n",
    "\n",
    "**問題:** 上の形のTaylorの定理の証明を完成せよ. $\\QED$"
   ]
  },
  {
   "cell_type": "markdown",
   "metadata": {},
   "source": [
    "#### 積分型剰余項の絶対値の上からの評価\n",
    "\n",
    "以下, $a$ と $x$ のあいだの $t$ について $|f^{(n)}(t)|\\leqq M$ が成立しているとき, \n",
    "\n",
    "$$\n",
    "|R_n| \\leqq \\left|\\int_a^x dx_1 \\int_a^{x_1} dx_2\\cdots\\int_a^{x_{n-1}} dx_n\\; M \\right| = \n",
    "\\frac{1}{n!}M |x-a|^n.\n",
    "$$\n",
    "\n",
    "ここで, \n",
    "\n",
    "$$\n",
    "\\int_a^x dx_1 \\int_a^{x_1} dx_2\\cdots\\int_a^{x_{n-1}} dx_n\\;1 = \\frac{1}{n!}(x-a)^n\n",
    "$$\n",
    "\n",
    "となることを使った. $1$ を $a$ から $x$ まで積分する操作を $n$ 回繰り返すとそうなることは容易に確かめられる.\n",
    "\n",
    "$$\n",
    "|R_n| \\leqq \\frac{M |x-a|^n}{n!}\n",
    "$$\n",
    "\n",
    "の形の不等式はよく使われる."
   ]
  },
  {
   "cell_type": "markdown",
   "metadata": {},
   "source": [
    "#### 積分型剰余項の書き直し: 1重積分表示\n",
    "\n",
    "**定理:**\n",
    "$$\n",
    "R_n = \\int_a^x f^{(n)}(x_n) \\frac{(x-x_n)^{n-1}}{(n-1)!}\\,dx_n.\n",
    "$$\n",
    "\n",
    "もしくは $x_n$ を $t$ と書き直すことによって, \n",
    "\n",
    "$$\n",
    "R_n = \\int_a^x f^{(n)}(t) \\frac{(x-t)^{n-1}}{(n-1)!}\\,dt.\n",
    "$$\n",
    "\n",
    "**証明:** 簡単のため $a<x$ と仮定する($a>x$ の場合も同様である).  そのとき, 積分\n",
    "\n",
    "$$\n",
    "R_n = \\int_a^x dx_1 \\int_a^{x_1} dx_2\\cdots\\int_a^{x_{n-1}} dx_n\\; f^{(n)}(x_n)\n",
    "$$\n",
    "\n",
    "の中の $x_i$ たちは $a\\leqq x_n \\leqq x_{n-1}\\leqq\\cdots x_2 \\leqq x_1 \\leqq x$ を動く. ゆえに, この積分は\n",
    "\n",
    "$$\n",
    "R_n = \\int_a^x\\left[\\,\n",
    "f^{(n)}(x_n)\n",
    "\\int_{x_n}^x dx_1\\int_{x_n}^{x_1}dx_2\\cdots\\int_{x_n}^{x_{n-2}}dx_{n-1}\\; 1\n",
    "\\right]\\,dx_n\n",
    "$$\n",
    "\n",
    "\n",
    "と書き直される. そして, \n",
    "\n",
    "$$\n",
    "\\int_{x_n}^x dx_1\\int_{x_n}^{x_1}dx_2\\cdots\\int_{x_n}^{x_{n-2}}dx_{n-1}\\; 1 = \n",
    "\\frac{(x-x_n)^{n-1}}{(n-1)!}\n",
    "$$\n",
    "\n",
    "なので上の定理が得られる. $\\QED$"
   ]
  },
  {
   "cell_type": "markdown",
   "metadata": {},
   "source": [
    "**注意:** $f$ が $C^{n+1}$ 級函数ならば, 上の定理の $n$ の場合の結果から, 部分積分によって\n",
    "\n",
    "$$\n",
    "R_n = f^{(n)}(a)\\frac{(x-a)^n}{n!} + R_{n+1}\n",
    "$$\n",
    "\n",
    "が得られる(問題: 示してみよ). ゆえに, 部分積分を用いた $n$ に関する帰納法によっても上の定理を示せる. 部分積分を用いる計算法はよく使われる. $\\QED$"
   ]
  },
  {
   "cell_type": "markdown",
   "metadata": {},
   "source": [
    "**注意:** $f$ は $C^n$ 級であるとする. 剰余項 $R_n$ の1重積分を以下のようにしてシンプルに求めることもできる. $x$, $a$ を固定し, 函数 $R_n(t)$ を次のように定める:\n",
    "\n",
    "$$\n",
    "R_n(t) = f(x) - \\sum_{k=0}^{n-1}f^{(k)}(t)\\frac{(x-t)^k}{k!}.\n",
    "$$\n",
    "\n",
    "このとき, \n",
    "\n",
    "$$\n",
    "\\begin{aligned}\n",
    "R_n'(t) &= -\n",
    "\\sum_{k=0}^{n-1}f^{(k+1)}(t)\\frac{(x-t)^k}{k!} +\n",
    "\\sum_{k=1}^{n-1}f^{(k)}(t)\\frac{(x-t)^{k-1}}{(k-1)!}\n",
    "\\\\ &= -\n",
    "\\sum_{k=1}^{n}f^{(k)}(t)\\frac{(x-t)^{k-1}}{(k-1)!} +\n",
    "\\sum_{k=1}^{n-1}f^{(k)}(t)\\frac{(x-t)^{k-1}}{(k-1)!}\n",
    "\\\\ &= -\n",
    "f^{(n)}(t)\\frac{(x-t)^{n-1}}{(n-1)!},\n",
    "\\\\\n",
    "R_n(x) &= 0, \n",
    "\\\\\n",
    "R_n(a) &= R_n\n",
    "\\end{aligned}\n",
    "$$\n",
    "\n",
    "なので\n",
    "\n",
    "$$\n",
    "R_n = R_n(a) =\n",
    "\\int_x^a\\left(-f^{(n)}(t)\\frac{(x-t)^{n-1}}{(k-1)!}\\right)\\,dt =\n",
    "\\int_a^x f^{(n)}(t)\\frac{(x-t)^{n-1}}{(k-1)!}\\,dt.\n",
    "$$\n",
    "\n",
    "おそらく, Taylorの定理を証明する最も簡単な方法は $R_n(t)$ を上のように定義して, $t$ で微分することである. この方法の欠点は $R_n(t)$ の定義を天下り的に与えなければいけないことである.  $\\QED$"
   ]
  },
  {
   "cell_type": "markdown",
   "metadata": {},
   "source": [
    "#### 積分型剰余項の書き直し: Lagrangeの剰余項\n",
    "\n",
    "一時的に簡単のため $a<x$ であると仮定する.\n",
    "\n",
    "$f$ は $C^n$ 級函数であるとする. そのとき $f^{(n)}$ は連続函数になる. $f^{(n)}(t)$ の $a\\leqq t\\leqq x$ における最小値と最大値はそれぞれ $f^{(n)}(\\alpha)$, $f^{(n)}(\\beta)$ であるとする. そのとき,\n",
    "\n",
    "$$\n",
    "f^{(n)}(\\alpha) \\frac{(x-a)^n}{n!}\\leqq  R_n \\leqq f^{(n)}(\\beta) \\frac{(x-a)^n}{n!}\n",
    "$$\n",
    "\n",
    "が成立する. なぜならば $R_n$ の1重積分表示\n",
    "\n",
    "$$\n",
    "R_n = \\int_a^x f^{(n)}(t) \\frac{(x-t)^{n-1}}{(n-1)!}\\,dt\n",
    "$$\n",
    "\n",
    "の中の $f^{(n)}(t)$ を定数 $C=f(\\alpha),f(\\beta)$ で置き換えて得られる積分は\n",
    "\n",
    "$$\n",
    "\\int_a^x C \\frac{(x-t)^{n-1}}{(n-1)!}\\,dt = C\\frac{(x-a)^n}{n!}.\n",
    "$$\n",
    "\n",
    "となるからである. 中間値の定理より, ある実数 $\\xi$ で\n",
    "\n",
    "$$\n",
    "R_n = f^{(n)}(\\xi)\\frac{(x-a)^n}{n!}, \\quad a<\\xi<x \n",
    "$$\n",
    "\n",
    "を満たすものが存在する.  \n",
    "\n",
    "$a<x$ の仮定を $a>x$ で置き換えると, $a<\\xi<x$ は $a>\\xi>x$ に変わる.\n",
    "\n",
    "以上で導出した剰余項の\n",
    "\n",
    "$$\n",
    "R_n = f^{(n)}(\\xi)\\frac{(x-a)^n}{n!}, \\quad a{< \\atop >}\\xi{<\\atop >}x \n",
    "$$\n",
    "\n",
    "の形もよく使われる. この形の剰余項を**Lagrangeの剰余項**と呼ぶらしい."
   ]
  },
  {
   "cell_type": "markdown",
   "metadata": {},
   "source": [
    "#### 積分型剰余項の書き直し: Cauchyの剰余項\n",
    "\n",
    "一時的に簡単のため $a<x$ であると仮定する.\n",
    "\n",
    "$f$ は $C^n$ 級函数であるとする. そのとき $f^{(n)}$ は連続函数になる. $f^{(n)}(t)(x-t)^{n-1}/(n-1)!$ の $a\\leqq t\\leqq x$ における最小値と最大値はそれぞれ $f^{(n)}(\\alpha)(x-\\alpha)^{n-1}/(n-1)!$, $f^{(n)}(\\beta)(x-\\beta)^{n-1}/(n-1)!$ であるとする. そのとき,\n",
    "\n",
    "$$\n",
    "f^{(n)}(\\alpha) \\frac{(x-\\alpha)^{n-1}(x-a)}{(n-1)!}\\leqq \n",
    "R_n \\leqq\n",
    "f^{(n)}(\\beta) \\frac{(x-\\beta)^{n-1}(x-a)}{(n-1)!}\n",
    "$$\n",
    "\n",
    "が成立する. なぜならば $R_n$ の1重積分表示\n",
    "\n",
    "$$\n",
    "R_n = \\int_a^x f^{(n)}(t) \\frac{(x-t)^{n-1}}{(n-1)!}\\,dt\n",
    "$$\n",
    "\n",
    "の中の $f^{(n)}(t)(x-t)^{n-1}/(n-1)!$ を定数 $C=f^{(n)}(\\alpha)(x-\\alpha)^{n-1}/(n-1)!, f^{(n)}(\\beta)(x-\\beta)^{n-1}/(n-1)!$ で置き換えて得られる積分は\n",
    "\n",
    "$$\n",
    "\\int_a^x C \\,dt = C(x-a)\n",
    "$$\n",
    "\n",
    "となるからである. 中間値の定理より, ある実数 $\\xi$ で\n",
    "\n",
    "$$\n",
    "R_n = f^{(n)}(\\xi)\\frac{(x-\\xi)^{n-1}(x-a)}{(n-1)!}, \\quad a<\\xi<x \n",
    "$$\n",
    "\n",
    "を満たすものが存在する.  \n",
    "\n",
    "$a<x$ の仮定を $a>x$ で置き換えると, $a<\\xi<x$ は $a>\\xi>x$ に変わる.\n",
    "\n",
    "以上で導出した剰余項の\n",
    "\n",
    "$$\n",
    "R_n = f^{(n)}(\\xi)\\frac{(x-\\xi)^{n-1}(x-a)}{(n-1)!}, \\quad a{< \\atop >}\\xi{<\\atop >}x \n",
    "$$\n",
    "\n",
    "の形もよく使われる. この形の剰余項を**Cauchyの剰余項**と呼ぶらしい."
   ]
  },
  {
   "cell_type": "markdown",
   "metadata": {},
   "source": [
    "#### Landau記号を用いたTaylorの定理\n",
    "\n",
    "$C^n$ 級函数 $f$ について $a$ と $x$ のあいだのある実数 $\\xi$ で\n",
    "\n",
    "$$\n",
    "R_n = f^{(n)}(\\xi)\\frac{(x-a)^n}{n!}\n",
    "$$\n",
    "\n",
    "を満たすものが存在することを上で示した. $f^{(n)}$ は連続なので $x\\to a$ のとき $f^{(n)}(\\xi)\\to f^{(n)}(a)$ となる. ゆえに\n",
    "\n",
    "$$\n",
    "R_n - f^{(n)}(a)\\frac{(x-a)^n}{n!} = (f^{(n)}(\\xi) - f^{(n)}(a))\\frac{(x-a)^n}{n!} = o((x-a)^n)\n",
    "\\quad (x\\to a).\n",
    "$$\n",
    "\n",
    "これで次が成立することがわかった:\n",
    "\n",
    "$$\n",
    "f(x) = f(a) + f'(a)(x-a) + \\frac{1}{2}f''(a)(x-a)^2 + \\cdots + \n",
    "\\frac{1}{n!}f^{(n)}(a)(x-a)^n + o((x-a)^n)\n",
    "\\quad (x\\to a).\n",
    "$$\n",
    "\n",
    "Taylorの定理はこの形でもよく使われる.\n",
    "\n",
    "さらに $f$ が $C^{n+1}$ 級ならば, $n+1$ 次の剰余項は\n",
    "\n",
    "$$\n",
    "R_{n+1} = \\frac{1}{(n+1)!}f^{(n+1)}(\\xi)(x-a)^{n+1} = O((x-a)^{n+1}), \\quad\n",
    "\\text{($\\xi$ は $a$ と $x$ のあいだにある)}\n",
    "$$\n",
    "\n",
    "の形をしているので, \n",
    "\n",
    "$$\n",
    "f(x) = f(a) + f'(a)(x-a) + \\frac{1}{2}f''(a)(x-a)^2 + \\cdots + \n",
    "\\frac{1}{n!}f^{(n)}(a)(x-a)^n + O((x-a)^{n+1})\n",
    "\\quad (x\\to a).\n",
    "$$\n",
    "\n",
    "も成立していることがわかる."
   ]
  },
  {
   "cell_type": "markdown",
   "metadata": {},
   "source": [
    "### $n$ 回微分可能性だけを仮定した場合のTaylorの定理について\n",
    "\n",
    "以上では $C^n$ 級の仮定のもとでTaylorの定理を証明したが, $n$ 回微分可能の仮定のもとでもTaylorの定理を導くことができる. 例えば, \n",
    "\n",
    "* 高木貞治『解析概論』改定第三版\n",
    "\n",
    "の第25節のpp.61-63に詳しい説明がある.\n",
    "\n",
    "以下ではその議論をさらに整理したものを簡単に解説する."
   ]
  },
  {
   "cell_type": "markdown",
   "metadata": {},
   "source": [
    "$f$ は $n$ 回微分可能な函数であると仮定し, $x\\ne a$ を固定し, $t$ の函数 $R_n(t)$ と剰余項 $R_n$ を\n",
    "\n",
    "$$\n",
    "R_n(t) = f(x) - \\sum_{k=0}^{n-1}f^{(k)}(t)\\frac{(x-t)^k}{k!}, \\quad R_n = R_n(a)\n",
    "$$\n",
    "\n",
    "と定める.  $f$ が $n$ 回微分可能であることより, $R_n(t)$ は微分可能になり, \n",
    "\n",
    "$$\n",
    "\\begin{aligned}\n",
    "R_n'(t) &= -\n",
    "\\sum_{k=0}^{n-1}f^{(k+1)}(t)\\frac{(x-t)^k}{k!} +\n",
    "\\sum_{k=1}^{n-1}f^{(k)}(t)\\frac{(x-t)^{k-1}}{(k-1)!}\n",
    "\\\\ &= -\n",
    "\\sum_{k=1}^{n}f^{(k)}(t)\\frac{(x-t)^{k-1}}{(k-1)!} +\n",
    "\\sum_{k=1}^{n-1}f^{(k)}(t)\\frac{(x-t)^{k-1}}{(k-1)!}\n",
    "\\\\ &= -\n",
    "f^{(n)}(t)\\frac{(x-t)^{n-1}}{(n-1)!},\n",
    "\\\\\n",
    "R_n(x) &= 0, \n",
    "\\\\\n",
    "R_n(a) &= R_n\n",
    "\\end{aligned}\n",
    "$$\n",
    "\n",
    "が成立している. ゆえに $R_n(t)$ と $G(t)=(x-t)^p$ ($p=1,\\ldots,n$) にCauchyの平均値の定理を適用すると, $a$ と $x$ のあいだにある実数 $\\xi$ で次を満たすものが存在することがわかる:\n",
    "\n",
    "$$\n",
    "\\frac{R_n}{(x-a)^p} =\n",
    "\\frac{R_n(a)-R_n(x)}{G(a)-G(x)} =\n",
    "\\frac{R_n'(\\xi)}{G'(\\xi)} =\n",
    "f^{(n)}(\\xi)\\frac{(x-\\xi)^{n-p}}{p(n-1)!}.\n",
    "$$\n",
    "\n",
    "このとき\n",
    "\n",
    "$$\n",
    "R_n = f^{(n)}(\\xi)\\frac{(x-\\xi)^{n-p}(x-a)^p}{p(n-1)!}.\n",
    "$$\n",
    "\n",
    "これの $p=1$ の場合がCauchyの剰余項で, $p=n$ の場合がLagrangeの剰余項である.\n",
    "\n",
    "以上は議論は, $f^{(n-1)}$ が $C^1$ 級の場合の積分を使った議論を, $f^{(n-1)}$ が微分可能なだけで使えるCauchyの平均値の定理に置き換えただけであるとも言える. "
   ]
  },
  {
   "cell_type": "markdown",
   "metadata": {},
   "source": [
    "## Taylor展開\n",
    "\n",
    "$C^\\infty$ 函数 $f$ について, ある $r>0$ が存在して, \n",
    "\n",
    "$$\n",
    "f(x) = \\sum_{k=0}^\\infty \\frac{1}{k!}f^{(k)}(a)(x-a)^k\n",
    "$$\n",
    "\n",
    "が $|x-a|<r$ で収束するとき $f$ は $x=a$ で**Taylor展開**可能であるという. そのような $r$ の最大値をTaylor展開の**収束半径**と呼ぶ. Taylor展開は**べき級数展開**と呼ばれることも多い.\n",
    "\n",
    "$x=0$ におけるTaylor展開は**Maclaurin展開**と呼ばれることがある."
   ]
  },
  {
   "cell_type": "markdown",
   "metadata": {},
   "source": [
    "### 基本的なTaylor展開の例\n",
    "\n",
    "以下のTaylor展開はよく使われる.\n",
    "\n",
    "$$\n",
    "\\begin{aligned}\n",
    "&\n",
    "(1+x)^a = \\sum_{k=0}^\\infty\\binom{a}{k}x^k \\qquad(|x|<1), \n",
    "\\qquad \\binom{a}{k} = \\frac{a(a-1)\\cdots(a-k+1)}{k!}.\n",
    "\\\\ &\n",
    "(1-x)^{-a} = \\sum_{k=0}^\\infty\\frac{(a)_k}{k!} x^k \\qquad(|x|<1), \n",
    "\\qquad (a)_k = a(a+1)\\cdots(a+k-1).\n",
    "\\\\ &\n",
    "e^x = \\sum_{k=0}^\\infty \\frac{x^k}{k!} \\qquad(|x|<\\infty).\n",
    "\\\\ &\n",
    "\\cos x = \\sum_{k=0}^\\infty \\frac{(-1)^k x^{2k}}{(2k)!} \\qquad(|x|<\\infty).\n",
    "\\\\ &\n",
    "\\sin x = \\sum_{k=0}^\\infty \\frac{(-1)^k x^{2k+1}}{(2k+1)!} \\qquad(|x|<\\infty).\n",
    "\\\\ &\n",
    "\\cosh x = \\frac{e^x+e^{-x}}{2} = \\sum_{k=0}^\\infty \\frac{x^{2k}}{(2k)!} \\qquad(|x|<\\infty).\n",
    "\\\\ &\n",
    "\\sinh x = \\frac{e^x-e^{-x}}{2} = \\sum_{k=0}^\\infty \\frac{x^{2k+1}}{(2k+1)!} \\qquad(|x|<\\infty).\n",
    "\\\\ &\n",
    "\\log(1+x) = \\sum_{k=1}^\\infty \\frac{(-1)^{k-1}x^k}{k}, \\qquad (|x|<1).\n",
    "\\\\ &\n",
    "-\\log(1-x) = \\sum_{k=1}^\\infty \\frac{x^k}{k} \\qquad (|x|<1).\n",
    "\\\\ &\n",
    "\\arcsin x = \\sum_{k=0}^\\infty (-1)^k\\binom{-1/2}{k}\\frac{x^{2k+1}}{2k+1} =\n",
    "\\sum_{k=0}^\\infty \\frac{1}{2^{2k}}\\frac{(2k)!}{(k!)^2}\\frac{x^{2k+1}}{2k+1}\n",
    "\\qquad (|x|<1).\n",
    "\\\\ &\n",
    "\\arctan x = \\sum_{k=0}^\\infty (-1)^k\\frac{x^{2k+1}}{2k+1} \n",
    "\\qquad (|x|<1).\n",
    "\\end{aligned}\n",
    "$$\n",
    "\n",
    "**問題:** 以上の公式をすべて示せ. $\\QED$\n",
    "\n",
    "解答は略す. まずは自分で $f(0)$, $f'(0)$, $f''(0)$, $f'''(0)$ を計算してみよう. そして, 個人的には最初の段階ではTaylor展開が収束するか否かにはあまり神経を使わなくてもよいと思う. \n",
    "\n",
    "他人が書いた解説に単に従うだけだと数学は決して理解できない. 自分で何を計算するべきであるかを考え, 自分が持っている力でその計算を実行してみて, その計算結果を見て次に何を計算するべきであるかを考え, また計算を繰り返す. 試行錯誤抜きに数学をまともに理解できるようになることはありえない.\n",
    "\n",
    "しかし, 以下の説明も読んでおくこと."
   ]
  },
  {
   "cell_type": "markdown",
   "metadata": {},
   "source": [
    "**復習:** $\\ds\\binom{a}{k}$ は二項係数を表すのであった:\n",
    "\n",
    "$$\n",
    "\\binom{a}{k} = \\frac{a(a-1)\\cdots(a-k+1)}{k!}.\n",
    "$$\n",
    "\n",
    "例えば\n",
    "\n",
    "$$\n",
    "\\binom{a}{0}=1,\\quad\n",
    "\\binom{a}{1}=a,\\quad\n",
    "\\binom{a}{2}=\\frac{a(a-1)}{2},\\quad\n",
    "\\binom{a}{3}=\\frac{a(a-1)(a-2)}{6}.\n",
    "$$"
   ]
  },
  {
   "cell_type": "markdown",
   "metadata": {},
   "source": [
    "$(a)_k = a(a+1)\\cdots(a+k-1)$ もよく使われる記号法である. 例えば\n",
    "\n",
    "$$\n",
    "(a)_0 = 1, \\quad\n",
    "(a)_1 = a, \\quad\n",
    "(a)_2 = a(a+1), \\quad\n",
    "(a)_3 = a(a+1)(a+2).\n",
    "$$"
   ]
  },
  {
   "cell_type": "markdown",
   "metadata": {},
   "source": [
    "**参考:** 収束半径については複素解析によって以下が知られている. $x=a$ でTaylor展開可能な函数 $f(x)$ を $|z-a|<r$ を満たす複素数 $z$ の正則函数に拡張できるとき, そのTaylor展開の収束半径は $r$ 以上になる. だから, $f(x)$ を可能な限り解析接続したものを $f(z)$ と書くとき, $f$ の $x=a$ でのTaylor展開の収束半径は $a$ から $f(z)$ の正則ではない点までの最短距離に等しい.\n",
    "\n",
    "例えば, $a$ が非負の整数以外であるとき, $f(x)=(1+x)^a = \\exp(a\\log(1+x))$ を複素平面に解析接続によって拡張すると, $x=0$ に最も近い $f$ の正則ではない点は $x=-1$ なので収束半径は $1$ になる. 例えば $a=-1$ のとき\n",
    "\n",
    "$$\n",
    "(1+x)^{-1} = \\frac{1}{1+x} = 1 - x + x^2 - x^3 + \\cdots\n",
    "$$\n",
    "\n",
    "と公比 $-x$ の等比級数が出て来るが, これが成立するのは $|x|<1$ においてである. $x=0$ から最も近い函数 $f(x)=1/(1+x)$ の特異点は $x=-1$ である.\n",
    "\n",
    "同様の理由で $f(x)=\\log(1+x)$ や $f(x)=-\\log(1-x)$ の場合も $x=0$ でのTaylor展開の収束半径は $1$ になる.\n",
    "\n",
    "例えば, $\\exp x$, $\\sin x$, $\\cos x$ は複素平面全体上の正則函数に拡張できることと, それらのTaylor展開の収束半径が $\\infty$ になることは同値になり, 実際にどちらも成立している."
   ]
  },
  {
   "cell_type": "markdown",
   "metadata": {},
   "source": [
    "**逆三角函数に関するヒント:** $\\arcsin x$ と $\\arctan x$ については\n",
    "\n",
    "$$\n",
    "\\arcsin x = \\int_0^x \\frac{dt}{\\sqrt{1-t^2}}, \\quad\n",
    "\\arctan x = \\int_0^x \\frac{dt}{1+t^2}\n",
    "$$\n",
    "\n",
    "を用いてよい. さらに $|t|<1$ で\n",
    "\n",
    "$$\n",
    "\\frac{1}{\\sqrt{1-t^2}} = (1-t^2)^{-1/2} = \\sum_{k=0}^\\infty (-1)^k\\binom{-1/2}{k}t^{2k}, \\qquad\n",
    "\\frac{1}{1+t^2} = \\sum_{k=0}^\\infty (-1)^k t^{2k}.\n",
    "$$\n",
    "\n",
    "これを項別に積分すれば欲しい結果が得られる.\n",
    "\n",
    "二項係数 $\\ds\\binom{-1/2}{k}$ の部分は以下のように処理できる:\n",
    "\n",
    "$$\n",
    "\\begin{aligned}\n",
    "(-1)^k\\binom{-1/2}{k} &=\n",
    "(-1)^k\\frac{-\\frac{1}{2}\\left(-\\frac{1}{2}-1\\right)\\cdots\\left(-\\frac{1}{2}-k+1\\right)}{k!}\n",
    "\\\\ &=\n",
    "\\frac{\\frac{1}{2}\\left(\\frac{1}{2}+1\\right)\\cdots\\left(\\frac{1}{2}+k-1\\right)}{k!} =\n",
    "\\frac{1\\cdot 3\\cdots(2k-1)}{2^k\\;k!} \n",
    "\\\\ &=\n",
    "\\frac{1\\cdot 3\\cdots(2k-1)}{2^k\\;k!} \\frac{2\\cdot 4\\cdots(2k)}{2^k\\;k!}\n",
    "= \\frac{1}{2^{2k}}\\frac{(2k)!}{(k!)^2}.\n",
    "\\qquad\\QED\n",
    "\\end{aligned}\n",
    "$$"
   ]
  },
  {
   "cell_type": "markdown",
   "metadata": {},
   "source": [
    "**問題:** $e^x$ と $\\cos x$ と $\\sin x$ の $x=0$ におけるTaylor展開が $x$ が複素数である場合にも成立していると仮定して, \n",
    "\n",
    "$$\n",
    "e^{ix} = \\cos x + i \\sin x\n",
    "$$\n",
    "\n",
    "が成立していることを示せ. $\\QED$\n",
    "\n",
    "**解答例:**\n",
    "$$\n",
    "\\begin{aligned}\n",
    "e^{ix} &=\n",
    "\\sum_{n=0}^\\infty \\frac{i^n x^n}{n!} =\n",
    "\\sum_{k=0}^\\infty \\frac{i^{2k}x^{2k}}{(2k)!} + \\sum_{k=0}^\\infty \\frac{i^{2k+1}x^{2k+1}}{(2k+1)!}\n",
    "\\\\ &=\n",
    "\\sum_{k=0}^\\infty \\frac{(-1)^k x^{2k}}{(2k)!} + i\\sum_{k=0}^\\infty \\frac{(-1)^k x^{2k+1}}{(2k+1)!} =\n",
    "\\cos x + i\\sin x.\n",
    "\\end{aligned}\n",
    "$$\n",
    "\n",
    "1つ目の等号で $e^z$ の $z=0$ におけるTaylor展開を $z=ix$ に適用した. 2つ目の等号では和を $n$ が偶数の場合と奇数の場合に分けた. 3つ目の等号では $i^{2k}=(-1)^k$ を使った. 4つ目の等号では $\\cos z$, $\\sin z$ の $z=0$ におけるTaylor展開を $z=x$ に適用した.  $\\QED$"
   ]
  },
  {
   "cell_type": "markdown",
   "metadata": {},
   "source": [
    "**問題:** $\\sqrt{10}$ を\n",
    "\n",
    "$$\n",
    "(1+x)^{1/2} = \\sum_{k=0}^\\infty\\binom{1/2}{k}x^k =\n",
    "1 + \\frac{x}{2} - \\frac{x^8}{8} + \\frac{x^3}{16} + O(x^4)\n",
    "\\qquad (|x|<1)\n",
    "$$\n",
    "\n",
    "を用いて小数点以下第2桁まで求めよ.\n",
    "\n",
    "**解答例:**\n",
    "\n",
    "$$\n",
    "\\sqrt{10} = (9+1)^{1/2} = 3(1+1/9)^{1/2} =\n",
    "3 + 3\\frac{1}{2}\\frac{1}{9} - 3\\frac{1}{8}\\frac{1}{9^2} + 3\\frac{1}{16}\\frac{1}{9^3} + \\cdots.\n",
    "$$\n",
    "\n",
    "そして, \n",
    "\n",
    "$$\n",
    "3\\frac{1}{2}\\frac{1}{9} = \\frac{1}{6} = 0.166666\\cdots, \\quad\n",
    "-3\\frac{1}{8}\\frac{1}{9^2} = -\\frac{1}{216} = -0.004629\\cdots, \\quad\n",
    "3\\frac{1}{16}\\frac{1}{9^3} = 0.000257\\cdots, \\quad\n",
    "$$\n",
    "\n",
    "より\n",
    "\n",
    "$$\n",
    "3 + 3\\frac{1}{2}\\frac{1}{9} - 3\\frac{1}{8}\\frac{1}{9^2} = 3.162\\cdots\n",
    "$$\n",
    "\n",
    "$\\sqrt{10}=3.16\\cdots$ である. $\\QED$"
   ]
  },
  {
   "cell_type": "markdown",
   "metadata": {},
   "source": [
    "**注意:** 上では誤差項をきちんと評価せずに計算したがきちんと評価するには次のようにすればよい. 剰余項付きのTaylorの定理より, $0<x<1$ のとき ある実数 $\\xi$ が存在して,\n",
    "\n",
    "$$\n",
    "\\begin{aligned}\n",
    "&\n",
    "(1+x)^{1/2} = 1 + \\frac{x}{2} - \\frac{x}{8} + \\frac{x^3}{16(1+\\xi)^{5/2}}, \\quad 0<\\xi<x,\n",
    "\\\\ &\n",
    "0<\\frac{x^3}{16(1+\\xi)^{5/2}}<\\frac{x^3}{16}.\n",
    "\\end{aligned}\n",
    "$$\n",
    "\n",
    "ゆえに, $x=1/9$ のとき, $\\sqrt{10}$ と $3+1/6-1/216=3.162\\cdots$ の差は\n",
    "\n",
    "$$\n",
    "3\\frac{1}{16}\\frac{1}{9^3} = 0.000257\\cdots\n",
    "$$\n",
    "\n",
    "より小さい. このことに注意すれば本当に小数点以下第2桁まで正確に計算できているという数学的な証明が得られる. $\\QED$"
   ]
  },
  {
   "cell_type": "code",
   "execution_count": 3,
   "metadata": {},
   "outputs": [
    {
     "data": {
      "text/latex": [
       "$\\displaystyle 1 + \\frac{x}{2} - \\frac{x^{2}}{8} + \\frac{x^{3}}{16} - \\frac{5 x^{4}}{128} + O\\left(x^{5}\\right)$\n"
      ],
      "text/plain": [
       "         2    3      4        \n",
       "    x   x    x    5*x     / 5\\\n",
       "1 + - - -- + -- - ---- + O\\x /\n",
       "    2   8    16   128         "
      ]
     },
     "execution_count": 3,
     "metadata": {},
     "output_type": "execute_result"
    }
   ],
   "source": [
    "x = symbols(\"x\")\n",
    "series((1+x)^(Sym(1)/2), n=5)"
   ]
  },
  {
   "cell_type": "code",
   "execution_count": 4,
   "metadata": {},
   "outputs": [
    {
     "data": {
      "text/plain": [
       "(0.16666666666666666, -0.004629629629629629, 0.000257201646090535)"
      ]
     },
     "execution_count": 4,
     "metadata": {},
     "output_type": "execute_result"
    }
   ],
   "source": [
    "3/2/9, -3/8/9^2, 3/16/9^3"
   ]
  },
  {
   "cell_type": "code",
   "execution_count": 5,
   "metadata": {},
   "outputs": [
    {
     "data": {
      "text/plain": [
       "(3.1620370370370368, 0.000257201646090535)"
      ]
     },
     "execution_count": 5,
     "metadata": {},
     "output_type": "execute_result"
    }
   ],
   "source": [
    "3 + 3/2/9 -3/8/9^2, 3/16/9^3"
   ]
  },
  {
   "cell_type": "markdown",
   "metadata": {},
   "source": [
    "√ は \\sqrt TAB で入力できる.\n",
    "\n",
    "https://docs.julialang.org/en/stable/manual/unicode-input/"
   ]
  },
  {
   "cell_type": "code",
   "execution_count": 6,
   "metadata": {},
   "outputs": [
    {
     "data": {
      "text/plain": [
       "3.1622776601683795"
      ]
     },
     "execution_count": 6,
     "metadata": {},
     "output_type": "execute_result"
    }
   ],
   "source": [
    "√(10)"
   ]
  },
  {
   "cell_type": "code",
   "execution_count": 7,
   "metadata": {},
   "outputs": [
    {
     "data": {
      "text/plain": [
       "3628800"
      ]
     },
     "execution_count": 7,
     "metadata": {},
     "output_type": "execute_result"
    }
   ],
   "source": [
    "factorial(10)"
   ]
  },
  {
   "cell_type": "markdown",
   "metadata": {},
   "source": [
    "**問題:** $\\tan x$ の $x=0$ でのTaylor展開 $5$ 次の項まで求めよ.\n",
    "\n",
    "**解答例:** $f(x)=\\tan x$ とおくと $f'= 1 + \\tan^2 x = 1 + f^2$ となので, \n",
    "\n",
    "$$\n",
    "\\begin{aligned}\n",
    "&\n",
    "f'' = 2ff' = 2f + 2f^3,\n",
    "\\\\ &\n",
    "f''' =  2f' + 6f^2f' = 2 + 8f^2 + 6f^4,\n",
    "\\\\ &\n",
    "f^{(4)} = 16ff' + 24f^3f' = 16f + 40f^3 + 24f^5,\n",
    "\\\\ &\n",
    "f^{(5)} = 16f' + 120f^2f' + 120f^4f' = 16 + 136f^2 + 240f^4 + 120f^6.\n",
    "\\end{aligned}\n",
    "$$\n",
    "\n",
    "ゆえに\n",
    "\n",
    "$$\n",
    "f(0)=f''(0)=f^{(4)}(0)=0, \\quad\n",
    "f'(0)=1, \\quad f'''(0)=2, \\quad f^{(5)}(0)=16. \n",
    "$$\n",
    "\n",
    "したがって, \n",
    "\n",
    "$$\n",
    "\\tan x = f(x)\n",
    "= x + \\frac{2}{3!}x^3 + \\frac{16}{5!}x^5 + \\cdots\n",
    "= x + \\frac{1}{3}x^3 + \\frac{2}{15}x^5 + \\cdots.\n",
    "\\qquad\\QED\n",
    "$$\n",
    "\n",
    "**別の解答例:** $\\sin x$ と $\\cos x$ のMaclaurin展開から $\\tan x$ のMaclaurin展開を求めよう:\n",
    "\n",
    "$$\n",
    "\\begin{aligned}\n",
    "\\tan x &= \\frac{\\sin x}{\\cos x} = \\frac{\\sin x}{1-(1-\\cos(x))}\n",
    "\\\\ &=\n",
    "\\sin x\\;(1 + (1-\\cos x) + (1-\\cos x)^2 + \\cdots)\n",
    "\\\\ &=\n",
    "\\left(x - \\frac{x^3}{6} + \\frac{x^5}{120} + O(x^7)\\right)\n",
    "\\left(\n",
    "1 + \n",
    "\\left(\\frac{x^2}{2} - \\frac{x^4}{24}\\right) +\n",
    "\\left(\\frac{x^2}{2} - \\frac{x^4}{24}\\right)^2 + O(x^6)\n",
    "\\right)\n",
    "\\\\ &=\n",
    "\\left(x - \\frac{x^3}{6} + \\frac{x^5}{120} + O(x^7)\\right)\n",
    "\\left(\n",
    "1 + \\frac{x^2}{2} + \\left(-\\frac{1}{24}+\\frac{1}{4}\\right)x^4 + O(x^6)\n",
    "\\right)\n",
    "\\\\ &=\n",
    "\\left(x - \\frac{x^3}{6} + \\frac{x^5}{120} + O(x^7)\\right)\n",
    "\\left(\n",
    "1 + \\frac{x^2}{2} + \\frac{5}{24}x^4 + O(x^6)\n",
    "\\right)\n",
    "\\\\ &=\n",
    "x + \\left(\\frac{1}{2}-\\frac{1}{6}\\right)x^3 + \\left(\\frac{5}{24}-\\frac{1}{12}+\\frac{1}{120}\\right)x^5 + O(x^7)\n",
    "\\\\ &=\n",
    "x + \\frac{1}{3}x^3 + \\frac{2}{15}x^5 + O(x^7).\n",
    "\\qquad\\QED\n",
    "\\end{aligned}\n",
    "$$"
   ]
  },
  {
   "cell_type": "code",
   "execution_count": 8,
   "metadata": {},
   "outputs": [
    {
     "data": {
      "text/latex": [
       "$\\displaystyle \\tan{\\left(x \\right)}$\n"
      ],
      "text/plain": [
       "tan(x)"
      ]
     },
     "metadata": {},
     "output_type": "display_data"
    },
    {
     "data": {
      "text/latex": [
       "$\\displaystyle 1 + \\tan^{2}{\\left(x \\right)}$\n"
      ],
      "text/plain": [
       "       2   \n",
       "1 + tan (x)"
      ]
     },
     "metadata": {},
     "output_type": "display_data"
    },
    {
     "data": {
      "text/latex": [
       "$\\displaystyle 2 \\tan{\\left(x \\right)} + 2 \\tan^{3}{\\left(x \\right)}$\n"
      ],
      "text/plain": [
       "                3   \n",
       "2*tan(x) + 2*tan (x)"
      ]
     },
     "metadata": {},
     "output_type": "display_data"
    },
    {
     "data": {
      "text/latex": [
       "$\\displaystyle 2 + 8 \\tan^{2}{\\left(x \\right)} + 6 \\tan^{4}{\\left(x \\right)}$\n"
      ],
      "text/plain": [
       "         2           4   \n",
       "2 + 8*tan (x) + 6*tan (x)"
      ]
     },
     "metadata": {},
     "output_type": "display_data"
    },
    {
     "data": {
      "text/latex": [
       "$\\displaystyle 16 \\tan{\\left(x \\right)} + 40 \\tan^{3}{\\left(x \\right)} + 24 \\tan^{5}{\\left(x \\right)}$\n"
      ],
      "text/plain": [
       "                  3            5   \n",
       "16*tan(x) + 40*tan (x) + 24*tan (x)"
      ]
     },
     "metadata": {},
     "output_type": "display_data"
    },
    {
     "data": {
      "text/latex": [
       "$\\displaystyle 16 + 136 \\tan^{2}{\\left(x \\right)} + 240 \\tan^{4}{\\left(x \\right)} + 120 \\tan^{6}{\\left(x \\right)}$\n"
      ],
      "text/plain": [
       "            2             4             6   \n",
       "16 + 136*tan (x) + 240*tan (x) + 120*tan (x)"
      ]
     },
     "metadata": {},
     "output_type": "display_data"
    },
    {
     "data": {
      "text/latex": [
       "$\\displaystyle x + \\frac{x^{3}}{3} + \\frac{2 x^{5}}{15} + \\frac{17 x^{7}}{315} + \\frac{62 x^{9}}{2835} + O\\left(x^{10}\\right)$\n"
      ],
      "text/plain": [
       "     3      5       7       9         \n",
       "    x    2*x    17*x    62*x     / 10\\\n",
       "x + -- + ---- + ----- + ----- + O\\x  /\n",
       "    3     15     315     2835         "
      ]
     },
     "execution_count": 8,
     "metadata": {},
     "output_type": "execute_result"
    }
   ],
   "source": [
    "x = symbols(\"x\")\n",
    "sympy.init_printing(order=\"rev-lex\")\n",
    "for k in 0:5\n",
    "    expand(diff(tan(x), x, k)) |> display\n",
    "end\n",
    "sympy.init_printing(order=\"lex\") # default\n",
    "\n",
    "x = symbols(\"x\")\n",
    "series(tan(x), n=10)"
   ]
  },
  {
   "cell_type": "code",
   "execution_count": 9,
   "metadata": {},
   "outputs": [
    {
     "data": {
      "text/latex": [
       "$\\displaystyle x - \\frac{x^{3}}{6} + \\frac{x^{5}}{120} + O\\left(x^{7}\\right)$\n"
      ],
      "text/plain": [
       "     3     5        \n",
       "    x     x     / 7\\\n",
       "x - -- + --- + O\\x /\n",
       "    6    120        "
      ]
     },
     "metadata": {},
     "output_type": "display_data"
    },
    {
     "data": {
      "text/latex": [
       "$\\displaystyle 1 + \\frac{x^{2}}{2} + \\frac{5 x^{4}}{24} + O\\left(x^{6}\\right)$\n"
      ],
      "text/plain": [
       "     2      4        \n",
       "    x    5*x     / 6\\\n",
       "1 + -- + ---- + O\\x /\n",
       "    2     24         "
      ]
     },
     "metadata": {},
     "output_type": "display_data"
    },
    {
     "data": {
      "text/latex": [
       "$\\displaystyle x + \\frac{x^{3}}{3} + \\frac{2 x^{5}}{15} + O\\left(x^{7}\\right)$\n"
      ],
      "text/plain": [
       "     3      5        \n",
       "    x    2*x     / 7\\\n",
       "x + -- + ---- + O\\x /\n",
       "    3     15         "
      ]
     },
     "execution_count": 9,
     "metadata": {},
     "output_type": "execute_result"
    }
   ],
   "source": [
    "s = series(sin(x), n=7)\n",
    "cinv = series(1/cos(x), n=6)\n",
    "display(s)\n",
    "display(cinv)\n",
    "expand(s * cinv)"
   ]
  },
  {
   "cell_type": "markdown",
   "metadata": {},
   "source": [
    "**問題:** $\\tanh x = (\\sinh x)/(\\cosh x)$ の $x=0$ でのTaylor展開 $5$ 次の項まで求めよ.\n",
    "\n",
    "**解答例:** $f(x)=\\tanh x$ とおくと $f'= 1 - \\tanh^2 x = 1 - f^2$ となので, \n",
    "\n",
    "$$\n",
    "\\begin{aligned}\n",
    "&\n",
    "f'' = -2ff' = -2f + 2f^3,\n",
    "\\\\ &\n",
    "f''' = -2f' + 6f^2f' = -2 + 8f^2 - 6f^4,\n",
    "\\\\ &\n",
    "f^{(4)} = 16ff' - 24f^3f' = 16f - 40f^3 + 24f^5,\n",
    "\\\\ &\n",
    "f^{(5)} = 16f' - 120f^2f' + 120f^4f' = 16 - 136f^2 + 240f^4 - 120f^6.\n",
    "\\end{aligned}\n",
    "$$\n",
    "\n",
    "ゆえに\n",
    "\n",
    "$$\n",
    "f(0)=f''(0)=f^{(4)}(0)=0, \\quad\n",
    "f'(0)=1, \\quad f'''(0)=-2, \\quad f^{(5)}(0)=16. \n",
    "$$\n",
    "\n",
    "したがって, \n",
    "\n",
    "$$\n",
    "\\tanh x = f(x)\n",
    "= x - \\frac{2}{3!}x^3 + \\frac{16}{5!}x^5 + \\cdots\n",
    "= x - \\frac{1}{3}x^3 + \\frac{2}{15}x^5 + \\cdots.\n",
    "\\qquad\\QED\n",
    "$$"
   ]
  },
  {
   "cell_type": "code",
   "execution_count": 10,
   "metadata": {},
   "outputs": [
    {
     "data": {
      "text/latex": [
       "$\\displaystyle \\tanh{\\left(x \\right)}$\n"
      ],
      "text/plain": [
       "tanh(x)"
      ]
     },
     "metadata": {},
     "output_type": "display_data"
    },
    {
     "data": {
      "text/latex": [
       "$\\displaystyle 1 - \\tanh^{2}{\\left(x \\right)}$\n"
      ],
      "text/plain": [
       "        2   \n",
       "1 - tanh (x)"
      ]
     },
     "metadata": {},
     "output_type": "display_data"
    },
    {
     "data": {
      "text/latex": [
       "$\\displaystyle - 2 \\tanh{\\left(x \\right)} + 2 \\tanh^{3}{\\left(x \\right)}$\n"
      ],
      "text/plain": [
       "                   3   \n",
       "-2*tanh(x) + 2*tanh (x)"
      ]
     },
     "metadata": {},
     "output_type": "display_data"
    },
    {
     "data": {
      "text/latex": [
       "$\\displaystyle -2 + 8 \\tanh^{2}{\\left(x \\right)} - 6 \\tanh^{4}{\\left(x \\right)}$\n"
      ],
      "text/plain": [
       "           2            4   \n",
       "-2 + 8*tanh (x) - 6*tanh (x)"
      ]
     },
     "metadata": {},
     "output_type": "display_data"
    },
    {
     "data": {
      "text/latex": [
       "$\\displaystyle 16 \\tanh{\\left(x \\right)} - 40 \\tanh^{3}{\\left(x \\right)} + 24 \\tanh^{5}{\\left(x \\right)}$\n"
      ],
      "text/plain": [
       "                    3             5   \n",
       "16*tanh(x) - 40*tanh (x) + 24*tanh (x)"
      ]
     },
     "metadata": {},
     "output_type": "display_data"
    },
    {
     "data": {
      "text/latex": [
       "$\\displaystyle 16 - 136 \\tanh^{2}{\\left(x \\right)} + 240 \\tanh^{4}{\\left(x \\right)} - 120 \\tanh^{6}{\\left(x \\right)}$\n"
      ],
      "text/plain": [
       "             2              4              6   \n",
       "16 - 136*tanh (x) + 240*tanh (x) - 120*tanh (x)"
      ]
     },
     "metadata": {},
     "output_type": "display_data"
    },
    {
     "data": {
      "text/latex": [
       "$\\displaystyle x - \\frac{x^{3}}{3} + \\frac{2 x^{5}}{15} - \\frac{17 x^{7}}{315} + \\frac{62 x^{9}}{2835} + O\\left(x^{10}\\right)$\n"
      ],
      "text/plain": [
       "     3      5       7       9         \n",
       "    x    2*x    17*x    62*x     / 10\\\n",
       "x - -- + ---- - ----- + ----- + O\\x  /\n",
       "    3     15     315     2835         "
      ]
     },
     "execution_count": 10,
     "metadata": {},
     "output_type": "execute_result"
    }
   ],
   "source": [
    "x = symbols(\"x\")\n",
    "sympy.init_printing(order=\"rev-lex\")\n",
    "for k in 0:5\n",
    "    expand(diff(tanh(x), x, k)) |> display\n",
    "end\n",
    "sympy.init_printing(order=\"lex\") # default\n",
    "\n",
    "x = symbols(\"x\")\n",
    "series(tanh(x), n=10)"
   ]
  },
  {
   "cell_type": "code",
   "execution_count": 11,
   "metadata": {},
   "outputs": [
    {
     "data": {
      "text/latex": [
       "$\\displaystyle x + \\frac{x^{3}}{6} + \\frac{x^{5}}{120} + O\\left(x^{7}\\right)$\n"
      ],
      "text/plain": [
       "     3     5        \n",
       "    x     x     / 7\\\n",
       "x + -- + --- + O\\x /\n",
       "    6    120        "
      ]
     },
     "metadata": {},
     "output_type": "display_data"
    },
    {
     "data": {
      "text/latex": [
       "$\\displaystyle 1 - \\frac{x^{2}}{2} + \\frac{5 x^{4}}{24} + O\\left(x^{6}\\right)$\n"
      ],
      "text/plain": [
       "     2      4        \n",
       "    x    5*x     / 6\\\n",
       "1 - -- + ---- + O\\x /\n",
       "    2     24         "
      ]
     },
     "metadata": {},
     "output_type": "display_data"
    },
    {
     "data": {
      "text/latex": [
       "$\\displaystyle x - \\frac{x^{3}}{3} + \\frac{2 x^{5}}{15} + O\\left(x^{7}\\right)$\n"
      ],
      "text/plain": [
       "     3      5        \n",
       "    x    2*x     / 7\\\n",
       "x - -- + ---- + O\\x /\n",
       "    3     15         "
      ]
     },
     "execution_count": 11,
     "metadata": {},
     "output_type": "execute_result"
    }
   ],
   "source": [
    "s = series(sinh(x), n=7)\n",
    "cinv = series(1/cosh(x), n=6)\n",
    "display(s)\n",
    "display(cinv)\n",
    "expand(s * cinv)"
   ]
  },
  {
   "cell_type": "markdown",
   "metadata": {},
   "source": [
    "**問題:** $e=e^1$ の値を $e^x$ のMaclaurin展開を用いて誤差100万の1以下で正確に計算するためには $\\ds\\sum_{k=0}^9 \\frac{1}{k!}$ を計算すれば十分であることを示せ. $e<3$ と $10!=3628800$ を認めて使ってよい.\n",
    "\n",
    "**解答例:** Taylorの定理より, $0$ と $1$ のあいだにある実数 $\\xi$ で次を満たすものが存在する.\n",
    "\n",
    "$$\n",
    "e^1 = \\sum_{k=0}^9\\frac{1}{k!} + \\frac{e^\\xi}{10!}, \\quad\n",
    "\\frac{e^\\xi}{10!} < \\frac{e}{10!} < \\frac{3}{3000000} = \\frac{1}{10^6}.\n",
    "$$\n",
    "\n",
    "不等式は $\\xi<1$ と $e<3$, $10!>3000000$ より得られる. これで示すべきことが示された. $\\QED$\n",
    "\n",
    "Taylorの定理を使えば誤差項の大きさを上から評価できる."
   ]
  },
  {
   "cell_type": "code",
   "execution_count": 12,
   "metadata": {},
   "outputs": [
    {
     "data": {
      "text/plain": [
       "(2.7182815255731922, 2.718281828459045)"
      ]
     },
     "execution_count": 12,
     "metadata": {},
     "output_type": "execute_result"
    }
   ],
   "source": [
    "sum(1/factorial(k) for k in 0:9), exp(1)"
   ]
  },
  {
   "cell_type": "markdown",
   "metadata": {},
   "source": [
    "次の問題の解答例のように, Taylorの定理の剰余項を用いるのではなく, Taylor展開の残りの部分の総和を上から評価することによって誤差項を評価することもできる.\n",
    "\n",
    "**問題:** $\\log 2$ を小数点以下第2桁まで求めよ.\n",
    "\n",
    "**解答例:** $|x|<1$ とし, \n",
    "\n",
    "$$\n",
    "f(x) = \\log \\frac{1+x}{1-x} = \\log(1+x)-\\log(1-x) =\n",
    "2\\left(x + \\frac{x^3}{3} + \\frac{x^5}{5} + \\cdots\\right)\n",
    "$$\n",
    "\n",
    "とおくと, $0\\leqq x<1$ のとき\n",
    "\n",
    "$$\n",
    "\\begin{aligned}\n",
    "&\n",
    "f(x) = 2\\sum_{k=0}^{n-1} \\frac{x^{2k+1}}{2k+1} + R_{2n+1},\n",
    "\\\\ &\n",
    "0 \\leqq\n",
    "R_{2n+1} =\n",
    "2\\sum_{k=n}^\\infty \\frac{x^{2k+1}}{2k+1} =\n",
    "\\frac{2x^{2n+1}}{2n+1}\\sum_{k=n}^\\infty \\frac{2n+1}{2k+1} x^{2k+1-(2n+1)}\n",
    "\\\\ & \\;\\;\\leqq\n",
    "\\frac{2x^{2n+1}}{2n+1}\\sum_{j=0}^\\infty x^{2j} =\n",
    "\\frac{2x^{2n+1}}{2n+1}\\frac{1}{1-x^2}.\n",
    "\\end{aligned}\n",
    "$$\n",
    "\n",
    "ゆえに, $n=2$, $\\ds x=\\frac{1}{3}$ のとき, \n",
    "\n",
    "$$\n",
    "\\begin{aligned}\n",
    "&\n",
    "\\log 2 = f\\left(\\frac{1}{3}\\right) = \n",
    "f(x) = \\alpha + R_5, \n",
    "\\\\ &\n",
    "\\alpha =  2\\left(\\frac{1}{3} + \\frac{(1/3)^3}{3}\\right) = 0.69135802\\cdots, \n",
    "\\\\ &\n",
    "0\\leqq R_5\\leqq \\frac{9}{4}\\frac{(1/3)^5}{5} = \\frac{1}{540} = 0.00185185\\cdots\n",
    "\\end{aligned}\n",
    "$$\n",
    "\n",
    "これより, $\\log 2 = 0.69\\cdots$ であることがわかる. $\\QED$\n",
    "\n",
    "**注意:** $\\ds y = f(x) = \\log\\frac{1+x}{1-x}$ は $\\ds x = \\frac{e^y-1}{e^y+1} = \\frac{e^{y/2}-e^{-y/2}}{e^{y/2}+e^{-y/2}} = \\tanh\\frac{y}{2}$ の逆函数である. すなわち\n",
    "\n",
    "$$\n",
    "\\arctanh x =  \\frac{1}{2}\\log\\frac{1+x}{1-x} = \\sum_{k=0}^\\infty \\frac{x^{2k+1}}{2k+1}.\n",
    "\\qquad \\QED\n",
    "$$\n",
    "\n",
    "**注意(70％ルール):** $\\log 2 = 0.69314718\\cdots$ が $0.7$ に近いことはよく以下のように使われる. 年利 $r$ パーセントの金利で資産を運用するとき, 約 $70/r$ 年後に資産は倍になる:\n",
    "\n",
    "$$\n",
    "\\left(1+\\frac{r}{100}\\right)^{70/r} \\approx 2.\n",
    "$$\n",
    "\n",
    "例えば $r$ が $5$ パーセントのとき $1.05^{70/5}=1.97993\\cdots$. $r$ が $7$ パーセントのとき $1.07^{70/7}=1.96715\\cdots$. 確かにほぼ $2$ になっている. このような形で $100\\log 2\\approx 70$ は我々の金融社会の中で便利に利用されている. $\\QED$\n",
    "\n",
    "**問題:** 70％ルールの概算法がうまく行く理由を説明せよ.\n",
    "\n",
    "**解答例:** $\\log 2 \\approx 0.7$ と近似すると, $\\ds\\left(1+\\frac{r}{100}\\right)^x \\approx e^{rx/100} = 2$ を満たす $x$ は $\\ds x = \\frac{100\\log 2}{r} \\approx \\frac{70}{r}$ で概算可能である.  $\\QED$"
   ]
  },
  {
   "cell_type": "code",
   "execution_count": 13,
   "metadata": {},
   "outputs": [
    {
     "data": {
      "text/latex": [
       "$\\displaystyle 2 x + \\frac{2 x^{3}}{3}$\n"
      ],
      "text/plain": [
       "         3\n",
       "      2*x \n",
       "2*x + ----\n",
       "       3  "
      ]
     },
     "metadata": {},
     "output_type": "display_data"
    },
    {
     "data": {
      "text/plain": [
       "(0.6931471805599453, 0.6931471805599452, 0.691358024691358, 0.0017891558685871889, 0.0018518518518518515)"
      ]
     },
     "execution_count": 13,
     "metadata": {},
     "output_type": "execute_result"
    }
   ],
   "source": [
    "f(x) = log((1+x)/(1-x))\n",
    "g(n,x) = 2*sum(k->x^(2k+1)/(2k+1), 0:n-1)\n",
    "R(n,x) = 2*x^(2n+1)/(2n+1)/(1-x^2)\n",
    "\n",
    "sympy.init_printing(order=\"rev-lex\")\n",
    "x = symbols(\"x\", positive=true)\n",
    "g(2, x) |> display\n",
    "sympy.init_printing(order=\"lex\") # default\n",
    "\n",
    "n = 2\n",
    "y = 2\n",
    "x = (y-1)/(y+1)\n",
    "log(y), f(x), g(n,x), f(x) - g(n,x), R(n,x)"
   ]
  },
  {
   "cell_type": "code",
   "execution_count": 14,
   "metadata": {},
   "outputs": [
    {
     "data": {
      "text/plain": [
       "(0.6931471805599453, 0.6931471805599452, 0.6930041152263374, 0.0001430653336077503, 0.00014697236919459136)"
      ]
     },
     "execution_count": 14,
     "metadata": {},
     "output_type": "execute_result"
    }
   ],
   "source": [
    "f(x) = log((1+x)/(1-x))\n",
    "g(n,x) = 2*sum(k->x^(2k+1)/(2k+1), 0:n-1)\n",
    "R(n,x) = 2*x^(2n+1)/(2n+1)/(1-x^2)\n",
    "\n",
    "n = 3\n",
    "y = 2\n",
    "x = (y-1)/(y+1)\n",
    "log(y), f(x), g(n,x), f(x) - g(n,x), R(n,x)"
   ]
  },
  {
   "cell_type": "markdown",
   "metadata": {},
   "source": [
    "**問題:** 少し上の方でやった計算と同様の方法で $\\log 1.5$ を小数点以下第3桁まで計算せよ. $\\QED$"
   ]
  },
  {
   "cell_type": "code",
   "execution_count": 15,
   "metadata": {},
   "outputs": [
    {
     "data": {
      "text/plain": [
       "(0.4054651081081644, 0.4054651081081642, 0.4053333333333334, 0.00013177477483083955, 0.0001333333333333334)"
      ]
     },
     "execution_count": 15,
     "metadata": {},
     "output_type": "execute_result"
    }
   ],
   "source": [
    "f(x) = log((1+x)/(1-x))\n",
    "g(n,x) = 2*sum(k->x^(2k+1)/(2k+1), 0:n-1)\n",
    "R(n,x) = 2*x^(2n+1)/(2n+1)/(1-x^2)\n",
    "\n",
    "n = 2\n",
    "y = 1.5\n",
    "x = (y-1)/(y+1)\n",
    "log(y), f(x), g(n,x), f(x) - g(n,x), R(n,x)"
   ]
  },
  {
   "cell_type": "code",
   "execution_count": 16,
   "metadata": {},
   "outputs": [
    {
     "data": {
      "text/plain": [
       "(0.4054651081081644, 0.4054651081081642, 0.4054613333333334, 3.774774830822558e-6, 3.8095238095238115e-6)"
      ]
     },
     "execution_count": 16,
     "metadata": {},
     "output_type": "execute_result"
    }
   ],
   "source": [
    "f(x) = log((1+x)/(1-x))\n",
    "g(n,x) = 2*sum(k->x^(2k+1)/(2k+1), 0:n-1)\n",
    "R(n,x) = 2*x^(2n+1)/(2n+1)/(1-x^2)\n",
    "\n",
    "n = 3\n",
    "y = 1.5\n",
    "x = (y-1)/(y+1)\n",
    "log(y), f(x), g(n,x), f(x) - g(n,x), R(n,x)"
   ]
  },
  {
   "cell_type": "markdown",
   "metadata": {},
   "source": [
    "**問題:** $\\arcsin x$, $\\arctan x$ の $x=0$ でのTaylor展開の $x\\to 1$ の極限を取ることによって\n",
    "\n",
    "$$\n",
    "\\frac{\\pi}{2} = \\sum_{k=0}^\\infty\\frac{1}{2^{2k}}\\frac{(2k)!}{(k!)^2}\\frac{1}{2k+1}, \\quad\n",
    "\\frac{\\pi}{4} = \\sum_{k=0}^\\infty\\frac{(-1)^k}{2k+1}\n",
    "$$\n",
    "\n",
    "が得られることを確認せよ. $\\QED$\n",
    "\n",
    "解答略. 次の節におけるコンピューターによる計算例も参照せよ."
   ]
  },
  {
   "cell_type": "markdown",
   "metadata": {},
   "source": [
    "**問題:** $\\R$ 上の $C^\\infty$ 函数 $f(x)$ で, 任意の実数 $x$ について $\\ds \\sum_{n=0}^\\infty \\frac{1}{n!}f^{(n)}(0)x^n$ が収束しているのに, その収束先が $x\\ne0$ のとき $f(x)$ と一致しないものが存在する. そのような $f(x)$ の例を1つ挙げよ.\n",
    "\n",
    "**解答例:** $f(x)$ を\n",
    "\n",
    "$$\n",
    "f(x) = \\begin{cases}\n",
    "\\exp(-1/|x|) & (x\\ne 0) \\\\\n",
    "0 & (x=0)\n",
    "\\end{cases}\n",
    "$$\n",
    "\n",
    "と定めると, $f$ は $C^\\infty$ 函数でかつ $f^{(n)}(0)=0$ ($n=0,1,2,\\ldots$) となることを示せる(自分で示してみよ). ゆえにそのとき, $\\ds \\sum_{n=0}^\\infty \\frac{1}{n!}f^{(n)}(0)x^n$ は常に $0$ に収束する. しかし, $x\\ne 0$ のとき $f(x)>0$ なので収束先の $0$ は $f(x)$ に一致しない. $\\QED$"
   ]
  },
  {
   "cell_type": "code",
   "execution_count": 17,
   "metadata": {},
   "outputs": [
    {
     "data": {
      "image/png": "[encoded data removed]",
      "image/svg+xml": [
       "<?xml version=\"1.0\" encoding=\"utf-8\"?>\n",
       "<svg xmlns=\"http://www.w3.org/2000/svg\" xmlns:xlink=\"http://www.w3.org/1999/xlink\" width=\"400\" height=\"250\" viewBox=\"0 0 1600 1000\">\n",
       "<defs>\n",
       "  <clipPath id=\"clip510\">\n",
       "    <rect x=\"0\" y=\"0\" width=\"1600\" height=\"1000\"/>\n",
       "  </clipPath>\n",
       "</defs>\n",
       "<path clip-path=\"url(#clip510)\" d=\"M0 1000 L1600 1000 L1600 0 L0 0  Z\" fill=\"#ffffff\" fill-rule=\"evenodd\" fill-opacity=\"1\"/>\n",
       "<defs>\n",
       "  <clipPath id=\"clip511\">\n",
       "    <rect x=\"320\" y=\"0\" width=\"1121\" height=\"1000\"/>\n",
       "  </clipPath>\n",
       "</defs>\n",
       "<path clip-path=\"url(#clip510)\" d=\"M148.598 894.608 L1552.76 894.608 L1552.76 47.2441 L148.598 47.2441  Z\" fill=\"#ffffff\" fill-rule=\"evenodd\" fill-opacity=\"1\"/>\n",
       "<defs>\n",
       "  <clipPath id=\"clip512\">\n",
       "    <rect x=\"148\" y=\"47\" width=\"1405\" height=\"848\"/>\n",
       "  </clipPath>\n",
       "</defs>\n",
       "<polyline clip-path=\"url(#clip512)\" style=\"stroke:#000000; stroke-linecap:round; stroke-linejoin:round; stroke-width:2; stroke-opacity:0.1; fill:none\" points=\"188.339,894.608 188.339,47.2441 \"/>\n",
       "<polyline clip-path=\"url(#clip512)\" style=\"stroke:#000000; stroke-linecap:round; stroke-linejoin:round; stroke-width:2; stroke-opacity:0.1; fill:none\" points=\"519.508,894.608 519.508,47.2441 \"/>\n",
       "<polyline clip-path=\"url(#clip512)\" style=\"stroke:#000000; stroke-linecap:round; stroke-linejoin:round; stroke-width:2; stroke-opacity:0.1; fill:none\" points=\"850.677,894.608 850.677,47.2441 \"/>\n",
       "<polyline clip-path=\"url(#clip512)\" style=\"stroke:#000000; stroke-linecap:round; stroke-linejoin:round; stroke-width:2; stroke-opacity:0.1; fill:none\" points=\"1181.85,894.608 1181.85,47.2441 \"/>\n",
       "<polyline clip-path=\"url(#clip512)\" style=\"stroke:#000000; stroke-linecap:round; stroke-linejoin:round; stroke-width:2; stroke-opacity:0.1; fill:none\" points=\"1513.02,894.608 1513.02,47.2441 \"/>\n",
       "<polyline clip-path=\"url(#clip510)\" style=\"stroke:#000000; stroke-linecap:round; stroke-linejoin:round; stroke-width:4; stroke-opacity:1; fill:none\" points=\"148.598,894.608 1552.76,894.608 \"/>\n",
       "<polyline clip-path=\"url(#clip510)\" style=\"stroke:#000000; stroke-linecap:round; stroke-linejoin:round; stroke-width:4; stroke-opacity:1; fill:none\" points=\"188.339,894.608 188.339,875.71 \"/>\n",
       "<polyline clip-path=\"url(#clip510)\" style=\"stroke:#000000; stroke-linecap:round; stroke-linejoin:round; stroke-width:4; stroke-opacity:1; fill:none\" points=\"519.508,894.608 519.508,875.71 \"/>\n",
       "<polyline clip-path=\"url(#clip510)\" style=\"stroke:#000000; stroke-linecap:round; stroke-linejoin:round; stroke-width:4; stroke-opacity:1; fill:none\" points=\"850.677,894.608 850.677,875.71 \"/>\n",
       "<polyline clip-path=\"url(#clip510)\" style=\"stroke:#000000; stroke-linecap:round; stroke-linejoin:round; stroke-width:4; stroke-opacity:1; fill:none\" points=\"1181.85,894.608 1181.85,875.71 \"/>\n",
       "<polyline clip-path=\"url(#clip510)\" style=\"stroke:#000000; stroke-linecap:round; stroke-linejoin:round; stroke-width:4; stroke-opacity:1; fill:none\" points=\"1513.02,894.608 1513.02,875.71 \"/>\n",
       "<path clip-path=\"url(#clip510)\" d=\"M158.281 933.779 L187.957 933.779 L187.957 937.714 L158.281 937.714 L158.281 933.779 Z\" fill=\"#000000\" fill-rule=\"nonzero\" fill-opacity=\"1\" /><path clip-path=\"url(#clip510)\" d=\"M202.077 946.673 L218.396 946.673 L218.396 950.608 L196.452 950.608 L196.452 946.673 Q199.114 943.918 203.697 939.288 Q208.304 934.636 209.484 933.293 Q211.73 930.77 212.609 929.034 Q213.512 927.275 213.512 925.585 Q213.512 922.83 211.568 921.094 Q209.646 919.358 206.544 919.358 Q204.345 919.358 201.892 920.122 Q199.461 920.886 196.683 922.437 L196.683 917.715 Q199.507 916.58 201.961 916.002 Q204.415 915.423 206.452 915.423 Q211.822 915.423 215.017 918.108 Q218.211 920.793 218.211 925.284 Q218.211 927.414 217.401 929.335 Q216.614 931.233 214.507 933.826 Q213.929 934.497 210.827 937.714 Q207.725 940.909 202.077 946.673 Z\" fill=\"#000000\" fill-rule=\"nonzero\" fill-opacity=\"1\" /><path clip-path=\"url(#clip510)\" d=\"M489.265 933.779 L518.941 933.779 L518.941 937.714 L489.265 937.714 L489.265 933.779 Z\" fill=\"#000000\" fill-rule=\"nonzero\" fill-opacity=\"1\" /><path clip-path=\"url(#clip510)\" d=\"M529.843 946.673 L537.482 946.673 L537.482 920.307 L529.172 921.974 L529.172 917.715 L537.436 916.048 L542.112 916.048 L542.112 946.673 L549.751 946.673 L549.751 950.608 L529.843 950.608 L529.843 946.673 Z\" fill=\"#000000\" fill-rule=\"nonzero\" fill-opacity=\"1\" /><path clip-path=\"url(#clip510)\" d=\"M850.677 919.127 Q847.066 919.127 845.237 922.691 Q843.432 926.233 843.432 933.363 Q843.432 940.469 845.237 944.034 Q847.066 947.575 850.677 947.575 Q854.311 947.575 856.117 944.034 Q857.946 940.469 857.946 933.363 Q857.946 926.233 856.117 922.691 Q854.311 919.127 850.677 919.127 M850.677 915.423 Q856.487 915.423 859.543 920.029 Q862.621 924.613 862.621 933.363 Q862.621 942.089 859.543 946.696 Q856.487 951.279 850.677 951.279 Q844.867 951.279 841.788 946.696 Q838.733 942.089 838.733 933.363 Q838.733 924.613 841.788 920.029 Q844.867 915.423 850.677 915.423 Z\" fill=\"#000000\" fill-rule=\"nonzero\" fill-opacity=\"1\" /><path clip-path=\"url(#clip510)\" d=\"M1172.23 946.673 L1179.87 946.673 L1179.87 920.307 L1171.56 921.974 L1171.56 917.715 L1179.82 916.048 L1184.5 916.048 L1184.5 946.673 L1192.14 946.673 L1192.14 950.608 L1172.23 950.608 L1172.23 946.673 Z\" fill=\"#000000\" fill-rule=\"nonzero\" fill-opacity=\"1\" /><path clip-path=\"url(#clip510)\" d=\"M1507.67 946.673 L1523.99 946.673 L1523.99 950.608 L1502.04 950.608 L1502.04 946.673 Q1504.71 943.918 1509.29 939.288 Q1513.9 934.636 1515.08 933.293 Q1517.32 930.77 1518.2 929.034 Q1519.1 927.275 1519.1 925.585 Q1519.1 922.83 1517.16 921.094 Q1515.24 919.358 1512.14 919.358 Q1509.94 919.358 1507.48 920.122 Q1505.05 920.886 1502.27 922.437 L1502.27 917.715 Q1505.1 916.58 1507.55 916.002 Q1510.01 915.423 1512.04 915.423 Q1517.41 915.423 1520.61 918.108 Q1523.8 920.793 1523.8 925.284 Q1523.8 927.414 1522.99 929.335 Q1522.21 931.233 1520.1 933.826 Q1519.52 934.497 1516.42 937.714 Q1513.32 940.909 1507.67 946.673 Z\" fill=\"#000000\" fill-rule=\"nonzero\" fill-opacity=\"1\" /><polyline clip-path=\"url(#clip512)\" style=\"stroke:#000000; stroke-linecap:round; stroke-linejoin:round; stroke-width:2; stroke-opacity:0.1; fill:none\" points=\"148.598,870.626 1552.76,870.626 \"/>\n",
       "<polyline clip-path=\"url(#clip512)\" style=\"stroke:#000000; stroke-linecap:round; stroke-linejoin:round; stroke-width:2; stroke-opacity:0.1; fill:none\" points=\"148.598,738.827 1552.76,738.827 \"/>\n",
       "<polyline clip-path=\"url(#clip512)\" style=\"stroke:#000000; stroke-linecap:round; stroke-linejoin:round; stroke-width:2; stroke-opacity:0.1; fill:none\" points=\"148.598,607.028 1552.76,607.028 \"/>\n",
       "<polyline clip-path=\"url(#clip512)\" style=\"stroke:#000000; stroke-linecap:round; stroke-linejoin:round; stroke-width:2; stroke-opacity:0.1; fill:none\" points=\"148.598,475.23 1552.76,475.23 \"/>\n",
       "<polyline clip-path=\"url(#clip512)\" style=\"stroke:#000000; stroke-linecap:round; stroke-linejoin:round; stroke-width:2; stroke-opacity:0.1; fill:none\" points=\"148.598,343.431 1552.76,343.431 \"/>\n",
       "<polyline clip-path=\"url(#clip512)\" style=\"stroke:#000000; stroke-linecap:round; stroke-linejoin:round; stroke-width:2; stroke-opacity:0.1; fill:none\" points=\"148.598,211.632 1552.76,211.632 \"/>\n",
       "<polyline clip-path=\"url(#clip512)\" style=\"stroke:#000000; stroke-linecap:round; stroke-linejoin:round; stroke-width:2; stroke-opacity:0.1; fill:none\" points=\"148.598,79.8334 1552.76,79.8334 \"/>\n",
       "<polyline clip-path=\"url(#clip510)\" style=\"stroke:#000000; stroke-linecap:round; stroke-linejoin:round; stroke-width:4; stroke-opacity:1; fill:none\" points=\"148.598,894.608 148.598,47.2441 \"/>\n",
       "<polyline clip-path=\"url(#clip510)\" style=\"stroke:#000000; stroke-linecap:round; stroke-linejoin:round; stroke-width:4; stroke-opacity:1; fill:none\" points=\"148.598,870.626 167.496,870.626 \"/>\n",
       "<polyline clip-path=\"url(#clip510)\" style=\"stroke:#000000; stroke-linecap:round; stroke-linejoin:round; stroke-width:4; stroke-opacity:1; fill:none\" points=\"148.598,738.827 167.496,738.827 \"/>\n",
       "<polyline clip-path=\"url(#clip510)\" style=\"stroke:#000000; stroke-linecap:round; stroke-linejoin:round; stroke-width:4; stroke-opacity:1; fill:none\" points=\"148.598,607.028 167.496,607.028 \"/>\n",
       "<polyline clip-path=\"url(#clip510)\" style=\"stroke:#000000; stroke-linecap:round; stroke-linejoin:round; stroke-width:4; stroke-opacity:1; fill:none\" points=\"148.598,475.23 167.496,475.23 \"/>\n",
       "<polyline clip-path=\"url(#clip510)\" style=\"stroke:#000000; stroke-linecap:round; stroke-linejoin:round; stroke-width:4; stroke-opacity:1; fill:none\" points=\"148.598,343.431 167.496,343.431 \"/>\n",
       "<polyline clip-path=\"url(#clip510)\" style=\"stroke:#000000; stroke-linecap:round; stroke-linejoin:round; stroke-width:4; stroke-opacity:1; fill:none\" points=\"148.598,211.632 167.496,211.632 \"/>\n",
       "<polyline clip-path=\"url(#clip510)\" style=\"stroke:#000000; stroke-linecap:round; stroke-linejoin:round; stroke-width:4; stroke-opacity:1; fill:none\" points=\"148.598,79.8334 167.496,79.8334 \"/>\n",
       "<path clip-path=\"url(#clip510)\" d=\"M67.4226 856.425 Q63.8115 856.425 61.9828 859.989 Q60.1773 863.531 60.1773 870.661 Q60.1773 877.767 61.9828 881.332 Q63.8115 884.873 67.4226 884.873 Q71.0569 884.873 72.8624 881.332 Q74.6911 877.767 74.6911 870.661 Q74.6911 863.531 72.8624 859.989 Q71.0569 856.425 67.4226 856.425 M67.4226 852.721 Q73.2328 852.721 76.2883 857.327 Q79.367 861.911 79.367 870.661 Q79.367 879.387 76.2883 883.994 Q73.2328 888.577 67.4226 888.577 Q61.6125 888.577 58.5338 883.994 Q55.4782 879.387 55.4782 870.661 Q55.4782 861.911 58.5338 857.327 Q61.6125 852.721 67.4226 852.721 Z\" fill=\"#000000\" fill-rule=\"nonzero\" fill-opacity=\"1\" /><path clip-path=\"url(#clip510)\" d=\"M87.5845 882.026 L92.4688 882.026 L92.4688 887.906 L87.5845 887.906 L87.5845 882.026 Z\" fill=\"#000000\" fill-rule=\"nonzero\" fill-opacity=\"1\" /><path clip-path=\"url(#clip510)\" d=\"M112.654 856.425 Q109.043 856.425 107.214 859.989 Q105.409 863.531 105.409 870.661 Q105.409 877.767 107.214 881.332 Q109.043 884.873 112.654 884.873 Q116.288 884.873 118.094 881.332 Q119.922 877.767 119.922 870.661 Q119.922 863.531 118.094 859.989 Q116.288 856.425 112.654 856.425 M112.654 852.721 Q118.464 852.721 121.52 857.327 Q124.598 861.911 124.598 870.661 Q124.598 879.387 121.52 883.994 Q118.464 888.577 112.654 888.577 Q106.844 888.577 103.765 883.994 Q100.709 879.387 100.709 870.661 Q100.709 861.911 103.765 857.327 Q106.844 852.721 112.654 852.721 Z\" fill=\"#000000\" fill-rule=\"nonzero\" fill-opacity=\"1\" /><path clip-path=\"url(#clip510)\" d=\"M68.6495 724.626 Q65.0384 724.626 63.2097 728.191 Q61.4041 731.732 61.4041 738.862 Q61.4041 745.968 63.2097 749.533 Q65.0384 753.075 68.6495 753.075 Q72.2837 753.075 74.0892 749.533 Q75.9179 745.968 75.9179 738.862 Q75.9179 731.732 74.0892 728.191 Q72.2837 724.626 68.6495 724.626 M68.6495 720.922 Q74.4596 720.922 77.5152 725.529 Q80.5938 730.112 80.5938 738.862 Q80.5938 747.589 77.5152 752.195 Q74.4596 756.778 68.6495 756.778 Q62.8393 756.778 59.7606 752.195 Q56.7051 747.589 56.7051 738.862 Q56.7051 730.112 59.7606 725.529 Q62.8393 720.922 68.6495 720.922 Z\" fill=\"#000000\" fill-rule=\"nonzero\" fill-opacity=\"1\" /><path clip-path=\"url(#clip510)\" d=\"M88.8114 750.228 L93.6956 750.228 L93.6956 756.107 L88.8114 756.107 L88.8114 750.228 Z\" fill=\"#000000\" fill-rule=\"nonzero\" fill-opacity=\"1\" /><path clip-path=\"url(#clip510)\" d=\"M104.691 752.172 L112.33 752.172 L112.33 725.806 L104.02 727.473 L104.02 723.214 L112.283 721.547 L116.959 721.547 L116.959 752.172 L124.598 752.172 L124.598 756.107 L104.691 756.107 L104.691 752.172 Z\" fill=\"#000000\" fill-rule=\"nonzero\" fill-opacity=\"1\" /><path clip-path=\"url(#clip510)\" d=\"M69.0198 592.827 Q65.4087 592.827 63.58 596.392 Q61.7745 599.934 61.7745 607.063 Q61.7745 614.17 63.58 617.734 Q65.4087 621.276 69.0198 621.276 Q72.6541 621.276 74.4596 617.734 Q76.2883 614.17 76.2883 607.063 Q76.2883 599.934 74.4596 596.392 Q72.6541 592.827 69.0198 592.827 M69.0198 589.123 Q74.83 589.123 77.8855 593.73 Q80.9642 598.313 80.9642 607.063 Q80.9642 615.79 77.8855 620.396 Q74.83 624.98 69.0198 624.98 Q63.2097 624.98 60.131 620.396 Q57.0754 615.79 57.0754 607.063 Q57.0754 598.313 60.131 593.73 Q63.2097 589.123 69.0198 589.123 Z\" fill=\"#000000\" fill-rule=\"nonzero\" fill-opacity=\"1\" /><path clip-path=\"url(#clip510)\" d=\"M89.1818 618.429 L94.066 618.429 L94.066 624.308 L89.1818 624.308 L89.1818 618.429 Z\" fill=\"#000000\" fill-rule=\"nonzero\" fill-opacity=\"1\" /><path clip-path=\"url(#clip510)\" d=\"M108.279 620.373 L124.598 620.373 L124.598 624.308 L102.654 624.308 L102.654 620.373 Q105.316 617.619 109.899 612.989 Q114.506 608.336 115.686 606.994 Q117.932 604.471 118.811 602.734 Q119.714 600.975 119.714 599.285 Q119.714 596.531 117.77 594.795 Q115.848 593.059 112.746 593.059 Q110.547 593.059 108.094 593.822 Q105.663 594.586 102.885 596.137 L102.885 591.415 Q105.709 590.281 108.163 589.702 Q110.617 589.123 112.654 589.123 Q118.024 589.123 121.219 591.809 Q124.413 594.494 124.413 598.984 Q124.413 601.114 123.603 603.035 Q122.816 604.933 120.709 607.526 Q120.131 608.197 117.029 611.415 Q113.927 614.609 108.279 620.373 Z\" fill=\"#000000\" fill-rule=\"nonzero\" fill-opacity=\"1\" /><path clip-path=\"url(#clip510)\" d=\"M68.0708 461.028 Q64.4597 461.028 62.631 464.593 Q60.8254 468.135 60.8254 475.264 Q60.8254 482.371 62.631 485.936 Q64.4597 489.477 68.0708 489.477 Q71.705 489.477 73.5105 485.936 Q75.3392 482.371 75.3392 475.264 Q75.3392 468.135 73.5105 464.593 Q71.705 461.028 68.0708 461.028 M68.0708 457.325 Q73.8809 457.325 76.9365 461.931 Q80.0151 466.514 80.0151 475.264 Q80.0151 483.991 76.9365 488.598 Q73.8809 493.181 68.0708 493.181 Q62.2606 493.181 59.1819 488.598 Q56.1264 483.991 56.1264 475.264 Q56.1264 466.514 59.1819 461.931 Q62.2606 457.325 68.0708 457.325 Z\" fill=\"#000000\" fill-rule=\"nonzero\" fill-opacity=\"1\" /><path clip-path=\"url(#clip510)\" d=\"M88.2327 486.63 L93.1169 486.63 L93.1169 492.51 L88.2327 492.51 L88.2327 486.63 Z\" fill=\"#000000\" fill-rule=\"nonzero\" fill-opacity=\"1\" /><path clip-path=\"url(#clip510)\" d=\"M117.469 473.875 Q120.825 474.593 122.7 476.862 Q124.598 479.13 124.598 482.463 Q124.598 487.579 121.08 490.38 Q117.561 493.181 111.08 493.181 Q108.904 493.181 106.589 492.741 Q104.297 492.324 101.844 491.468 L101.844 486.954 Q103.788 488.088 106.103 488.667 Q108.418 489.246 110.941 489.246 Q115.339 489.246 117.631 487.51 Q119.945 485.774 119.945 482.463 Q119.945 479.408 117.793 477.695 Q115.663 475.959 111.844 475.959 L107.816 475.959 L107.816 472.116 L112.029 472.116 Q115.478 472.116 117.307 470.751 Q119.135 469.362 119.135 466.769 Q119.135 464.107 117.237 462.695 Q115.362 461.26 111.844 461.26 Q109.922 461.26 107.723 461.676 Q105.524 462.093 102.885 462.973 L102.885 458.806 Q105.547 458.065 107.862 457.695 Q110.2 457.325 112.26 457.325 Q117.584 457.325 120.686 459.755 Q123.788 462.163 123.788 466.283 Q123.788 469.153 122.145 471.144 Q120.501 473.112 117.469 473.875 Z\" fill=\"#000000\" fill-rule=\"nonzero\" fill-opacity=\"1\" /><path clip-path=\"url(#clip510)\" d=\"M66.9365 329.23 Q63.3254 329.23 61.4967 332.794 Q59.6912 336.336 59.6912 343.466 Q59.6912 350.572 61.4967 354.137 Q63.3254 357.679 66.9365 357.679 Q70.5707 357.679 72.3763 354.137 Q74.205 350.572 74.205 343.466 Q74.205 336.336 72.3763 332.794 Q70.5707 329.23 66.9365 329.23 M66.9365 325.526 Q72.7467 325.526 75.8022 330.132 Q78.8809 334.716 78.8809 343.466 Q78.8809 352.192 75.8022 356.799 Q72.7467 361.382 66.9365 361.382 Q61.1264 361.382 58.0477 356.799 Q54.9921 352.192 54.9921 343.466 Q54.9921 334.716 58.0477 330.132 Q61.1264 325.526 66.9365 325.526 Z\" fill=\"#000000\" fill-rule=\"nonzero\" fill-opacity=\"1\" /><path clip-path=\"url(#clip510)\" d=\"M87.0984 354.831 L91.9827 354.831 L91.9827 360.711 L87.0984 360.711 L87.0984 354.831 Z\" fill=\"#000000\" fill-rule=\"nonzero\" fill-opacity=\"1\" /><path clip-path=\"url(#clip510)\" d=\"M115.015 330.225 L103.209 348.674 L115.015 348.674 L115.015 330.225 M113.788 326.151 L119.668 326.151 L119.668 348.674 L124.598 348.674 L124.598 352.563 L119.668 352.563 L119.668 360.711 L115.015 360.711 L115.015 352.563 L99.4132 352.563 L99.4132 348.049 L113.788 326.151 Z\" fill=\"#000000\" fill-rule=\"nonzero\" fill-opacity=\"1\" /><path clip-path=\"url(#clip510)\" d=\"M68.418 197.431 Q64.8069 197.431 62.9782 200.996 Q61.1726 204.537 61.1726 211.667 Q61.1726 218.773 62.9782 222.338 Q64.8069 225.88 68.418 225.88 Q72.0522 225.88 73.8578 222.338 Q75.6865 218.773 75.6865 211.667 Q75.6865 204.537 73.8578 200.996 Q72.0522 197.431 68.418 197.431 M68.418 193.727 Q74.2281 193.727 77.2837 198.334 Q80.3624 202.917 80.3624 211.667 Q80.3624 220.394 77.2837 225 Q74.2281 229.583 68.418 229.583 Q62.6078 229.583 59.5291 225 Q56.4736 220.394 56.4736 211.667 Q56.4736 202.917 59.5291 198.334 Q62.6078 193.727 68.418 193.727 Z\" fill=\"#000000\" fill-rule=\"nonzero\" fill-opacity=\"1\" /><path clip-path=\"url(#clip510)\" d=\"M88.5799 223.033 L93.4641 223.033 L93.4641 228.912 L88.5799 228.912 L88.5799 223.033 Z\" fill=\"#000000\" fill-rule=\"nonzero\" fill-opacity=\"1\" /><path clip-path=\"url(#clip510)\" d=\"M103.696 194.352 L122.052 194.352 L122.052 198.287 L107.978 198.287 L107.978 206.76 Q108.996 206.412 110.015 206.25 Q111.033 206.065 112.052 206.065 Q117.839 206.065 121.219 209.236 Q124.598 212.408 124.598 217.824 Q124.598 223.403 121.126 226.505 Q117.654 229.583 111.334 229.583 Q109.159 229.583 106.89 229.213 Q104.645 228.843 102.237 228.102 L102.237 223.403 Q104.321 224.537 106.543 225.093 Q108.765 225.648 111.242 225.648 Q115.246 225.648 117.584 223.542 Q119.922 221.435 119.922 217.824 Q119.922 214.213 117.584 212.107 Q115.246 210 111.242 210 Q109.367 210 107.492 210.417 Q105.64 210.834 103.696 211.713 L103.696 194.352 Z\" fill=\"#000000\" fill-rule=\"nonzero\" fill-opacity=\"1\" /><path clip-path=\"url(#clip510)\" d=\"M67.2606 65.6321 Q63.6495 65.6321 61.8208 69.1969 Q60.0152 72.7385 60.0152 79.8681 Q60.0152 86.9746 61.8208 90.5394 Q63.6495 94.081 67.2606 94.081 Q70.8948 94.081 72.7004 90.5394 Q74.5291 86.9746 74.5291 79.8681 Q74.5291 72.7385 72.7004 69.1969 Q70.8948 65.6321 67.2606 65.6321 M67.2606 61.9284 Q73.0707 61.9284 76.1263 66.5349 Q79.205 71.1182 79.205 79.8681 Q79.205 88.5949 76.1263 93.2014 Q73.0707 97.7847 67.2606 97.7847 Q61.4504 97.7847 58.3717 93.2014 Q55.3162 88.5949 55.3162 79.8681 Q55.3162 71.1182 58.3717 66.5349 Q61.4504 61.9284 67.2606 61.9284 Z\" fill=\"#000000\" fill-rule=\"nonzero\" fill-opacity=\"1\" /><path clip-path=\"url(#clip510)\" d=\"M87.4225 91.2338 L92.3067 91.2338 L92.3067 97.1134 L87.4225 97.1134 L87.4225 91.2338 Z\" fill=\"#000000\" fill-rule=\"nonzero\" fill-opacity=\"1\" /><path clip-path=\"url(#clip510)\" d=\"M113.071 77.97 Q109.922 77.97 108.071 80.1228 Q106.242 82.2755 106.242 86.0255 Q106.242 89.7523 108.071 91.9283 Q109.922 94.081 113.071 94.081 Q116.219 94.081 118.047 91.9283 Q119.899 89.7523 119.899 86.0255 Q119.899 82.2755 118.047 80.1228 Q116.219 77.97 113.071 77.97 M122.353 63.3173 L122.353 67.5765 Q120.594 66.7432 118.788 66.3034 Q117.006 65.8636 115.246 65.8636 Q110.617 65.8636 108.163 68.9886 Q105.733 72.1135 105.385 78.433 Q106.751 76.4191 108.811 75.3543 Q110.871 74.2663 113.348 74.2663 Q118.557 74.2663 121.566 77.4376 Q124.598 80.5857 124.598 86.0255 Q124.598 91.3496 121.45 94.5671 Q118.302 97.7847 113.071 97.7847 Q107.075 97.7847 103.904 93.2014 Q100.733 88.5949 100.733 79.8681 Q100.733 71.6737 104.621 66.8127 Q108.51 61.9284 115.061 61.9284 Q116.82 61.9284 118.603 62.2756 Q120.408 62.6229 122.353 63.3173 Z\" fill=\"#000000\" fill-rule=\"nonzero\" fill-opacity=\"1\" /><polyline clip-path=\"url(#clip512)\" style=\"stroke:#009af9; stroke-linecap:round; stroke-linejoin:round; stroke-width:4; stroke-opacity:1; fill:none\" points=\"188.339,71.2261 188.67,71.426 189.001,71.6261 189.332,71.8263 189.663,72.0267 189.994,72.2272 190.326,72.4279 190.657,72.6287 190.988,72.8297 191.319,73.0308 191.65,73.2321 191.981,73.4335 192.313,73.6351 192.644,73.8369 192.975,74.0388 193.306,74.2408 193.637,74.443 193.968,74.6453 194.3,74.8478 194.631,75.0505 194.962,75.2533 195.293,75.4562 195.624,75.6594 195.955,75.8626 196.287,76.066 196.618,76.2696 196.949,76.4733 197.28,76.6772 197.611,76.8812 197.942,77.0854 198.274,77.2898 198.605,77.4943 198.936,77.6989 199.267,77.9037 199.598,78.1087 199.929,78.3138 200.261,78.5191 200.592,78.7245 200.923,78.9301 201.254,79.1359 201.585,79.3418 201.916,79.5478 202.248,79.754 202.579,79.9604 202.91,80.1669 203.241,80.3736 203.572,80.5804 203.904,80.7874 204.235,80.9946 204.566,81.2019 204.897,81.4094 205.228,81.617 205.559,81.8248 205.891,82.0328 206.222,82.2409 206.553,82.4491 206.884,82.6576 207.215,82.8661 207.546,83.0749 207.878,83.2838 208.209,83.4929 208.54,83.7021 208.871,83.9115 209.202,84.121 209.533,84.3307 209.865,84.5406 210.196,84.7506 210.527,84.9608 210.858,85.1711 211.189,85.3816 211.52,85.5923 211.852,85.8032 212.183,86.0141 212.514,86.2253 212.845,86.4366 213.176,86.6481 213.507,86.8598 213.839,87.0716 214.17,87.2835 214.501,87.4957 214.832,87.708 215.163,87.9204 215.494,88.1331 215.826,88.3458 216.157,88.5588 216.488,88.7719 216.819,88.9852 217.15,89.1986 217.481,89.4123 217.813,89.626 218.144,89.84 218.475,90.0541 218.806,90.2684 219.137,90.4828 219.468,90.6974 219.8,90.9122 220.131,91.1271 220.462,91.3422 220.793,91.5575 221.124,91.7729 221.455,91.9885 221.787,92.2043 222.118,92.4202 222.449,92.6364 222.78,92.8526 223.111,93.0691 223.442,93.2857 223.774,93.5025 224.105,93.7194 224.436,93.9365 224.767,94.1538 225.098,94.3713 225.43,94.5889 225.761,94.8067 226.092,95.0247 226.423,95.2428 226.754,95.4611 227.085,95.6796 227.417,95.8982 227.748,96.117 228.079,96.336 228.41,96.5552 228.741,96.7745 229.072,96.994 229.404,97.2137 229.735,97.4335 230.066,97.6535 230.397,97.8737 230.728,98.0941 231.059,98.3146 231.391,98.5353 231.722,98.7562 232.053,98.9773 232.384,99.1985 232.715,99.4199 233.046,99.6415 233.378,99.8632 233.709,100.085 234.04,100.307 234.371,100.53 234.702,100.752 235.033,100.975 235.365,101.197 235.696,101.42 236.027,101.643 236.358,101.867 236.689,102.09 237.02,102.314 237.352,102.538 237.683,102.762 238.014,102.986 238.345,103.21 238.676,103.435 239.007,103.66 239.339,103.885 239.67,104.11 240.001,104.335 240.332,104.56 240.663,104.786 240.994,105.012 241.326,105.238 241.657,105.464 241.988,105.69 242.319,105.917 242.65,106.144 242.981,106.37 243.313,106.598 243.644,106.825 243.975,107.052 244.306,107.28 244.637,107.508 244.968,107.736 245.3,107.964 245.631,108.192 245.962,108.42 246.293,108.649 246.624,108.878 246.956,109.107 247.287,109.336 247.618,109.566 247.949,109.795 248.28,110.025 248.611,110.255 248.943,110.485 249.274,110.716 249.605,110.946 249.936,111.177 250.267,111.408 250.598,111.639 250.93,111.87 251.261,112.101 251.592,112.333 251.923,112.565 252.254,112.797 252.585,113.029 252.917,113.261 253.248,113.494 253.579,113.727 253.91,113.96 254.241,114.193 254.572,114.426 254.904,114.66 255.235,114.893 255.566,115.127 255.897,115.361 256.228,115.595 256.559,115.83 256.891,116.064 257.222,116.299 257.553,116.534 257.884,116.769 258.215,117.005 258.546,117.24 258.878,117.476 259.209,117.712 259.54,117.948 259.871,118.185 260.202,118.421 260.533,118.658 260.865,118.895 261.196,119.132 261.527,119.369 261.858,119.606 262.189,119.844 262.52,120.082 262.852,120.32 263.183,120.558 263.514,120.797 263.845,121.035 264.176,121.274 264.507,121.513 264.839,121.752 265.17,121.992 265.501,122.231 265.832,122.471 266.163,122.711 266.494,122.951 266.826,123.192 267.157,123.432 267.488,123.673 267.819,123.914 268.15,124.155 268.482,124.397 268.813,124.638 269.144,124.88 269.475,125.122 269.806,125.364 270.137,125.606 270.469,125.849 270.8,126.092 271.131,126.334 271.462,126.578 271.793,126.821 272.124,127.064 272.456,127.308 272.787,127.552 273.118,127.796 273.449,128.041 273.78,128.285 274.111,128.53 274.443,128.775 274.774,129.02 275.105,129.265 275.436,129.511 275.767,129.757 276.098,130.002 276.43,130.249 276.761,130.495 277.092,130.741 277.423,130.988 277.754,131.235 278.085,131.482 278.417,131.73 278.748,131.977 279.079,132.225 279.41,132.473 279.741,132.721 280.072,132.969 280.404,133.218 280.735,133.467 281.066,133.716 281.397,133.965 281.728,134.214 282.059,134.464 282.391,134.714 282.722,134.964 283.053,135.214 283.384,135.465 283.715,135.715 284.046,135.966 284.378,136.217 284.709,136.468 285.04,136.72 285.371,136.971 285.702,137.223 286.033,137.475 286.365,137.728 286.696,137.98 287.027,138.233 287.358,138.486 287.689,138.739 288.02,138.992 288.352,139.246 288.683,139.5 289.014,139.754 289.345,140.008 289.676,140.262 290.008,140.517 290.339,140.772 290.67,141.027 291.001,141.282 291.332,141.538 291.663,141.793 291.995,142.049 292.326,142.305 292.657,142.562 292.988,142.818 293.319,143.075 293.65,143.332 293.982,143.589 294.313,143.846 294.644,144.104 294.975,144.362 295.306,144.62 295.637,144.878 295.969,145.137 296.3,145.395 296.631,145.654 296.962,145.913 297.293,146.173 297.624,146.432 297.956,146.692 298.287,146.952 298.618,147.212 298.949,147.473 299.28,147.733 299.611,147.994 299.943,148.255 300.274,148.517 300.605,148.778 300.936,149.04 301.267,149.302 301.598,149.564 301.93,149.826 302.261,150.089 302.592,150.352 302.923,150.615 303.254,150.878 303.585,151.142 303.917,151.406 304.248,151.67 304.579,151.934 304.91,152.198 305.241,152.463 305.572,152.728 305.904,152.993 306.235,153.258 306.566,153.524 306.897,153.789 307.228,154.055 307.559,154.322 307.891,154.588 308.222,154.855 308.553,155.122 308.884,155.389 309.215,155.656 309.546,155.924 309.878,156.191 310.209,156.459 310.54,156.728 310.871,156.996 311.202,157.265 311.534,157.534 311.865,157.803 312.196,158.072 312.527,158.342 312.858,158.612 313.189,158.882 313.521,159.152 313.852,159.423 314.183,159.694 314.514,159.965 314.845,160.236 315.176,160.507 315.508,160.779 315.839,161.051 316.17,161.323 316.501,161.595 316.832,161.868 317.163,162.141 317.495,162.414 317.826,162.687 318.157,162.961 318.488,163.235 318.819,163.509 319.15,163.783 319.482,164.058 319.813,164.332 320.144,164.607 320.475,164.883 320.806,165.158 321.137,165.434 321.469,165.71 321.8,165.986 322.131,166.262 322.462,166.539 322.793,166.816 323.124,167.093 323.456,167.37 323.787,167.648 324.118,167.926 324.449,168.204 324.78,168.482 325.111,168.761 325.443,169.039 325.774,169.318 326.105,169.598 326.436,169.877 326.767,170.157 327.098,170.437 327.43,170.717 327.761,170.998 328.092,171.278 328.423,171.559 328.754,171.841 329.085,172.122 329.417,172.404 329.748,172.686 330.079,172.968 330.41,173.25 330.741,173.533 331.072,173.816 331.404,174.099 331.735,174.383 332.066,174.666 332.397,174.95 332.728,175.234 333.06,175.519 333.391,175.803 333.722,176.088 334.053,176.374 334.384,176.659 334.715,176.945 335.047,177.23 335.378,177.517 335.709,177.803 336.04,178.09 336.371,178.377 336.702,178.664 337.034,178.951 337.365,179.239 337.696,179.527 338.027,179.815 338.358,180.103 338.689,180.392 339.021,180.681 339.352,180.97 339.683,181.259 340.014,181.549 340.345,181.839 340.676,182.129 341.008,182.42 341.339,182.71 341.67,183.001 342.001,183.292 342.332,183.584 342.663,183.876 342.995,184.168 343.326,184.46 343.657,184.752 343.988,185.045 344.319,185.338 344.65,185.631 344.982,185.925 345.313,186.219 345.644,186.513 345.975,186.807 346.306,187.101 346.637,187.396 346.969,187.691 347.3,187.987 347.631,188.282 347.962,188.578 348.293,188.874 348.624,189.171 348.956,189.467 349.287,189.764 349.618,190.061 349.949,190.359 350.28,190.656 350.611,190.954 350.943,191.253 351.274,191.551 351.605,191.85 351.936,192.149 352.267,192.448 352.598,192.748 352.93,193.048 353.261,193.348 353.592,193.648 353.923,193.949 354.254,194.249 354.586,194.551 354.917,194.852 355.248,195.154 355.579,195.456 355.91,195.758 356.241,196.06 356.573,196.363 356.904,196.666 357.235,196.969 357.566,197.273 357.897,197.577 358.228,197.881 358.56,198.185 358.891,198.49 359.222,198.795 359.553,199.1 359.884,199.406 360.215,199.711 360.547,200.017 360.878,200.324 361.209,200.63 361.54,200.937 361.871,201.244 362.202,201.552 362.534,201.859 362.865,202.167 363.196,202.475 363.527,202.784 363.858,203.093 364.189,203.402 364.521,203.711 364.852,204.021 365.183,204.331 365.514,204.641 365.845,204.951 366.176,205.262 366.508,205.573 366.839,205.884 367.17,206.196 367.501,206.508 367.832,206.82 368.163,207.132 368.495,207.445 368.826,207.758 369.157,208.071 369.488,208.385 369.819,208.698 370.15,209.013 370.482,209.327 370.813,209.642 371.144,209.957 371.475,210.272 371.806,210.587 372.137,210.903 372.469,211.219 372.8,211.536 373.131,211.852 373.462,212.169 373.793,212.486 374.125,212.804 374.456,213.122 374.787,213.44 375.118,213.758 375.449,214.077 375.78,214.396 376.112,214.715 376.443,215.035 376.774,215.355 377.105,215.675 377.436,215.995 377.767,216.316 378.099,216.637 378.43,216.958 378.761,217.28 379.092,217.602 379.423,217.924 379.754,218.246 380.086,218.569 380.417,218.892 380.748,219.216 381.079,219.539 381.41,219.863 381.741,220.188 382.073,220.512 382.404,220.837 382.735,221.162 383.066,221.488 383.397,221.813 383.728,222.139 384.06,222.466 384.391,222.792 384.722,223.119 385.053,223.446 385.384,223.774 385.715,224.102 386.047,224.43 386.378,224.758 386.709,225.087 387.04,225.416 387.371,225.745 387.702,226.075 388.034,226.405 388.365,226.735 388.696,227.066 389.027,227.397 389.358,227.728 389.689,228.059 390.021,228.391 390.352,228.723 390.683,229.056 391.014,229.388 391.345,229.721 391.676,230.055 392.008,230.388 392.339,230.722 392.67,231.056 393.001,231.391 393.332,231.726 393.663,232.061 393.995,232.396 394.326,232.732 394.657,233.068 394.988,233.405 395.319,233.741 395.651,234.078 395.982,234.416 396.313,234.753 396.644,235.091 396.975,235.43 397.306,235.768 397.638,236.107 397.969,236.446 398.3,236.786 398.631,237.126 398.962,237.466 399.293,237.806 399.625,238.147 399.956,238.488 400.287,238.83 400.618,239.171 400.949,239.513 401.28,239.856 401.612,240.198 401.943,240.541 402.274,240.885 402.605,241.228 402.936,241.572 403.267,241.917 403.599,242.261 403.93,242.606 404.261,242.952 404.592,243.297 404.923,243.643 405.254,243.989 405.586,244.336 405.917,244.683 406.248,245.03 406.579,245.377 406.91,245.725 407.241,246.074 407.573,246.422 407.904,246.771 408.235,247.12 408.566,247.469 408.897,247.819 409.228,248.169 409.56,248.52 409.891,248.871 410.222,249.222 410.553,249.573 410.884,249.925 411.215,250.277 411.547,250.63 411.878,250.982 412.209,251.336 412.54,251.689 412.871,252.043 413.202,252.397 413.534,252.751 413.865,253.106 414.196,253.461 414.527,253.817 414.858,254.172 415.189,254.529 415.521,254.885 415.852,255.242 416.183,255.599 416.514,255.956 416.845,256.314 417.177,256.672 417.508,257.031 417.839,257.39 418.17,257.749 418.501,258.108 418.832,258.468 419.164,258.828 419.495,259.189 419.826,259.55 420.157,259.911 420.488,260.272 420.819,260.634 421.151,260.997 421.482,261.359 421.813,261.722 422.144,262.085 422.475,262.449 422.806,262.813 423.138,263.177 423.469,263.542 423.8,263.907 424.131,264.272 424.462,264.638 424.793,265.004 425.125,265.37 425.456,265.737 425.787,266.104 426.118,266.471 426.449,266.839 426.78,267.207 427.112,267.576 427.443,267.945 427.774,268.314 428.105,268.683 428.436,269.053 428.767,269.423 429.099,269.794 429.43,270.165 429.761,270.536 430.092,270.908 430.423,271.28 430.754,271.652 431.086,272.025 431.417,272.398 431.748,272.771 432.079,273.145 432.41,273.519 432.741,273.894 433.073,274.269 433.404,274.644 433.735,275.02 434.066,275.395 434.397,275.772 434.728,276.148 435.06,276.525 435.391,276.903 435.722,277.281 436.053,277.659 436.384,278.037 436.715,278.416 437.047,278.795 437.378,279.175 437.709,279.555 438.04,279.935 438.371,280.316 438.703,280.697 439.034,281.078 439.365,281.46 439.696,281.842 440.027,282.224 440.358,282.607 440.69,282.99 441.021,283.374 441.352,283.758 441.683,284.142 442.014,284.527 442.345,284.912 442.677,285.298 443.008,285.683 443.339,286.07 443.67,286.456 444.001,286.843 444.332,287.23 444.664,287.618 444.995,288.006 445.326,288.395 445.657,288.783 445.988,289.173 446.319,289.562 446.651,289.952 446.982,290.342 447.313,290.733 447.644,291.124 447.975,291.516 448.306,291.908 448.638,292.3 448.969,292.692 449.3,293.085 449.631,293.479 449.962,293.872 450.293,294.267 450.625,294.661 450.956,295.056 451.287,295.451 451.618,295.847 451.949,296.243 452.28,296.639 452.612,297.036 452.943,297.433 453.274,297.831 453.605,298.229 453.936,298.627 454.267,299.026 454.599,299.425 454.93,299.825 455.261,300.225 455.592,300.625 455.923,301.026 456.254,301.427 456.586,301.828 456.917,302.23 457.248,302.632 457.579,303.035 457.91,303.438 458.241,303.841 458.573,304.245 458.904,304.649 459.235,305.054 459.566,305.459 459.897,305.864 460.229,306.27 460.56,306.676 460.891,307.083 461.222,307.49 461.553,307.897 461.884,308.305 462.216,308.713 462.547,309.122 462.878,309.531 463.209,309.94 463.54,310.35 463.871,310.76 464.203,311.171 464.534,311.582 464.865,311.993 465.196,312.405 465.527,312.817 465.858,313.23 466.19,313.643 466.521,314.056 466.852,314.47 467.183,314.884 467.514,315.299 467.845,315.714 468.177,316.129 468.508,316.545 468.839,316.962 469.17,317.378 469.501,317.795 469.832,318.213 470.164,318.631 470.495,319.049 470.826,319.468 471.157,319.887 471.488,320.307 471.819,320.727 472.151,321.147 472.482,321.568 472.813,321.989 473.144,322.411 473.475,322.833 473.806,323.255 474.138,323.678 474.469,324.101 474.8,324.525 475.131,324.949 475.462,325.374 475.793,325.799 476.125,326.224 476.456,326.65 476.787,327.076 477.118,327.503 477.449,327.93 477.78,328.357 478.112,328.785 478.443,329.213 478.774,329.642 479.105,330.071 479.436,330.501 479.767,330.931 480.099,331.361 480.43,331.792 480.761,332.224 481.092,332.655 481.423,333.087 481.755,333.52 482.086,333.953 482.417,334.387 482.748,334.82 483.079,335.255 483.41,335.689 483.742,336.125 484.073,336.56 484.404,336.996 484.735,337.433 485.066,337.87 485.397,338.307 485.729,338.745 486.06,339.183 486.391,339.621 486.722,340.061 487.053,340.5 487.384,340.94 487.716,341.38 488.047,341.821 488.378,342.262 488.709,342.704 489.04,343.146 489.371,343.589 489.703,344.032 490.034,344.475 490.365,344.919 490.696,345.363 491.027,345.808 491.358,346.253 491.69,346.699 492.021,347.145 492.352,347.592 492.683,348.039 493.014,348.486 493.345,348.934 493.677,349.382 494.008,349.831 494.339,350.28 494.67,350.73 495.001,351.18 495.332,351.631 495.664,352.082 495.995,352.533 496.326,352.985 496.657,353.437 496.988,353.89 497.319,354.343 497.651,354.797 497.982,355.251 498.313,355.706 498.644,356.161 498.975,356.616 499.306,357.072 499.638,357.529 499.969,357.986 500.3,358.443 500.631,358.901 500.962,359.359 501.293,359.818 501.625,360.277 501.956,360.737 502.287,361.197 502.618,361.657 502.949,362.118 503.281,362.58 503.612,363.042 503.943,363.504 504.274,363.967 504.605,364.43 504.936,364.894 505.268,365.358 505.599,365.823 505.93,366.288 506.261,366.754 506.592,367.22 506.923,367.686 507.255,368.153 507.586,368.621 507.917,369.089 508.248,369.557 508.579,370.026 508.91,370.495 509.242,370.965 509.573,371.436 509.904,371.906 510.235,372.378 510.566,372.849 510.897,373.321 511.229,373.794 511.56,374.267 511.891,374.741 512.222,375.215 512.553,375.689 512.884,376.165 513.216,376.64 513.547,377.116 513.878,377.592 514.209,378.069 514.54,378.547 514.871,379.025 515.203,379.503 515.534,379.982 515.865,380.461 516.196,380.941 516.527,381.421 516.858,381.902 517.19,382.383 517.521,382.865 517.852,383.347 518.183,383.83 518.514,384.313 518.845,384.797 519.177,385.281 519.508,385.765 519.839,386.251 520.17,386.736 520.501,387.222 520.832,387.709 521.164,388.196 521.495,388.683 521.826,389.171 522.157,389.66 522.488,390.149 522.82,390.638 523.151,391.128 523.482,391.619 523.813,392.11 524.144,392.601 524.475,393.093 524.807,393.586 525.138,394.078 525.469,394.572 525.8,395.066 526.131,395.56 526.462,396.055 526.794,396.551 527.125,397.046 527.456,397.543 527.787,398.04 528.118,398.537 528.449,399.035 528.781,399.533 529.112,400.032 529.443,400.532 529.774,401.031 530.105,401.532 530.436,402.033 530.768,402.534 531.099,403.036 531.43,403.538 531.761,404.041 532.092,404.545 532.423,405.048 532.755,405.553 533.086,406.058 533.417,406.563 533.748,407.069 534.079,407.575 534.41,408.082 534.742,408.59 535.073,409.098 535.404,409.606 535.735,410.115 536.066,410.624 536.397,411.134 536.729,411.645 537.06,412.156 537.391,412.667 537.722,413.179 538.053,413.692 538.384,414.205 538.716,414.718 539.047,415.232 539.378,415.747 539.709,416.262 540.04,416.778 540.371,417.294 540.703,417.81 541.034,418.327 541.365,418.845 541.696,419.363 542.027,419.882 542.358,420.401 542.69,420.921 543.021,421.441 543.352,421.962 543.683,422.483 544.014,423.005 544.346,423.527 544.677,424.05 545.008,424.573 545.339,425.097 545.67,425.621 546.001,426.146 546.333,426.671 546.664,427.197 546.995,427.724 547.326,428.251 547.657,428.778 547.988,429.306 548.32,429.835 548.651,430.364 548.982,430.893 549.313,431.424 549.644,431.954 549.975,432.485 550.307,433.017 550.638,433.549 550.969,434.082 551.3,434.615 551.631,435.149 551.962,435.683 552.294,436.218 552.625,436.754 552.956,437.29 553.287,437.826 553.618,438.363 553.949,438.9 554.281,439.439 554.612,439.977 554.943,440.516 555.274,441.056 555.605,441.596 555.936,442.137 556.268,442.678 556.599,443.22 556.93,443.762 557.261,444.305 557.592,444.848 557.923,445.392 558.255,445.936 558.586,446.481 558.917,447.027 559.248,447.573 559.579,448.119 559.91,448.667 560.242,449.214 560.573,449.762 560.904,450.311 561.235,450.86 561.566,451.41 561.897,451.96 562.229,452.511 562.56,453.063 562.891,453.615 563.222,454.167 563.553,454.72 563.884,455.274 564.216,455.828 564.547,456.382 564.878,456.938 565.209,457.493 565.54,458.05 565.872,458.606 566.203,459.164 566.534,459.722 566.865,460.28 567.196,460.839 567.527,461.399 567.859,461.959 568.19,462.519 568.521,463.081 568.852,463.642 569.183,464.204 569.514,464.767 569.846,465.331 570.177,465.894 570.508,466.459 570.839,467.024 571.17,467.589 571.501,468.155 571.833,468.722 572.164,469.289 572.495,469.857 572.826,470.425 573.157,470.994 573.488,471.563 573.82,472.133 574.151,472.704 574.482,473.275 574.813,473.846 575.144,474.418 575.475,474.991 575.807,475.564 576.138,476.138 576.469,476.712 576.8,477.287 577.131,477.862 577.462,478.438 577.794,479.015 578.125,479.592 578.456,480.17 578.787,480.748 579.118,481.326 579.449,481.906 579.781,482.485 580.112,483.066 580.443,483.647 580.774,484.228 581.105,484.81 581.436,485.393 581.768,485.976 582.099,486.559 582.43,487.144 582.761,487.728 583.092,488.314 583.423,488.9 583.755,489.486 584.086,490.073 584.417,490.661 584.748,491.249 585.079,491.837 585.41,492.426 585.742,493.016 586.073,493.606 586.404,494.197 586.735,494.789 587.066,495.381 587.398,495.973 587.729,496.566 588.06,497.16 588.391,497.754 588.722,498.349 589.053,498.944 589.385,499.54 589.716,500.136 590.047,500.733 590.378,501.331 590.709,501.929 591.04,502.527 591.372,503.126 591.703,503.726 592.034,504.326 592.365,504.927 592.696,505.528 593.027,506.13 593.359,506.733 593.69,507.336 594.021,507.939 594.352,508.544 594.683,509.148 595.014,509.753 595.346,510.359 595.677,510.966 596.008,511.572 596.339,512.18 596.67,512.788 597.001,513.396 597.333,514.006 597.664,514.615 597.995,515.225 598.326,515.836 598.657,516.447 598.988,517.059 599.32,517.672 599.651,518.285 599.982,518.898 600.313,519.512 600.644,520.127 600.975,520.742 601.307,521.358 601.638,521.974 601.969,522.591 602.3,523.208 602.631,523.826 602.962,524.445 603.294,525.064 603.625,525.683 603.956,526.303 604.287,526.924 604.618,527.545 604.949,528.167 605.281,528.789 605.612,529.412 605.943,530.035 606.274,530.659 606.605,531.284 606.936,531.909 607.268,532.534 607.599,533.16 607.93,533.787 608.261,534.414 608.592,535.042 608.924,535.67 609.255,536.299 609.586,536.928 609.917,537.558 610.248,538.189 610.579,538.82 610.911,539.451 611.242,540.083 611.573,540.716 611.904,541.349 612.235,541.983 612.566,542.617 612.898,543.252 613.229,543.887 613.56,544.523 613.891,545.159 614.222,545.796 614.553,546.434 614.885,547.072 615.216,547.71 615.547,548.349 615.878,548.989 616.209,549.629 616.54,550.27 616.872,550.911 617.203,551.552 617.534,552.195 617.865,552.837 618.196,553.481 618.527,554.124 618.859,554.769 619.19,555.414 619.521,556.059 619.852,556.705 620.183,557.351 620.514,557.998 620.846,558.646 621.177,559.294 621.508,559.942 621.839,560.592 622.17,561.241 622.501,561.891 622.833,562.542 623.164,563.193 623.495,563.845 623.826,564.497 624.157,565.149 624.488,565.803 624.82,566.456 625.151,567.11 625.482,567.765 625.813,568.42 626.144,569.076 626.475,569.732 626.807,570.389 627.138,571.046 627.469,571.704 627.8,572.362 628.131,573.021 628.462,573.68 628.794,574.34 629.125,575.001 629.456,575.661 629.787,576.323 630.118,576.984 630.45,577.647 630.781,578.309 631.112,578.973 631.443,579.636 631.774,580.301 632.105,580.965 632.437,581.631 632.768,582.296 633.099,582.962 633.43,583.629 633.761,584.296 634.092,584.964 634.424,585.632 634.755,586.301 635.086,586.97 635.417,587.639 635.748,588.309 636.079,588.98 636.411,589.651 636.742,590.322 637.073,590.994 637.404,591.667 637.735,592.339 638.066,593.013 638.398,593.686 638.729,594.361 639.06,595.035 639.391,595.711 639.722,596.386 640.053,597.062 640.385,597.739 640.716,598.416 641.047,599.093 641.378,599.771 641.709,600.449 642.04,601.128 642.372,601.807 642.703,602.487 643.034,603.167 643.365,603.848 643.696,604.529 644.027,605.21 644.359,605.892 644.69,606.574 645.021,607.257 645.352,607.94 645.683,608.624 646.014,609.308 646.346,609.992 646.677,610.677 647.008,611.362 647.339,612.048 647.67,612.734 648.001,613.421 648.333,614.108 648.664,614.795 648.995,615.483 649.326,616.171 649.657,616.859 649.988,617.548 650.32,618.238 650.651,618.927 650.982,619.617 651.313,620.308 651.644,620.999 651.976,621.69 652.307,622.382 652.638,623.074 652.969,623.766 653.3,624.459 653.631,625.152 653.963,625.846 654.294,626.54 654.625,627.234 654.956,627.929 655.287,628.624 655.618,629.319 655.95,630.015 656.281,630.711 656.612,631.408 656.943,632.104 657.274,632.802 657.605,633.499 657.937,634.197 658.268,634.895 658.599,635.594 658.93,636.292 659.261,636.992 659.592,637.691 659.924,638.391 660.255,639.091 660.586,639.791 660.917,640.492 661.248,641.193 661.579,641.895 661.911,642.596 662.242,643.298 662.573,644.001 662.904,644.703 663.235,645.406 663.566,646.109 663.898,646.813 664.229,647.516 664.56,648.22 664.891,648.925 665.222,649.629 665.553,650.334 665.885,651.039 666.216,651.745 666.547,652.45 666.878,653.156 667.209,653.862 667.54,654.569 667.872,655.275 668.203,655.982 668.534,656.689 668.865,657.397 669.196,658.104 669.527,658.812 669.859,659.52 670.19,660.228 670.521,660.937 670.852,661.645 671.183,662.354 671.514,663.063 671.846,663.773 672.177,664.482 672.508,665.192 672.839,665.902 673.17,666.612 673.502,667.322 673.833,668.032 674.164,668.743 674.495,669.454 674.826,670.164 675.157,670.875 675.489,671.587 675.82,672.298 676.151,673.009 676.482,673.721 676.813,674.433 677.144,675.145 677.476,675.857 677.807,676.569 678.138,677.281 678.469,677.993 678.8,678.706 679.131,679.418 679.463,680.131 679.794,680.844 680.125,681.557 680.456,682.269 680.787,682.982 681.118,683.696 681.45,684.409 681.781,685.122 682.112,685.835 682.443,686.548 682.774,687.262 683.105,687.975 683.437,688.688 683.768,689.402 684.099,690.115 684.43,690.829 684.761,691.542 685.092,692.256 685.424,692.969 685.755,693.683 686.086,694.396 686.417,695.11 686.748,695.823 687.079,696.536 687.411,697.25 687.742,697.963 688.073,698.676 688.404,699.39 688.735,700.103 689.066,700.816 689.398,701.529 689.729,702.242 690.06,702.955 690.391,703.667 690.722,704.38 691.053,705.093 691.385,705.805 691.716,706.517 692.047,707.23 692.378,707.942 692.709,708.654 693.041,709.365 693.372,710.077 693.703,710.789 694.034,711.5 694.365,712.211 694.696,712.922 695.028,713.633 695.359,714.343 695.69,715.054 696.021,715.764 696.352,716.474 696.683,717.184 697.015,717.893 697.346,718.603 697.677,719.312 698.008,720.02 698.339,720.729 698.67,721.437 699.002,722.145 699.333,722.853 699.664,723.56 699.995,724.267 700.326,724.974 700.657,725.681 700.989,726.387 701.32,727.093 701.651,727.798 701.982,728.503 702.313,729.208 702.644,729.913 702.976,730.617 703.307,731.32 703.638,732.024 703.969,732.726 704.3,733.429 704.631,734.131 704.963,734.833 705.294,735.534 705.625,736.235 705.956,736.935 706.287,737.635 706.618,738.334 706.95,739.033 707.281,739.731 707.612,740.429 707.943,741.127 708.274,741.823 708.605,742.52 708.937,743.216 709.268,743.911 709.599,744.606 709.93,745.3 710.261,745.993 710.592,746.686 710.924,747.379 711.255,748.07 711.586,748.761 711.917,749.452 712.248,750.142 712.579,750.831 712.911,751.52 713.242,752.208 713.573,752.895 713.904,753.581 714.235,754.267 714.567,754.952 714.898,755.637 715.229,756.321 715.56,757.003 715.891,757.686 716.222,758.367 716.554,759.048 716.885,759.728 717.216,760.407 717.547,761.085 717.878,761.762 718.209,762.439 718.541,763.115 718.872,763.79 719.203,764.464 719.534,765.137 719.865,765.809 720.196,766.48 720.528,767.151 720.859,767.82 721.19,768.489 721.521,769.156 721.852,769.823 722.183,770.489 722.515,771.153 722.846,771.817 723.177,772.48 723.508,773.141 723.839,773.802 724.17,774.461 724.502,775.12 724.833,775.777 725.164,776.434 725.495,777.089 725.826,777.743 726.157,778.396 726.489,779.048 726.82,779.698 727.151,780.348 727.482,780.996 727.813,781.643 728.144,782.289 728.476,782.934 728.807,783.577 729.138,784.219 729.469,784.86 729.8,785.5 730.131,786.138 730.463,786.775 730.794,787.411 731.125,788.045 731.456,788.678 731.787,789.31 732.118,789.94 732.45,790.569 732.781,791.196 733.112,791.822 733.443,792.447 733.774,793.07 734.105,793.692 734.437,794.312 734.768,794.93 735.099,795.548 735.43,796.163 735.761,796.777 736.093,797.39 736.424,798.001 736.755,798.61 737.086,799.218 737.417,799.824 737.748,800.429 738.08,801.031 738.411,801.633 738.742,802.232 739.073,802.83 739.404,803.426 739.735,804.02 740.067,804.613 740.398,805.204 740.729,805.793 741.06,806.38 741.391,806.966 741.722,807.549 742.054,808.131 742.385,808.711 742.716,809.289 743.047,809.865 743.378,810.44 743.709,811.012 744.041,811.583 744.372,812.151 744.703,812.718 745.034,813.282 745.365,813.845 745.696,814.405 746.028,814.964 746.359,815.52 746.69,816.074 747.021,816.626 747.352,817.177 747.683,817.725 748.015,818.27 748.346,818.814 748.677,819.356 749.008,819.895 749.339,820.432 749.67,820.967 750.002,821.5 750.333,822.03 750.664,822.559 750.995,823.084 751.326,823.608 751.657,824.129 751.989,824.648 752.32,825.165 752.651,825.679 752.982,826.191 753.313,826.7 753.644,827.207 753.976,827.712 754.307,828.214 754.638,828.713 754.969,829.21 755.3,829.705 755.631,830.197 755.963,830.687 756.294,831.174 756.625,831.658 756.956,832.14 757.287,832.619 757.619,833.096 757.95,833.57 758.281,834.041 758.612,834.51 758.943,834.976 759.274,835.439 759.606,835.9 759.937,836.357 760.268,836.812 760.599,837.265 760.93,837.714 761.261,838.161 761.593,838.605 761.924,839.046 762.255,839.484 762.586,839.92 762.917,840.352 763.248,840.782 763.58,841.209 763.911,841.633 764.242,842.053 764.573,842.471 764.904,842.886 765.235,843.298 765.567,843.707 765.898,844.114 766.229,844.517 766.56,844.917 766.891,845.314 767.222,845.707 767.554,846.098 767.885,846.486 768.216,846.871 768.547,847.252 768.878,847.631 769.209,848.006 769.541,848.378 769.872,848.747 770.203,849.113 770.534,849.476 770.865,849.836 771.196,850.192 771.528,850.545 771.859,850.895 772.19,851.242 772.521,851.585 772.852,851.926 773.183,852.263 773.515,852.596 773.846,852.927 774.177,853.254 774.508,853.578 774.839,853.898 775.17,854.216 775.502,854.53 775.833,854.841 776.164,855.148 776.495,855.452 776.826,855.753 777.157,856.05 777.489,856.344 777.82,856.635 778.151,856.922 778.482,857.206 778.813,857.487 779.145,857.764 779.476,858.038 779.807,858.309 780.138,858.576 780.469,858.84 780.8,859.101 781.132,859.358 781.463,859.612 781.794,859.862 782.125,860.109 782.456,860.353 782.787,860.594 783.119,860.831 783.45,861.064 783.781,861.295 784.112,861.522 784.443,861.745 784.774,861.966 785.106,862.183 785.437,862.396 785.768,862.607 786.099,862.814 786.43,863.018 786.761,863.218 787.093,863.415 787.424,863.609 787.755,863.8 788.086,863.988 788.417,864.172 788.748,864.353 789.08,864.531 789.411,864.705 789.742,864.877 790.073,865.045 790.404,865.21 790.735,865.372 791.067,865.531 791.398,865.686 791.729,865.839 792.06,865.989 792.391,866.135 792.722,866.278 793.054,866.419 793.385,866.556 793.716,866.691 794.047,866.822 794.378,866.951 794.709,867.077 795.041,867.2 795.372,867.32 795.703,867.437 796.034,867.551 796.365,867.663 796.696,867.771 797.028,867.877 797.359,867.981 797.69,868.082 798.021,868.18 798.352,868.275 798.683,868.368 799.015,868.458 799.346,868.546 799.677,868.631 800.008,868.714 800.339,868.795 800.671,868.873 801.002,868.949 801.333,869.022 801.664,869.093 801.995,869.162 802.326,869.229 802.658,869.293 802.989,869.355 803.32,869.416 803.651,869.474 803.982,869.53 804.313,869.584 804.645,869.636 804.976,869.686 805.307,869.735 805.638,869.781 805.969,869.826 806.3,869.869 806.632,869.91 806.963,869.95 807.294,869.988 807.625,870.024 807.956,870.059 808.287,870.093 808.619,870.124 808.95,870.155 809.281,870.184 809.612,870.211 809.943,870.238 810.274,870.263 810.606,870.286 810.937,870.309 811.268,870.331 811.599,870.351 811.93,870.37 812.261,870.388 812.593,870.405 812.924,870.422 813.255,870.437 813.586,870.451 813.917,870.465 814.248,870.477 814.58,870.489 814.911,870.5 815.242,870.511 815.573,870.52 815.904,870.53 816.235,870.538 816.567,870.546 816.898,870.553 817.229,870.56 817.56,870.566 817.891,870.572 818.222,870.577 818.554,870.582 818.885,870.586 819.216,870.591 819.547,870.594 819.878,870.598 820.209,870.601 820.541,870.604 820.872,870.606 821.203,870.608 821.534,870.611 821.865,870.612 822.197,870.614 822.528,870.616 822.859,870.617 823.19,870.618 823.521,870.619 823.852,870.62 824.184,870.621 824.515,870.622 824.846,870.622 825.177,870.623 825.508,870.623 825.839,870.624 826.171,870.624 826.502,870.624 826.833,870.625 827.164,870.625 827.495,870.625 827.826,870.625 828.158,870.625 828.489,870.625 828.82,870.626 829.151,870.626 829.482,870.626 829.813,870.626 830.145,870.626 830.476,870.626 830.807,870.626 831.138,870.626 831.469,870.626 831.8,870.626 832.132,870.626 832.463,870.626 832.794,870.626 833.125,870.626 833.456,870.626 833.787,870.626 834.119,870.626 834.45,870.626 834.781,870.626 835.112,870.626 835.443,870.626 835.774,870.626 836.106,870.626 836.437,870.626 836.768,870.626 837.099,870.626 837.43,870.626 837.761,870.626 838.093,870.626 838.424,870.626 838.755,870.626 839.086,870.626 839.417,870.626 839.748,870.626 840.08,870.626 840.411,870.626 840.742,870.626 841.073,870.626 841.404,870.626 841.735,870.626 842.067,870.626 842.398,870.626 842.729,870.626 843.06,870.626 843.391,870.626 843.723,870.626 844.054,870.626 844.385,870.626 844.716,870.626 845.047,870.626 845.378,870.626 845.71,870.626 846.041,870.626 846.372,870.626 846.703,870.626 847.034,870.626 847.365,870.626 847.697,870.626 848.028,870.626 848.359,870.626 848.69,870.626 849.021,870.626 849.352,870.626 849.684,870.626 850.015,870.626 850.346,870.626 850.677,870.626 851.008,870.626 851.339,870.626 851.671,870.626 852.002,870.626 852.333,870.626 852.664,870.626 852.995,870.626 853.326,870.626 853.658,870.626 853.989,870.626 854.32,870.626 854.651,870.626 854.982,870.626 855.313,870.626 855.645,870.626 855.976,870.626 856.307,870.626 856.638,870.626 856.969,870.626 857.3,870.626 857.632,870.626 857.963,870.626 858.294,870.626 858.625,870.626 858.956,870.626 859.287,870.626 859.619,870.626 859.95,870.626 860.281,870.626 860.612,870.626 860.943,870.626 861.274,870.626 861.606,870.626 861.937,870.626 862.268,870.626 862.599,870.626 862.93,870.626 863.262,870.626 863.593,870.626 863.924,870.626 864.255,870.626 864.586,870.626 864.917,870.626 865.249,870.626 865.58,870.626 865.911,870.626 866.242,870.626 866.573,870.626 866.904,870.626 867.236,870.626 867.567,870.626 867.898,870.626 868.229,870.626 868.56,870.626 868.891,870.626 869.223,870.626 869.554,870.626 869.885,870.626 870.216,870.626 870.547,870.626 870.878,870.626 871.21,870.626 871.541,870.626 871.872,870.626 872.203,870.626 872.534,870.626 872.865,870.625 873.197,870.625 873.528,870.625 873.859,870.625 874.19,870.625 874.521,870.625 874.852,870.624 875.184,870.624 875.515,870.624 875.846,870.623 876.177,870.623 876.508,870.622 876.839,870.622 877.171,870.621 877.502,870.62 877.833,870.619 878.164,870.618 878.495,870.617 878.826,870.616 879.158,870.614 879.489,870.612 879.82,870.611 880.151,870.608 880.482,870.606 880.813,870.604 881.145,870.601 881.476,870.598 881.807,870.594 882.138,870.591 882.469,870.586 882.8,870.582 883.132,870.577 883.463,870.572 883.794,870.566 884.125,870.56 884.456,870.553 884.788,870.546 885.119,870.538 885.45,870.53 885.781,870.52 886.112,870.511 886.443,870.5 886.775,870.489 887.106,870.477 887.437,870.465 887.768,870.451 888.099,870.437 888.43,870.422 888.762,870.405 889.093,870.388 889.424,870.37 889.755,870.351 890.086,870.331 890.417,870.309 890.749,870.286 891.08,870.263 891.411,870.238 891.742,870.211 892.073,870.184 892.404,870.155 892.736,870.124 893.067,870.093 893.398,870.059 893.729,870.024 894.06,869.988 894.391,869.95 894.723,869.91 895.054,869.869 895.385,869.826 895.716,869.781 896.047,869.735 896.378,869.686 896.71,869.636 897.041,869.584 897.372,869.53 897.703,869.474 898.034,869.416 898.365,869.355 898.697,869.293 899.028,869.229 899.359,869.162 899.69,869.093 900.021,869.022 900.352,868.949 900.684,868.873 901.015,868.795 901.346,868.714 901.677,868.631 902.008,868.546 902.339,868.458 902.671,868.368 903.002,868.275 903.333,868.18 903.664,868.082 903.995,867.981 904.326,867.877 904.658,867.771 904.989,867.663 905.32,867.551 905.651,867.437 905.982,867.32 906.314,867.2 906.645,867.077 906.976,866.951 907.307,866.822 907.638,866.691 907.969,866.556 908.301,866.419 908.632,866.278 908.963,866.135 909.294,865.989 909.625,865.839 909.956,865.686 910.288,865.531 910.619,865.372 910.95,865.21 911.281,865.045 911.612,864.877 911.943,864.705 912.275,864.531 912.606,864.353 912.937,864.172 913.268,863.988 913.599,863.8 913.93,863.609 914.262,863.415 914.593,863.218 914.924,863.018 915.255,862.814 915.586,862.607 915.917,862.396 916.249,862.183 916.58,861.966 916.911,861.745 917.242,861.522 917.573,861.295 917.904,861.064 918.236,860.831 918.567,860.594 918.898,860.353 919.229,860.109 919.56,859.862 919.891,859.612 920.223,859.358 920.554,859.101 920.885,858.84 921.216,858.576 921.547,858.309 921.878,858.038 922.21,857.764 922.541,857.487 922.872,857.206 923.203,856.922 923.534,856.635 923.865,856.344 924.197,856.05 924.528,855.753 924.859,855.452 925.19,855.148 925.521,854.841 925.852,854.53 926.184,854.216 926.515,853.898 926.846,853.578 927.177,853.254 927.508,852.927 927.84,852.596 928.171,852.263 928.502,851.926 928.833,851.585 929.164,851.242 929.495,850.895 929.827,850.545 930.158,850.192 930.489,849.836 930.82,849.476 931.151,849.113 931.482,848.747 931.814,848.378 932.145,848.006 932.476,847.631 932.807,847.252 933.138,846.871 933.469,846.486 933.801,846.098 934.132,845.707 934.463,845.314 934.794,844.917 935.125,844.517 935.456,844.114 935.788,843.707 936.119,843.298 936.45,842.886 936.781,842.471 937.112,842.053 937.443,841.633 937.775,841.209 938.106,840.782 938.437,840.352 938.768,839.92 939.099,839.484 939.43,839.046 939.762,838.605 940.093,838.161 940.424,837.714 940.755,837.265 941.086,836.812 941.417,836.357 941.749,835.9 942.08,835.439 942.411,834.976 942.742,834.51 943.073,834.041 943.404,833.57 943.736,833.096 944.067,832.619 944.398,832.14 944.729,831.658 945.06,831.174 945.391,830.687 945.723,830.197 946.054,829.705 946.385,829.21 946.716,828.713 947.047,828.214 947.378,827.712 947.71,827.207 948.041,826.7 948.372,826.191 948.703,825.679 949.034,825.165 949.366,824.648 949.697,824.129 950.028,823.608 950.359,823.084 950.69,822.559 951.021,822.03 951.353,821.5 951.684,820.967 952.015,820.432 952.346,819.895 952.677,819.356 953.008,818.814 953.34,818.27 953.671,817.725 954.002,817.177 954.333,816.626 954.664,816.074 954.995,815.52 955.327,814.964 955.658,814.405 955.989,813.845 956.32,813.282 956.651,812.718 956.982,812.151 957.314,811.583 957.645,811.012 957.976,810.44 958.307,809.865 958.638,809.289 958.969,808.711 959.301,808.131 959.632,807.549 959.963,806.966 960.294,806.38 960.625,805.793 960.956,805.204 961.288,804.613 961.619,804.02 961.95,803.426 962.281,802.83 962.612,802.232 962.943,801.633 963.275,801.031 963.606,800.429 963.937,799.824 964.268,799.218 964.599,798.61 964.93,798.001 965.262,797.39 965.593,796.777 965.924,796.163 966.255,795.548 966.586,794.93 966.917,794.312 967.249,793.692 967.58,793.07 967.911,792.447 968.242,791.822 968.573,791.196 968.904,790.569 969.236,789.94 969.567,789.31 969.898,788.678 970.229,788.045 970.56,787.411 970.892,786.775 971.223,786.138 971.554,785.5 971.885,784.86 972.216,784.219 972.547,783.577 972.879,782.934 973.21,782.289 973.541,781.643 973.872,780.996 974.203,780.348 974.534,779.698 974.866,779.048 975.197,778.396 975.528,777.743 975.859,777.089 976.19,776.434 976.521,775.777 976.853,775.12 977.184,774.461 977.515,773.802 977.846,773.141 978.177,772.48 978.508,771.817 978.84,771.153 979.171,770.489 979.502,769.823 979.833,769.156 980.164,768.489 980.495,767.82 980.827,767.151 981.158,766.48 981.489,765.809 981.82,765.137 982.151,764.464 982.482,763.79 982.814,763.115 983.145,762.439 983.476,761.762 983.807,761.085 984.138,760.407 984.469,759.728 984.801,759.048 985.132,758.367 985.463,757.686 985.794,757.003 986.125,756.321 986.456,755.637 986.788,754.952 987.119,754.267 987.45,753.581 987.781,752.895 988.112,752.208 988.443,751.52 988.775,750.831 989.106,750.142 989.437,749.452 989.768,748.761 990.099,748.07 990.43,747.379 990.762,746.686 991.093,745.993 991.424,745.3 991.755,744.606 992.086,743.911 992.418,743.216 992.749,742.52 993.08,741.823 993.411,741.127 993.742,740.429 994.073,739.731 994.405,739.033 994.736,738.334 995.067,737.635 995.398,736.935 995.729,736.235 996.06,735.534 996.392,734.833 996.723,734.131 997.054,733.429 997.385,732.726 997.716,732.024 998.047,731.32 998.379,730.617 998.71,729.913 999.041,729.208 999.372,728.503 999.703,727.798 1000.03,727.093 1000.37,726.387 1000.7,725.681 1001.03,724.974 1001.36,724.267 1001.69,723.56 1002.02,722.853 1002.35,722.145 1002.68,721.437 1003.01,720.729 1003.35,720.02 1003.68,719.312 1004.01,718.603 1004.34,717.893 1004.67,717.184 1005,716.474 1005.33,715.764 1005.66,715.054 1006,714.343 1006.33,713.633 1006.66,712.922 1006.99,712.211 1007.32,711.5 1007.65,710.789 1007.98,710.077 1008.31,709.365 1008.64,708.654 1008.98,707.942 1009.31,707.23 1009.64,706.517 1009.97,705.805 1010.3,705.093 1010.63,704.38 1010.96,703.667 1011.29,702.955 1011.63,702.242 1011.96,701.529 1012.29,700.816 1012.62,700.103 1012.95,699.39 1013.28,698.676 1013.61,697.963 1013.94,697.25 1014.27,696.536 1014.61,695.823 1014.94,695.11 1015.27,694.396 1015.6,693.683 1015.93,692.969 1016.26,692.256 1016.59,691.542 1016.92,690.829 1017.26,690.115 1017.59,689.402 1017.92,688.688 1018.25,687.975 1018.58,687.262 1018.91,686.548 1019.24,685.835 1019.57,685.122 1019.9,684.409 1020.24,683.696 1020.57,682.982 1020.9,682.269 1021.23,681.557 1021.56,680.844 1021.89,680.131 1022.22,679.418 1022.55,678.706 1022.89,677.993 1023.22,677.281 1023.55,676.569 1023.88,675.857 1024.21,675.145 1024.54,674.433 1024.87,673.721 1025.2,673.009 1025.53,672.298 1025.87,671.587 1026.2,670.875 1026.53,670.164 1026.86,669.454 1027.19,668.743 1027.52,668.032 1027.85,667.322 1028.18,666.612 1028.51,665.902 1028.85,665.192 1029.18,664.482 1029.51,663.773 1029.84,663.063 1030.17,662.354 1030.5,661.645 1030.83,660.937 1031.16,660.228 1031.5,659.52 1031.83,658.812 1032.16,658.104 1032.49,657.397 1032.82,656.689 1033.15,655.982 1033.48,655.275 1033.81,654.569 1034.14,653.862 1034.48,653.156 1034.81,652.45 1035.14,651.745 1035.47,651.039 1035.8,650.334 1036.13,649.629 1036.46,648.925 1036.79,648.22 1037.13,647.516 1037.46,646.813 1037.79,646.109 1038.12,645.406 1038.45,644.703 1038.78,644.001 1039.11,643.298 1039.44,642.596 1039.77,641.895 1040.11,641.193 1040.44,640.492 1040.77,639.791 1041.1,639.091 1041.43,638.391 1041.76,637.691 1042.09,636.992 1042.42,636.292 1042.76,635.594 1043.09,634.895 1043.42,634.197 1043.75,633.499 1044.08,632.802 1044.41,632.104 1044.74,631.408 1045.07,630.711 1045.4,630.015 1045.74,629.319 1046.07,628.624 1046.4,627.929 1046.73,627.234 1047.06,626.54 1047.39,625.846 1047.72,625.152 1048.05,624.459 1048.39,623.766 1048.72,623.074 1049.05,622.382 1049.38,621.69 1049.71,620.999 1050.04,620.308 1050.37,619.617 1050.7,618.927 1051.03,618.238 1051.37,617.548 1051.7,616.859 1052.03,616.171 1052.36,615.483 1052.69,614.795 1053.02,614.108 1053.35,613.421 1053.68,612.734 1054.01,612.048 1054.35,611.362 1054.68,610.677 1055.01,609.992 1055.34,609.308 1055.67,608.624 1056,607.94 1056.33,607.257 1056.66,606.574 1057,605.892 1057.33,605.21 1057.66,604.529 1057.99,603.848 1058.32,603.167 1058.65,602.487 1058.98,601.807 1059.31,601.128 1059.64,600.449 1059.98,599.771 1060.31,599.093 1060.64,598.416 1060.97,597.739 1061.3,597.062 1061.63,596.386 1061.96,595.711 1062.29,595.035 1062.63,594.361 1062.96,593.686 1063.29,593.013 1063.62,592.339 1063.95,591.667 1064.28,590.994 1064.61,590.322 1064.94,589.651 1065.27,588.98 1065.61,588.309 1065.94,587.639 1066.27,586.97 1066.6,586.301 1066.93,585.632 1067.26,584.964 1067.59,584.296 1067.92,583.629 1068.26,582.962 1068.59,582.296 1068.92,581.631 1069.25,580.965 1069.58,580.301 1069.91,579.636 1070.24,578.973 1070.57,578.309 1070.9,577.647 1071.24,576.984 1071.57,576.323 1071.9,575.661 1072.23,575.001 1072.56,574.34 1072.89,573.68 1073.22,573.021 1073.55,572.362 1073.89,571.704 1074.22,571.046 1074.55,570.389 1074.88,569.732 1075.21,569.076 1075.54,568.42 1075.87,567.765 1076.2,567.11 1076.53,566.456 1076.87,565.803 1077.2,565.149 1077.53,564.497 1077.86,563.845 1078.19,563.193 1078.52,562.542 1078.85,561.891 1079.18,561.241 1079.52,560.592 1079.85,559.942 1080.18,559.294 1080.51,558.646 1080.84,557.998 1081.17,557.351 1081.5,556.705 1081.83,556.059 1082.16,555.414 1082.5,554.769 1082.83,554.124 1083.16,553.481 1083.49,552.837 1083.82,552.195 1084.15,551.552 1084.48,550.911 1084.81,550.27 1085.14,549.629 1085.48,548.989 1085.81,548.349 1086.14,547.71 1086.47,547.072 1086.8,546.434 1087.13,545.796 1087.46,545.159 1087.79,544.523 1088.13,543.887 1088.46,543.252 1088.79,542.617 1089.12,541.983 1089.45,541.349 1089.78,540.716 1090.11,540.083 1090.44,539.451 1090.77,538.82 1091.11,538.189 1091.44,537.558 1091.77,536.928 1092.1,536.299 1092.43,535.67 1092.76,535.042 1093.09,534.414 1093.42,533.787 1093.76,533.16 1094.09,532.534 1094.42,531.909 1094.75,531.284 1095.08,530.659 1095.41,530.035 1095.74,529.412 1096.07,528.789 1096.4,528.167 1096.74,527.545 1097.07,526.924 1097.4,526.303 1097.73,525.683 1098.06,525.064 1098.39,524.445 1098.72,523.826 1099.05,523.208 1099.39,522.591 1099.72,521.974 1100.05,521.358 1100.38,520.742 1100.71,520.127 1101.04,519.512 1101.37,518.898 1101.7,518.285 1102.03,517.672 1102.37,517.059 1102.7,516.447 1103.03,515.836 1103.36,515.225 1103.69,514.615 1104.02,514.006 1104.35,513.396 1104.68,512.788 1105.02,512.18 1105.35,511.572 1105.68,510.966 1106.01,510.359 1106.34,509.753 1106.67,509.148 1107,508.544 1107.33,507.939 1107.66,507.336 1108,506.733 1108.33,506.13 1108.66,505.528 1108.99,504.927 1109.32,504.326 1109.65,503.726 1109.98,503.126 1110.31,502.527 1110.64,501.929 1110.98,501.331 1111.31,500.733 1111.64,500.136 1111.97,499.54 1112.3,498.944 1112.63,498.349 1112.96,497.754 1113.29,497.16 1113.63,496.566 1113.96,495.973 1114.29,495.381 1114.62,494.789 1114.95,494.197 1115.28,493.606 1115.61,493.016 1115.94,492.426 1116.27,491.837 1116.61,491.249 1116.94,490.661 1117.27,490.073 1117.6,489.486 1117.93,488.9 1118.26,488.314 1118.59,487.728 1118.92,487.144 1119.26,486.559 1119.59,485.976 1119.92,485.393 1120.25,484.81 1120.58,484.228 1120.91,483.647 1121.24,483.066 1121.57,482.485 1121.9,481.906 1122.24,481.326 1122.57,480.748 1122.9,480.17 1123.23,479.592 1123.56,479.015 1123.89,478.438 1124.22,477.862 1124.55,477.287 1124.89,476.712 1125.22,476.138 1125.55,475.564 1125.88,474.991 1126.21,474.418 1126.54,473.846 1126.87,473.275 1127.2,472.704 1127.53,472.133 1127.87,471.563 1128.2,470.994 1128.53,470.425 1128.86,469.857 1129.19,469.289 1129.52,468.722 1129.85,468.155 1130.18,467.589 1130.52,467.024 1130.85,466.459 1131.18,465.894 1131.51,465.331 1131.84,464.767 1132.17,464.204 1132.5,463.642 1132.83,463.081 1133.16,462.519 1133.5,461.959 1133.83,461.399 1134.16,460.839 1134.49,460.28 1134.82,459.722 1135.15,459.164 1135.48,458.606 1135.81,458.05 1136.14,457.493 1136.48,456.938 1136.81,456.382 1137.14,455.828 1137.47,455.274 1137.8,454.72 1138.13,454.167 1138.46,453.615 1138.79,453.063 1139.13,452.511 1139.46,451.96 1139.79,451.41 1140.12,450.86 1140.45,450.311 1140.78,449.762 1141.11,449.214 1141.44,448.667 1141.77,448.119 1142.11,447.573 1142.44,447.027 1142.77,446.481 1143.1,445.936 1143.43,445.392 1143.76,444.848 1144.09,444.305 1144.42,443.762 1144.76,443.22 1145.09,442.678 1145.42,442.137 1145.75,441.596 1146.08,441.056 1146.41,440.516 1146.74,439.977 1147.07,439.439 1147.4,438.9 1147.74,438.363 1148.07,437.826 1148.4,437.29 1148.73,436.754 1149.06,436.218 1149.39,435.683 1149.72,435.149 1150.05,434.615 1150.39,434.082 1150.72,433.549 1151.05,433.017 1151.38,432.485 1151.71,431.954 1152.04,431.424 1152.37,430.893 1152.7,430.364 1153.03,429.835 1153.37,429.306 1153.7,428.778 1154.03,428.251 1154.36,427.724 1154.69,427.197 1155.02,426.671 1155.35,426.146 1155.68,425.621 1156.02,425.097 1156.35,424.573 1156.68,424.05 1157.01,423.527 1157.34,423.005 1157.67,422.483 1158,421.962 1158.33,421.441 1158.66,420.921 1159,420.401 1159.33,419.882 1159.66,419.363 1159.99,418.845 1160.32,418.327 1160.65,417.81 1160.98,417.294 1161.31,416.778 1161.65,416.262 1161.98,415.747 1162.31,415.232 1162.64,414.718 1162.97,414.205 1163.3,413.692 1163.63,413.179 1163.96,412.667 1164.29,412.156 1164.63,411.645 1164.96,411.134 1165.29,410.624 1165.62,410.115 1165.95,409.606 1166.28,409.098 1166.61,408.59 1166.94,408.082 1167.27,407.575 1167.61,407.069 1167.94,406.563 1168.27,406.058 1168.6,405.553 1168.93,405.048 1169.26,404.545 1169.59,404.041 1169.92,403.538 1170.26,403.036 1170.59,402.534 1170.92,402.033 1171.25,401.532 1171.58,401.031 1171.91,400.532 1172.24,400.032 1172.57,399.533 1172.9,399.035 1173.24,398.537 1173.57,398.04 1173.9,397.543 1174.23,397.046 1174.56,396.551 1174.89,396.055 1175.22,395.56 1175.55,395.066 1175.89,394.572 1176.22,394.078 1176.55,393.586 1176.88,393.093 1177.21,392.601 1177.54,392.11 1177.87,391.619 1178.2,391.128 1178.53,390.638 1178.87,390.149 1179.2,389.66 1179.53,389.171 1179.86,388.683 1180.19,388.196 1180.52,387.709 1180.85,387.222 1181.18,386.736 1181.52,386.251 1181.85,385.765 1182.18,385.281 1182.51,384.797 1182.84,384.313 1183.17,383.83 1183.5,383.347 1183.83,382.865 1184.16,382.383 1184.5,381.902 1184.83,381.421 1185.16,380.941 1185.49,380.461 1185.82,379.982 1186.15,379.503 1186.48,379.025 1186.81,378.547 1187.15,378.069 1187.48,377.592 1187.81,377.116 1188.14,376.64 1188.47,376.165 1188.8,375.689 1189.13,375.215 1189.46,374.741 1189.79,374.267 1190.13,373.794 1190.46,373.321 1190.79,372.849 1191.12,372.378 1191.45,371.906 1191.78,371.436 1192.11,370.965 1192.44,370.495 1192.77,370.026 1193.11,369.557 1193.44,369.089 1193.77,368.621 1194.1,368.153 1194.43,367.686 1194.76,367.22 1195.09,366.754 1195.42,366.288 1195.76,365.823 1196.09,365.358 1196.42,364.894 1196.75,364.43 1197.08,363.967 1197.41,363.504 1197.74,363.042 1198.07,362.58 1198.4,362.118 1198.74,361.657 1199.07,361.197 1199.4,360.737 1199.73,360.277 1200.06,359.818 1200.39,359.359 1200.72,358.901 1201.05,358.443 1201.39,357.986 1201.72,357.529 1202.05,357.072 1202.38,356.616 1202.71,356.161 1203.04,355.706 1203.37,355.251 1203.7,354.797 1204.03,354.343 1204.37,353.89 1204.7,353.437 1205.03,352.985 1205.36,352.533 1205.69,352.082 1206.02,351.631 1206.35,351.18 1206.68,350.73 1207.02,350.28 1207.35,349.831 1207.68,349.382 1208.01,348.934 1208.34,348.486 1208.67,348.039 1209,347.592 1209.33,347.145 1209.66,346.699 1210,346.253 1210.33,345.808 1210.66,345.363 1210.99,344.919 1211.32,344.475 1211.65,344.032 1211.98,343.589 1212.31,343.146 1212.65,342.704 1212.98,342.262 1213.31,341.821 1213.64,341.38 1213.97,340.94 1214.3,340.5 1214.63,340.061 1214.96,339.621 1215.29,339.183 1215.63,338.745 1215.96,338.307 1216.29,337.87 1216.62,337.433 1216.95,336.996 1217.28,336.56 1217.61,336.125 1217.94,335.689 1218.27,335.255 1218.61,334.82 1218.94,334.387 1219.27,333.953 1219.6,333.52 1219.93,333.087 1220.26,332.655 1220.59,332.224 1220.92,331.792 1221.26,331.361 1221.59,330.931 1221.92,330.501 1222.25,330.071 1222.58,329.642 1222.91,329.213 1223.24,328.785 1223.57,328.357 1223.9,327.93 1224.24,327.503 1224.57,327.076 1224.9,326.65 1225.23,326.224 1225.56,325.799 1225.89,325.374 1226.22,324.949 1226.55,324.525 1226.89,324.101 1227.22,323.678 1227.55,323.255 1227.88,322.833 1228.21,322.411 1228.54,321.989 1228.87,321.568 1229.2,321.147 1229.53,320.727 1229.87,320.307 1230.2,319.887 1230.53,319.468 1230.86,319.049 1231.19,318.631 1231.52,318.213 1231.85,317.795 1232.18,317.378 1232.52,316.962 1232.85,316.545 1233.18,316.129 1233.51,315.714 1233.84,315.299 1234.17,314.884 1234.5,314.47 1234.83,314.056 1235.16,313.643 1235.5,313.23 1235.83,312.817 1236.16,312.405 1236.49,311.993 1236.82,311.582 1237.15,311.171 1237.48,310.76 1237.81,310.35 1238.15,309.94 1238.48,309.531 1238.81,309.122 1239.14,308.713 1239.47,308.305 1239.8,307.897 1240.13,307.49 1240.46,307.083 1240.79,306.676 1241.13,306.27 1241.46,305.864 1241.79,305.459 1242.12,305.054 1242.45,304.649 1242.78,304.245 1243.11,303.841 1243.44,303.438 1243.77,303.035 1244.11,302.632 1244.44,302.23 1244.77,301.828 1245.1,301.427 1245.43,301.026 1245.76,300.625 1246.09,300.225 1246.42,299.825 1246.76,299.425 1247.09,299.026 1247.42,298.627 1247.75,298.229 1248.08,297.831 1248.41,297.433 1248.74,297.036 1249.07,296.639 1249.4,296.243 1249.74,295.847 1250.07,295.451 1250.4,295.056 1250.73,294.661 1251.06,294.267 1251.39,293.872 1251.72,293.479 1252.05,293.085 1252.39,292.692 1252.72,292.3 1253.05,291.908 1253.38,291.516 1253.71,291.124 1254.04,290.733 1254.37,290.342 1254.7,289.952 1255.03,289.562 1255.37,289.173 1255.7,288.783 1256.03,288.395 1256.36,288.006 1256.69,287.618 1257.02,287.23 1257.35,286.843 1257.68,286.456 1258.02,286.07 1258.35,285.683 1258.68,285.298 1259.01,284.912 1259.34,284.527 1259.67,284.142 1260,283.758 1260.33,283.374 1260.66,282.99 1261,282.607 1261.33,282.224 1261.66,281.842 1261.99,281.46 1262.32,281.078 1262.65,280.697 1262.98,280.316 1263.31,279.935 1263.65,279.555 1263.98,279.175 1264.31,278.795 1264.64,278.416 1264.97,278.037 1265.3,277.659 1265.63,277.281 1265.96,276.903 1266.29,276.525 1266.63,276.148 1266.96,275.772 1267.29,275.395 1267.62,275.02 1267.95,274.644 1268.28,274.269 1268.61,273.894 1268.94,273.519 1269.28,273.145 1269.61,272.771 1269.94,272.398 1270.27,272.025 1270.6,271.652 1270.93,271.28 1271.26,270.908 1271.59,270.536 1271.92,270.165 1272.26,269.794 1272.59,269.423 1272.92,269.053 1273.25,268.683 1273.58,268.314 1273.91,267.945 1274.24,267.576 1274.57,267.207 1274.9,266.839 1275.24,266.471 1275.57,266.104 1275.9,265.737 1276.23,265.37 1276.56,265.004 1276.89,264.638 1277.22,264.272 1277.55,263.907 1277.89,263.542 1278.22,263.177 1278.55,262.813 1278.88,262.449 1279.21,262.085 1279.54,261.722 1279.87,261.359 1280.2,260.997 1280.53,260.634 1280.87,260.272 1281.2,259.911 1281.53,259.55 1281.86,259.189 1282.19,258.828 1282.52,258.468 1282.85,258.108 1283.18,257.749 1283.52,257.39 1283.85,257.031 1284.18,256.672 1284.51,256.314 1284.84,255.956 1285.17,255.599 1285.5,255.242 1285.83,254.885 1286.16,254.529 1286.5,254.172 1286.83,253.817 1287.16,253.461 1287.49,253.106 1287.82,252.751 1288.15,252.397 1288.48,252.043 1288.81,251.689 1289.15,251.336 1289.48,250.982 1289.81,250.63 1290.14,250.277 1290.47,249.925 1290.8,249.573 1291.13,249.222 1291.46,248.871 1291.79,248.52 1292.13,248.169 1292.46,247.819 1292.79,247.469 1293.12,247.12 1293.45,246.771 1293.78,246.422 1294.11,246.074 1294.44,245.725 1294.78,245.377 1295.11,245.03 1295.44,244.683 1295.77,244.336 1296.1,243.989 1296.43,243.643 1296.76,243.297 1297.09,242.952 1297.42,242.606 1297.76,242.261 1298.09,241.917 1298.42,241.572 1298.75,241.228 1299.08,240.885 1299.41,240.541 1299.74,240.198 1300.07,239.856 1300.4,239.513 1300.74,239.171 1301.07,238.83 1301.4,238.488 1301.73,238.147 1302.06,237.806 1302.39,237.466 1302.72,237.126 1303.05,236.786 1303.39,236.446 1303.72,236.107 1304.05,235.768 1304.38,235.43 1304.71,235.091 1305.04,234.753 1305.37,234.416 1305.7,234.078 1306.03,233.741 1306.37,233.405 1306.7,233.068 1307.03,232.732 1307.36,232.396 1307.69,232.061 1308.02,231.726 1308.35,231.391 1308.68,231.056 1309.02,230.722 1309.35,230.388 1309.68,230.055 1310.01,229.721 1310.34,229.388 1310.67,229.056 1311,228.723 1311.33,228.391 1311.66,228.059 1312,227.728 1312.33,227.397 1312.66,227.066 1312.99,226.735 1313.32,226.405 1313.65,226.075 1313.98,225.745 1314.31,225.416 1314.65,225.087 1314.98,224.758 1315.31,224.43 1315.64,224.102 1315.97,223.774 1316.3,223.446 1316.63,223.119 1316.96,222.792 1317.29,222.466 1317.63,222.139 1317.96,221.813 1318.29,221.488 1318.62,221.162 1318.95,220.837 1319.28,220.512 1319.61,220.188 1319.94,219.863 1320.28,219.539 1320.61,219.216 1320.94,218.892 1321.27,218.569 1321.6,218.246 1321.93,217.924 1322.26,217.602 1322.59,217.28 1322.92,216.958 1323.26,216.637 1323.59,216.316 1323.92,215.995 1324.25,215.675 1324.58,215.355 1324.91,215.035 1325.24,214.715 1325.57,214.396 1325.9,214.077 1326.24,213.758 1326.57,213.44 1326.9,213.122 1327.23,212.804 1327.56,212.486 1327.89,212.169 1328.22,211.852 1328.55,211.536 1328.89,211.219 1329.22,210.903 1329.55,210.587 1329.88,210.272 1330.21,209.957 1330.54,209.642 1330.87,209.327 1331.2,209.013 1331.53,208.698 1331.87,208.385 1332.2,208.071 1332.53,207.758 1332.86,207.445 1333.19,207.132 1333.52,206.82 1333.85,206.508 1334.18,206.196 1334.52,205.884 1334.85,205.573 1335.18,205.262 1335.51,204.951 1335.84,204.641 1336.17,204.331 1336.5,204.021 1336.83,203.711 1337.16,203.402 1337.5,203.093 1337.83,202.784 1338.16,202.475 1338.49,202.167 1338.82,201.859 1339.15,201.552 1339.48,201.244 1339.81,200.937 1340.15,200.63 1340.48,200.324 1340.81,200.017 1341.14,199.711 1341.47,199.406 1341.8,199.1 1342.13,198.795 1342.46,198.49 1342.79,198.185 1343.13,197.881 1343.46,197.577 1343.79,197.273 1344.12,196.969 1344.45,196.666 1344.78,196.363 1345.11,196.06 1345.44,195.758 1345.78,195.456 1346.11,195.154 1346.44,194.852 1346.77,194.551 1347.1,194.249 1347.43,193.949 1347.76,193.648 1348.09,193.348 1348.42,193.048 1348.76,192.748 1349.09,192.448 1349.42,192.149 1349.75,191.85 1350.08,191.551 1350.41,191.253 1350.74,190.954 1351.07,190.656 1351.4,190.359 1351.74,190.061 1352.07,189.764 1352.4,189.467 1352.73,189.171 1353.06,188.874 1353.39,188.578 1353.72,188.282 1354.05,187.987 1354.39,187.691 1354.72,187.396 1355.05,187.101 1355.38,186.807 1355.71,186.513 1356.04,186.219 1356.37,185.925 1356.7,185.631 1357.03,185.338 1357.37,185.045 1357.7,184.752 1358.03,184.46 1358.36,184.168 1358.69,183.876 1359.02,183.584 1359.35,183.292 1359.68,183.001 1360.02,182.71 1360.35,182.42 1360.68,182.129 1361.01,181.839 1361.34,181.549 1361.67,181.259 1362,180.97 1362.33,180.681 1362.66,180.392 1363,180.103 1363.33,179.815 1363.66,179.527 1363.99,179.239 1364.32,178.951 1364.65,178.664 1364.98,178.377 1365.31,178.09 1365.65,177.803 1365.98,177.517 1366.31,177.23 1366.64,176.945 1366.97,176.659 1367.3,176.374 1367.63,176.088 1367.96,175.803 1368.29,175.519 1368.63,175.234 1368.96,174.95 1369.29,174.666 1369.62,174.383 1369.95,174.099 1370.28,173.816 1370.61,173.533 1370.94,173.25 1371.28,172.968 1371.61,172.686 1371.94,172.404 1372.27,172.122 1372.6,171.841 1372.93,171.559 1373.26,171.278 1373.59,170.998 1373.92,170.717 1374.26,170.437 1374.59,170.157 1374.92,169.877 1375.25,169.598 1375.58,169.318 1375.91,169.039 1376.24,168.761 1376.57,168.482 1376.91,168.204 1377.24,167.926 1377.57,167.648 1377.9,167.37 1378.23,167.093 1378.56,166.816 1378.89,166.539 1379.22,166.262 1379.55,165.986 1379.89,165.71 1380.22,165.434 1380.55,165.158 1380.88,164.883 1381.21,164.607 1381.54,164.332 1381.87,164.058 1382.2,163.783 1382.53,163.509 1382.87,163.235 1383.2,162.961 1383.53,162.687 1383.86,162.414 1384.19,162.141 1384.52,161.868 1384.85,161.595 1385.18,161.323 1385.52,161.051 1385.85,160.779 1386.18,160.507 1386.51,160.236 1386.84,159.965 1387.17,159.694 1387.5,159.423 1387.83,159.152 1388.16,158.882 1388.5,158.612 1388.83,158.342 1389.16,158.072 1389.49,157.803 1389.82,157.534 1390.15,157.265 1390.48,156.996 1390.81,156.728 1391.15,156.459 1391.48,156.191 1391.81,155.924 1392.14,155.656 1392.47,155.389 1392.8,155.122 1393.13,154.855 1393.46,154.588 1393.79,154.322 1394.13,154.055 1394.46,153.789 1394.79,153.524 1395.12,153.258 1395.45,152.993 1395.78,152.728 1396.11,152.463 1396.44,152.198 1396.78,151.934 1397.11,151.67 1397.44,151.406 1397.77,151.142 1398.1,150.878 1398.43,150.615 1398.76,150.352 1399.09,150.089 1399.42,149.826 1399.76,149.564 1400.09,149.302 1400.42,149.04 1400.75,148.778 1401.08,148.517 1401.41,148.255 1401.74,147.994 1402.07,147.733 1402.41,147.473 1402.74,147.212 1403.07,146.952 1403.4,146.692 1403.73,146.432 1404.06,146.173 1404.39,145.913 1404.72,145.654 1405.05,145.395 1405.39,145.137 1405.72,144.878 1406.05,144.62 1406.38,144.362 1406.71,144.104 1407.04,143.846 1407.37,143.589 1407.7,143.332 1408.03,143.075 1408.37,142.818 1408.7,142.562 1409.03,142.305 1409.36,142.049 1409.69,141.793 1410.02,141.538 1410.35,141.282 1410.68,141.027 1411.02,140.772 1411.35,140.517 1411.68,140.262 1412.01,140.008 1412.34,139.754 1412.67,139.5 1413,139.246 1413.33,138.992 1413.66,138.739 1414,138.486 1414.33,138.233 1414.66,137.98 1414.99,137.728 1415.32,137.475 1415.65,137.223 1415.98,136.971 1416.31,136.72 1416.65,136.468 1416.98,136.217 1417.31,135.966 1417.64,135.715 1417.97,135.465 1418.3,135.214 1418.63,134.964 1418.96,134.714 1419.29,134.464 1419.63,134.214 1419.96,133.965 1420.29,133.716 1420.62,133.467 1420.95,133.218 1421.28,132.969 1421.61,132.721 1421.94,132.473 1422.28,132.225 1422.61,131.977 1422.94,131.73 1423.27,131.482 1423.6,131.235 1423.93,130.988 1424.26,130.741 1424.59,130.495 1424.92,130.249 1425.26,130.002 1425.59,129.757 1425.92,129.511 1426.25,129.265 1426.58,129.02 1426.91,128.775 1427.24,128.53 1427.57,128.285 1427.91,128.041 1428.24,127.796 1428.57,127.552 1428.9,127.308 1429.23,127.064 1429.56,126.821 1429.89,126.578 1430.22,126.334 1430.55,126.092 1430.89,125.849 1431.22,125.606 1431.55,125.364 1431.88,125.122 1432.21,124.88 1432.54,124.638 1432.87,124.397 1433.2,124.155 1433.53,123.914 1433.87,123.673 1434.2,123.432 1434.53,123.192 1434.86,122.951 1435.19,122.711 1435.52,122.471 1435.85,122.231 1436.18,121.992 1436.52,121.752 1436.85,121.513 1437.18,121.274 1437.51,121.035 1437.84,120.797 1438.17,120.558 1438.5,120.32 1438.83,120.082 1439.16,119.844 1439.5,119.606 1439.83,119.369 1440.16,119.132 1440.49,118.895 1440.82,118.658 1441.15,118.421 1441.48,118.185 1441.81,117.948 1442.15,117.712 1442.48,117.476 1442.81,117.24 1443.14,117.005 1443.47,116.769 1443.8,116.534 1444.13,116.299 1444.46,116.064 1444.79,115.83 1445.13,115.595 1445.46,115.361 1445.79,115.127 1446.12,114.893 1446.45,114.66 1446.78,114.426 1447.11,114.193 1447.44,113.96 1447.78,113.727 1448.11,113.494 1448.44,113.261 1448.77,113.029 1449.1,112.797 1449.43,112.565 1449.76,112.333 1450.09,112.101 1450.42,111.87 1450.76,111.639 1451.09,111.408 1451.42,111.177 1451.75,110.946 1452.08,110.716 1452.41,110.485 1452.74,110.255 1453.07,110.025 1453.41,109.795 1453.74,109.566 1454.07,109.336 1454.4,109.107 1454.73,108.878 1455.06,108.649 1455.39,108.42 1455.72,108.192 1456.05,107.964 1456.39,107.736 1456.72,107.508 1457.05,107.28 1457.38,107.052 1457.71,106.825 1458.04,106.598 1458.37,106.37 1458.7,106.144 1459.04,105.917 1459.37,105.69 1459.7,105.464 1460.03,105.238 1460.36,105.012 1460.69,104.786 1461.02,104.56 1461.35,104.335 1461.68,104.11 1462.02,103.885 1462.35,103.66 1462.68,103.435 1463.01,103.21 1463.34,102.986 1463.67,102.762 1464,102.538 1464.33,102.314 1464.66,102.09 1465,101.867 1465.33,101.643 1465.66,101.42 1465.99,101.197 1466.32,100.975 1466.65,100.752 1466.98,100.53 1467.31,100.307 1467.65,100.085 1467.98,99.8632 1468.31,99.6415 1468.64,99.4199 1468.97,99.1985 1469.3,98.9773 1469.63,98.7562 1469.96,98.5353 1470.29,98.3146 1470.63,98.0941 1470.96,97.8737 1471.29,97.6535 1471.62,97.4335 1471.95,97.2137 1472.28,96.994 1472.61,96.7745 1472.94,96.5552 1473.28,96.336 1473.61,96.117 1473.94,95.8982 1474.27,95.6796 1474.6,95.4611 1474.93,95.2428 1475.26,95.0247 1475.59,94.8067 1475.92,94.5889 1476.26,94.3713 1476.59,94.1538 1476.92,93.9365 1477.25,93.7194 1477.58,93.5025 1477.91,93.2857 1478.24,93.0691 1478.57,92.8526 1478.91,92.6364 1479.24,92.4202 1479.57,92.2043 1479.9,91.9885 1480.23,91.7729 1480.56,91.5575 1480.89,91.3422 1481.22,91.1271 1481.55,90.9122 1481.89,90.6974 1482.22,90.4828 1482.55,90.2684 1482.88,90.0541 1483.21,89.84 1483.54,89.626 1483.87,89.4123 1484.2,89.1986 1484.54,88.9852 1484.87,88.7719 1485.2,88.5588 1485.53,88.3458 1485.86,88.1331 1486.19,87.9204 1486.52,87.708 1486.85,87.4957 1487.18,87.2835 1487.52,87.0716 1487.85,86.8598 1488.18,86.6481 1488.51,86.4366 1488.84,86.2253 1489.17,86.0141 1489.5,85.8032 1489.83,85.5923 1490.16,85.3816 1490.5,85.1711 1490.83,84.9608 1491.16,84.7506 1491.49,84.5406 1491.82,84.3307 1492.15,84.121 1492.48,83.9115 1492.81,83.7021 1493.15,83.4929 1493.48,83.2838 1493.81,83.0749 1494.14,82.8661 1494.47,82.6576 1494.8,82.4491 1495.13,82.2409 1495.46,82.0328 1495.79,81.8248 1496.13,81.617 1496.46,81.4094 1496.79,81.2019 1497.12,80.9946 1497.45,80.7874 1497.78,80.5804 1498.11,80.3736 1498.44,80.1669 1498.78,79.9604 1499.11,79.754 1499.44,79.5478 1499.77,79.3418 1500.1,79.1359 1500.43,78.9301 1500.76,78.7245 1501.09,78.5191 1501.42,78.3138 1501.76,78.1087 1502.09,77.9037 1502.42,77.6989 1502.75,77.4943 1503.08,77.2898 1503.41,77.0854 1503.74,76.8812 1504.07,76.6772 1504.41,76.4733 1504.74,76.2696 1505.07,76.066 1505.4,75.8626 1505.73,75.6594 1506.06,75.4562 1506.39,75.2533 1506.72,75.0505 1507.05,74.8478 1507.39,74.6453 1507.72,74.443 1508.05,74.2408 1508.38,74.0388 1508.71,73.8369 1509.04,73.6351 1509.37,73.4335 1509.7,73.2321 1510.04,73.0308 1510.37,72.8297 1510.7,72.6287 1511.03,72.4279 1511.36,72.2272 1511.69,72.0267 1512.02,71.8263 1512.35,71.6261 1512.68,71.426 1513.02,71.2261 \"/>\n",
       "<path clip-path=\"url(#clip510)\" d=\"M693.386 179.17 L1007.97 179.17 L1007.97 75.4896 L693.386 75.4896  Z\" fill=\"#ffffff\" fill-rule=\"evenodd\" fill-opacity=\"1\"/>\n",
       "<polyline clip-path=\"url(#clip510)\" style=\"stroke:#000000; stroke-linecap:round; stroke-linejoin:round; stroke-width:4; stroke-opacity:1; fill:none\" points=\"693.386,179.17 1007.97,179.17 1007.97,75.4896 693.386,75.4896 693.386,179.17 \"/>\n",
       "<polyline clip-path=\"url(#clip510)\" style=\"stroke:#009af9; stroke-linecap:round; stroke-linejoin:round; stroke-width:4; stroke-opacity:1; fill:none\" points=\"708.988,127.33 802.599,127.33 \"/>\n",
       "<path clip-path=\"url(#clip510)\" d=\"M832.043 147.017 Q830.237 151.647 828.524 153.059 Q826.811 154.471 823.941 154.471 L820.538 154.471 L820.538 150.906 L823.038 150.906 Q824.798 150.906 825.77 150.072 Q826.742 149.239 827.923 146.137 L828.686 144.193 L818.2 118.684 L822.714 118.684 L830.816 138.961 L838.918 118.684 L843.432 118.684 L832.043 147.017 Z\" fill=\"#000000\" fill-rule=\"nonzero\" fill-opacity=\"1\" /><path clip-path=\"url(#clip510)\" d=\"M864.936 123.082 L894.612 123.082 L894.612 126.971 L864.936 126.971 L864.936 123.082 M864.936 132.526 L894.612 132.526 L894.612 136.461 L864.936 136.461 L864.936 132.526 Z\" fill=\"#000000\" fill-rule=\"nonzero\" fill-opacity=\"1\" /><path clip-path=\"url(#clip510)\" d=\"M932.297 108.591 L932.297 112.133 L928.223 112.133 Q925.931 112.133 925.028 113.059 Q924.149 113.985 924.149 116.392 L924.149 118.684 L931.163 118.684 L931.163 121.994 L924.149 121.994 L924.149 144.61 L919.866 144.61 L919.866 121.994 L915.792 121.994 L915.792 118.684 L919.866 118.684 L919.866 116.878 Q919.866 112.55 921.88 110.582 Q923.894 108.591 928.269 108.591 L932.297 108.591 Z\" fill=\"#000000\" fill-rule=\"nonzero\" fill-opacity=\"1\" /><path clip-path=\"url(#clip510)\" d=\"M946.093 108.638 Q942.991 113.962 941.487 119.17 Q939.982 124.378 939.982 129.725 Q939.982 135.073 941.487 140.327 Q943.014 145.559 946.093 150.86 L942.389 150.86 Q938.917 145.42 937.181 140.165 Q935.468 134.911 935.468 129.725 Q935.468 124.563 937.181 119.332 Q938.894 114.1 942.389 108.638 L946.093 108.638 Z\" fill=\"#000000\" fill-rule=\"nonzero\" fill-opacity=\"1\" /><path clip-path=\"url(#clip510)\" d=\"M975.908 118.684 L966.533 131.299 L976.394 144.61 L971.371 144.61 L963.825 134.424 L956.278 144.61 L951.255 144.61 L961.325 131.045 L952.112 118.684 L957.135 118.684 L964.01 127.92 L970.885 118.684 L975.908 118.684 Z\" fill=\"#000000\" fill-rule=\"nonzero\" fill-opacity=\"1\" /><path clip-path=\"url(#clip510)\" d=\"M981.741 108.638 L985.445 108.638 Q988.917 114.1 990.63 119.332 Q992.366 124.563 992.366 129.725 Q992.366 134.911 990.63 140.165 Q988.917 145.42 985.445 150.86 L981.741 150.86 Q984.82 145.559 986.324 140.327 Q987.852 135.073 987.852 129.725 Q987.852 124.378 986.324 119.17 Q984.82 113.962 981.741 108.638 Z\" fill=\"#000000\" fill-rule=\"nonzero\" fill-opacity=\"1\" /></svg>\n"
      ],
      "text/html": [
       "<img src=\"data:image/png;base64,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\" />"
      ]
     },
     "execution_count": 17,
     "metadata": {},
     "output_type": "execute_result"
    }
   ],
   "source": [
    "f(x) = x == 0 ? zero(x) : exp(-1/abs(x))\n",
    "x = -2:0.001:2\n",
    "plot(x, f.(x), label=\"y = f(x)\", size=(400,250), legend=:top)"
   ]
  },
  {
   "cell_type": "markdown",
   "metadata": {},
   "source": [
    "### コンピューターを用いた計算例\n",
    "\n",
    "私が個人的に知る限りの範囲内では, 手計算もきちんとできる人の方がコンピューターを上手に使っている場合が多い. おそらく, その人自身がコンピューターを頼らなくてもある程度の計算ができるおかげで, コンピューターを使った人間には不可能な計算の価値をよく理解できるからなのだろう."
   ]
  },
  {
   "cell_type": "code",
   "execution_count": 18,
   "metadata": {},
   "outputs": [
    {
     "data": {
      "text/latex": [
       "$\\displaystyle 1 + x + \\frac{x^{2}}{2} + \\frac{x^{3}}{6} + \\frac{x^{4}}{24} + \\frac{x^{5}}{120} + \\frac{x^{6}}{720} + \\frac{x^{7}}{5040} + \\frac{x^{8}}{40320} + \\frac{x^{9}}{362880} + O\\left(x^{10}\\right)$\n"
      ],
      "text/plain": [
       "         2    3    4     5     6     7       8       9           \n",
       "        x    x    x     x     x     x       x       x       / 10\\\n",
       "1 + x + -- + -- + -- + --- + --- + ---- + ----- + ------ + O\\x  /\n",
       "        2    6    24   120   720   5040   40320   362880         "
      ]
     },
     "execution_count": 18,
     "metadata": {},
     "output_type": "execute_result"
    }
   ],
   "source": [
    "x = symbols(\"x\")\n",
    "series(e^x, n=10)"
   ]
  },
  {
   "cell_type": "code",
   "execution_count": 19,
   "metadata": {},
   "outputs": [
    {
     "data": {
      "text/latex": [
       "$\\displaystyle 1 - \\frac{x^{2}}{2} + \\frac{x^{4}}{24} - \\frac{x^{6}}{720} + \\frac{x^{8}}{40320} + O\\left(x^{10}\\right)$\n"
      ],
      "text/plain": [
       "     2    4     6      8          \n",
       "    x    x     x      x      / 10\\\n",
       "1 - -- + -- - --- + ----- + O\\x  /\n",
       "    2    24   720   40320         "
      ]
     },
     "execution_count": 19,
     "metadata": {},
     "output_type": "execute_result"
    }
   ],
   "source": [
    "series(cos(x), n=10)"
   ]
  },
  {
   "cell_type": "code",
   "execution_count": 20,
   "metadata": {},
   "outputs": [
    {
     "data": {
      "text/latex": [
       "$\\displaystyle x - \\frac{x^{3}}{6} + \\frac{x^{5}}{120} - \\frac{x^{7}}{5040} + \\frac{x^{9}}{362880} + O\\left(x^{10}\\right)$\n"
      ],
      "text/plain": [
       "     3     5     7       9           \n",
       "    x     x     x       x       / 10\\\n",
       "x - -- + --- - ---- + ------ + O\\x  /\n",
       "    6    120   5040   362880         "
      ]
     },
     "execution_count": 20,
     "metadata": {},
     "output_type": "execute_result"
    }
   ],
   "source": [
    "series(sin(x), n=10)"
   ]
  },
  {
   "cell_type": "code",
   "execution_count": 21,
   "metadata": {},
   "outputs": [
    {
     "data": {
      "text/latex": [
       "$\\displaystyle 1 + \\frac{x^{2}}{2} + \\frac{x^{4}}{24} + \\frac{x^{6}}{720} + \\frac{x^{8}}{40320} + O\\left(x^{10}\\right)$\n"
      ],
      "text/plain": [
       "     2    4     6      8          \n",
       "    x    x     x      x      / 10\\\n",
       "1 + -- + -- + --- + ----- + O\\x  /\n",
       "    2    24   720   40320         "
      ]
     },
     "execution_count": 21,
     "metadata": {},
     "output_type": "execute_result"
    }
   ],
   "source": [
    "series(cosh(x), n=10)"
   ]
  },
  {
   "cell_type": "code",
   "execution_count": 22,
   "metadata": {},
   "outputs": [
    {
     "data": {
      "text/latex": [
       "$\\displaystyle x + \\frac{x^{3}}{6} + \\frac{x^{5}}{120} + \\frac{x^{7}}{5040} + \\frac{x^{9}}{362880} + O\\left(x^{10}\\right)$\n"
      ],
      "text/plain": [
       "     3     5     7       9           \n",
       "    x     x     x       x       / 10\\\n",
       "x + -- + --- + ---- + ------ + O\\x  /\n",
       "    6    120   5040   362880         "
      ]
     },
     "execution_count": 22,
     "metadata": {},
     "output_type": "execute_result"
    }
   ],
   "source": [
    "series(sinh(x), n=10)"
   ]
  },
  {
   "cell_type": "code",
   "execution_count": 23,
   "metadata": {},
   "outputs": [
    {
     "data": {
      "text/latex": [
       "$\\displaystyle x - \\frac{x^{2}}{2} + \\frac{x^{3}}{3} - \\frac{x^{4}}{4} + \\frac{x^{5}}{5} - \\frac{x^{6}}{6} + \\frac{x^{7}}{7} - \\frac{x^{8}}{8} + \\frac{x^{9}}{9} + O\\left(x^{10}\\right)$\n"
      ],
      "text/plain": [
       "     2    3    4    5    6    7    8    9         \n",
       "    x    x    x    x    x    x    x    x     / 10\\\n",
       "x - -- + -- - -- + -- - -- + -- - -- + -- + O\\x  /\n",
       "    2    3    4    5    6    7    8    9          "
      ]
     },
     "execution_count": 23,
     "metadata": {},
     "output_type": "execute_result"
    }
   ],
   "source": [
    "series(log(1+x), n=10)"
   ]
  },
  {
   "cell_type": "code",
   "execution_count": 24,
   "metadata": {},
   "outputs": [
    {
     "data": {
      "text/latex": [
       "$\\displaystyle x + \\frac{x^{2}}{2} + \\frac{x^{3}}{3} + \\frac{x^{4}}{4} + \\frac{x^{5}}{5} + \\frac{x^{6}}{6} + \\frac{x^{7}}{7} + \\frac{x^{8}}{8} + \\frac{x^{9}}{9} + O\\left(x^{10}\\right)$\n"
      ],
      "text/plain": [
       "     2    3    4    5    6    7    8    9         \n",
       "    x    x    x    x    x    x    x    x     / 10\\\n",
       "x + -- + -- + -- + -- + -- + -- + -- + -- + O\\x  /\n",
       "    2    3    4    5    6    7    8    9          "
      ]
     },
     "execution_count": 24,
     "metadata": {},
     "output_type": "execute_result"
    }
   ],
   "source": [
    "series(-log(1-x), n=10)"
   ]
  },
  {
   "cell_type": "code",
   "execution_count": 25,
   "metadata": {},
   "outputs": [
    {
     "data": {
      "text/latex": [
       "$\\displaystyle x + \\frac{x^{3}}{6} + \\frac{3 x^{5}}{40} + \\frac{5 x^{7}}{112} + \\frac{35 x^{9}}{1152} + O\\left(x^{10}\\right)$\n"
      ],
      "text/plain": [
       "     3      5      7       9         \n",
       "    x    3*x    5*x    35*x     / 10\\\n",
       "x + -- + ---- + ---- + ----- + O\\x  /\n",
       "    6     40    112     1152         "
      ]
     },
     "execution_count": 25,
     "metadata": {},
     "output_type": "execute_result"
    }
   ],
   "source": [
    "series(asin(x), n=10)"
   ]
  },
  {
   "cell_type": "code",
   "execution_count": 26,
   "metadata": {},
   "outputs": [
    {
     "data": {
      "text/latex": [
       "$\\displaystyle \\frac{35 x^{9}}{1152} + \\frac{5 x^{7}}{112} + \\frac{3 x^{5}}{40} + \\frac{x^{3}}{6} + x$\n"
      ],
      "text/plain": [
       "    9      7      5    3    \n",
       "35*x    5*x    3*x    x     \n",
       "----- + ---- + ---- + -- + x\n",
       " 1152   112     40    6     "
      ]
     },
     "execution_count": 26,
     "metadata": {},
     "output_type": "execute_result"
    }
   ],
   "source": [
    "k = symbols(\"k\", integer=true)\n",
    "doit(sympy.Sum(1/2^(2k)*factorial(2k)/(factorial(k)^2)*x^(2k+1)/(2k+1), (k,0,4)))"
   ]
  },
  {
   "cell_type": "code",
   "execution_count": 27,
   "metadata": {},
   "outputs": [
    {
     "data": {
      "text/latex": [
       "$\\displaystyle x - \\frac{x^{3}}{3} + \\frac{x^{5}}{5} - \\frac{x^{7}}{7} + \\frac{x^{9}}{9} + O\\left(x^{10}\\right)$\n"
      ],
      "text/plain": [
       "     3    5    7    9         \n",
       "    x    x    x    x     / 10\\\n",
       "x - -- + -- - -- + -- + O\\x  /\n",
       "    3    5    7    9          "
      ]
     },
     "execution_count": 27,
     "metadata": {},
     "output_type": "execute_result"
    }
   ],
   "source": [
    "series(atan(x), n=10)"
   ]
  },
  {
   "cell_type": "code",
   "execution_count": 28,
   "metadata": {},
   "outputs": [
    {
     "data": {
      "text/latex": [
       "$\\displaystyle x + \\frac{x^{3}}{3} + \\frac{x^{5}}{5} + \\frac{x^{7}}{7} + \\frac{x^{9}}{9} + O\\left(x^{10}\\right)$\n"
      ],
      "text/plain": [
       "     3    5    7    9         \n",
       "    x    x    x    x     / 10\\\n",
       "x + -- + -- + -- + -- + O\\x  /\n",
       "    3    5    7    9          "
      ]
     },
     "execution_count": 28,
     "metadata": {},
     "output_type": "execute_result"
    }
   ],
   "source": [
    "series(atanh(x), n=10)"
   ]
  },
  {
   "cell_type": "code",
   "execution_count": 29,
   "metadata": {},
   "outputs": [
    {
     "data": {
      "text/latex": [
       "$\\displaystyle \\sum_{k=0}^{\\infty} \\frac{\\left(-1\\right)^{k}}{2 k + 1}$\n"
      ],
      "text/plain": [
       "  oo         \n",
       "____         \n",
       "\\   `        \n",
       " \\         k \n",
       "  \\    (-1)  \n",
       "  /   -------\n",
       " /    2*k + 1\n",
       "/___,        \n",
       "k = 0        "
      ]
     },
     "execution_count": 29,
     "metadata": {},
     "output_type": "execute_result"
    }
   ],
   "source": [
    "sympy.Sum((-1)^k/(2k+1), (k,0,oo))"
   ]
  },
  {
   "cell_type": "code",
   "execution_count": 30,
   "metadata": {},
   "outputs": [
    {
     "data": {
      "text/latex": [
       "$\\displaystyle \\frac{\\pi}{4}$\n"
      ],
      "text/plain": [
       "pi\n",
       "--\n",
       "4 "
      ]
     },
     "execution_count": 30,
     "metadata": {},
     "output_type": "execute_result"
    }
   ],
   "source": [
    "doit(sympy.Sum((-1)^k/(2k+1), (k,0,oo)))"
   ]
  },
  {
   "cell_type": "markdown",
   "metadata": {},
   "source": [
    "次のセルの f(n,k) は\n",
    "\n",
    "$$\n",
    "f(n,k) = \\frac{1}{2^n}\\binom{n}{k} = \\frac{1}{2^n}\\frac{n!}{k!(n-k)!}\n",
    "$$\n",
    "\n",
    "を意味している. これは $p=1/2$ に対する二項分布における確率である.\n",
    "\n",
    "$$\n",
    "\\operatorname{lgamma}(n+1) = \\log \\Gamma(n+1) = \\log n!\n",
    "$$\n",
    "\n",
    "であることに注意せよ. \n",
    "\n",
    "次のセルで一度全体の対数を取った式を計算してから exponential を取っている理由は階乗を単体で計算すると簡単にオーバーフローしてしまうからである. 階乗の対数ならばオーバーフローしない.  さらに, $\\ds\\binom{n}{k}$ と $1/2^n$ を別々に計算した後で掛け合わせる計算の仕方もよくない. 巨大な数を巨大な数で割る数値計算はオーバーフローやアンダーフローを起こしやすい. 対数を取って適度な大きさの数値にして差を取ってから, まとめて exponential するのがよい.\n",
    "\n",
    "しかし, そのように注意深く書いたコードであっても, もとの級数の収束は極めて遅いので, 1億項を足し合わせても小数点以下第4桁までしか正確に計算できていない. \n",
    "\n",
    "このようなことは頻繁に起こるので, 数値計算により適した公式を見付けたり, 遅い収束を加速する方法(加速法)を開発することは大事な仕事である."
   ]
  },
  {
   "cell_type": "code",
   "execution_count": 31,
   "metadata": {},
   "outputs": [
    {
     "name": "stdout",
     "output_type": "stream",
     "text": [
      " 13.238849 seconds (159.12 k allocations: 10.815 MiB, 1.07% compilation time)\n"
     ]
    },
    {
     "data": {
      "text/plain": [
       "(1.5707399078367754, 1.5707963267948966)"
      ]
     },
     "execution_count": 31,
     "metadata": {},
     "output_type": "execute_result"
    }
   ],
   "source": [
    "f(n,k) = exp(lgamma(n+1)-lgamma(k+1)-lgamma(n-k+1)-n*log(2))\n",
    "@time sum(k->f(2k,k)/(2k+1), 0:10^8-1), π/2"
   ]
  },
  {
   "cell_type": "markdown",
   "metadata": {},
   "source": [
    "## Bernoulli数とEuler数を用いたTaylor展開"
   ]
  },
  {
   "cell_type": "markdown",
   "metadata": {},
   "source": [
    "### Bernoulli数とEuler数の定義\n",
    "\n",
    "Bernoulli数 $B_n$ とEuler数 $E_n$ を次のように定める:\n",
    "\n",
    "$$\n",
    "\\frac{z}{e^z-1} = \\sum_{n=0}^\\infty B_n \\frac{z^n}{n!}, \\quad\n",
    "\\frac{2}{e^z+e^{-z}} = \\sum_{n=0}^\\infty E_n \\frac{z^n}{n!}.\n",
    "$$"
   ]
  },
  {
   "cell_type": "markdown",
   "metadata": {},
   "source": [
    "**注意:** これらの母函数はある確率分布のモーメント母函数分の1になっている:\n",
    "\n",
    "$$\n",
    "\\int_0^1 e^{zx}\\,dx = \\frac{e^{z}-1}{z}, \\quad\n",
    "\\int_\\R e^{zx}\\frac{\\delta(x-1)+\\delta(x+1)}{2}\\,dx = \\frac{e^{z}+e^{-z}}{2}.\n",
    "$$\n",
    "\n",
    "ここで $\\delta(x-a)$ は<a href=\"https://www.google.co.jp/search?q=%E3%83%87%E3%83%AB%E3%82%BF%E5%87%BD%E6%95%B0\">デルタ(超)函数</a>である:\n",
    "\n",
    "$$\n",
    "\\int_\\R \\varphi(x)\\delta(x-a)\\,dx = \\varphi(a).\n",
    "$$\n",
    "\n",
    "モーメント母函数は統計力学における分配函数に対応しており, モーメント母函数分の $e^{xz}$ はカノニカル分布の確率密度函数に対応している. このような視点からのBernoulli数およびBernoulli多項式の一般化については\n",
    "\n",
    "* 黒木玄, <a href=\"https://genkuroki.github.io/documents/20170724EulerMaclaurin.pdf\">Euler-Maclaurinの和公式の一般化</a>\n",
    "\n",
    "を参照せよ.  $\\QED$"
   ]
  },
  {
   "cell_type": "markdown",
   "metadata": {},
   "source": [
    "**問題:** $B_0=1$, $B_1=-1/2$ であることを示せ.\n",
    "\n",
    "**解答例:** 以下の計算から得られる:\n",
    "\n",
    "$$\n",
    "\\frac{z}{e^z-1} = \\frac{1}{1+z/2+O(z^2)} = 1-\\frac{z}{2}+O(z^2).\n",
    "\\qquad\\QED\n",
    "$$"
   ]
  },
  {
   "cell_type": "markdown",
   "metadata": {},
   "source": [
    "この問題の結果と,\n",
    "\n",
    "$$\n",
    "\\frac{z}{e^z-1}+\\frac{z}{2} = \\frac{z}{2}\\frac{e^z+1}{e^z-1} =\n",
    "\\frac{z}{2}\\frac{e^{z/2}+e^{-z/2}}{e^{z/2}-e^{-z/2}}\n",
    "$$\n",
    "\n",
    "が偶函数になることより, $B_n$ は $n$ が3以上の奇数のとき $0$ になることがわかる.\n",
    "\n",
    "$\\ds\\frac{2}{e^z+e^{-z}}$ が偶函数であることより, $n$ が奇数のとき $E_n=0$ となることがわかる.\n",
    "\n",
    "後で次の公式を用いる:\n",
    "\n",
    "$$\n",
    "\\frac{z}{2}\\frac{e^{z/2}+e^{-z/2}}{e^{z/2}-e^{-z/2}} = \n",
    "\\sum_{k=0}^\\infty \\frac{B_{2k}}{(2k)!}z^{2k},\n",
    "\\quad\n",
    "\\frac{2}{e^z+e^{-z}} =\n",
    "\\sum_{k=0}^\\infty \\frac{E_{2k}}{(2k)!}z^{2k}.\n",
    "\\tag{$*$}\n",
    "$$"
   ]
  },
  {
   "cell_type": "markdown",
   "metadata": {},
   "source": [
    "**問題:** Bernoulli数 $B_n$ とEuler数 $E_{2n}$ が次の漸化式を満たすことを示せ: $n=1,2,3,\\ldots$ に対して,\n",
    "\n",
    "$$\n",
    "B_n = -\\frac{1}{n+1}\\sum_{k=0}^{n-1}\\binom{n+1}{k}B_k, \\quad\n",
    "E_{2n} = -\\sum_{k=0}^{n-1} \\binom{2n}{2k}E_{2k}.\n",
    "$$\n",
    "\n",
    "**注意:** これらの漸化式と $B_0=E_0=1$ を用いて, Bernoulli数 $B_n$ とEuler数 $E_{2n}$ を順次求めることができる. $\\QED$\n",
    "\n",
    "**解答例:** $B_n$ の漸化式は $\\ds\\frac{z}{e^z-1}\\frac{e^z-1}{z}=1$ から得られる.\n",
    "\n",
    "$$\n",
    "1 = \\frac{z}{e^z-1}\\frac{e^z-1}{z} =\n",
    "\\sum_{k,l=0}^\\infty \\frac{B_k}{k!(l+1)!}z^{k+l} =\n",
    "\\sum_{n=0}^\\infty \\left(\\sum_{k=0}^n \\frac{n!}{k!(n-k+1)!}B_k\\right)\\frac{z^n}{n!}.\n",
    "$$\n",
    "\n",
    "すなわち\n",
    "\n",
    "$$\n",
    "\\delta_{n,0} =\n",
    "\\sum_{k=0}^n \\frac{n!}{k!(n-k+1)!}B_k =\n",
    "\\frac{1}{n+1}\\sum_{k=0}^n \\binom{n+1}{k}B_k =\n",
    "\\frac{1}{n+1}\\sum_{k=0}^{n-1} \\binom{n+1}{k}B_k + B_n. \n",
    "$$\n",
    "\n",
    "これより $B_n$ の漸化式が得られる. \n",
    "\n",
    "$E_{2n}$ の漸化式は $\\ds\\frac{2}{e^z-e^{-z}}\\frac{e^z-e^{-z}}{2}=1$ から得られる.\n",
    "\n",
    "$$\n",
    "1 = \\frac{2}{e^z+e^{-z}}\\frac{e^z+e^{-z}}{2} =\n",
    "\\sum_{k,l=0}^\\infty \\frac{E_{2k}}{(2k)!(2l)!}z^{2k+2l} =\n",
    "\\sum_{n=0}^\\infty \\left(\\sum_{k=0}^n \\binom{2n}{2k}E_{2k}\\right)\\frac{z^{2n}}{(2n)!}.\n",
    "$$\n",
    "\n",
    "すなわち\n",
    "\n",
    "$$\n",
    "\\delta_{n,0} = \\sum_{k=0}^n \\binom{2n}{2k}E_{2k} =\n",
    "\\sum_{k=0}^{n-1} \\binom{2n}{2k}E_{2k} + E_{2n}.\n",
    "$$\n",
    "\n",
    "これより $E_{2n}$ の漸化式が得られる. $\\QED$"
   ]
  },
  {
   "cell_type": "code",
   "execution_count": 32,
   "metadata": {},
   "outputs": [
    {
     "data": {
      "text/latex": [
       "$\\left[ \\begin{array}{r}\\displaystyle 1\\\\\\displaystyle \\frac{1}{6}\\\\\\displaystyle - \\frac{1}{30}\\\\\\displaystyle \\frac{1}{42}\\\\\\displaystyle - \\frac{1}{30}\\\\\\displaystyle \\frac{5}{66}\\\\\\displaystyle - \\frac{691}{2730}\\\\\\displaystyle \\frac{7}{6}\\\\\\displaystyle - \\frac{3617}{510}\\end{array} \\right]$\n"
      ],
      "text/plain": [
       "9-element Vector{Sym}:\n",
       "         1\n",
       "       1/6\n",
       "     -1/30\n",
       "      1/42\n",
       "     -1/30\n",
       "      5/66\n",
       " -691/2730\n",
       "       7/6\n",
       " -3617/510"
      ]
     },
     "execution_count": 32,
     "metadata": {},
     "output_type": "execute_result"
    }
   ],
   "source": [
    "# Bernoulli数 B_{2k} の例\n",
    "\n",
    "BernoulliNumber(n) = sympy.bernoulli(n)\n",
    "B = [BernoulliNumber(2k) for k in 0:8]"
   ]
  },
  {
   "cell_type": "code",
   "execution_count": 33,
   "metadata": {},
   "outputs": [
    {
     "data": {
      "text/latex": [
       "$\\left[ \\begin{array}{r}\\displaystyle 1\\\\\\displaystyle -1\\\\\\displaystyle 5\\\\\\displaystyle -61\\\\\\displaystyle 1385\\\\\\displaystyle -50521\\\\\\displaystyle 2702765\\\\\\displaystyle -199360981\\\\\\displaystyle 19391512145\\end{array} \\right]$\n"
      ],
      "text/plain": [
       "9-element Vector{Sym}:\n",
       "           1\n",
       "          -1\n",
       "           5\n",
       "         -61\n",
       "        1385\n",
       "      -50521\n",
       "     2702765\n",
       "  -199360981\n",
       " 19391512145"
      ]
     },
     "execution_count": 33,
     "metadata": {},
     "output_type": "execute_result"
    }
   ],
   "source": [
    "# Euler数 E_{2k} の例\n",
    "\n",
    "EulerNumber(n) = sympy.euler(n)\n",
    "E = [EulerNumber(2k) for k in 0:8]"
   ]
  },
  {
   "cell_type": "markdown",
   "metadata": {},
   "source": [
    "### tan, cot, sec, cosec の展開\n",
    "\n",
    "$B_{2k}$, $E_{2k}$ に関する公式($*$)を使うと, \n",
    "\n",
    "$$\n",
    "\\begin{aligned}\n",
    "&\n",
    "\\frac{z}{2}\\cot\\frac{z}{2} = \\frac{z}{2}\\frac{\\cos(z/2)}{\\sin(z/2)} =\n",
    "\\frac{iz}{2}\\frac{e^{iz/2}+e^{-iz/2}}{e^{iz/2}-e^{-iz/2}} =\n",
    "\\sum_{k=0}^\\infty \\frac{B_{2k}}{(2k)!}(iz)^{2k} =\n",
    "\\sum_{k=0}^\\infty (-1)^k\\frac{B_{2k}}{(2k)!}z^{2k},\n",
    "\\\\ &\n",
    "\\cot z = \\frac{\\cos z}{\\sin z} = \\sum_{k=0}^\\infty (-1)^k \\frac{2^{2k}B_{2k}}{(2k)!}z^{2k-1},\n",
    "\\\\ &\n",
    "\\tan z = \\frac{\\sin z}{\\cos z} = \\cot z - 2\\cot(2z) = \n",
    "\\sum_{k=1}^\\infty(-1)^k\\frac{2^{2k}(1-2^{2k})B_{2k}}{(2k)!}z^{2k-1},\n",
    "\\\\ &\n",
    "\\cosec z = \\frac{1}{\\sin z} =\n",
    "\\cot\\frac{z}{2} - \\cot z =\n",
    "\\sum_{k=0}^\\infty(-1)^k\\frac{2^{2k}(2^{-(2k-1)}-1)B_{2k}}{(2k)!}z^{2k-1}\n",
    "\\\\ & \\qquad =\n",
    "\\sum_{k=0}^\\infty(-1)^k\\frac{2(1-2^{2k-1})B_{2k}}{(2k)!}z^{2k-1},\n",
    "\\\\ &\n",
    "\\sec z = \\frac{1}{\\cos z} = \\frac{2}{e^{iz}-e^{-iz}} = \n",
    "\\sum_{k=0}^\\infty \\frac{E_{2k}}{(2k)!}(iz)^{2k} =\n",
    "\\sum_{k=0}^\\infty (-1)^k\\frac{E_{2k}}{(2k)!}z^{2k},\n",
    "\\\\ &\n",
    "\\coth z = \\frac{e^{z}+e^{-z}}{e^{z}-e^{-z}} = \n",
    "\\sum_{k=0}^\\infty \\frac{2^{2k}B_{2k}}{(2k)!}z^{2k-1}\n",
    "\\\\ &\n",
    "\\tanh z = 2\\coth(2z) - \\coth z =\n",
    "\\sum_{k=0}^\\infty \\frac{2^{2k}(2^{2k}-1)B_{2k}}{(2k)!} z^{2k-1}.\n",
    "\\end{aligned}\n",
    "$$\n",
    "\n",
    "__注意:__ $B_{2k}$ は本質的に $\\ds\\frac{z}{2}\\cot\\frac{z}{2}$ のMaclaurin展開の係数であり, $E_{2k}$ は $\\sec z$ のMaclaurin展開の係数である.\n",
    "\n",
    "__注意:__ $\\tan z = \\cot z - 2\\cot(2z)$ は次のように示される:\n",
    "\n",
    "$$\n",
    "2\\cot(2z) = \\frac{2\\cos 2z}{\\sin 2z} =\n",
    "\\frac{2(\\cos^2 z - \\sin^2 z)}{2\\cos z \\sin z} = \\cot z - \\tan z.\n",
    "$$\n",
    "\n",
    "ゆえに $\\tan z = \\cot z - 2\\cot(2z)$.  $\\tanh z = 2\\coth(2z) - \\coth z$ は次のように示される(わざと少し計算の仕方を $\\tan$ の場合から変える):\n",
    "\n",
    "$$\n",
    "2\\coth(2z) = \\frac{2(e^{2z} + e^{-2z})}{e^{2z} - e^{-2z}} =\n",
    "\\frac{(e^z+e^z)^2 + (e^z-e^{-z})^2}{(e^z+e^{-z})(e^z-e^{-z})} = \\coth z + \\tanh z.\n",
    "$$\n",
    "\n",
    "ゆえに, $\\tanh z = 2\\coth(2z) - \\coth z$."
   ]
  },
  {
   "cell_type": "code",
   "execution_count": 34,
   "metadata": {},
   "outputs": [
    {
     "data": {
      "text/latex": [
       "$\\displaystyle 1 - \\frac{z^{2}}{12} - \\frac{z^{4}}{720} - \\frac{z^{6}}{30240} - \\frac{z^{8}}{1209600} + O\\left(z^{10}\\right)$\n"
      ],
      "text/plain": [
       "     2     4      6        8           \n",
       "    z     z      z        z       / 10\\\n",
       "1 - -- - --- - ----- - ------- + O\\z  /\n",
       "    12   720   30240   1209600         "
      ]
     },
     "execution_count": 34,
     "metadata": {},
     "output_type": "execute_result"
    }
   ],
   "source": [
    "z = symbols(\"z\")\n",
    "series((z/2)*cot(z/2), z, n=10)"
   ]
  },
  {
   "cell_type": "code",
   "execution_count": 35,
   "metadata": {},
   "outputs": [
    {
     "data": {
      "text/latex": [
       "$\\displaystyle \\frac{1}{z} - \\frac{z}{3} - \\frac{z^{3}}{45} - \\frac{2 z^{5}}{945} - \\frac{z^{7}}{4725} - \\frac{2 z^{9}}{93555} + O\\left(z^{10}\\right)$\n"
      ],
      "text/plain": [
       "         3      5     7        9         \n",
       "1   z   z    2*z     z      2*z     / 10\\\n",
       "- - - - -- - ---- - ---- - ----- + O\\z  /\n",
       "z   3   45   945    4725   93555         "
      ]
     },
     "execution_count": 35,
     "metadata": {},
     "output_type": "execute_result"
    }
   ],
   "source": [
    "z = symbols(\"z\")\n",
    "series(cot(z), z, n=10)"
   ]
  },
  {
   "cell_type": "code",
   "execution_count": 36,
   "metadata": {},
   "outputs": [
    {
     "data": {
      "text/latex": [
       "$\\displaystyle z + \\frac{z^{3}}{3} + \\frac{2 z^{5}}{15} + \\frac{17 z^{7}}{315} + \\frac{62 z^{9}}{2835} + O\\left(z^{10}\\right)$\n"
      ],
      "text/plain": [
       "     3      5       7       9         \n",
       "    z    2*z    17*z    62*z     / 10\\\n",
       "z + -- + ---- + ----- + ----- + O\\z  /\n",
       "    3     15     315     2835         "
      ]
     },
     "execution_count": 36,
     "metadata": {},
     "output_type": "execute_result"
    }
   ],
   "source": [
    "z = symbols(\"z\")\n",
    "series(tan(z), z, n=10)"
   ]
  },
  {
   "cell_type": "code",
   "execution_count": 37,
   "metadata": {},
   "outputs": [
    {
     "data": {
      "text/latex": [
       "$\\displaystyle \\frac{1}{z} + \\frac{z}{6} + \\frac{7 z^{3}}{360} + \\frac{31 z^{5}}{15120} + \\frac{127 z^{7}}{604800} + \\frac{73 z^{9}}{3421440} + O\\left(z^{10}\\right)$\n"
      ],
      "text/plain": [
       "           3       5        7        9          \n",
       "1   z   7*z    31*z    127*z     73*z      / 10\\\n",
       "- + - + ---- + ----- + ------ + ------- + O\\z  /\n",
       "z   6   360    15120   604800   3421440         "
      ]
     },
     "execution_count": 37,
     "metadata": {},
     "output_type": "execute_result"
    }
   ],
   "source": [
    "z = symbols(\"z\")\n",
    "series(csc(z), z, n=10)"
   ]
  },
  {
   "cell_type": "code",
   "execution_count": 38,
   "metadata": {},
   "outputs": [
    {
     "data": {
      "text/latex": [
       "$\\displaystyle 1 + \\frac{z^{2}}{2} + \\frac{5 z^{4}}{24} + \\frac{61 z^{6}}{720} + \\frac{277 z^{8}}{8064} + O\\left(z^{10}\\right)$\n"
      ],
      "text/plain": [
       "     2      4       6        8         \n",
       "    z    5*z    61*z    277*z     / 10\\\n",
       "1 + -- + ---- + ----- + ------ + O\\z  /\n",
       "    2     24     720     8064          "
      ]
     },
     "execution_count": 38,
     "metadata": {},
     "output_type": "execute_result"
    }
   ],
   "source": [
    "z = symbols(\"z\")\n",
    "series(sec(z), z, n=10)"
   ]
  },
  {
   "cell_type": "markdown",
   "metadata": {},
   "source": [
    "## べき級数の収束"
   ]
  },
  {
   "cell_type": "markdown",
   "metadata": {},
   "source": [
    "### べき級数の定義\n",
    "\n",
    "$\\ds \\sum_{k=0}^\\infty a_k x^k$ の形式の級数を**べき級数**と呼ぶ.\n",
    "\n",
    "$\\ds \\sum_{k=0}^\\infty |a_k x^k|$ が収束するとき, べき級数 $\\ds \\sum_{k=0}^\\infty a_k x^k$ は絶対収束するという."
   ]
  },
  {
   "cell_type": "markdown",
   "metadata": {},
   "source": [
    "### べき級数の収束半径"
   ]
  },
  {
   "cell_type": "markdown",
   "metadata": {},
   "source": [
    "**準備:** 実数列 $\\alpha_n$ が $n\\to\\infty$ のとき $\\alpha_n\\to\\infty$ となることを, 任意の実数 $M$ に対して(どんなに大きな実数 $M$ に対しても), ある番号 $N$ が存在して $n\\geqq N$ ならば $\\alpha_n\\geqq M$ となること(すなわち, どんなに大きな $M$ に対しても, ある番号以降のすべての $n$ について $\\alpha_n\\geqq M$ 成立すること)であると定める. $\\QED$"
   ]
  },
  {
   "cell_type": "markdown",
   "metadata": {},
   "source": [
    "####  d'Alembert の判定法\n",
    "\n",
    "**定理( d'Alembert の判定法):** $k\\to\\infty$ のとき $\\ds\\frac{|a_k|}{|a_{k+1}|}\\to\\rho > 0$ が成立していると仮定する(上の準備のもとで $\\rho=\\infty$ であってもよいとする). このとき, べき級数 $\\ds\\sum_{k=0}^\\infty a_k x^k$ は $|x|<\\rho$ で絶対収束し, $|x|>\\rho$ で収束しない.\n",
    "\n",
    "**注意:** 実際には $0<r<\\rho$ のとき $|x|\\leqq r$ でべき級数 $\\ds\\sum_{k=0}^\\infty a_k x^k$ が一様絶対収束することも示される.\n",
    "\n",
    "**注意:** このような $\\rho$ をべき級数 $\\ds\\sum_{k=0}^\\infty a_k x^k$ の**収束半径**と呼ぶ.\n",
    "\n",
    "**証明:** $0\\leqq r<\\rho$ と仮定する. $r$ は幾らでも $\\rho$ に近付き得るので, $|x|<\\rho$ のときべき級数が絶対収束することを示すためには, $|x|\\leqq r$ のときべき級数が絶対収束することを示せば十分である. $r<R<\\rho$ を満たす実数 $R$ が存在する.  $|x|\\leqq r$ と仮定する. $|a_k|/|a_{k+1}|\\to\\rho>R>0$ より, ある番号 $N$ が存在して, $k\\geqq N$ のとき,\n",
    "\n",
    "$$\n",
    "\\frac{|a_k|}{|a_{k+1}|} \\geqq R, \\quad\\text{i.e.}\\quad \\frac{|a_{k+1}|}{|a_k|}\\leqq \\frac{1}{R}.\n",
    "$$\n",
    "\n",
    "ゆえに, $n=0,1,2,\\ldots$ に対して, \n",
    "\n",
    "$$\n",
    "|a_{N+n} x^{N+n}| =\n",
    "\\frac{|a_{N+n}|}{|a_{N+n-1}|}\\cdots\\frac{|a_{N+2}|}{|a_{N+1}|}\\frac{|a_{N+1}|}{|a_N|}|a_N||x|^{N+n} \\leqq\n",
    "\\frac{1}{R^n} |a_N| r^{N+n} =\n",
    "|a_N| r^N \\left(\\frac{r}{R}\\right)^n.\n",
    "$$\n",
    "\n",
    "$r<R$ という仮定より, $r/R<1$ なので, 右辺の $n=0,1,2,\\ldots$ に関する和は有限の値に収束する. ゆえに左辺の同様の和も有限の値に収束する. これで, べき級数 $\\ds \\sum_{k=0}^\\infty a_k x^k = \\sum_{k=0}^{N-1} a_k x^k + \\sum_{n=0}^\\infty a_{N+n}x^{N+n}$ が絶対収束することが示された. (**注意:** 以上の議論によって $|x|\\leqq r$ で**一様**絶対収束することも示されている.)\n",
    "\n",
    "$|x|>\\rho$ であると仮定する. $\\ds\\sum_{k=0}^\\infty a_k x^k$ が収束しないことを示したい. $|x|>\\rho$ と $|a_k|/|a_{k+1}|\\to\\rho<|x|$ より, ある番号 $N$ が存在して, $k\\geqq N$ ならば, $|a_k|>0$ かつ\n",
    "\n",
    "$$\n",
    "\\frac{|a_k|}{|a_{k+1}|} \\leqq |x|, \\quad\\text{i.e.}\\quad \\frac{|a_{k+1}|}{|a_k|} \\geqq \\frac{1}{|x|}.\n",
    "$$\n",
    "\n",
    "ゆえに, $n=0,1,2,\\ldots$ に対して,\n",
    "\n",
    "$$\n",
    "|a_{N+n}x^{N+n}| = \n",
    "\\frac{|a_{N+n}|}{|a_{N+n-1}|}\\cdots\\frac{|a_{N+2}|}{|a_{N+1}|}\\frac{|a_{N+1}|}{|a_N|}|a_N||x|^{N+n} \\geqq\n",
    "\\frac{1}{|x|^n}|a_N||x|^{N+n} =\n",
    "|a_N||x|^N > 0.\n",
    "$$\n",
    "\n",
    "ゆえに $a_n x^n$ は $0$ に収束しない. これより, $\\ds\\sum_{k=0}^\\infty a_k x^k$ が収束しないことがわかる. $\\QED$"
   ]
  },
  {
   "cell_type": "markdown",
   "metadata": {},
   "source": [
    "**例:** べき級数 $\\ds \\sum_{k=0}^\\infty \\frac{1}{k!}x^k$ について, $k\\to\\infty$ のとき, \n",
    "\n",
    "$$\n",
    "\\frac{1/k!}{1/(k+1)!} = k+1 \\to \\infty\n",
    "$$\n",
    "\n",
    "なので, そのべき級数は $|x|<\\infty$ で絶対収束する. $\\QED$"
   ]
  },
  {
   "cell_type": "markdown",
   "metadata": {},
   "source": [
    "**例:** べき級数 $\\ds\\sum_{k=0}^\\infty \\frac{(-1)^k x^{2k}}{(2k)!}$ を $x^2$ のべき級数とみなす.\n",
    "\n",
    "$$\n",
    "\\frac{1/(2k)!}{1/(2(k+1))!} = (2k+1)(2k+2)\\to \\infty \\quad(k\\to\\infty)\n",
    "$$\n",
    "\n",
    "なので, そのべき級数は $|x|<\\infty$ で絶対収束する.\n"
   ]
  },
  {
   "cell_type": "markdown",
   "metadata": {},
   "source": [
    "**問題:** べき級数 $\\ds\\sum_{k=0}^\\infty \\frac{(-1)^k x^{2k+1}}{(2k+1)!}$ が $|x|<\\infty$ で絶対収束することを示せ.\n",
    "\n",
    "**ヒント:** このべき級数を $x^2$ のべき級数と $x$ の積とみなしてから, d'Alembertの判定法を適用せよ. $\\QED$"
   ]
  },
  {
   "cell_type": "markdown",
   "metadata": {},
   "source": [
    "d'Alembertの判定法だけで十分な場合が多いが, より精密なCauchy-Hadamard定理の定理もよく使われる."
   ]
  },
  {
   "cell_type": "markdown",
   "metadata": {},
   "source": [
    "#### Cauchy-Hadamard定理\n",
    "\n",
    "**Cauchy-Hadamard定理:** $\\rho\\geqq 0$ を $\\ds \\frac{1}{\\rho}=\\limsup_{n\\to\\infty}|a_n|^{1/n}$ によって定める(右辺が $0$ のとき $\\rho=\\infty$ と定め, 右辺が $\\infty$ のとき $\\rho=0$ と定める.). このとき, べき級数 $\\ds\\sum_{k=0}^\\infty a_k x^k$ は $|x|<\\rho$ で絶対収束し, $|x|>\\rho$ で収束しない.\n",
    "\n",
    "**注意:** 実際には $0<r<\\rho$ のとき $|x|\\leqq r$ でべき級数 $\\ds\\sum_{k=0}^\\infty a_k x^k$ が一様絶対収束することも示される.\n",
    "\n",
    "**注意:** Cauchy-Hadamardの定理はべき級数 $\\ds\\sum_{k=0}^\\infty a_k x^k$ の**収束半径** $\\rho$ が $\\ds \\frac{1}{\\rho}=\\limsup_{n\\to\\infty}|a_n|^{1/n}$ で得られることを意味している.\n",
    "\n",
    "**証明:** $0<r<\\rho$ と仮定する. $r<R<\\rho$ を満たす実数 $R$ が存在する. $\\ds \\limsup_{n\\to\\infty}|a_n|^{1/n}=\\frac{1}{\\rho}<\\frac{1}{R}$ より, ある番号 $N$ が存在し, $n\\geqq N$ ならば $\\ds \\sup_{k\\geqq n}|a_k|^{1/k}\\leqq \\frac{1}{R}$ となる. 特に $k\\geqq N$ ならば $\\ds |a_k|^{1/k}\\leqq \\frac{1}{R}$ となる. したがって, $|x|\\leqq r$ のとき, $k\\geqq N$ ならば\n",
    "\n",
    "$$\n",
    "|a_k x^k| = \\left(|a_k|^{1/k} |x|\\right)^k\\leqq \\left(\\frac{r}{R}\\right)^k\n",
    "$$\n",
    "\n",
    "となる. $|r/R|<1$ なので, $|x|\\leqq r$ で $\\ds \\sum_{k=0}^\\infty a_k x^k$ が一様絶対収束することがわかった.\n",
    "\n",
    "$|x|>\\rho$ と仮定する. このとき, \n",
    "\n",
    "$$\n",
    "\\frac{1}{\\rho} = \\limsup_{n\\to\\infty}|a_n|^{1/n}=\\inf_{n\\geqq 0}\\sup_{k\\geqq n}|a_k|^{1/k}\n",
    "$$\n",
    "\n",
    "より, $n=0,1,2,\\ldots$ に対して $\\ds\\sup_{k\\geqq n}|a_k|^{1/k}\\geqq\\frac{1}{\\rho}$ なので, $\\ds \\frac{1}{\\rho} > \\frac{1}{|x|}$ より, 各 $n$ ごとにある $k\\geqq n$ で $\\ds |a_k|^{1/k} \\geqq \\frac{1}{|x|}$ を満たすものが存在し, \n",
    "\n",
    "$$\n",
    "|a_k x^k| = \\left(|a_k|^{1/k}|x|\\right)^k \\geqq \\left(\\frac{1}{|x|}|x|\\right)^k = 1\n",
    "$$\n",
    "\n",
    "となっている. 数列 $a_k x^k$ は $0$ に収束しないことがわかった. ゆえに級数 $\\ds\\sum_{k=0}^\\infty a_k x^k$ も収束しない.  $\\QED$\n",
    "\n",
    "**注意:** Cauchy-Hadamardの定理の証明はシンプルなので上極限の使い方を学ぶために適切な題材になっている. $\\QED$\n",
    "\n",
    "**注意:**  d'Alembertの判定法もCauchy-Hadamardの定理も一般のべき級数を等比級数と比較することによって収束を判定している. 大雑把に言えば, d'Alembertの判定法は\n",
    "\n",
    "$$\n",
    "|a_k x^k| = |a_0| \\prod_{j=1}^k \\frac{|a_j||x|}{|a_{j-1}|}\n",
    "$$\n",
    "\n",
    "の $\\ds \\prod_{j=1}^k \\frac{|a_j||x|}{|a_{j-1}|}$ の部分が $1$ 未満のある $r\\geqq 0$ に対する $r^k$ 以下であれば収束すると考える判定法であり, Cauchy-Hadamardの定理は\n",
    "\n",
    "$$\n",
    "|a_k x^k| = \\left(|a_k|^{1/k}|x|\\right)^k\n",
    "$$\n",
    "\n",
    "が $1$ 未満のある $r\\geqq 0$ に対する $r^k$ 以下であれば収束すると考える判定法である. $\\QED$"
   ]
  },
  {
   "cell_type": "markdown",
   "metadata": {},
   "source": [
    "**例:** べき級数\n",
    "\n",
    "$$\n",
    "1 - x + x^2 - x^3 + x^4 - x^5 + \\cdots\n",
    "$$\n",
    "\n",
    "の収束半径は数列 $|-1|^{1/1}=1$, $|1|^{1/2}=1$, $|-1|^{1/3}=1$, $|1|^{1/4}=1$, $\\ldots$ の上極限の $1$ であり, $|x|<1$ で $\\ds\\frac{1}{1+x}$ に収束するので, このべき級数は $x\\nearrow 1$ で $1$ に収束する.\n",
    "\n",
    "それではべき級数\n",
    "\n",
    "$$\n",
    "F(x) = \\sum_{n=0}^\\infty (-1)^n x^{2^n} = x - x^2 + x^4 - x^8 + x^{16} - x^{32} + \\cdots\n",
    "$$\n",
    "\n",
    "についてはどうなるだろうか? これの収束半径も数列 $|1|^{1/1}=1$, $|-1|^{1/2}=1$, $|1|^{1/4}=1$, $|-1|^{1/8}=1$, $\\ldots$ の上極限の $1$ になる. \n",
    "\n",
    "もしも $x\\nearrow 1$ で $f(x)$ が $\\alpha$ に収束するならば, $F(x^2) = x - F(x)$ なので, $x\\nearrow 1$ の極限を取って $\\alpha=1-\\alpha$ すなわち $\\ds\\alpha=\\frac{1}{2}$ となる. \n",
    "\n",
    "そこで実際に $x\\nearrow 1$ のとき $F(x)\\to 1/2$ となるかどうかを確認するために1000項足した結果を計算してみると, 例えば\n",
    "    \n",
    "    F(0.9) = 0.4677755990574414\n",
    "    F(0.99) = 0.49409849522830906\n",
    "    F(0.999) = 0.5001242215513184\n",
    "    F(0.9999) = 0.5020251448564931\n",
    "    F(0.99999) = 0.4973598550256996\n",
    "    F(0.999999) = 0.5007394876031053\n",
    "\n",
    "を得る. これらは確かに $\\ds\\frac{1}{2}=0.5$ にかなり近いように見える.\n",
    "\n",
    "**しかし, べき級数の $F(x)$ の値は $x\\nearrow 1$ で収束しない!!!** この事実のTauber型定理を使った証明については\n",
    "\n",
    "* 黒木玄, <a href=\"https://genkuroki.github.io/documents/20160501StirlingFormula.pdf\">ガンマ分布の中心極限定理とStirlingの公式</a>\n",
    "\n",
    "の第10.4節を見よ. 数値計算結果を用いた初等的な証明を下の方で紹介する. $\\QED$"
   ]
  },
  {
   "cell_type": "code",
   "execution_count": 39,
   "metadata": {},
   "outputs": [
    {
     "name": "stdout",
     "output_type": "stream",
     "text": [
      "F(0.9) = 0.4677755990574413\n",
      "F(0.99) = 0.4940984952283092\n",
      "F(0.999) = 0.5001242215513184\n",
      "F(0.9999) = 0.502025144856493\n",
      "F(0.99999) = 0.49735985502569974\n",
      "F(0.999999) = 0.5007394876031052\n"
     ]
    }
   ],
   "source": [
    "# 上のセルのべき級数の数値計算例\n",
    "\n",
    "F(x; N=10^3) = sum(n->(-1)^n*x^(2.0^n), 0:N)\n",
    "@show F(0.9)\n",
    "@show F(0.99)\n",
    "@show F(0.999)\n",
    "@show F(0.9999)\n",
    "@show F(0.99999)\n",
    "@show F(0.999999);"
   ]
  },
  {
   "cell_type": "code",
   "execution_count": 40,
   "metadata": {},
   "outputs": [
    {
     "data": {
      "image/png": "[encoded data removed]",
      "image/svg+xml": [
       "<?xml version=\"1.0\" encoding=\"utf-8\"?>\n",
       "<svg xmlns=\"http://www.w3.org/2000/svg\" xmlns:xlink=\"http://www.w3.org/1999/xlink\" width=\"600\" height=\"240\" viewBox=\"0 0 2400 960\">\n",
       "<defs>\n",
       "  <clipPath id=\"clip570\">\n",
       "    <rect x=\"0\" y=\"0\" width=\"2400\" height=\"960\"/>\n",
       "  </clipPath>\n",
       "</defs>\n",
       "<path clip-path=\"url(#clip570)\" d=\"M0 960 L2400 960 L2400 0 L0 0  Z\" fill=\"#ffffff\" fill-rule=\"evenodd\" fill-opacity=\"1\"/>\n",
       "<defs>\n",
       "  <clipPath id=\"clip571\">\n",
       "    <rect x=\"480\" y=\"0\" width=\"1681\" height=\"960\"/>\n",
       "  </clipPath>\n",
       "</defs>\n",
       "<path clip-path=\"url(#clip570)\" d=\"M156.598 866.672 L1122.84 866.672 L1122.84 47.2441 L156.598 47.2441  Z\" fill=\"#ffffff\" fill-rule=\"evenodd\" fill-opacity=\"1\"/>\n",
       "<defs>\n",
       "  <clipPath id=\"clip572\">\n",
       "    <rect x=\"156\" y=\"47\" width=\"967\" height=\"820\"/>\n",
       "  </clipPath>\n",
       "</defs>\n",
       "<polyline clip-path=\"url(#clip572)\" style=\"stroke:#000000; stroke-linecap:round; stroke-linejoin:round; stroke-width:2; stroke-opacity:0.1; fill:none\" points=\"156.598,866.672 156.598,47.2441 \"/>\n",
       "<polyline clip-path=\"url(#clip572)\" style=\"stroke:#000000; stroke-linecap:round; stroke-linejoin:round; stroke-width:2; stroke-opacity:0.1; fill:none\" points=\"349.846,866.672 349.846,47.2441 \"/>\n",
       "<polyline clip-path=\"url(#clip572)\" style=\"stroke:#000000; stroke-linecap:round; stroke-linejoin:round; stroke-width:2; stroke-opacity:0.1; fill:none\" points=\"543.094,866.672 543.094,47.2441 \"/>\n",
       "<polyline clip-path=\"url(#clip572)\" style=\"stroke:#000000; stroke-linecap:round; stroke-linejoin:round; stroke-width:2; stroke-opacity:0.1; fill:none\" points=\"736.342,866.672 736.342,47.2441 \"/>\n",
       "<polyline clip-path=\"url(#clip572)\" style=\"stroke:#000000; stroke-linecap:round; stroke-linejoin:round; stroke-width:2; stroke-opacity:0.1; fill:none\" points=\"929.589,866.672 929.589,47.2441 \"/>\n",
       "<polyline clip-path=\"url(#clip572)\" style=\"stroke:#000000; stroke-linecap:round; stroke-linejoin:round; stroke-width:2; stroke-opacity:0.1; fill:none\" points=\"1122.84,866.672 1122.84,47.2441 \"/>\n",
       "<polyline clip-path=\"url(#clip570)\" style=\"stroke:#000000; stroke-linecap:round; stroke-linejoin:round; stroke-width:4; stroke-opacity:1; fill:none\" points=\"156.598,866.672 1122.84,866.672 \"/>\n",
       "<polyline clip-path=\"url(#clip570)\" style=\"stroke:#000000; stroke-linecap:round; stroke-linejoin:round; stroke-width:4; stroke-opacity:1; fill:none\" points=\"156.598,866.672 156.598,847.774 \"/>\n",
       "<polyline clip-path=\"url(#clip570)\" style=\"stroke:#000000; stroke-linecap:round; stroke-linejoin:round; stroke-width:4; stroke-opacity:1; fill:none\" points=\"349.846,866.672 349.846,847.774 \"/>\n",
       "<polyline clip-path=\"url(#clip570)\" style=\"stroke:#000000; stroke-linecap:round; stroke-linejoin:round; stroke-width:4; stroke-opacity:1; fill:none\" points=\"543.094,866.672 543.094,847.774 \"/>\n",
       "<polyline clip-path=\"url(#clip570)\" style=\"stroke:#000000; stroke-linecap:round; stroke-linejoin:round; stroke-width:4; stroke-opacity:1; fill:none\" points=\"736.342,866.672 736.342,847.774 \"/>\n",
       "<polyline clip-path=\"url(#clip570)\" style=\"stroke:#000000; stroke-linecap:round; stroke-linejoin:round; stroke-width:4; stroke-opacity:1; fill:none\" points=\"929.589,866.672 929.589,847.774 \"/>\n",
       "<polyline clip-path=\"url(#clip570)\" style=\"stroke:#000000; stroke-linecap:round; stroke-linejoin:round; stroke-width:4; stroke-opacity:1; fill:none\" points=\"1122.84,866.672 1122.84,847.774 \"/>\n",
       "<path clip-path=\"url(#clip570)\" d=\"M133.983 897.591 Q130.372 897.591 128.543 901.155 Q126.737 904.697 126.737 911.827 Q126.737 918.933 128.543 922.498 Q130.372 926.039 133.983 926.039 Q137.617 926.039 139.422 922.498 Q141.251 918.933 141.251 911.827 Q141.251 904.697 139.422 901.155 Q137.617 897.591 133.983 897.591 M133.983 893.887 Q139.793 893.887 142.848 898.493 Q145.927 903.077 145.927 911.827 Q145.927 920.553 142.848 925.16 Q139.793 929.743 133.983 929.743 Q128.172 929.743 125.094 925.16 Q122.038 920.553 122.038 911.827 Q122.038 903.077 125.094 898.493 Q128.172 893.887 133.983 893.887 Z\" fill=\"#000000\" fill-rule=\"nonzero\" fill-opacity=\"1\" /><path clip-path=\"url(#clip570)\" d=\"M154.145 923.192 L159.029 923.192 L159.029 929.072 L154.145 929.072 L154.145 923.192 Z\" fill=\"#000000\" fill-rule=\"nonzero\" fill-opacity=\"1\" /><path clip-path=\"url(#clip570)\" d=\"M179.214 897.591 Q175.603 897.591 173.774 901.155 Q171.969 904.697 171.969 911.827 Q171.969 918.933 173.774 922.498 Q175.603 926.039 179.214 926.039 Q182.848 926.039 184.654 922.498 Q186.482 918.933 186.482 911.827 Q186.482 904.697 184.654 901.155 Q182.848 897.591 179.214 897.591 M179.214 893.887 Q185.024 893.887 188.08 898.493 Q191.158 903.077 191.158 911.827 Q191.158 920.553 188.08 925.16 Q185.024 929.743 179.214 929.743 Q173.404 929.743 170.325 925.16 Q167.269 920.553 167.269 911.827 Q167.269 903.077 170.325 898.493 Q173.404 893.887 179.214 893.887 Z\" fill=\"#000000\" fill-rule=\"nonzero\" fill-opacity=\"1\" /><path clip-path=\"url(#clip570)\" d=\"M328.029 897.591 Q324.418 897.591 322.589 901.155 Q320.784 904.697 320.784 911.827 Q320.784 918.933 322.589 922.498 Q324.418 926.039 328.029 926.039 Q331.663 926.039 333.469 922.498 Q335.297 918.933 335.297 911.827 Q335.297 904.697 333.469 901.155 Q331.663 897.591 328.029 897.591 M328.029 893.887 Q333.839 893.887 336.895 898.493 Q339.973 903.077 339.973 911.827 Q339.973 920.553 336.895 925.16 Q333.839 929.743 328.029 929.743 Q322.219 929.743 319.14 925.16 Q316.085 920.553 316.085 911.827 Q316.085 903.077 319.14 898.493 Q322.219 893.887 328.029 893.887 Z\" fill=\"#000000\" fill-rule=\"nonzero\" fill-opacity=\"1\" /><path clip-path=\"url(#clip570)\" d=\"M348.191 923.192 L353.075 923.192 L353.075 929.072 L348.191 929.072 L348.191 923.192 Z\" fill=\"#000000\" fill-rule=\"nonzero\" fill-opacity=\"1\" /><path clip-path=\"url(#clip570)\" d=\"M367.288 925.137 L383.607 925.137 L383.607 929.072 L361.663 929.072 L361.663 925.137 Q364.325 922.382 368.908 917.752 Q373.515 913.1 374.695 911.757 Q376.941 909.234 377.82 907.498 Q378.723 905.739 378.723 904.049 Q378.723 901.294 376.779 899.558 Q374.857 897.822 371.756 897.822 Q369.557 897.822 367.103 898.586 Q364.672 899.35 361.895 900.901 L361.895 896.179 Q364.719 895.044 367.172 894.466 Q369.626 893.887 371.663 893.887 Q377.033 893.887 380.228 896.572 Q383.422 899.257 383.422 903.748 Q383.422 905.878 382.612 907.799 Q381.825 909.697 379.719 912.29 Q379.14 912.961 376.038 916.178 Q372.936 919.373 367.288 925.137 Z\" fill=\"#000000\" fill-rule=\"nonzero\" fill-opacity=\"1\" /><path clip-path=\"url(#clip570)\" d=\"M520.235 897.591 Q516.624 897.591 514.795 901.155 Q512.99 904.697 512.99 911.827 Q512.99 918.933 514.795 922.498 Q516.624 926.039 520.235 926.039 Q523.869 926.039 525.675 922.498 Q527.504 918.933 527.504 911.827 Q527.504 904.697 525.675 901.155 Q523.869 897.591 520.235 897.591 M520.235 893.887 Q526.045 893.887 529.101 898.493 Q532.179 903.077 532.179 911.827 Q532.179 920.553 529.101 925.16 Q526.045 929.743 520.235 929.743 Q514.425 929.743 511.346 925.16 Q508.291 920.553 508.291 911.827 Q508.291 903.077 511.346 898.493 Q514.425 893.887 520.235 893.887 Z\" fill=\"#000000\" fill-rule=\"nonzero\" fill-opacity=\"1\" /><path clip-path=\"url(#clip570)\" d=\"M540.397 923.192 L545.281 923.192 L545.281 929.072 L540.397 929.072 L540.397 923.192 Z\" fill=\"#000000\" fill-rule=\"nonzero\" fill-opacity=\"1\" /><path clip-path=\"url(#clip570)\" d=\"M568.314 898.586 L556.508 917.035 L568.314 917.035 L568.314 898.586 M567.087 894.512 L572.966 894.512 L572.966 917.035 L577.897 917.035 L577.897 920.924 L572.966 920.924 L572.966 929.072 L568.314 929.072 L568.314 920.924 L552.712 920.924 L552.712 916.41 L567.087 894.512 Z\" fill=\"#000000\" fill-rule=\"nonzero\" fill-opacity=\"1\" /><path clip-path=\"url(#clip570)\" d=\"M713.645 897.591 Q710.034 897.591 708.205 901.155 Q706.4 904.697 706.4 911.827 Q706.4 918.933 708.205 922.498 Q710.034 926.039 713.645 926.039 Q717.279 926.039 719.085 922.498 Q720.913 918.933 720.913 911.827 Q720.913 904.697 719.085 901.155 Q717.279 897.591 713.645 897.591 M713.645 893.887 Q719.455 893.887 722.511 898.493 Q725.589 903.077 725.589 911.827 Q725.589 920.553 722.511 925.16 Q719.455 929.743 713.645 929.743 Q707.835 929.743 704.756 925.16 Q701.701 920.553 701.701 911.827 Q701.701 903.077 704.756 898.493 Q707.835 893.887 713.645 893.887 Z\" fill=\"#000000\" fill-rule=\"nonzero\" fill-opacity=\"1\" /><path clip-path=\"url(#clip570)\" d=\"M733.807 923.192 L738.691 923.192 L738.691 929.072 L733.807 929.072 L733.807 923.192 Z\" fill=\"#000000\" fill-rule=\"nonzero\" fill-opacity=\"1\" /><path clip-path=\"url(#clip570)\" d=\"M759.455 909.928 Q756.307 909.928 754.455 912.081 Q752.626 914.234 752.626 917.984 Q752.626 921.711 754.455 923.887 Q756.307 926.039 759.455 926.039 Q762.603 926.039 764.432 923.887 Q766.284 921.711 766.284 917.984 Q766.284 914.234 764.432 912.081 Q762.603 909.928 759.455 909.928 M768.737 895.276 L768.737 899.535 Q766.978 898.702 765.172 898.262 Q763.39 897.822 761.631 897.822 Q757.001 897.822 754.547 900.947 Q752.117 904.072 751.77 910.391 Q753.135 908.378 755.196 907.313 Q757.256 906.225 759.733 906.225 Q764.941 906.225 767.95 909.396 Q770.983 912.544 770.983 917.984 Q770.983 923.308 767.834 926.526 Q764.686 929.743 759.455 929.743 Q753.46 929.743 750.288 925.16 Q747.117 920.553 747.117 911.827 Q747.117 903.632 751.006 898.771 Q754.895 893.887 761.446 893.887 Q763.205 893.887 764.987 894.234 Q766.793 894.581 768.737 895.276 Z\" fill=\"#000000\" fill-rule=\"nonzero\" fill-opacity=\"1\" /><path clip-path=\"url(#clip570)\" d=\"M907.02 897.591 Q903.409 897.591 901.58 901.155 Q899.775 904.697 899.775 911.827 Q899.775 918.933 901.58 922.498 Q903.409 926.039 907.02 926.039 Q910.654 926.039 912.46 922.498 Q914.288 918.933 914.288 911.827 Q914.288 904.697 912.46 901.155 Q910.654 897.591 907.02 897.591 M907.02 893.887 Q912.83 893.887 915.886 898.493 Q918.964 903.077 918.964 911.827 Q918.964 920.553 915.886 925.16 Q912.83 929.743 907.02 929.743 Q901.21 929.743 898.131 925.16 Q895.076 920.553 895.076 911.827 Q895.076 903.077 898.131 898.493 Q901.21 893.887 907.02 893.887 Z\" fill=\"#000000\" fill-rule=\"nonzero\" fill-opacity=\"1\" /><path clip-path=\"url(#clip570)\" d=\"M927.182 923.192 L932.066 923.192 L932.066 929.072 L927.182 929.072 L927.182 923.192 Z\" fill=\"#000000\" fill-rule=\"nonzero\" fill-opacity=\"1\" /><path clip-path=\"url(#clip570)\" d=\"M952.251 912.66 Q948.918 912.66 946.997 914.442 Q945.098 916.225 945.098 919.35 Q945.098 922.475 946.997 924.257 Q948.918 926.039 952.251 926.039 Q955.585 926.039 957.506 924.257 Q959.427 922.452 959.427 919.35 Q959.427 916.225 957.506 914.442 Q955.608 912.66 952.251 912.66 M947.575 910.669 Q944.566 909.928 942.876 907.868 Q941.21 905.808 941.21 902.845 Q941.21 898.702 944.149 896.294 Q947.112 893.887 952.251 893.887 Q957.413 893.887 960.353 896.294 Q963.293 898.702 963.293 902.845 Q963.293 905.808 961.603 907.868 Q959.936 909.928 956.95 910.669 Q960.33 911.456 962.205 913.748 Q964.103 916.04 964.103 919.35 Q964.103 924.373 961.024 927.058 Q957.969 929.743 952.251 929.743 Q946.534 929.743 943.455 927.058 Q940.399 924.373 940.399 919.35 Q940.399 916.04 942.298 913.748 Q944.196 911.456 947.575 910.669 M945.862 903.285 Q945.862 905.97 947.529 907.475 Q949.219 908.979 952.251 908.979 Q955.26 908.979 956.95 907.475 Q958.663 905.97 958.663 903.285 Q958.663 900.6 956.95 899.095 Q955.26 897.591 952.251 897.591 Q949.219 897.591 947.529 899.095 Q945.862 900.6 945.862 903.285 Z\" fill=\"#000000\" fill-rule=\"nonzero\" fill-opacity=\"1\" /><path clip-path=\"url(#clip570)\" d=\"M1089.99 925.137 L1097.63 925.137 L1097.63 898.771 L1089.32 900.438 L1089.32 896.179 L1097.58 894.512 L1102.26 894.512 L1102.26 925.137 L1109.9 925.137 L1109.9 929.072 L1089.99 929.072 L1089.99 925.137 Z\" fill=\"#000000\" fill-rule=\"nonzero\" fill-opacity=\"1\" /><path clip-path=\"url(#clip570)\" d=\"M1119.34 923.192 L1124.23 923.192 L1124.23 929.072 L1119.34 929.072 L1119.34 923.192 Z\" fill=\"#000000\" fill-rule=\"nonzero\" fill-opacity=\"1\" /><path clip-path=\"url(#clip570)\" d=\"M1144.41 897.591 Q1140.8 897.591 1138.97 901.155 Q1137.17 904.697 1137.17 911.827 Q1137.17 918.933 1138.97 922.498 Q1140.8 926.039 1144.41 926.039 Q1148.05 926.039 1149.85 922.498 Q1151.68 918.933 1151.68 911.827 Q1151.68 904.697 1149.85 901.155 Q1148.05 897.591 1144.41 897.591 M1144.41 893.887 Q1150.22 893.887 1153.28 898.493 Q1156.36 903.077 1156.36 911.827 Q1156.36 920.553 1153.28 925.16 Q1150.22 929.743 1144.41 929.743 Q1138.6 929.743 1135.52 925.16 Q1132.47 920.553 1132.47 911.827 Q1132.47 903.077 1135.52 898.493 Q1138.6 893.887 1144.41 893.887 Z\" fill=\"#000000\" fill-rule=\"nonzero\" fill-opacity=\"1\" /><polyline clip-path=\"url(#clip572)\" style=\"stroke:#000000; stroke-linecap:round; stroke-linejoin:round; stroke-width:2; stroke-opacity:0.1; fill:none\" points=\"156.598,866.672 1122.84,866.672 \"/>\n",
       "<polyline clip-path=\"url(#clip572)\" style=\"stroke:#000000; stroke-linecap:round; stroke-linejoin:round; stroke-width:2; stroke-opacity:0.1; fill:none\" points=\"156.598,702.786 1122.84,702.786 \"/>\n",
       "<polyline clip-path=\"url(#clip572)\" style=\"stroke:#000000; stroke-linecap:round; stroke-linejoin:round; stroke-width:2; stroke-opacity:0.1; fill:none\" points=\"156.598,538.901 1122.84,538.901 \"/>\n",
       "<polyline clip-path=\"url(#clip572)\" style=\"stroke:#000000; stroke-linecap:round; stroke-linejoin:round; stroke-width:2; stroke-opacity:0.1; fill:none\" points=\"156.598,375.015 1122.84,375.015 \"/>\n",
       "<polyline clip-path=\"url(#clip572)\" style=\"stroke:#000000; stroke-linecap:round; stroke-linejoin:round; stroke-width:2; stroke-opacity:0.1; fill:none\" points=\"156.598,211.13 1122.84,211.13 \"/>\n",
       "<polyline clip-path=\"url(#clip572)\" style=\"stroke:#000000; stroke-linecap:round; stroke-linejoin:round; stroke-width:2; stroke-opacity:0.1; fill:none\" points=\"156.598,47.2441 1122.84,47.2441 \"/>\n",
       "<polyline clip-path=\"url(#clip570)\" style=\"stroke:#000000; stroke-linecap:round; stroke-linejoin:round; stroke-width:4; stroke-opacity:1; fill:none\" points=\"156.598,866.672 156.598,47.2441 \"/>\n",
       "<polyline clip-path=\"url(#clip570)\" style=\"stroke:#000000; stroke-linecap:round; stroke-linejoin:round; stroke-width:4; stroke-opacity:1; fill:none\" points=\"156.598,866.672 175.496,866.672 \"/>\n",
       "<polyline clip-path=\"url(#clip570)\" style=\"stroke:#000000; stroke-linecap:round; stroke-linejoin:round; stroke-width:4; stroke-opacity:1; fill:none\" points=\"156.598,702.786 175.496,702.786 \"/>\n",
       "<polyline clip-path=\"url(#clip570)\" style=\"stroke:#000000; stroke-linecap:round; stroke-linejoin:round; stroke-width:4; stroke-opacity:1; fill:none\" points=\"156.598,538.901 175.496,538.901 \"/>\n",
       "<polyline clip-path=\"url(#clip570)\" style=\"stroke:#000000; stroke-linecap:round; stroke-linejoin:round; stroke-width:4; stroke-opacity:1; fill:none\" points=\"156.598,375.015 175.496,375.015 \"/>\n",
       "<polyline clip-path=\"url(#clip570)\" style=\"stroke:#000000; stroke-linecap:round; stroke-linejoin:round; stroke-width:4; stroke-opacity:1; fill:none\" points=\"156.598,211.13 175.496,211.13 \"/>\n",
       "<polyline clip-path=\"url(#clip570)\" style=\"stroke:#000000; stroke-linecap:round; stroke-linejoin:round; stroke-width:4; stroke-opacity:1; fill:none\" points=\"156.598,47.2441 175.496,47.2441 \"/>\n",
       "<path clip-path=\"url(#clip570)\" d=\"M63.4226 852.471 Q59.8115 852.471 57.9828 856.035 Q56.1773 859.577 56.1773 866.707 Q56.1773 873.813 57.9828 877.378 Q59.8115 880.919 63.4226 880.919 Q67.0569 880.919 68.8624 877.378 Q70.6911 873.813 70.6911 866.707 Q70.6911 859.577 68.8624 856.035 Q67.0569 852.471 63.4226 852.471 M63.4226 848.767 Q69.2328 848.767 72.2883 853.373 Q75.367 857.957 75.367 866.707 Q75.367 875.433 72.2883 880.04 Q69.2328 884.623 63.4226 884.623 Q57.6125 884.623 54.5338 880.04 Q51.4782 875.433 51.4782 866.707 Q51.4782 857.957 54.5338 853.373 Q57.6125 848.767 63.4226 848.767 Z\" fill=\"#000000\" fill-rule=\"nonzero\" fill-opacity=\"1\" /><path clip-path=\"url(#clip570)\" d=\"M83.5845 878.072 L88.4688 878.072 L88.4688 883.952 L83.5845 883.952 L83.5845 878.072 Z\" fill=\"#000000\" fill-rule=\"nonzero\" fill-opacity=\"1\" /><path clip-path=\"url(#clip570)\" d=\"M108.654 852.471 Q105.043 852.471 103.214 856.035 Q101.409 859.577 101.409 866.707 Q101.409 873.813 103.214 877.378 Q105.043 880.919 108.654 880.919 Q112.288 880.919 114.094 877.378 Q115.922 873.813 115.922 866.707 Q115.922 859.577 114.094 856.035 Q112.288 852.471 108.654 852.471 M108.654 848.767 Q114.464 848.767 117.52 853.373 Q120.598 857.957 120.598 866.707 Q120.598 875.433 117.52 880.04 Q114.464 884.623 108.654 884.623 Q102.844 884.623 99.765 880.04 Q96.7095 875.433 96.7095 866.707 Q96.7095 857.957 99.765 853.373 Q102.844 848.767 108.654 848.767 Z\" fill=\"#000000\" fill-rule=\"nonzero\" fill-opacity=\"1\" /><path clip-path=\"url(#clip570)\" d=\"M64.6495 688.585 Q61.0384 688.585 59.2097 692.15 Q57.4041 695.691 57.4041 702.821 Q57.4041 709.927 59.2097 713.492 Q61.0384 717.034 64.6495 717.034 Q68.2837 717.034 70.0892 713.492 Q71.9179 709.927 71.9179 702.821 Q71.9179 695.691 70.0892 692.15 Q68.2837 688.585 64.6495 688.585 M64.6495 684.881 Q70.4596 684.881 73.5152 689.488 Q76.5938 694.071 76.5938 702.821 Q76.5938 711.548 73.5152 716.154 Q70.4596 720.738 64.6495 720.738 Q58.8393 720.738 55.7606 716.154 Q52.7051 711.548 52.7051 702.821 Q52.7051 694.071 55.7606 689.488 Q58.8393 684.881 64.6495 684.881 Z\" fill=\"#000000\" fill-rule=\"nonzero\" fill-opacity=\"1\" /><path clip-path=\"url(#clip570)\" d=\"M84.8114 714.187 L89.6956 714.187 L89.6956 720.066 L84.8114 720.066 L84.8114 714.187 Z\" fill=\"#000000\" fill-rule=\"nonzero\" fill-opacity=\"1\" /><path clip-path=\"url(#clip570)\" d=\"M100.691 716.131 L108.33 716.131 L108.33 689.766 L100.02 691.432 L100.02 687.173 L108.283 685.506 L112.959 685.506 L112.959 716.131 L120.598 716.131 L120.598 720.066 L100.691 720.066 L100.691 716.131 Z\" fill=\"#000000\" fill-rule=\"nonzero\" fill-opacity=\"1\" /><path clip-path=\"url(#clip570)\" d=\"M65.0198 524.699 Q61.4087 524.699 59.58 528.264 Q57.7745 531.806 57.7745 538.935 Q57.7745 546.042 59.58 549.607 Q61.4087 553.148 65.0198 553.148 Q68.6541 553.148 70.4596 549.607 Q72.2883 546.042 72.2883 538.935 Q72.2883 531.806 70.4596 528.264 Q68.6541 524.699 65.0198 524.699 M65.0198 520.996 Q70.83 520.996 73.8855 525.602 Q76.9642 530.186 76.9642 538.935 Q76.9642 547.662 73.8855 552.269 Q70.83 556.852 65.0198 556.852 Q59.2097 556.852 56.131 552.269 Q53.0754 547.662 53.0754 538.935 Q53.0754 530.186 56.131 525.602 Q59.2097 520.996 65.0198 520.996 Z\" fill=\"#000000\" fill-rule=\"nonzero\" fill-opacity=\"1\" /><path clip-path=\"url(#clip570)\" d=\"M85.1818 550.301 L90.066 550.301 L90.066 556.181 L85.1818 556.181 L85.1818 550.301 Z\" fill=\"#000000\" fill-rule=\"nonzero\" fill-opacity=\"1\" /><path clip-path=\"url(#clip570)\" d=\"M104.279 552.246 L120.598 552.246 L120.598 556.181 L98.6539 556.181 L98.6539 552.246 Q101.316 549.491 105.899 544.861 Q110.506 540.209 111.686 538.866 Q113.932 536.343 114.811 534.607 Q115.714 532.848 115.714 531.158 Q115.714 528.403 113.77 526.667 Q111.848 524.931 108.746 524.931 Q106.547 524.931 104.094 525.695 Q101.663 526.459 98.8854 528.01 L98.8854 523.287 Q101.709 522.153 104.163 521.574 Q106.617 520.996 108.654 520.996 Q114.024 520.996 117.219 523.681 Q120.413 526.366 120.413 530.857 Q120.413 532.986 119.603 534.908 Q118.816 536.806 116.709 539.398 Q116.131 540.07 113.029 543.287 Q109.927 546.482 104.279 552.246 Z\" fill=\"#000000\" fill-rule=\"nonzero\" fill-opacity=\"1\" /><path clip-path=\"url(#clip570)\" d=\"M64.0708 360.814 Q60.4597 360.814 58.631 364.379 Q56.8254 367.92 56.8254 375.05 Q56.8254 382.156 58.631 385.721 Q60.4597 389.263 64.0708 389.263 Q67.705 389.263 69.5105 385.721 Q71.3392 382.156 71.3392 375.05 Q71.3392 367.92 69.5105 364.379 Q67.705 360.814 64.0708 360.814 M64.0708 357.11 Q69.8809 357.11 72.9365 361.717 Q76.0151 366.3 76.0151 375.05 Q76.0151 383.777 72.9365 388.383 Q69.8809 392.966 64.0708 392.966 Q58.2606 392.966 55.1819 388.383 Q52.1264 383.777 52.1264 375.05 Q52.1264 366.3 55.1819 361.717 Q58.2606 357.11 64.0708 357.11 Z\" fill=\"#000000\" fill-rule=\"nonzero\" fill-opacity=\"1\" /><path clip-path=\"url(#clip570)\" d=\"M84.2327 386.416 L89.1169 386.416 L89.1169 392.295 L84.2327 392.295 L84.2327 386.416 Z\" fill=\"#000000\" fill-rule=\"nonzero\" fill-opacity=\"1\" /><path clip-path=\"url(#clip570)\" d=\"M113.469 373.661 Q116.825 374.379 118.7 376.647 Q120.598 378.916 120.598 382.249 Q120.598 387.365 117.08 390.166 Q113.561 392.966 107.08 392.966 Q104.904 392.966 102.589 392.527 Q100.297 392.11 97.8437 391.254 L97.8437 386.74 Q99.7882 387.874 102.103 388.453 Q104.418 389.031 106.941 389.031 Q111.339 389.031 113.631 387.295 Q115.945 385.559 115.945 382.249 Q115.945 379.193 113.793 377.48 Q111.663 375.744 107.844 375.744 L103.816 375.744 L103.816 371.902 L108.029 371.902 Q111.478 371.902 113.307 370.536 Q115.135 369.147 115.135 366.555 Q115.135 363.893 113.237 362.481 Q111.362 361.045 107.844 361.045 Q105.922 361.045 103.723 361.462 Q101.524 361.879 98.8854 362.758 L98.8854 358.592 Q101.547 357.851 103.862 357.481 Q106.2 357.11 108.26 357.11 Q113.584 357.11 116.686 359.541 Q119.788 361.948 119.788 366.068 Q119.788 368.939 118.145 370.93 Q116.501 372.897 113.469 373.661 Z\" fill=\"#000000\" fill-rule=\"nonzero\" fill-opacity=\"1\" /><path clip-path=\"url(#clip570)\" d=\"M62.9365 196.928 Q59.3254 196.928 57.4967 200.493 Q55.6912 204.035 55.6912 211.164 Q55.6912 218.271 57.4967 221.836 Q59.3254 225.377 62.9365 225.377 Q66.5707 225.377 68.3763 221.836 Q70.205 218.271 70.205 211.164 Q70.205 204.035 68.3763 200.493 Q66.5707 196.928 62.9365 196.928 M62.9365 193.225 Q68.7467 193.225 71.8022 197.831 Q74.8809 202.414 74.8809 211.164 Q74.8809 219.891 71.8022 224.498 Q68.7467 229.081 62.9365 229.081 Q57.1264 229.081 54.0477 224.498 Q50.9921 219.891 50.9921 211.164 Q50.9921 202.414 54.0477 197.831 Q57.1264 193.225 62.9365 193.225 Z\" fill=\"#000000\" fill-rule=\"nonzero\" fill-opacity=\"1\" /><path clip-path=\"url(#clip570)\" d=\"M83.0984 222.53 L87.9827 222.53 L87.9827 228.41 L83.0984 228.41 L83.0984 222.53 Z\" fill=\"#000000\" fill-rule=\"nonzero\" fill-opacity=\"1\" /><path clip-path=\"url(#clip570)\" d=\"M111.015 197.924 L99.2095 216.373 L111.015 216.373 L111.015 197.924 M109.788 193.85 L115.668 193.85 L115.668 216.373 L120.598 216.373 L120.598 220.262 L115.668 220.262 L115.668 228.41 L111.015 228.41 L111.015 220.262 L95.4132 220.262 L95.4132 215.748 L109.788 193.85 Z\" fill=\"#000000\" fill-rule=\"nonzero\" fill-opacity=\"1\" /><path clip-path=\"url(#clip570)\" d=\"M64.418 33.0428 Q60.8069 33.0428 58.9782 36.6076 Q57.1726 40.1492 57.1726 47.2788 Q57.1726 54.3853 58.9782 57.9501 Q60.8069 61.4917 64.418 61.4917 Q68.0522 61.4917 69.8578 57.9501 Q71.6865 54.3853 71.6865 47.2788 Q71.6865 40.1492 69.8578 36.6076 Q68.0522 33.0428 64.418 33.0428 M64.418 29.3391 Q70.2281 29.3391 73.2837 33.9456 Q76.3624 38.5289 76.3624 47.2788 Q76.3624 56.0056 73.2837 60.6121 Q70.2281 65.1954 64.418 65.1954 Q58.6078 65.1954 55.5291 60.6121 Q52.4736 56.0056 52.4736 47.2788 Q52.4736 38.5289 55.5291 33.9456 Q58.6078 29.3391 64.418 29.3391 Z\" fill=\"#000000\" fill-rule=\"nonzero\" fill-opacity=\"1\" /><path clip-path=\"url(#clip570)\" d=\"M84.5799 58.6445 L89.4641 58.6445 L89.4641 64.5241 L84.5799 64.5241 L84.5799 58.6445 Z\" fill=\"#000000\" fill-rule=\"nonzero\" fill-opacity=\"1\" /><path clip-path=\"url(#clip570)\" d=\"M99.6956 29.9641 L118.052 29.9641 L118.052 33.8993 L103.978 33.8993 L103.978 42.3714 Q104.996 42.0242 106.015 41.8622 Q107.033 41.677 108.052 41.677 Q113.839 41.677 117.219 44.8483 Q120.598 48.0196 120.598 53.4362 Q120.598 59.0149 117.126 62.1167 Q113.654 65.1954 107.334 65.1954 Q105.159 65.1954 102.89 64.825 Q100.645 64.4547 98.2372 63.7139 L98.2372 59.0149 Q100.321 60.1491 102.543 60.7047 Q104.765 61.2602 107.242 61.2602 Q111.246 61.2602 113.584 59.1538 Q115.922 57.0473 115.922 53.4362 Q115.922 49.8251 113.584 47.7186 Q111.246 45.6122 107.242 45.6122 Q105.367 45.6122 103.492 46.0288 Q101.64 46.4455 99.6956 47.3251 L99.6956 29.9641 Z\" fill=\"#000000\" fill-rule=\"nonzero\" fill-opacity=\"1\" /><polyline clip-path=\"url(#clip572)\" style=\"stroke:#009af9; stroke-linecap:round; stroke-linejoin:round; stroke-width:4; stroke-opacity:1; fill:none\" points=\"156.598,866.672 157.564,865.035 158.531,863.401 159.497,861.77 160.463,860.143 161.429,858.519 162.396,856.898 163.362,855.28 164.328,853.666 165.294,852.055 166.261,850.447 167.227,848.843 168.193,847.242 169.159,845.644 170.126,844.049 171.092,842.458 172.058,840.87 173.024,839.285 173.991,837.703 174.957,836.125 175.923,834.55 176.889,832.978 177.855,831.41 178.822,829.845 179.788,828.283 180.754,826.724 181.72,825.169 182.687,823.617 183.653,822.068 184.619,820.522 185.585,818.98 186.552,817.441 187.518,815.905 188.484,814.372 189.45,812.843 190.417,811.317 191.383,809.794 192.349,808.275 193.315,806.758 194.282,805.245 195.248,803.736 196.214,802.229 197.18,800.726 198.147,799.226 199.113,797.729 200.079,796.235 201.045,794.745 202.011,793.258 202.978,791.774 203.944,790.293 204.91,788.816 205.876,787.342 206.843,785.871 207.809,784.403 208.775,782.939 209.741,781.477 210.708,780.019 211.674,778.564 212.64,777.113 213.606,775.664 214.573,774.219 215.539,772.777 216.505,771.338 217.471,769.903 218.438,768.47 219.404,767.041 220.37,765.615 221.336,764.192 222.302,762.773 223.269,761.356 224.235,759.943 225.201,758.533 226.167,757.126 227.134,755.722 228.1,754.322 229.066,752.924 230.032,751.53 230.999,750.139 231.965,748.751 232.931,747.367 233.897,745.985 234.864,744.607 235.83,743.231 236.796,741.859 237.762,740.49 238.729,739.124 239.695,737.762 240.661,736.402 241.627,735.046 242.593,733.692 243.56,732.342 244.526,730.995 245.492,729.651 246.458,728.31 247.425,726.972 248.391,725.638 249.357,724.306 250.323,722.978 251.29,721.652 252.256,720.33 253.222,719.011 254.188,717.695 255.155,716.382 256.121,715.072 257.087,713.765 258.053,712.461 259.02,711.16 259.986,709.863 260.952,708.568 261.918,707.277 262.885,705.988 263.851,704.702 264.817,703.42 265.783,702.141 266.749,700.864 267.716,699.591 268.682,698.32 269.648,697.053 270.614,695.789 271.581,694.527 272.547,693.269 273.513,692.014 274.479,690.761 275.446,689.512 276.412,688.265 277.378,687.022 278.344,685.782 279.311,684.544 280.277,683.31 281.243,682.078 282.209,680.849 283.176,679.624 284.142,678.401 285.108,677.181 286.074,675.964 287.04,674.75 288.007,673.539 288.973,672.331 289.939,671.126 290.905,669.924 291.872,668.724 292.838,667.528 293.804,666.334 294.77,665.143 295.737,663.956 296.703,662.771 297.669,661.588 298.635,660.409 299.602,659.233 300.568,658.059 301.534,656.889 302.5,655.721 303.467,654.556 304.433,653.393 305.399,652.234 306.365,651.077 307.331,649.924 308.298,648.773 309.264,647.624 310.23,646.479 311.196,645.336 312.163,644.196 313.129,643.059 314.095,641.925 315.061,640.794 316.028,639.665 316.994,638.539 317.96,637.415 318.926,636.295 319.893,635.177 320.859,634.062 321.825,632.949 322.791,631.84 323.758,630.732 324.724,629.628 325.69,628.526 326.656,627.427 327.623,626.331 328.589,625.238 329.555,624.147 330.521,623.058 331.487,621.972 332.454,620.889 333.42,619.809 334.386,618.731 335.352,617.656 336.319,616.583 337.285,615.513 338.251,614.446 339.217,613.381 340.184,612.319 341.15,611.259 342.116,610.202 343.082,609.148 344.049,608.096 345.015,607.046 345.981,605.999 346.947,604.955 347.914,603.913 348.88,602.874 349.846,601.837 350.812,600.803 351.778,599.771 352.745,598.741 353.711,597.715 354.677,596.69 355.643,595.668 356.61,594.649 357.576,593.632 358.542,592.617 359.508,591.605 360.475,590.595 361.441,589.587 362.407,588.582 363.373,587.58 364.34,586.58 365.306,585.582 366.272,584.586 367.238,583.593 368.205,582.603 369.171,581.614 370.137,580.628 371.103,579.644 372.069,578.663 373.036,577.684 374.002,576.707 374.968,575.732 375.934,574.76 376.901,573.79 377.867,572.823 378.833,571.857 379.799,570.894 380.766,569.933 381.732,568.974 382.698,568.018 383.664,567.064 384.631,566.112 385.597,565.162 386.563,564.214 387.529,563.269 388.496,562.325 389.462,561.384 390.428,560.445 391.394,559.508 392.361,558.574 393.327,557.641 394.293,556.711 395.259,555.782 396.225,554.856 397.192,553.932 398.158,553.01 399.124,552.09 400.09,551.172 401.057,550.256 402.023,549.342 402.989,548.43 403.955,547.52 404.922,546.612 405.888,545.707 406.854,544.803 407.82,543.901 408.787,543.001 409.753,542.103 410.719,541.208 411.685,540.314 412.652,539.422 413.618,538.531 414.584,537.643 415.55,536.757 416.516,535.873 417.483,534.99 418.449,534.11 419.415,533.231 420.381,532.354 421.348,531.479 422.314,530.606 423.28,529.734 424.246,528.865 425.213,527.997 426.179,527.131 427.145,526.267 428.111,525.405 429.078,524.544 430.044,523.685 431.01,522.828 431.976,521.973 432.943,521.119 433.909,520.268 434.875,519.417 435.841,518.569 436.808,517.722 437.774,516.877 438.74,516.034 439.706,515.192 440.672,514.352 441.639,513.513 442.605,512.676 443.571,511.841 444.537,511.008 445.504,510.175 446.47,509.345 447.436,508.516 448.402,507.689 449.369,506.863 450.335,506.039 451.301,505.216 452.267,504.395 453.234,503.575 454.2,502.757 455.166,501.94 456.132,501.125 457.099,500.312 458.065,499.499 459.031,498.688 459.997,497.879 460.963,497.071 461.93,496.265 462.896,495.459 463.862,494.656 464.828,493.853 465.795,493.052 466.761,492.253 467.727,491.455 468.693,490.658 469.66,489.862 470.626,489.068 471.592,488.275 472.558,487.483 473.525,486.693 474.491,485.904 475.457,485.116 476.423,484.329 477.39,483.544 478.356,482.76 479.322,481.977 480.288,481.195 481.254,480.415 482.221,479.636 483.187,478.857 484.153,478.08 485.119,477.305 486.086,476.53 487.052,475.757 488.018,474.984 488.984,474.213 489.951,473.443 490.917,472.674 491.883,471.906 492.849,471.139 493.816,470.373 494.782,469.608 495.748,468.844 496.714,468.082 497.681,467.32 498.647,466.559 499.613,465.799 500.579,465.041 501.546,464.283 502.512,463.526 503.478,462.77 504.444,462.015 505.41,461.261 506.377,460.508 507.343,459.756 508.309,459.005 509.275,458.254 510.242,457.505 511.208,456.756 512.174,456.008 513.14,455.261 514.107,454.515 515.073,453.77 516.039,453.025 517.005,452.282 517.972,451.539 518.938,450.797 519.904,450.055 520.87,449.315 521.837,448.575 522.803,447.836 523.769,447.097 524.735,446.36 525.701,445.623 526.668,444.886 527.634,444.151 528.6,443.416 529.566,442.682 530.533,441.948 531.499,441.215 532.465,440.483 533.431,439.751 534.398,439.02 535.364,438.289 536.33,437.559 537.296,436.83 538.263,436.101 539.229,435.373 540.195,434.645 541.161,433.918 542.128,433.191 543.094,432.465 544.06,431.74 545.026,431.014 545.992,430.29 546.959,429.566 547.925,428.842 548.891,428.119 549.857,427.396 550.824,426.674 551.79,425.952 552.756,425.23 553.722,424.509 554.689,423.788 555.655,423.068 556.621,422.348 557.587,421.628 558.554,420.909 559.52,420.19 560.486,419.472 561.452,418.754 562.419,418.036 563.385,417.318 564.351,416.601 565.317,415.884 566.284,415.167 567.25,414.451 568.216,413.735 569.182,413.019 570.148,412.303 571.115,411.588 572.081,410.872 573.047,410.157 574.013,409.443 574.98,408.728 575.946,408.014 576.912,407.3 577.878,406.586 578.845,405.872 579.811,405.158 580.777,404.444 581.743,403.731 582.71,403.018 583.676,402.305 584.642,401.592 585.608,400.879 586.575,400.166 587.541,399.453 588.507,398.74 589.473,398.028 590.439,397.315 591.406,396.603 592.372,395.891 593.338,395.178 594.304,394.466 595.271,393.754 596.237,393.041 597.203,392.329 598.169,391.617 599.136,390.905 600.102,390.192 601.068,389.48 602.034,388.768 603.001,388.055 603.967,387.343 604.933,386.631 605.899,385.918 606.866,385.206 607.832,384.493 608.798,383.781 609.764,383.068 610.73,382.355 611.697,381.642 612.663,380.929 613.629,380.216 614.595,379.503 615.562,378.79 616.528,378.076 617.494,377.363 618.46,376.649 619.427,375.935 620.393,375.221 621.359,374.507 622.325,373.793 623.292,373.079 624.258,372.364 625.224,371.65 626.19,370.935 627.157,370.22 628.123,369.504 629.089,368.789 630.055,368.073 631.022,367.358 631.988,366.642 632.954,365.925 633.92,365.209 634.886,364.492 635.853,363.776 636.819,363.059 637.785,362.341 638.751,361.624 639.718,360.906 640.684,360.188 641.65,359.47 642.616,358.752 643.583,358.033 644.549,357.314 645.515,356.595 646.481,355.876 647.448,355.156 648.414,354.436 649.38,353.716 650.346,352.996 651.313,352.275 652.279,351.555 653.245,350.833 654.211,350.112 655.177,349.39 656.144,348.668 657.11,347.946 658.076,347.224 659.042,346.501 660.009,345.778 660.975,345.055 661.941,344.331 662.907,343.608 663.874,342.884 664.84,342.159 665.806,341.435 666.772,340.71 667.739,339.985 668.705,339.259 669.671,338.534 670.637,337.808 671.604,337.082 672.57,336.355 673.536,335.628 674.502,334.901 675.468,334.174 676.435,333.447 677.401,332.719 678.367,331.991 679.333,331.263 680.3,330.534 681.266,329.805 682.232,329.076 683.198,328.347 684.165,327.618 685.131,326.888 686.097,326.158 687.063,325.428 688.03,324.697 688.996,323.967 689.962,323.236 690.928,322.505 691.895,321.774 692.861,321.042 693.827,320.311 694.793,319.579 695.76,318.847 696.726,318.114 697.692,317.382 698.658,316.649 699.624,315.917 700.591,315.184 701.557,314.451 702.523,313.717 703.489,312.984 704.456,312.25 705.422,311.517 706.388,310.783 707.354,310.049 708.321,309.315 709.287,308.581 710.253,307.846 711.219,307.112 712.186,306.378 713.152,305.643 714.118,304.909 715.084,304.174 716.051,303.439 717.017,302.705 717.983,301.97 718.949,301.235 719.915,300.5 720.882,299.765 721.848,299.031 722.814,298.296 723.78,297.561 724.747,296.826 725.713,296.091 726.679,295.357 727.645,294.622 728.612,293.888 729.578,293.153 730.544,292.419 731.51,291.685 732.477,290.95 733.443,290.216 734.409,289.482 735.375,288.749 736.342,288.015 737.308,287.282 738.274,286.548 739.24,285.815 740.206,285.083 741.173,284.35 742.139,283.618 743.105,282.886 744.071,282.154 745.038,281.422 746.004,280.691 746.97,279.96 747.936,279.229 748.903,278.499 749.869,277.769 750.835,277.039 751.801,276.31 752.768,275.581 753.734,274.852 754.7,274.124 755.666,273.397 756.633,272.669 757.599,271.943 758.565,271.216 759.531,270.491 760.498,269.765 761.464,269.04 762.43,268.316 763.396,267.593 764.362,266.869 765.329,266.147 766.295,265.425 767.261,264.704 768.227,263.983 769.194,263.263 770.16,262.544 771.126,261.825 772.092,261.107 773.059,260.39 774.025,259.673 774.991,258.957 775.957,258.243 776.924,257.528 777.89,256.815 778.856,256.102 779.822,255.391 780.789,254.68 781.755,253.97 782.721,253.261 783.687,252.552 784.653,251.845 785.62,251.139 786.586,250.434 787.552,249.729 788.518,249.026 789.485,248.324 790.451,247.622 791.417,246.922 792.383,246.223 793.35,245.525 794.316,244.828 795.282,244.132 796.248,243.437 797.215,242.744 798.181,242.052 799.147,241.361 800.113,240.671 801.08,239.982 802.046,239.295 803.012,238.609 803.978,237.924 804.945,237.24 805.911,236.558 806.877,235.878 807.843,235.198 808.809,234.52 809.776,233.843 810.742,233.168 811.708,232.495 812.674,231.822 813.641,231.151 814.607,230.482 815.573,229.814 816.539,229.148 817.506,228.483 818.472,227.82 819.438,227.159 820.404,226.499 821.371,225.84 822.337,225.184 823.303,224.528 824.269,223.875 825.236,223.223 826.202,222.573 827.168,221.925 828.134,221.278 829.1,220.633 830.067,219.99 831.033,219.349 831.999,218.709 832.965,218.071 833.932,217.435 834.898,216.801 835.864,216.169 836.83,215.538 837.797,214.91 838.763,214.283 839.729,213.658 840.695,213.035 841.662,212.414 842.628,211.795 843.594,211.178 844.56,210.562 845.527,209.949 846.493,209.338 847.459,208.728 848.425,208.121 849.391,207.515 850.358,206.912 851.324,206.31 852.29,205.71 853.256,205.113 854.223,204.517 855.189,203.924 856.155,203.332 857.121,202.743 858.088,202.155 859.054,201.569 860.02,200.986 860.986,200.404 861.953,199.825 862.919,199.248 863.885,198.672 864.851,198.099 865.818,197.527 866.784,196.958 867.75,196.39 868.716,195.825 869.683,195.262 870.649,194.7 871.615,194.141 872.581,193.583 873.547,193.027 874.514,192.474 875.48,191.922 876.446,191.372 877.412,190.825 878.379,190.279 879.345,189.735 880.311,189.192 881.277,188.652 882.244,188.113 883.21,187.577 884.176,187.042 885.142,186.509 886.109,185.977 887.075,185.448 888.041,184.92 889.007,184.393 889.974,183.869 890.94,183.346 891.906,182.824 892.872,182.304 893.838,181.786 894.805,181.269 895.771,180.754 896.737,180.24 897.703,179.728 898.67,179.217 899.636,178.707 900.602,178.198 901.568,177.691 902.535,177.185 903.501,176.68 904.467,176.177 905.433,175.674 906.4,175.172 907.366,174.672 908.332,174.172 909.298,173.673 910.265,173.175 911.231,172.678 912.197,172.182 913.163,171.686 914.129,171.191 915.096,170.696 916.062,170.202 917.028,169.709 917.994,169.215 918.961,168.723 919.927,168.23 920.893,167.737 921.859,167.245 922.826,166.753 923.792,166.26 924.758,165.768 925.724,165.275 926.691,164.782 927.657,164.289 928.623,163.796 929.589,163.302 930.556,162.807 931.522,162.312 932.488,161.816 933.454,161.32 934.421,160.822 935.387,160.324 936.353,159.824 937.319,159.323 938.285,158.822 939.252,158.319 940.218,157.814 941.184,157.308 942.15,156.8 943.117,156.291 944.083,155.78 945.049,155.268 946.015,154.753 946.982,154.236 947.948,153.717 948.914,153.196 949.88,152.673 950.847,152.147 951.813,151.619 952.779,151.088 953.745,150.555 954.712,150.019 955.678,149.48 956.644,148.938 957.61,148.393 958.576,147.844 959.543,147.293 960.509,146.738 961.475,146.18 962.441,145.619 963.408,145.054 964.374,144.485 965.34,143.912 966.306,143.336 967.273,142.756 968.239,142.172 969.205,141.583 970.171,140.991 971.138,140.394 972.104,139.794 973.07,139.188 974.036,138.579 975.003,137.965 975.969,137.347 976.935,136.724 977.901,136.096 978.867,135.464 979.834,134.827 980.8,134.186 981.766,133.54 982.732,132.889 983.699,132.234 984.665,131.573 985.631,130.908 986.597,130.238 987.564,129.564 988.53,128.885 989.496,128.201 990.462,127.512 991.429,126.819 992.395,126.121 993.361,125.419 994.327,124.713 995.294,124.002 996.26,123.286 997.226,122.567 998.192,121.844 999.159,121.116 1000.12,120.385 1001.09,119.651 1002.06,118.912 1003.02,118.171 1003.99,117.426 1004.96,116.679 1005.92,115.928 1006.89,115.175 1007.85,114.42 1008.82,113.663 1009.79,112.904 1010.75,112.144 1011.72,111.382 1012.69,110.619 1013.65,109.856 1014.62,109.093 1015.58,108.329 1016.55,107.567 1017.52,106.804 1018.48,106.044 1019.45,105.285 1020.42,104.528 1021.38,103.773 1022.35,103.022 1023.31,102.274 1024.28,101.53 1025.25,100.79 1026.21,100.055 1027.18,99.3261 1028.15,98.6029 1029.11,97.8863 1030.08,97.1768 1031.04,96.4751 1032.01,95.7816 1032.98,95.0969 1033.94,94.4217 1034.91,93.7565 1035.88,93.1019 1036.84,92.4584 1037.81,91.8267 1038.77,91.2074 1039.74,90.601 1040.71,90.008 1041.67,89.4289 1042.64,88.8644 1043.61,88.3149 1044.57,87.7808 1045.54,87.2627 1046.5,86.7608 1047.47,86.2755 1048.44,85.8072 1049.4,85.3561 1050.37,84.9224 1051.34,84.5063 1052.3,84.1077 1053.27,83.7267 1054.23,83.3631 1055.2,83.0168 1056.17,82.6874 1057.13,82.3745 1058.1,82.0776 1059.07,81.796 1060.03,81.5289 1061,81.2754 1061.96,81.0342 1062.93,80.8042 1063.9,80.5838 1064.86,80.3715 1065.83,80.1655 1066.8,79.9636 1067.76,79.7636 1068.73,79.5632 1069.69,79.3596 1070.66,79.15 1071.63,78.9313 1072.59,78.7003 1073.56,78.4535 1074.53,78.1872 1075.49,77.8976 1076.46,77.5808 1077.42,77.2326 1078.39,76.8489 1079.36,76.4256 1080.32,75.9585 1081.29,75.4435 1082.26,74.8769 1083.22,74.2551 1084.19,73.5748 1085.15,72.8335 1086.12,72.0292 1087.09,71.1608 1088.05,70.2282 1089.02,69.2326 1089.98,68.1766 1090.95,67.0646 1091.92,65.903 1092.88,64.7004 1093.85,63.468 1094.82,62.2196 1095.78,60.9722 1096.75,59.7456 1097.71,58.563 1098.68,57.4504 1099.65,56.4364 1100.61,55.5517 1101.58,54.8276 1102.55,54.2945 1103.51,53.9796 1104.48,53.9033 1105.44,54.0752 1106.41,54.488 1107.38,55.1112 1108.34,55.8831 1109.31,56.7027 1110.28,57.424 1111.24,57.8541 1112.21,57.7633 1113.17,56.9158 1114.14,55.138 1115.11,52.442 1116.07,49.2184 1117.04,46.46 1118.01,45.7993 1118.97,48.6508 1119.94,52.9629 1120.9,49.0972 1121.87,47.0405 \"/>\n",
       "<path clip-path=\"url(#clip570)\" d=\"M188.806 178.238 L369.018 178.238 L369.018 74.5584 L188.806 74.5584  Z\" fill=\"#ffffff\" fill-rule=\"evenodd\" fill-opacity=\"1\"/>\n",
       "<polyline clip-path=\"url(#clip570)\" style=\"stroke:#000000; stroke-linecap:round; stroke-linejoin:round; stroke-width:4; stroke-opacity:1; fill:none\" points=\"188.806,178.238 369.018,178.238 369.018,74.5584 188.806,74.5584 188.806,178.238 \"/>\n",
       "<polyline clip-path=\"url(#clip570)\" style=\"stroke:#009af9; stroke-linecap:round; stroke-linejoin:round; stroke-width:4; stroke-opacity:1; fill:none\" points=\"199.542,126.398 263.958,126.398 \"/>\n",
       "<path clip-path=\"url(#clip570)\" d=\"M274.694 109.118 L294.555 109.118 L294.555 113.054 L279.37 113.054 L279.37 123.239 L293.074 123.239 L293.074 127.174 L279.37 127.174 L279.37 143.678 L274.694 143.678 L274.694 109.118 Z\" fill=\"#000000\" fill-rule=\"nonzero\" fill-opacity=\"1\" /><path clip-path=\"url(#clip570)\" d=\"M312.009 107.706 Q308.907 113.03 307.402 118.239 Q305.898 123.447 305.898 128.794 Q305.898 134.141 307.402 139.396 Q308.93 144.627 312.009 149.928 L308.305 149.928 Q304.833 144.489 303.097 139.234 Q301.384 133.979 301.384 128.794 Q301.384 123.632 303.097 118.401 Q304.81 113.169 308.305 107.706 L312.009 107.706 Z\" fill=\"#000000\" fill-rule=\"nonzero\" fill-opacity=\"1\" /><path clip-path=\"url(#clip570)\" d=\"M341.823 117.753 L332.448 130.368 L342.309 143.678 L337.286 143.678 L329.74 133.493 L322.194 143.678 L317.171 143.678 L327.24 130.114 L318.027 117.753 L323.05 117.753 L329.925 126.989 L336.8 117.753 L341.823 117.753 Z\" fill=\"#000000\" fill-rule=\"nonzero\" fill-opacity=\"1\" /><path clip-path=\"url(#clip570)\" d=\"M347.657 107.706 L351.36 107.706 Q354.833 113.169 356.546 118.401 Q358.282 123.632 358.282 128.794 Q358.282 133.979 356.546 139.234 Q354.833 144.489 351.36 149.928 L347.657 149.928 Q350.735 144.627 352.24 139.396 Q353.768 134.141 353.768 128.794 Q353.768 123.447 352.24 118.239 Q350.735 113.03 347.657 107.706 Z\" fill=\"#000000\" fill-rule=\"nonzero\" fill-opacity=\"1\" /><path clip-path=\"url(#clip570)\" d=\"M1386.52 866.672 L2352.76 866.672 L2352.76 47.2441 L1386.52 47.2441  Z\" fill=\"#ffffff\" fill-rule=\"evenodd\" fill-opacity=\"1\"/>\n",
       "<defs>\n",
       "  <clipPath id=\"clip573\">\n",
       "    <rect x=\"1386\" y=\"47\" width=\"967\" height=\"820\"/>\n",
       "  </clipPath>\n",
       "</defs>\n",
       "<polyline clip-path=\"url(#clip573)\" style=\"stroke:#000000; stroke-linecap:round; stroke-linejoin:round; stroke-width:2; stroke-opacity:0.1; fill:none\" points=\"1386.52,866.672 1386.52,47.2441 \"/>\n",
       "<polyline clip-path=\"url(#clip573)\" style=\"stroke:#000000; stroke-linecap:round; stroke-linejoin:round; stroke-width:2; stroke-opacity:0.1; fill:none\" points=\"1628.08,866.672 1628.08,47.2441 \"/>\n",
       "<polyline clip-path=\"url(#clip573)\" style=\"stroke:#000000; stroke-linecap:round; stroke-linejoin:round; stroke-width:2; stroke-opacity:0.1; fill:none\" points=\"1869.64,866.672 1869.64,47.2441 \"/>\n",
       "<polyline clip-path=\"url(#clip573)\" style=\"stroke:#000000; stroke-linecap:round; stroke-linejoin:round; stroke-width:2; stroke-opacity:0.1; fill:none\" points=\"2111.2,866.672 2111.2,47.2441 \"/>\n",
       "<polyline clip-path=\"url(#clip573)\" style=\"stroke:#000000; stroke-linecap:round; stroke-linejoin:round; stroke-width:2; stroke-opacity:0.1; fill:none\" points=\"2352.76,866.672 2352.76,47.2441 \"/>\n",
       "<polyline clip-path=\"url(#clip570)\" style=\"stroke:#000000; stroke-linecap:round; stroke-linejoin:round; stroke-width:4; stroke-opacity:1; fill:none\" points=\"1386.52,866.672 2352.76,866.672 \"/>\n",
       "<polyline clip-path=\"url(#clip570)\" style=\"stroke:#000000; stroke-linecap:round; stroke-linejoin:round; stroke-width:4; stroke-opacity:1; fill:none\" points=\"1386.52,866.672 1386.52,847.774 \"/>\n",
       "<polyline clip-path=\"url(#clip570)\" style=\"stroke:#000000; stroke-linecap:round; stroke-linejoin:round; stroke-width:4; stroke-opacity:1; fill:none\" points=\"1628.08,866.672 1628.08,847.774 \"/>\n",
       "<polyline clip-path=\"url(#clip570)\" style=\"stroke:#000000; stroke-linecap:round; stroke-linejoin:round; stroke-width:4; stroke-opacity:1; fill:none\" points=\"1869.64,866.672 1869.64,847.774 \"/>\n",
       "<polyline clip-path=\"url(#clip570)\" style=\"stroke:#000000; stroke-linecap:round; stroke-linejoin:round; stroke-width:4; stroke-opacity:1; fill:none\" points=\"2111.2,866.672 2111.2,847.774 \"/>\n",
       "<polyline clip-path=\"url(#clip570)\" style=\"stroke:#000000; stroke-linecap:round; stroke-linejoin:round; stroke-width:4; stroke-opacity:1; fill:none\" points=\"2352.76,866.672 2352.76,847.774 \"/>\n",
       "<path clip-path=\"url(#clip570)\" d=\"M1303.58 897.591 Q1299.97 897.591 1298.14 901.155 Q1296.33 904.697 1296.33 911.827 Q1296.33 918.933 1298.14 922.498 Q1299.97 926.039 1303.58 926.039 Q1307.21 926.039 1309.02 922.498 Q1310.85 918.933 1310.85 911.827 Q1310.85 904.697 1309.02 901.155 Q1307.21 897.591 1303.58 897.591 M1303.58 893.887 Q1309.39 893.887 1312.44 898.493 Q1315.52 903.077 1315.52 911.827 Q1315.52 920.553 1312.44 925.16 Q1309.39 929.743 1303.58 929.743 Q1297.77 929.743 1294.69 925.16 Q1291.63 920.553 1291.63 911.827 Q1291.63 903.077 1294.69 898.493 Q1297.77 893.887 1303.58 893.887 Z\" fill=\"#000000\" fill-rule=\"nonzero\" fill-opacity=\"1\" /><path clip-path=\"url(#clip570)\" d=\"M1323.74 923.192 L1328.62 923.192 L1328.62 929.072 L1323.74 929.072 L1323.74 923.192 Z\" fill=\"#000000\" fill-rule=\"nonzero\" fill-opacity=\"1\" /><path clip-path=\"url(#clip570)\" d=\"M1338.95 928.354 L1338.95 924.095 Q1340.71 924.928 1342.51 925.368 Q1344.32 925.808 1346.05 925.808 Q1350.68 925.808 1353.11 922.706 Q1355.57 919.581 1355.92 913.239 Q1354.57 915.229 1352.51 916.294 Q1350.45 917.359 1347.95 917.359 Q1342.77 917.359 1339.73 914.234 Q1336.73 911.086 1336.73 905.646 Q1336.73 900.322 1339.87 897.104 Q1343.02 893.887 1348.25 893.887 Q1354.25 893.887 1357.4 898.493 Q1360.57 903.077 1360.57 911.827 Q1360.57 919.998 1356.68 924.882 Q1352.81 929.743 1346.26 929.743 Q1344.5 929.743 1342.7 929.396 Q1340.89 929.049 1338.95 928.354 M1348.25 913.702 Q1351.4 913.702 1353.23 911.549 Q1355.08 909.396 1355.08 905.646 Q1355.08 901.919 1353.23 899.766 Q1351.4 897.591 1348.25 897.591 Q1345.11 897.591 1343.25 899.766 Q1341.42 901.919 1341.42 905.646 Q1341.42 909.396 1343.25 911.549 Q1345.11 913.702 1348.25 913.702 Z\" fill=\"#000000\" fill-rule=\"nonzero\" fill-opacity=\"1\" /><path clip-path=\"url(#clip570)\" d=\"M1369.11 928.354 L1369.11 924.095 Q1370.87 924.928 1372.67 925.368 Q1374.48 925.808 1376.22 925.808 Q1380.85 925.808 1383.28 922.706 Q1385.73 919.581 1386.08 913.239 Q1384.73 915.229 1382.67 916.294 Q1380.61 917.359 1378.11 917.359 Q1372.93 917.359 1369.9 914.234 Q1366.89 911.086 1366.89 905.646 Q1366.89 900.322 1370.04 897.104 Q1373.18 893.887 1378.42 893.887 Q1384.41 893.887 1387.56 898.493 Q1390.73 903.077 1390.73 911.827 Q1390.73 919.998 1386.84 924.882 Q1382.98 929.743 1376.42 929.743 Q1374.67 929.743 1372.86 929.396 Q1371.05 929.049 1369.11 928.354 M1378.42 913.702 Q1381.56 913.702 1383.39 911.549 Q1385.24 909.396 1385.24 905.646 Q1385.24 901.919 1383.39 899.766 Q1381.56 897.591 1378.42 897.591 Q1375.27 897.591 1373.42 899.766 Q1371.59 901.919 1371.59 905.646 Q1371.59 909.396 1373.42 911.549 Q1375.27 913.702 1378.42 913.702 Z\" fill=\"#000000\" fill-rule=\"nonzero\" fill-opacity=\"1\" /><path clip-path=\"url(#clip570)\" d=\"M1399.27 928.354 L1399.27 924.095 Q1401.03 924.928 1402.84 925.368 Q1404.64 925.808 1406.38 925.808 Q1411.01 925.808 1413.44 922.706 Q1415.89 919.581 1416.24 913.239 Q1414.9 915.229 1412.84 916.294 Q1410.78 917.359 1408.28 917.359 Q1403.09 917.359 1400.06 914.234 Q1397.05 911.086 1397.05 905.646 Q1397.05 900.322 1400.2 897.104 Q1403.35 893.887 1408.58 893.887 Q1414.57 893.887 1417.72 898.493 Q1420.89 903.077 1420.89 911.827 Q1420.89 919.998 1417 924.882 Q1413.14 929.743 1406.59 929.743 Q1404.83 929.743 1403.02 929.396 Q1401.22 929.049 1399.27 928.354 M1408.58 913.702 Q1411.73 913.702 1413.55 911.549 Q1415.41 909.396 1415.41 905.646 Q1415.41 901.919 1413.55 899.766 Q1411.73 897.591 1408.58 897.591 Q1405.43 897.591 1403.58 899.766 Q1401.75 901.919 1401.75 905.646 Q1401.75 909.396 1403.58 911.549 Q1405.43 913.702 1408.58 913.702 Z\" fill=\"#000000\" fill-rule=\"nonzero\" fill-opacity=\"1\" /><path clip-path=\"url(#clip570)\" d=\"M1439.29 897.591 Q1435.68 897.591 1433.85 901.155 Q1432.05 904.697 1432.05 911.827 Q1432.05 918.933 1433.85 922.498 Q1435.68 926.039 1439.29 926.039 Q1442.93 926.039 1444.73 922.498 Q1446.56 918.933 1446.56 911.827 Q1446.56 904.697 1444.73 901.155 Q1442.93 897.591 1439.29 897.591 M1439.29 893.887 Q1445.1 893.887 1448.16 898.493 Q1451.24 903.077 1451.24 911.827 Q1451.24 920.553 1448.16 925.16 Q1445.1 929.743 1439.29 929.743 Q1433.48 929.743 1430.41 925.16 Q1427.35 920.553 1427.35 911.827 Q1427.35 903.077 1430.41 898.493 Q1433.48 893.887 1439.29 893.887 Z\" fill=\"#000000\" fill-rule=\"nonzero\" fill-opacity=\"1\" /><path clip-path=\"url(#clip570)\" d=\"M1469.46 897.591 Q1465.85 897.591 1464.02 901.155 Q1462.21 904.697 1462.21 911.827 Q1462.21 918.933 1464.02 922.498 Q1465.85 926.039 1469.46 926.039 Q1473.09 926.039 1474.9 922.498 Q1476.72 918.933 1476.72 911.827 Q1476.72 904.697 1474.9 901.155 Q1473.09 897.591 1469.46 897.591 M1469.46 893.887 Q1475.27 893.887 1478.32 898.493 Q1481.4 903.077 1481.4 911.827 Q1481.4 920.553 1478.32 925.16 Q1475.27 929.743 1469.46 929.743 Q1463.65 929.743 1460.57 925.16 Q1457.51 920.553 1457.51 911.827 Q1457.51 903.077 1460.57 898.493 Q1463.65 893.887 1469.46 893.887 Z\" fill=\"#000000\" fill-rule=\"nonzero\" fill-opacity=\"1\" /><path clip-path=\"url(#clip570)\" d=\"M1545.64 897.591 Q1542.02 897.591 1540.2 901.155 Q1538.39 904.697 1538.39 911.827 Q1538.39 918.933 1540.2 922.498 Q1542.02 926.039 1545.64 926.039 Q1549.27 926.039 1551.07 922.498 Q1552.9 918.933 1552.9 911.827 Q1552.9 904.697 1551.07 901.155 Q1549.27 897.591 1545.64 897.591 M1545.64 893.887 Q1551.45 893.887 1554.5 898.493 Q1557.58 903.077 1557.58 911.827 Q1557.58 920.553 1554.5 925.16 Q1551.45 929.743 1545.64 929.743 Q1539.82 929.743 1536.75 925.16 Q1533.69 920.553 1533.69 911.827 Q1533.69 903.077 1536.75 898.493 Q1539.82 893.887 1545.64 893.887 Z\" fill=\"#000000\" fill-rule=\"nonzero\" fill-opacity=\"1\" /><path clip-path=\"url(#clip570)\" d=\"M1565.8 923.192 L1570.68 923.192 L1570.68 929.072 L1565.8 929.072 L1565.8 923.192 Z\" fill=\"#000000\" fill-rule=\"nonzero\" fill-opacity=\"1\" /><path clip-path=\"url(#clip570)\" d=\"M1581.01 928.354 L1581.01 924.095 Q1582.76 924.928 1584.57 925.368 Q1586.38 925.808 1588.11 925.808 Q1592.74 925.808 1595.17 922.706 Q1597.63 919.581 1597.97 913.239 Q1596.63 915.229 1594.57 916.294 Q1592.51 917.359 1590.01 917.359 Q1584.82 917.359 1581.79 914.234 Q1578.78 911.086 1578.78 905.646 Q1578.78 900.322 1581.93 897.104 Q1585.08 893.887 1590.31 893.887 Q1596.31 893.887 1599.45 898.493 Q1602.63 903.077 1602.63 911.827 Q1602.63 919.998 1598.74 924.882 Q1594.87 929.743 1588.32 929.743 Q1586.56 929.743 1584.76 929.396 Q1582.95 929.049 1581.01 928.354 M1590.31 913.702 Q1593.46 913.702 1595.29 911.549 Q1597.14 909.396 1597.14 905.646 Q1597.14 901.919 1595.29 899.766 Q1593.46 897.591 1590.31 897.591 Q1587.16 897.591 1585.31 899.766 Q1583.48 901.919 1583.48 905.646 Q1583.48 909.396 1585.31 911.549 Q1587.16 913.702 1590.31 913.702 Z\" fill=\"#000000\" fill-rule=\"nonzero\" fill-opacity=\"1\" /><path clip-path=\"url(#clip570)\" d=\"M1611.17 928.354 L1611.17 924.095 Q1612.93 924.928 1614.73 925.368 Q1616.54 925.808 1618.27 925.808 Q1622.9 925.808 1625.33 922.706 Q1627.79 919.581 1628.13 913.239 Q1626.79 915.229 1624.73 916.294 Q1622.67 917.359 1620.17 917.359 Q1614.99 917.359 1611.95 914.234 Q1608.94 911.086 1608.94 905.646 Q1608.94 900.322 1612.09 897.104 Q1615.24 893.887 1620.47 893.887 Q1626.47 893.887 1629.62 898.493 Q1632.79 903.077 1632.79 911.827 Q1632.79 919.998 1628.9 924.882 Q1625.03 929.743 1618.48 929.743 Q1616.72 929.743 1614.92 929.396 Q1613.11 929.049 1611.17 928.354 M1620.47 913.702 Q1623.62 913.702 1625.45 911.549 Q1627.3 909.396 1627.3 905.646 Q1627.3 901.919 1625.45 899.766 Q1623.62 897.591 1620.47 897.591 Q1617.32 897.591 1615.47 899.766 Q1613.64 901.919 1613.64 905.646 Q1613.64 909.396 1615.47 911.549 Q1617.32 913.702 1620.47 913.702 Z\" fill=\"#000000\" fill-rule=\"nonzero\" fill-opacity=\"1\" /><path clip-path=\"url(#clip570)\" d=\"M1641.33 928.354 L1641.33 924.095 Q1643.09 924.928 1644.89 925.368 Q1646.7 925.808 1648.44 925.808 Q1653.07 925.808 1655.5 922.706 Q1657.95 919.581 1658.3 913.239 Q1656.95 915.229 1654.89 916.294 Q1652.83 917.359 1650.33 917.359 Q1645.15 917.359 1642.12 914.234 Q1639.11 911.086 1639.11 905.646 Q1639.11 900.322 1642.25 897.104 Q1645.4 893.887 1650.63 893.887 Q1656.63 893.887 1659.78 898.493 Q1662.95 903.077 1662.95 911.827 Q1662.95 919.998 1659.06 924.882 Q1655.19 929.743 1648.64 929.743 Q1646.88 929.743 1645.08 929.396 Q1643.27 929.049 1641.33 928.354 M1650.63 913.702 Q1653.78 913.702 1655.61 911.549 Q1657.46 909.396 1657.46 905.646 Q1657.46 901.919 1655.61 899.766 Q1653.78 897.591 1650.63 897.591 Q1647.49 897.591 1645.63 899.766 Q1643.81 901.919 1643.81 905.646 Q1643.81 909.396 1645.63 911.549 Q1647.49 913.702 1650.63 913.702 Z\" fill=\"#000000\" fill-rule=\"nonzero\" fill-opacity=\"1\" /><path clip-path=\"url(#clip570)\" d=\"M1675.38 925.137 L1691.7 925.137 L1691.7 929.072 L1669.75 929.072 L1669.75 925.137 Q1672.42 922.382 1677 917.752 Q1681.61 913.1 1682.79 911.757 Q1685.03 909.234 1685.91 907.498 Q1686.81 905.739 1686.81 904.049 Q1686.81 901.294 1684.87 899.558 Q1682.95 897.822 1679.85 897.822 Q1677.65 897.822 1675.19 898.586 Q1672.76 899.35 1669.99 900.901 L1669.99 896.179 Q1672.81 895.044 1675.26 894.466 Q1677.72 893.887 1679.75 893.887 Q1685.13 893.887 1688.32 896.572 Q1691.51 899.257 1691.51 903.748 Q1691.51 905.878 1690.7 907.799 Q1689.92 909.697 1687.81 912.29 Q1687.23 912.961 1684.13 916.178 Q1681.03 919.373 1675.38 925.137 Z\" fill=\"#000000\" fill-rule=\"nonzero\" fill-opacity=\"1\" /><path clip-path=\"url(#clip570)\" d=\"M1701.56 894.512 L1719.92 894.512 L1719.92 898.447 L1705.84 898.447 L1705.84 906.919 Q1706.86 906.572 1707.88 906.41 Q1708.9 906.225 1709.92 906.225 Q1715.7 906.225 1719.08 909.396 Q1722.46 912.567 1722.46 917.984 Q1722.46 923.563 1718.99 926.664 Q1715.52 929.743 1709.2 929.743 Q1707.02 929.743 1704.75 929.373 Q1702.51 929.002 1700.1 928.262 L1700.1 923.563 Q1702.19 924.697 1704.41 925.252 Q1706.63 925.808 1709.11 925.808 Q1713.11 925.808 1715.45 923.702 Q1717.79 921.595 1717.79 917.984 Q1717.79 914.373 1715.45 912.266 Q1713.11 910.16 1709.11 910.16 Q1707.23 910.16 1705.36 910.577 Q1703.5 910.993 1701.56 911.873 L1701.56 894.512 Z\" fill=\"#000000\" fill-rule=\"nonzero\" fill-opacity=\"1\" /><path clip-path=\"url(#clip570)\" d=\"M1786.7 897.591 Q1783.09 897.591 1781.26 901.155 Q1779.45 904.697 1779.45 911.827 Q1779.45 918.933 1781.26 922.498 Q1783.09 926.039 1786.7 926.039 Q1790.33 926.039 1792.14 922.498 Q1793.97 918.933 1793.97 911.827 Q1793.97 904.697 1792.14 901.155 Q1790.33 897.591 1786.7 897.591 M1786.7 893.887 Q1792.51 893.887 1795.56 898.493 Q1798.64 903.077 1798.64 911.827 Q1798.64 920.553 1795.56 925.16 Q1792.51 929.743 1786.7 929.743 Q1780.89 929.743 1777.81 925.16 Q1774.75 920.553 1774.75 911.827 Q1774.75 903.077 1777.81 898.493 Q1780.89 893.887 1786.7 893.887 Z\" fill=\"#000000\" fill-rule=\"nonzero\" fill-opacity=\"1\" /><path clip-path=\"url(#clip570)\" d=\"M1806.86 923.192 L1811.74 923.192 L1811.74 929.072 L1806.86 929.072 L1806.86 923.192 Z\" fill=\"#000000\" fill-rule=\"nonzero\" fill-opacity=\"1\" /><path clip-path=\"url(#clip570)\" d=\"M1822.07 928.354 L1822.07 924.095 Q1823.83 924.928 1825.63 925.368 Q1827.44 925.808 1829.17 925.808 Q1833.8 925.808 1836.23 922.706 Q1838.69 919.581 1839.03 913.239 Q1837.69 915.229 1835.63 916.294 Q1833.57 917.359 1831.07 917.359 Q1825.89 917.359 1822.85 914.234 Q1819.85 911.086 1819.85 905.646 Q1819.85 900.322 1822.99 897.104 Q1826.14 893.887 1831.37 893.887 Q1837.37 893.887 1840.52 898.493 Q1843.69 903.077 1843.69 911.827 Q1843.69 919.998 1839.8 924.882 Q1835.93 929.743 1829.38 929.743 Q1827.62 929.743 1825.82 929.396 Q1824.01 929.049 1822.07 928.354 M1831.37 913.702 Q1834.52 913.702 1836.35 911.549 Q1838.2 909.396 1838.2 905.646 Q1838.2 901.919 1836.35 899.766 Q1834.52 897.591 1831.37 897.591 Q1828.22 897.591 1826.37 899.766 Q1824.54 901.919 1824.54 905.646 Q1824.54 909.396 1826.37 911.549 Q1828.22 913.702 1831.37 913.702 Z\" fill=\"#000000\" fill-rule=\"nonzero\" fill-opacity=\"1\" /><path clip-path=\"url(#clip570)\" d=\"M1852.23 928.354 L1852.23 924.095 Q1853.99 924.928 1855.79 925.368 Q1857.6 925.808 1859.34 925.808 Q1863.97 925.808 1866.4 922.706 Q1868.85 919.581 1869.2 913.239 Q1867.85 915.229 1865.79 916.294 Q1863.73 917.359 1861.23 917.359 Q1856.05 917.359 1853.02 914.234 Q1850.01 911.086 1850.01 905.646 Q1850.01 900.322 1853.16 897.104 Q1856.3 893.887 1861.53 893.887 Q1867.53 893.887 1870.68 898.493 Q1873.85 903.077 1873.85 911.827 Q1873.85 919.998 1869.96 924.882 Q1866.09 929.743 1859.54 929.743 Q1857.78 929.743 1855.98 929.396 Q1854.17 929.049 1852.23 928.354 M1861.53 913.702 Q1864.68 913.702 1866.51 911.549 Q1868.36 909.396 1868.36 905.646 Q1868.36 901.919 1866.51 899.766 Q1864.68 897.591 1861.53 897.591 Q1858.39 897.591 1856.53 899.766 Q1854.71 901.919 1854.71 905.646 Q1854.71 909.396 1856.53 911.549 Q1858.39 913.702 1861.53 913.702 Z\" fill=\"#000000\" fill-rule=\"nonzero\" fill-opacity=\"1\" /><path clip-path=\"url(#clip570)\" d=\"M1882.39 928.354 L1882.39 924.095 Q1884.15 924.928 1885.96 925.368 Q1887.76 925.808 1889.5 925.808 Q1894.13 925.808 1896.56 922.706 Q1899.01 919.581 1899.36 913.239 Q1898.02 915.229 1895.96 916.294 Q1893.9 917.359 1891.4 917.359 Q1886.21 917.359 1883.18 914.234 Q1880.17 911.086 1880.17 905.646 Q1880.17 900.322 1883.32 897.104 Q1886.47 893.887 1891.7 893.887 Q1897.69 893.887 1900.84 898.493 Q1904.01 903.077 1904.01 911.827 Q1904.01 919.998 1900.12 924.882 Q1896.26 929.743 1889.71 929.743 Q1887.95 929.743 1886.14 929.396 Q1884.34 929.049 1882.39 928.354 M1891.7 913.702 Q1894.84 913.702 1896.67 911.549 Q1898.53 909.396 1898.53 905.646 Q1898.53 901.919 1896.67 899.766 Q1894.84 897.591 1891.7 897.591 Q1888.55 897.591 1886.7 899.766 Q1884.87 901.919 1884.87 905.646 Q1884.87 909.396 1886.7 911.549 Q1888.55 913.702 1891.7 913.702 Z\" fill=\"#000000\" fill-rule=\"nonzero\" fill-opacity=\"1\" /><path clip-path=\"url(#clip570)\" d=\"M1912.46 894.512 L1930.82 894.512 L1930.82 898.447 L1916.74 898.447 L1916.74 906.919 Q1917.76 906.572 1918.78 906.41 Q1919.8 906.225 1920.82 906.225 Q1926.6 906.225 1929.98 909.396 Q1933.36 912.567 1933.36 917.984 Q1933.36 923.563 1929.89 926.664 Q1926.42 929.743 1920.1 929.743 Q1917.92 929.743 1915.65 929.373 Q1913.41 929.002 1911 928.262 L1911 923.563 Q1913.09 924.697 1915.31 925.252 Q1917.53 925.808 1920.01 925.808 Q1924.01 925.808 1926.35 923.702 Q1928.69 921.595 1928.69 917.984 Q1928.69 914.373 1926.35 912.266 Q1924.01 910.16 1920.01 910.16 Q1918.13 910.16 1916.26 910.577 Q1914.4 910.993 1912.46 911.873 L1912.46 894.512 Z\" fill=\"#000000\" fill-rule=\"nonzero\" fill-opacity=\"1\" /><path clip-path=\"url(#clip570)\" d=\"M1952.58 897.591 Q1948.96 897.591 1947.14 901.155 Q1945.33 904.697 1945.33 911.827 Q1945.33 918.933 1947.14 922.498 Q1948.96 926.039 1952.58 926.039 Q1956.21 926.039 1958.02 922.498 Q1959.84 918.933 1959.84 911.827 Q1959.84 904.697 1958.02 901.155 Q1956.21 897.591 1952.58 897.591 M1952.58 893.887 Q1958.39 893.887 1961.44 898.493 Q1964.52 903.077 1964.52 911.827 Q1964.52 920.553 1961.44 925.16 Q1958.39 929.743 1952.58 929.743 Q1946.77 929.743 1943.69 925.16 Q1940.63 920.553 1940.63 911.827 Q1940.63 903.077 1943.69 898.493 Q1946.77 893.887 1952.58 893.887 Z\" fill=\"#000000\" fill-rule=\"nonzero\" fill-opacity=\"1\" /><path clip-path=\"url(#clip570)\" d=\"M2028.75 897.591 Q2025.14 897.591 2023.31 901.155 Q2021.51 904.697 2021.51 911.827 Q2021.51 918.933 2023.31 922.498 Q2025.14 926.039 2028.75 926.039 Q2032.39 926.039 2034.19 922.498 Q2036.02 918.933 2036.02 911.827 Q2036.02 904.697 2034.19 901.155 Q2032.39 897.591 2028.75 897.591 M2028.75 893.887 Q2034.56 893.887 2037.62 898.493 Q2040.7 903.077 2040.7 911.827 Q2040.7 920.553 2037.62 925.16 Q2034.56 929.743 2028.75 929.743 Q2022.94 929.743 2019.87 925.16 Q2016.81 920.553 2016.81 911.827 Q2016.81 903.077 2019.87 898.493 Q2022.94 893.887 2028.75 893.887 Z\" fill=\"#000000\" fill-rule=\"nonzero\" fill-opacity=\"1\" /><path clip-path=\"url(#clip570)\" d=\"M2048.92 923.192 L2053.8 923.192 L2053.8 929.072 L2048.92 929.072 L2048.92 923.192 Z\" fill=\"#000000\" fill-rule=\"nonzero\" fill-opacity=\"1\" /><path clip-path=\"url(#clip570)\" d=\"M2064.12 928.354 L2064.12 924.095 Q2065.88 924.928 2067.69 925.368 Q2069.5 925.808 2071.23 925.808 Q2075.86 925.808 2078.29 922.706 Q2080.74 919.581 2081.09 913.239 Q2079.75 915.229 2077.69 916.294 Q2075.63 917.359 2073.13 917.359 Q2067.94 917.359 2064.91 914.234 Q2061.9 911.086 2061.9 905.646 Q2061.9 900.322 2065.05 897.104 Q2068.2 893.887 2073.43 893.887 Q2079.43 893.887 2082.57 898.493 Q2085.74 903.077 2085.74 911.827 Q2085.74 919.998 2081.86 924.882 Q2077.99 929.743 2071.44 929.743 Q2069.68 929.743 2067.87 929.396 Q2066.07 929.049 2064.12 928.354 M2073.43 913.702 Q2076.58 913.702 2078.41 911.549 Q2080.26 909.396 2080.26 905.646 Q2080.26 901.919 2078.41 899.766 Q2076.58 897.591 2073.43 897.591 Q2070.28 897.591 2068.43 899.766 Q2066.6 901.919 2066.6 905.646 Q2066.6 909.396 2068.43 911.549 Q2070.28 913.702 2073.43 913.702 Z\" fill=\"#000000\" fill-rule=\"nonzero\" fill-opacity=\"1\" /><path clip-path=\"url(#clip570)\" d=\"M2094.29 928.354 L2094.29 924.095 Q2096.05 924.928 2097.85 925.368 Q2099.66 925.808 2101.39 925.808 Q2106.02 925.808 2108.45 922.706 Q2110.91 919.581 2111.25 913.239 Q2109.91 915.229 2107.85 916.294 Q2105.79 917.359 2103.29 917.359 Q2098.11 917.359 2095.07 914.234 Q2092.06 911.086 2092.06 905.646 Q2092.06 900.322 2095.21 897.104 Q2098.36 893.887 2103.59 893.887 Q2109.59 893.887 2112.74 898.493 Q2115.91 903.077 2115.91 911.827 Q2115.91 919.998 2112.02 924.882 Q2108.15 929.743 2101.6 929.743 Q2099.84 929.743 2098.04 929.396 Q2096.23 929.049 2094.29 928.354 M2103.59 913.702 Q2106.74 913.702 2108.57 911.549 Q2110.42 909.396 2110.42 905.646 Q2110.42 901.919 2108.57 899.766 Q2106.74 897.591 2103.59 897.591 Q2100.44 897.591 2098.59 899.766 Q2096.76 901.919 2096.76 905.646 Q2096.76 909.396 2098.59 911.549 Q2100.44 913.702 2103.59 913.702 Z\" fill=\"#000000\" fill-rule=\"nonzero\" fill-opacity=\"1\" /><path clip-path=\"url(#clip570)\" d=\"M2124.45 928.354 L2124.45 924.095 Q2126.21 924.928 2128.01 925.368 Q2129.82 925.808 2131.55 925.808 Q2136.18 925.808 2138.62 922.706 Q2141.07 919.581 2141.42 913.239 Q2140.07 915.229 2138.01 916.294 Q2135.95 917.359 2133.45 917.359 Q2128.27 917.359 2125.24 914.234 Q2122.23 911.086 2122.23 905.646 Q2122.23 900.322 2125.37 897.104 Q2128.52 893.887 2133.75 893.887 Q2139.75 893.887 2142.9 898.493 Q2146.07 903.077 2146.07 911.827 Q2146.07 919.998 2142.18 924.882 Q2138.31 929.743 2131.76 929.743 Q2130 929.743 2128.2 929.396 Q2126.39 929.049 2124.45 928.354 M2133.75 913.702 Q2136.9 913.702 2138.73 911.549 Q2140.58 909.396 2140.58 905.646 Q2140.58 901.919 2138.73 899.766 Q2136.9 897.591 2133.75 897.591 Q2130.61 897.591 2128.75 899.766 Q2126.93 901.919 2126.93 905.646 Q2126.93 909.396 2128.75 911.549 Q2130.61 913.702 2133.75 913.702 Z\" fill=\"#000000\" fill-rule=\"nonzero\" fill-opacity=\"1\" /><path clip-path=\"url(#clip570)\" d=\"M2153.29 894.512 L2175.51 894.512 L2175.51 896.503 L2162.97 929.072 L2158.08 929.072 L2169.89 898.447 L2153.29 898.447 L2153.29 894.512 Z\" fill=\"#000000\" fill-rule=\"nonzero\" fill-opacity=\"1\" /><path clip-path=\"url(#clip570)\" d=\"M2184.68 894.512 L2203.04 894.512 L2203.04 898.447 L2188.96 898.447 L2188.96 906.919 Q2189.98 906.572 2191 906.41 Q2192.02 906.225 2193.04 906.225 Q2198.82 906.225 2202.2 909.396 Q2205.58 912.567 2205.58 917.984 Q2205.58 923.563 2202.11 926.664 Q2198.64 929.743 2192.32 929.743 Q2190.14 929.743 2187.87 929.373 Q2185.63 929.002 2183.22 928.262 L2183.22 923.563 Q2185.3 924.697 2187.53 925.252 Q2189.75 925.808 2192.23 925.808 Q2196.23 925.808 2198.57 923.702 Q2200.91 921.595 2200.91 917.984 Q2200.91 914.373 2198.57 912.266 Q2196.23 910.16 2192.23 910.16 Q2190.35 910.16 2188.48 910.577 Q2186.62 910.993 2184.68 911.873 L2184.68 894.512 Z\" fill=\"#000000\" fill-rule=\"nonzero\" fill-opacity=\"1\" /><path clip-path=\"url(#clip570)\" d=\"M2259.59 925.137 L2267.22 925.137 L2267.22 898.771 L2258.91 900.438 L2258.91 896.179 L2267.18 894.512 L2271.85 894.512 L2271.85 925.137 L2279.49 925.137 L2279.49 929.072 L2259.59 929.072 L2259.59 925.137 Z\" fill=\"#000000\" fill-rule=\"nonzero\" fill-opacity=\"1\" /><path clip-path=\"url(#clip570)\" d=\"M2288.94 923.192 L2293.82 923.192 L2293.82 929.072 L2288.94 929.072 L2288.94 923.192 Z\" fill=\"#000000\" fill-rule=\"nonzero\" fill-opacity=\"1\" /><path clip-path=\"url(#clip570)\" d=\"M2314.01 897.591 Q2310.4 897.591 2308.57 901.155 Q2306.76 904.697 2306.76 911.827 Q2306.76 918.933 2308.57 922.498 Q2310.4 926.039 2314.01 926.039 Q2317.64 926.039 2319.45 922.498 Q2321.27 918.933 2321.27 911.827 Q2321.27 904.697 2319.45 901.155 Q2317.64 897.591 2314.01 897.591 M2314.01 893.887 Q2319.82 893.887 2322.87 898.493 Q2325.95 903.077 2325.95 911.827 Q2325.95 920.553 2322.87 925.16 Q2319.82 929.743 2314.01 929.743 Q2308.2 929.743 2305.12 925.16 Q2302.06 920.553 2302.06 911.827 Q2302.06 903.077 2305.12 898.493 Q2308.2 893.887 2314.01 893.887 Z\" fill=\"#000000\" fill-rule=\"nonzero\" fill-opacity=\"1\" /><path clip-path=\"url(#clip570)\" d=\"M2344.17 897.591 Q2340.56 897.591 2338.73 901.155 Q2336.92 904.697 2336.92 911.827 Q2336.92 918.933 2338.73 922.498 Q2340.56 926.039 2344.17 926.039 Q2347.8 926.039 2349.61 922.498 Q2351.44 918.933 2351.44 911.827 Q2351.44 904.697 2349.61 901.155 Q2347.8 897.591 2344.17 897.591 M2344.17 893.887 Q2349.98 893.887 2353.03 898.493 Q2356.11 903.077 2356.11 911.827 Q2356.11 920.553 2353.03 925.16 Q2349.98 929.743 2344.17 929.743 Q2338.36 929.743 2335.28 925.16 Q2332.22 920.553 2332.22 911.827 Q2332.22 903.077 2335.28 898.493 Q2338.36 893.887 2344.17 893.887 Z\" fill=\"#000000\" fill-rule=\"nonzero\" fill-opacity=\"1\" /><path clip-path=\"url(#clip570)\" d=\"M2374.33 897.591 Q2370.72 897.591 2368.89 901.155 Q2367.08 904.697 2367.08 911.827 Q2367.08 918.933 2368.89 922.498 Q2370.72 926.039 2374.33 926.039 Q2377.96 926.039 2379.77 922.498 Q2381.6 918.933 2381.6 911.827 Q2381.6 904.697 2379.77 901.155 Q2377.96 897.591 2374.33 897.591 M2374.33 893.887 Q2380.14 893.887 2383.2 898.493 Q2386.27 903.077 2386.27 911.827 Q2386.27 920.553 2383.2 925.16 Q2380.14 929.743 2374.33 929.743 Q2368.52 929.743 2365.44 925.16 Q2362.39 920.553 2362.39 911.827 Q2362.39 903.077 2365.44 898.493 Q2368.52 893.887 2374.33 893.887 Z\" fill=\"#000000\" fill-rule=\"nonzero\" fill-opacity=\"1\" /><path clip-path=\"url(#clip570)\" d=\"M2404.49 897.591 Q2400.88 897.591 2399.05 901.155 Q2397.25 904.697 2397.25 911.827 Q2397.25 918.933 2399.05 922.498 Q2400.88 926.039 2404.49 926.039 Q2408.13 926.039 2409.93 922.498 Q2411.76 918.933 2411.76 911.827 Q2411.76 904.697 2409.93 901.155 Q2408.13 897.591 2404.49 897.591 M2404.49 893.887 Q2410.3 893.887 2413.36 898.493 Q2416.44 903.077 2416.44 911.827 Q2416.44 920.553 2413.36 925.16 Q2410.3 929.743 2404.49 929.743 Q2398.68 929.743 2395.6 925.16 Q2392.55 920.553 2392.55 911.827 Q2392.55 903.077 2395.6 898.493 Q2398.68 893.887 2404.49 893.887 Z\" fill=\"#000000\" fill-rule=\"nonzero\" fill-opacity=\"1\" /><path clip-path=\"url(#clip570)\" d=\"M2434.65 897.591 Q2431.04 897.591 2429.21 901.155 Q2427.41 904.697 2427.41 911.827 Q2427.41 918.933 2429.21 922.498 Q2431.04 926.039 2434.65 926.039 Q2438.29 926.039 2440.09 922.498 Q2441.92 918.933 2441.92 911.827 Q2441.92 904.697 2440.09 901.155 Q2438.29 897.591 2434.65 897.591 M2434.65 893.887 Q2440.46 893.887 2443.52 898.493 Q2446.6 903.077 2446.6 911.827 Q2446.6 920.553 2443.52 925.16 Q2440.46 929.743 2434.65 929.743 Q2428.84 929.743 2425.76 925.16 Q2422.71 920.553 2422.71 911.827 Q2422.71 903.077 2425.76 898.493 Q2428.84 893.887 2434.65 893.887 Z\" fill=\"#000000\" fill-rule=\"nonzero\" fill-opacity=\"1\" /><polyline clip-path=\"url(#clip573)\" style=\"stroke:#000000; stroke-linecap:round; stroke-linejoin:round; stroke-width:2; stroke-opacity:0.1; fill:none\" points=\"1386.52,866.672 2352.76,866.672 \"/>\n",
       "<polyline clip-path=\"url(#clip573)\" style=\"stroke:#000000; stroke-linecap:round; stroke-linejoin:round; stroke-width:2; stroke-opacity:0.1; fill:none\" points=\"1386.52,730.101 2352.76,730.101 \"/>\n",
       "<polyline clip-path=\"url(#clip573)\" style=\"stroke:#000000; stroke-linecap:round; stroke-linejoin:round; stroke-width:2; stroke-opacity:0.1; fill:none\" points=\"1386.52,593.529 2352.76,593.529 \"/>\n",
       "<polyline clip-path=\"url(#clip573)\" style=\"stroke:#000000; stroke-linecap:round; stroke-linejoin:round; stroke-width:2; stroke-opacity:0.1; fill:none\" points=\"1386.52,456.958 2352.76,456.958 \"/>\n",
       "<polyline clip-path=\"url(#clip573)\" style=\"stroke:#000000; stroke-linecap:round; stroke-linejoin:round; stroke-width:2; stroke-opacity:0.1; fill:none\" points=\"1386.52,320.387 2352.76,320.387 \"/>\n",
       "<polyline clip-path=\"url(#clip573)\" style=\"stroke:#000000; stroke-linecap:round; stroke-linejoin:round; stroke-width:2; stroke-opacity:0.1; fill:none\" points=\"1386.52,183.815 2352.76,183.815 \"/>\n",
       "<polyline clip-path=\"url(#clip573)\" style=\"stroke:#000000; stroke-linecap:round; stroke-linejoin:round; stroke-width:2; stroke-opacity:0.1; fill:none\" points=\"1386.52,47.2441 2352.76,47.2441 \"/>\n",
       "<polyline clip-path=\"url(#clip570)\" style=\"stroke:#000000; stroke-linecap:round; stroke-linejoin:round; stroke-width:4; stroke-opacity:1; fill:none\" points=\"1386.52,866.672 1386.52,47.2441 \"/>\n",
       "<polyline clip-path=\"url(#clip570)\" style=\"stroke:#000000; stroke-linecap:round; stroke-linejoin:round; stroke-width:4; stroke-opacity:1; fill:none\" points=\"1386.52,866.672 1405.41,866.672 \"/>\n",
       "<polyline clip-path=\"url(#clip570)\" style=\"stroke:#000000; stroke-linecap:round; stroke-linejoin:round; stroke-width:4; stroke-opacity:1; fill:none\" points=\"1386.52,730.101 1405.41,730.101 \"/>\n",
       "<polyline clip-path=\"url(#clip570)\" style=\"stroke:#000000; stroke-linecap:round; stroke-linejoin:round; stroke-width:4; stroke-opacity:1; fill:none\" points=\"1386.52,593.529 1405.41,593.529 \"/>\n",
       "<polyline clip-path=\"url(#clip570)\" style=\"stroke:#000000; stroke-linecap:round; stroke-linejoin:round; stroke-width:4; stroke-opacity:1; fill:none\" points=\"1386.52,456.958 1405.41,456.958 \"/>\n",
       "<polyline clip-path=\"url(#clip570)\" style=\"stroke:#000000; stroke-linecap:round; stroke-linejoin:round; stroke-width:4; stroke-opacity:1; fill:none\" points=\"1386.52,320.387 1405.41,320.387 \"/>\n",
       "<polyline clip-path=\"url(#clip570)\" style=\"stroke:#000000; stroke-linecap:round; stroke-linejoin:round; stroke-width:4; stroke-opacity:1; fill:none\" points=\"1386.52,183.815 1405.41,183.815 \"/>\n",
       "<polyline clip-path=\"url(#clip570)\" style=\"stroke:#000000; stroke-linecap:round; stroke-linejoin:round; stroke-width:4; stroke-opacity:1; fill:none\" points=\"1386.52,47.2441 1405.41,47.2441 \"/>\n",
       "<path clip-path=\"url(#clip570)\" d=\"M1233.92 852.471 Q1230.31 852.471 1228.48 856.035 Q1226.68 859.577 1226.68 866.707 Q1226.68 873.813 1228.48 877.378 Q1230.31 880.919 1233.92 880.919 Q1237.55 880.919 1239.36 877.378 Q1241.19 873.813 1241.19 866.707 Q1241.19 859.577 1239.36 856.035 Q1237.55 852.471 1233.92 852.471 M1233.92 848.767 Q1239.73 848.767 1242.79 853.373 Q1245.86 857.957 1245.86 866.707 Q1245.86 875.433 1242.79 880.04 Q1239.73 884.623 1233.92 884.623 Q1228.11 884.623 1225.03 880.04 Q1221.98 875.433 1221.98 866.707 Q1221.98 857.957 1225.03 853.373 Q1228.11 848.767 1233.92 848.767 Z\" fill=\"#000000\" fill-rule=\"nonzero\" fill-opacity=\"1\" /><path clip-path=\"url(#clip570)\" d=\"M1254.08 878.072 L1258.97 878.072 L1258.97 883.952 L1254.08 883.952 L1254.08 878.072 Z\" fill=\"#000000\" fill-rule=\"nonzero\" fill-opacity=\"1\" /><path clip-path=\"url(#clip570)\" d=\"M1282 853.466 L1270.19 871.915 L1282 871.915 L1282 853.466 M1280.77 849.392 L1286.65 849.392 L1286.65 871.915 L1291.58 871.915 L1291.58 875.804 L1286.65 875.804 L1286.65 883.952 L1282 883.952 L1282 875.804 L1266.4 875.804 L1266.4 871.29 L1280.77 849.392 Z\" fill=\"#000000\" fill-rule=\"nonzero\" fill-opacity=\"1\" /><path clip-path=\"url(#clip570)\" d=\"M1299.45 883.234 L1299.45 878.975 Q1301.21 879.808 1303.02 880.248 Q1304.82 880.688 1306.56 880.688 Q1311.19 880.688 1313.62 877.586 Q1316.07 874.461 1316.42 868.119 Q1315.08 870.109 1313.02 871.174 Q1310.96 872.239 1308.46 872.239 Q1303.27 872.239 1300.24 869.114 Q1297.23 865.966 1297.23 860.526 Q1297.23 855.202 1300.38 851.984 Q1303.53 848.767 1308.76 848.767 Q1314.75 848.767 1317.9 853.373 Q1321.07 857.957 1321.07 866.707 Q1321.07 874.878 1317.18 879.762 Q1313.32 884.623 1306.77 884.623 Q1305.01 884.623 1303.2 884.276 Q1301.4 883.929 1299.45 883.234 M1308.76 868.582 Q1311.91 868.582 1313.73 866.429 Q1315.59 864.276 1315.59 860.526 Q1315.59 856.799 1313.73 854.646 Q1311.91 852.471 1308.76 852.471 Q1305.61 852.471 1303.76 854.646 Q1301.93 856.799 1301.93 860.526 Q1301.93 864.276 1303.76 866.429 Q1305.61 868.582 1308.76 868.582 Z\" fill=\"#000000\" fill-rule=\"nonzero\" fill-opacity=\"1\" /><path clip-path=\"url(#clip570)\" d=\"M1328.29 849.392 L1350.52 849.392 L1350.52 851.383 L1337.97 883.952 L1333.09 883.952 L1344.89 853.327 L1328.29 853.327 L1328.29 849.392 Z\" fill=\"#000000\" fill-rule=\"nonzero\" fill-opacity=\"1\" /><path clip-path=\"url(#clip570)\" d=\"M1233.11 715.899 Q1229.5 715.899 1227.67 719.464 Q1225.86 723.006 1225.86 730.135 Q1225.86 737.242 1227.67 740.807 Q1229.5 744.348 1233.11 744.348 Q1236.74 744.348 1238.55 740.807 Q1240.38 737.242 1240.38 730.135 Q1240.38 723.006 1238.55 719.464 Q1236.74 715.899 1233.11 715.899 M1233.11 712.196 Q1238.92 712.196 1241.98 716.802 Q1245.05 721.385 1245.05 730.135 Q1245.05 738.862 1241.98 743.469 Q1238.92 748.052 1233.11 748.052 Q1227.3 748.052 1224.22 743.469 Q1221.17 738.862 1221.17 730.135 Q1221.17 721.385 1224.22 716.802 Q1227.3 712.196 1233.11 712.196 Z\" fill=\"#000000\" fill-rule=\"nonzero\" fill-opacity=\"1\" /><path clip-path=\"url(#clip570)\" d=\"M1253.27 741.501 L1258.16 741.501 L1258.16 747.381 L1253.27 747.381 L1253.27 741.501 Z\" fill=\"#000000\" fill-rule=\"nonzero\" fill-opacity=\"1\" /><path clip-path=\"url(#clip570)\" d=\"M1281.19 716.895 L1269.38 735.344 L1281.19 735.344 L1281.19 716.895 M1279.96 712.821 L1285.84 712.821 L1285.84 735.344 L1290.77 735.344 L1290.77 739.232 L1285.84 739.232 L1285.84 747.381 L1281.19 747.381 L1281.19 739.232 L1265.59 739.232 L1265.59 734.719 L1279.96 712.821 Z\" fill=\"#000000\" fill-rule=\"nonzero\" fill-opacity=\"1\" /><path clip-path=\"url(#clip570)\" d=\"M1298.64 746.663 L1298.64 742.404 Q1300.4 743.237 1302.21 743.677 Q1304.01 744.117 1305.75 744.117 Q1310.38 744.117 1312.81 741.015 Q1315.26 737.89 1315.61 731.547 Q1314.27 733.538 1312.21 734.603 Q1310.15 735.668 1307.65 735.668 Q1302.46 735.668 1299.43 732.543 Q1296.42 729.395 1296.42 723.955 Q1296.42 718.631 1299.57 715.413 Q1302.72 712.196 1307.95 712.196 Q1313.94 712.196 1317.09 716.802 Q1320.26 721.385 1320.26 730.135 Q1320.26 738.307 1316.37 743.191 Q1312.51 748.052 1305.96 748.052 Q1304.2 748.052 1302.39 747.705 Q1300.59 747.357 1298.64 746.663 M1307.95 732.01 Q1311.1 732.01 1312.92 729.858 Q1314.78 727.705 1314.78 723.955 Q1314.78 720.228 1312.92 718.075 Q1311.1 715.899 1307.95 715.899 Q1304.8 715.899 1302.95 718.075 Q1301.12 720.228 1301.12 723.955 Q1301.12 727.705 1302.95 729.858 Q1304.8 732.01 1307.95 732.01 Z\" fill=\"#000000\" fill-rule=\"nonzero\" fill-opacity=\"1\" /><path clip-path=\"url(#clip570)\" d=\"M1338.67 730.969 Q1335.33 730.969 1333.41 732.751 Q1331.51 734.533 1331.51 737.658 Q1331.51 740.783 1333.41 742.566 Q1335.33 744.348 1338.67 744.348 Q1342 744.348 1343.92 742.566 Q1345.84 740.76 1345.84 737.658 Q1345.84 734.533 1343.92 732.751 Q1342.02 730.969 1338.67 730.969 M1333.99 728.978 Q1330.98 728.237 1329.29 726.177 Q1327.62 724.117 1327.62 721.154 Q1327.62 717.01 1330.56 714.603 Q1333.53 712.196 1338.67 712.196 Q1343.83 712.196 1346.77 714.603 Q1349.71 717.01 1349.71 721.154 Q1349.71 724.117 1348.02 726.177 Q1346.35 728.237 1343.36 728.978 Q1346.74 729.765 1348.62 732.057 Q1350.52 734.348 1350.52 737.658 Q1350.52 742.682 1347.44 745.367 Q1344.38 748.052 1338.67 748.052 Q1332.95 748.052 1329.87 745.367 Q1326.81 742.682 1326.81 737.658 Q1326.81 734.348 1328.71 732.057 Q1330.61 729.765 1333.99 728.978 M1332.28 721.594 Q1332.28 724.279 1333.94 725.783 Q1335.63 727.288 1338.67 727.288 Q1341.67 727.288 1343.36 725.783 Q1345.08 724.279 1345.08 721.594 Q1345.08 718.909 1343.36 717.404 Q1341.67 715.899 1338.67 715.899 Q1335.63 715.899 1333.94 717.404 Q1332.28 718.909 1332.28 721.594 Z\" fill=\"#000000\" fill-rule=\"nonzero\" fill-opacity=\"1\" /><path clip-path=\"url(#clip570)\" d=\"M1233.2 579.328 Q1229.59 579.328 1227.76 582.893 Q1225.96 586.434 1225.96 593.564 Q1225.96 600.67 1227.76 604.235 Q1229.59 607.777 1233.2 607.777 Q1236.84 607.777 1238.64 604.235 Q1240.47 600.67 1240.47 593.564 Q1240.47 586.434 1238.64 582.893 Q1236.84 579.328 1233.2 579.328 M1233.2 575.624 Q1239.01 575.624 1242.07 580.231 Q1245.15 584.814 1245.15 593.564 Q1245.15 602.291 1242.07 606.897 Q1239.01 611.481 1233.2 611.481 Q1227.39 611.481 1224.31 606.897 Q1221.26 602.291 1221.26 593.564 Q1221.26 584.814 1224.31 580.231 Q1227.39 575.624 1233.2 575.624 Z\" fill=\"#000000\" fill-rule=\"nonzero\" fill-opacity=\"1\" /><path clip-path=\"url(#clip570)\" d=\"M1253.36 604.93 L1258.25 604.93 L1258.25 610.809 L1253.36 610.809 L1253.36 604.93 Z\" fill=\"#000000\" fill-rule=\"nonzero\" fill-opacity=\"1\" /><path clip-path=\"url(#clip570)\" d=\"M1281.28 580.323 L1269.48 598.772 L1281.28 598.772 L1281.28 580.323 M1280.05 576.249 L1285.93 576.249 L1285.93 598.772 L1290.86 598.772 L1290.86 602.661 L1285.93 602.661 L1285.93 610.809 L1281.28 610.809 L1281.28 602.661 L1265.68 602.661 L1265.68 598.147 L1280.05 576.249 Z\" fill=\"#000000\" fill-rule=\"nonzero\" fill-opacity=\"1\" /><path clip-path=\"url(#clip570)\" d=\"M1298.73 610.092 L1298.73 605.832 Q1300.49 606.666 1302.3 607.106 Q1304.11 607.545 1305.84 607.545 Q1310.47 607.545 1312.9 604.444 Q1315.36 601.319 1315.7 594.976 Q1314.36 596.967 1312.3 598.032 Q1310.24 599.096 1307.74 599.096 Q1302.55 599.096 1299.52 595.971 Q1296.51 592.823 1296.51 587.383 Q1296.51 582.059 1299.66 578.842 Q1302.81 575.624 1308.04 575.624 Q1314.04 575.624 1317.18 580.231 Q1320.36 584.814 1320.36 593.564 Q1320.36 601.735 1316.47 606.619 Q1312.6 611.481 1306.05 611.481 Q1304.29 611.481 1302.48 611.133 Q1300.68 610.786 1298.73 610.092 M1308.04 595.439 Q1311.19 595.439 1313.02 593.286 Q1314.87 591.133 1314.87 587.383 Q1314.87 583.657 1313.02 581.504 Q1311.19 579.328 1308.04 579.328 Q1304.89 579.328 1303.04 581.504 Q1301.21 583.657 1301.21 587.383 Q1301.21 591.133 1303.04 593.286 Q1304.89 595.439 1308.04 595.439 Z\" fill=\"#000000\" fill-rule=\"nonzero\" fill-opacity=\"1\" /><path clip-path=\"url(#clip570)\" d=\"M1328.9 610.092 L1328.9 605.832 Q1330.66 606.666 1332.46 607.106 Q1334.27 607.545 1336 607.545 Q1340.63 607.545 1343.06 604.444 Q1345.52 601.319 1345.86 594.976 Q1344.52 596.967 1342.46 598.032 Q1340.4 599.096 1337.9 599.096 Q1332.72 599.096 1329.68 595.971 Q1326.67 592.823 1326.67 587.383 Q1326.67 582.059 1329.82 578.842 Q1332.97 575.624 1338.2 575.624 Q1344.2 575.624 1347.35 580.231 Q1350.52 584.814 1350.52 593.564 Q1350.52 601.735 1346.63 606.619 Q1342.76 611.481 1336.21 611.481 Q1334.45 611.481 1332.65 611.133 Q1330.84 610.786 1328.9 610.092 M1338.2 595.439 Q1341.35 595.439 1343.18 593.286 Q1345.03 591.133 1345.03 587.383 Q1345.03 583.657 1343.18 581.504 Q1341.35 579.328 1338.2 579.328 Q1335.05 579.328 1333.2 581.504 Q1331.37 583.657 1331.37 587.383 Q1331.37 591.133 1333.2 593.286 Q1335.05 595.439 1338.2 595.439 Z\" fill=\"#000000\" fill-rule=\"nonzero\" fill-opacity=\"1\" /><path clip-path=\"url(#clip570)\" d=\"M1233.02 442.757 Q1229.41 442.757 1227.58 446.321 Q1225.77 449.863 1225.77 456.993 Q1225.77 464.099 1227.58 467.664 Q1229.41 471.206 1233.02 471.206 Q1236.65 471.206 1238.46 467.664 Q1240.29 464.099 1240.29 456.993 Q1240.29 449.863 1238.46 446.321 Q1236.65 442.757 1233.02 442.757 M1233.02 439.053 Q1238.83 439.053 1241.88 443.659 Q1244.96 448.243 1244.96 456.993 Q1244.96 465.72 1241.88 470.326 Q1238.83 474.909 1233.02 474.909 Q1227.21 474.909 1224.13 470.326 Q1221.07 465.72 1221.07 456.993 Q1221.07 448.243 1224.13 443.659 Q1227.21 439.053 1233.02 439.053 Z\" fill=\"#000000\" fill-rule=\"nonzero\" fill-opacity=\"1\" /><path clip-path=\"url(#clip570)\" d=\"M1253.18 468.358 L1258.06 468.358 L1258.06 474.238 L1253.18 474.238 L1253.18 468.358 Z\" fill=\"#000000\" fill-rule=\"nonzero\" fill-opacity=\"1\" /><path clip-path=\"url(#clip570)\" d=\"M1268.3 439.678 L1286.65 439.678 L1286.65 443.613 L1272.58 443.613 L1272.58 452.085 Q1273.6 451.738 1274.61 451.576 Q1275.63 451.391 1276.65 451.391 Q1282.44 451.391 1285.82 454.562 Q1289.2 457.733 1289.2 463.15 Q1289.2 468.729 1285.73 471.831 Q1282.25 474.909 1275.93 474.909 Q1273.76 474.909 1271.49 474.539 Q1269.24 474.169 1266.84 473.428 L1266.84 468.729 Q1268.92 469.863 1271.14 470.419 Q1273.36 470.974 1275.84 470.974 Q1279.85 470.974 1282.18 468.868 Q1284.52 466.761 1284.52 463.15 Q1284.52 459.539 1282.18 457.433 Q1279.85 455.326 1275.84 455.326 Q1273.97 455.326 1272.09 455.743 Q1270.24 456.159 1268.3 457.039 L1268.3 439.678 Z\" fill=\"#000000\" fill-rule=\"nonzero\" fill-opacity=\"1\" /><path clip-path=\"url(#clip570)\" d=\"M1308.41 442.757 Q1304.8 442.757 1302.97 446.321 Q1301.17 449.863 1301.17 456.993 Q1301.17 464.099 1302.97 467.664 Q1304.8 471.206 1308.41 471.206 Q1312.05 471.206 1313.85 467.664 Q1315.68 464.099 1315.68 456.993 Q1315.68 449.863 1313.85 446.321 Q1312.05 442.757 1308.41 442.757 M1308.41 439.053 Q1314.22 439.053 1317.28 443.659 Q1320.36 448.243 1320.36 456.993 Q1320.36 465.72 1317.28 470.326 Q1314.22 474.909 1308.41 474.909 Q1302.6 474.909 1299.52 470.326 Q1296.47 465.72 1296.47 456.993 Q1296.47 448.243 1299.52 443.659 Q1302.6 439.053 1308.41 439.053 Z\" fill=\"#000000\" fill-rule=\"nonzero\" fill-opacity=\"1\" /><path clip-path=\"url(#clip570)\" d=\"M1338.57 442.757 Q1334.96 442.757 1333.13 446.321 Q1331.33 449.863 1331.33 456.993 Q1331.33 464.099 1333.13 467.664 Q1334.96 471.206 1338.57 471.206 Q1342.21 471.206 1344.01 467.664 Q1345.84 464.099 1345.84 456.993 Q1345.84 449.863 1344.01 446.321 Q1342.21 442.757 1338.57 442.757 M1338.57 439.053 Q1344.38 439.053 1347.44 443.659 Q1350.52 448.243 1350.52 456.993 Q1350.52 465.72 1347.44 470.326 Q1344.38 474.909 1338.57 474.909 Q1332.76 474.909 1329.68 470.326 Q1326.63 465.72 1326.63 456.993 Q1326.63 448.243 1329.68 443.659 Q1332.76 439.053 1338.57 439.053 Z\" fill=\"#000000\" fill-rule=\"nonzero\" fill-opacity=\"1\" /><path clip-path=\"url(#clip570)\" d=\"M1234.24 306.185 Q1230.63 306.185 1228.8 309.75 Q1227 313.292 1227 320.421 Q1227 327.528 1228.8 331.093 Q1230.63 334.634 1234.24 334.634 Q1237.88 334.634 1239.68 331.093 Q1241.51 327.528 1241.51 320.421 Q1241.51 313.292 1239.68 309.75 Q1237.88 306.185 1234.24 306.185 M1234.24 302.482 Q1240.05 302.482 1243.11 307.088 Q1246.19 311.671 1246.19 320.421 Q1246.19 329.148 1243.11 333.755 Q1240.05 338.338 1234.24 338.338 Q1228.43 338.338 1225.36 333.755 Q1222.3 329.148 1222.3 320.421 Q1222.3 311.671 1225.36 307.088 Q1228.43 302.482 1234.24 302.482 Z\" fill=\"#000000\" fill-rule=\"nonzero\" fill-opacity=\"1\" /><path clip-path=\"url(#clip570)\" d=\"M1254.41 331.787 L1259.29 331.787 L1259.29 337.667 L1254.41 337.667 L1254.41 331.787 Z\" fill=\"#000000\" fill-rule=\"nonzero\" fill-opacity=\"1\" /><path clip-path=\"url(#clip570)\" d=\"M1269.52 303.107 L1287.88 303.107 L1287.88 307.042 L1273.8 307.042 L1273.8 315.514 Q1274.82 315.167 1275.84 315.005 Q1276.86 314.82 1277.88 314.82 Q1283.67 314.82 1287.05 317.991 Q1290.42 321.162 1290.42 326.579 Q1290.42 332.157 1286.95 335.259 Q1283.48 338.338 1277.16 338.338 Q1274.99 338.338 1272.72 337.968 Q1270.47 337.597 1268.06 336.857 L1268.06 332.157 Q1270.15 333.292 1272.37 333.847 Q1274.59 334.403 1277.07 334.403 Q1281.07 334.403 1283.41 332.296 Q1285.75 330.19 1285.75 326.579 Q1285.75 322.968 1283.41 320.861 Q1281.07 318.755 1277.07 318.755 Q1275.19 318.755 1273.32 319.171 Q1271.47 319.588 1269.52 320.468 L1269.52 303.107 Z\" fill=\"#000000\" fill-rule=\"nonzero\" fill-opacity=\"1\" /><path clip-path=\"url(#clip570)\" d=\"M1309.64 306.185 Q1306.03 306.185 1304.2 309.75 Q1302.39 313.292 1302.39 320.421 Q1302.39 327.528 1304.2 331.093 Q1306.03 334.634 1309.64 334.634 Q1313.27 334.634 1315.08 331.093 Q1316.91 327.528 1316.91 320.421 Q1316.91 313.292 1315.08 309.75 Q1313.27 306.185 1309.64 306.185 M1309.64 302.482 Q1315.45 302.482 1318.5 307.088 Q1321.58 311.671 1321.58 320.421 Q1321.58 329.148 1318.5 333.755 Q1315.45 338.338 1309.64 338.338 Q1303.83 338.338 1300.75 333.755 Q1297.69 329.148 1297.69 320.421 Q1297.69 311.671 1300.75 307.088 Q1303.83 302.482 1309.64 302.482 Z\" fill=\"#000000\" fill-rule=\"nonzero\" fill-opacity=\"1\" /><path clip-path=\"url(#clip570)\" d=\"M1330.61 333.732 L1338.25 333.732 L1338.25 307.366 L1329.94 309.033 L1329.94 304.773 L1338.2 303.107 L1342.88 303.107 L1342.88 333.732 L1350.52 333.732 L1350.52 337.667 L1330.61 337.667 L1330.61 333.732 Z\" fill=\"#000000\" fill-rule=\"nonzero\" fill-opacity=\"1\" /><path clip-path=\"url(#clip570)\" d=\"M1234.61 169.614 Q1231 169.614 1229.18 173.179 Q1227.37 176.721 1227.37 183.85 Q1227.37 190.957 1229.18 194.521 Q1231 198.063 1234.61 198.063 Q1238.25 198.063 1240.05 194.521 Q1241.88 190.957 1241.88 183.85 Q1241.88 176.721 1240.05 173.179 Q1238.25 169.614 1234.61 169.614 M1234.61 165.91 Q1240.43 165.91 1243.48 170.517 Q1246.56 175.1 1246.56 183.85 Q1246.56 192.577 1243.48 197.183 Q1240.43 201.767 1234.61 201.767 Q1228.8 201.767 1225.73 197.183 Q1222.67 192.577 1222.67 183.85 Q1222.67 175.1 1225.73 170.517 Q1228.8 165.91 1234.61 165.91 Z\" fill=\"#000000\" fill-rule=\"nonzero\" fill-opacity=\"1\" /><path clip-path=\"url(#clip570)\" d=\"M1254.78 195.216 L1259.66 195.216 L1259.66 201.095 L1254.78 201.095 L1254.78 195.216 Z\" fill=\"#000000\" fill-rule=\"nonzero\" fill-opacity=\"1\" /><path clip-path=\"url(#clip570)\" d=\"M1269.89 166.535 L1288.25 166.535 L1288.25 170.471 L1274.17 170.471 L1274.17 178.943 Q1275.19 178.596 1276.21 178.433 Q1277.23 178.248 1278.25 178.248 Q1284.04 178.248 1287.42 181.42 Q1290.8 184.591 1290.8 190.007 Q1290.8 195.586 1287.32 198.688 Q1283.85 201.767 1277.53 201.767 Q1275.36 201.767 1273.09 201.396 Q1270.84 201.026 1268.43 200.285 L1268.43 195.586 Q1270.52 196.72 1272.74 197.276 Q1274.96 197.832 1277.44 197.832 Q1281.44 197.832 1283.78 195.725 Q1286.12 193.619 1286.12 190.007 Q1286.12 186.396 1283.78 184.29 Q1281.44 182.183 1277.44 182.183 Q1275.56 182.183 1273.69 182.6 Q1271.84 183.017 1269.89 183.896 L1269.89 166.535 Z\" fill=\"#000000\" fill-rule=\"nonzero\" fill-opacity=\"1\" /><path clip-path=\"url(#clip570)\" d=\"M1310.01 169.614 Q1306.4 169.614 1304.57 173.179 Q1302.76 176.721 1302.76 183.85 Q1302.76 190.957 1304.57 194.521 Q1306.4 198.063 1310.01 198.063 Q1313.64 198.063 1315.45 194.521 Q1317.28 190.957 1317.28 183.85 Q1317.28 176.721 1315.45 173.179 Q1313.64 169.614 1310.01 169.614 M1310.01 165.91 Q1315.82 165.91 1318.87 170.517 Q1321.95 175.1 1321.95 183.85 Q1321.95 192.577 1318.87 197.183 Q1315.82 201.767 1310.01 201.767 Q1304.2 201.767 1301.12 197.183 Q1298.06 192.577 1298.06 183.85 Q1298.06 175.1 1301.12 170.517 Q1304.2 165.91 1310.01 165.91 Z\" fill=\"#000000\" fill-rule=\"nonzero\" fill-opacity=\"1\" /><path clip-path=\"url(#clip570)\" d=\"M1334.2 197.16 L1350.52 197.16 L1350.52 201.095 L1328.57 201.095 L1328.57 197.16 Q1331.23 194.406 1335.82 189.776 Q1340.42 185.123 1341.61 183.781 Q1343.85 181.258 1344.73 179.521 Q1345.63 177.762 1345.63 176.072 Q1345.63 173.318 1343.69 171.582 Q1341.77 169.846 1338.67 169.846 Q1336.47 169.846 1334.01 170.609 Q1331.58 171.373 1328.8 172.924 L1328.8 168.202 Q1331.63 167.068 1334.08 166.489 Q1336.54 165.91 1338.57 165.91 Q1343.94 165.91 1347.14 168.596 Q1350.33 171.281 1350.33 175.771 Q1350.33 177.901 1349.52 179.822 Q1348.73 181.72 1346.63 184.313 Q1346.05 184.984 1342.95 188.202 Q1339.85 191.396 1334.2 197.16 Z\" fill=\"#000000\" fill-rule=\"nonzero\" fill-opacity=\"1\" /><path clip-path=\"url(#clip570)\" d=\"M1233.67 33.0428 Q1230.05 33.0428 1228.23 36.6076 Q1226.42 40.1492 1226.42 47.2788 Q1226.42 54.3853 1228.23 57.9501 Q1230.05 61.4917 1233.67 61.4917 Q1237.3 61.4917 1239.11 57.9501 Q1240.93 54.3853 1240.93 47.2788 Q1240.93 40.1492 1239.11 36.6076 Q1237.3 33.0428 1233.67 33.0428 M1233.67 29.3391 Q1239.48 29.3391 1242.53 33.9456 Q1245.61 38.5289 1245.61 47.2788 Q1245.61 56.0056 1242.53 60.6121 Q1239.48 65.1954 1233.67 65.1954 Q1227.86 65.1954 1224.78 60.6121 Q1221.72 56.0056 1221.72 47.2788 Q1221.72 38.5289 1224.78 33.9456 Q1227.86 29.3391 1233.67 29.3391 Z\" fill=\"#000000\" fill-rule=\"nonzero\" fill-opacity=\"1\" /><path clip-path=\"url(#clip570)\" d=\"M1253.83 58.6445 L1258.71 58.6445 L1258.71 64.5241 L1253.83 64.5241 L1253.83 58.6445 Z\" fill=\"#000000\" fill-rule=\"nonzero\" fill-opacity=\"1\" /><path clip-path=\"url(#clip570)\" d=\"M1268.94 29.9641 L1287.3 29.9641 L1287.3 33.8993 L1273.23 33.8993 L1273.23 42.3714 Q1274.24 42.0242 1275.26 41.8622 Q1276.28 41.677 1277.3 41.677 Q1283.09 41.677 1286.47 44.8483 Q1289.85 48.0196 1289.85 53.4362 Q1289.85 59.0149 1286.37 62.1167 Q1282.9 65.1954 1276.58 65.1954 Q1274.41 65.1954 1272.14 64.825 Q1269.89 64.4547 1267.49 63.7139 L1267.49 59.0149 Q1269.57 60.1491 1271.79 60.7047 Q1274.01 61.2602 1276.49 61.2602 Q1280.49 61.2602 1282.83 59.1538 Q1285.17 57.0473 1285.17 53.4362 Q1285.17 49.8251 1282.83 47.7186 Q1280.49 45.6122 1276.49 45.6122 Q1274.61 45.6122 1272.74 46.0288 Q1270.89 46.4455 1268.94 47.3251 L1268.94 29.9641 Z\" fill=\"#000000\" fill-rule=\"nonzero\" fill-opacity=\"1\" /><path clip-path=\"url(#clip570)\" d=\"M1309.06 33.0428 Q1305.45 33.0428 1303.62 36.6076 Q1301.81 40.1492 1301.81 47.2788 Q1301.81 54.3853 1303.62 57.9501 Q1305.45 61.4917 1309.06 61.4917 Q1312.69 61.4917 1314.5 57.9501 Q1316.33 54.3853 1316.33 47.2788 Q1316.33 40.1492 1314.5 36.6076 Q1312.69 33.0428 1309.06 33.0428 M1309.06 29.3391 Q1314.87 29.3391 1317.92 33.9456 Q1321 38.5289 1321 47.2788 Q1321 56.0056 1317.92 60.6121 Q1314.87 65.1954 1309.06 65.1954 Q1303.25 65.1954 1300.17 60.6121 Q1297.11 56.0056 1297.11 47.2788 Q1297.11 38.5289 1300.17 33.9456 Q1303.25 29.3391 1309.06 29.3391 Z\" fill=\"#000000\" fill-rule=\"nonzero\" fill-opacity=\"1\" /><path clip-path=\"url(#clip570)\" d=\"M1343.39 45.8899 Q1346.74 46.6075 1348.62 48.876 Q1350.52 51.1445 1350.52 54.4779 Q1350.52 59.5936 1347 62.3945 Q1343.48 65.1954 1337 65.1954 Q1334.82 65.1954 1332.51 64.7556 Q1330.22 64.3389 1327.76 63.4824 L1327.76 58.9686 Q1329.71 60.1028 1332.02 60.6815 Q1334.34 61.2602 1336.86 61.2602 Q1341.26 61.2602 1343.55 59.5241 Q1345.86 57.788 1345.86 54.4779 Q1345.86 51.4223 1343.71 49.7094 Q1341.58 47.9733 1337.76 47.9733 L1333.73 47.9733 L1333.73 44.1307 L1337.95 44.1307 Q1341.4 44.1307 1343.23 42.765 Q1345.05 41.3761 1345.05 38.7835 Q1345.05 36.1215 1343.16 34.7094 Q1341.28 33.2743 1337.76 33.2743 Q1335.84 33.2743 1333.64 33.6909 Q1331.44 34.1076 1328.8 34.9872 L1328.8 30.8206 Q1331.47 30.0798 1333.78 29.7095 Q1336.12 29.3391 1338.18 29.3391 Q1343.5 29.3391 1346.61 31.7696 Q1349.71 34.177 1349.71 38.2974 Q1349.71 41.1677 1348.06 43.1585 Q1346.42 45.1261 1343.39 45.8899 Z\" fill=\"#000000\" fill-rule=\"nonzero\" fill-opacity=\"1\" /><polyline clip-path=\"url(#clip573)\" style=\"stroke:#009af9; stroke-linecap:round; stroke-linejoin:round; stroke-width:4; stroke-opacity:1; fill:none\" points=\"1386.52,439.993 1387.48,441.628 1388.45,443.265 1389.42,444.906 1390.38,446.549 1391.35,448.196 1392.31,449.845 1393.28,451.497 1394.25,453.152 1395.21,454.809 1396.18,456.469 1397.15,458.132 1398.11,459.798 1399.08,461.466 1400.04,463.137 1401.01,464.81 1401.98,466.486 1402.94,468.164 1403.91,469.845 1404.88,471.528 1405.84,473.214 1406.81,474.902 1407.77,476.592 1408.74,478.285 1409.71,479.98 1410.67,481.677 1411.64,483.376 1412.61,485.078 1413.57,486.781 1414.54,488.487 1415.5,490.195 1416.47,491.905 1417.44,493.617 1418.4,495.331 1419.37,497.047 1420.34,498.765 1421.3,500.484 1422.27,502.206 1423.23,503.929 1424.2,505.654 1425.17,507.381 1426.13,509.11 1427.1,510.84 1428.07,512.572 1429.03,514.305 1430,516.04 1430.96,517.776 1431.93,519.514 1432.9,521.254 1433.86,522.995 1434.83,524.737 1435.8,526.48 1436.76,528.225 1437.73,529.971 1438.69,531.718 1439.66,533.466 1440.63,535.216 1441.59,536.966 1442.56,538.718 1443.53,540.471 1444.49,542.224 1445.46,543.979 1446.42,545.734 1447.39,547.49 1448.36,549.247 1449.32,551.005 1450.29,552.764 1451.26,554.523 1452.22,556.283 1453.19,558.043 1454.15,559.804 1455.12,561.566 1456.09,563.327 1457.05,565.09 1458.02,566.852 1458.98,568.616 1459.95,570.379 1460.92,572.142 1461.88,573.906 1462.85,575.67 1463.82,577.434 1464.78,579.198 1465.75,580.962 1466.71,582.726 1467.68,584.49 1468.65,586.254 1469.61,588.018 1470.58,589.781 1471.55,591.544 1472.51,593.307 1473.48,595.07 1474.44,596.832 1475.41,598.593 1476.38,600.354 1477.34,602.115 1478.31,603.875 1479.28,605.634 1480.24,607.393 1481.21,609.15 1482.17,610.907 1483.14,612.663 1484.11,614.419 1485.07,616.173 1486.04,617.926 1487.01,619.678 1487.97,621.429 1488.94,623.179 1489.9,624.928 1490.87,626.675 1491.84,628.421 1492.8,630.166 1493.77,631.909 1494.74,633.651 1495.7,635.391 1496.67,637.13 1497.63,638.867 1498.6,640.602 1499.57,642.335 1500.53,644.067 1501.5,645.797 1502.47,647.525 1503.43,649.251 1504.4,650.974 1505.36,652.696 1506.33,654.416 1507.3,656.133 1508.26,657.848 1509.23,659.561 1510.2,661.271 1511.16,662.979 1512.13,664.685 1513.09,666.388 1514.06,668.088 1515.03,669.786 1515.99,671.481 1516.96,673.173 1517.93,674.862 1518.89,676.548 1519.86,678.232 1520.82,679.912 1521.79,681.589 1522.76,683.264 1523.72,684.934 1524.69,686.602 1525.66,688.266 1526.62,689.927 1527.59,691.584 1528.55,693.238 1529.52,694.889 1530.49,696.535 1531.45,698.178 1532.42,699.817 1533.39,701.453 1534.35,703.084 1535.32,704.711 1536.28,706.335 1537.25,707.954 1538.22,709.569 1539.18,711.18 1540.15,712.787 1541.12,714.389 1542.08,715.986 1543.05,717.58 1544.01,719.169 1544.98,720.753 1545.95,722.332 1546.91,723.907 1547.88,725.476 1548.85,727.041 1549.81,728.601 1550.78,730.156 1551.74,731.706 1552.71,733.251 1553.68,734.79 1554.64,736.324 1555.61,737.853 1556.58,739.376 1557.54,740.894 1558.51,742.406 1559.47,743.913 1560.44,745.413 1561.41,746.908 1562.37,748.398 1563.34,749.881 1564.31,751.358 1565.27,752.829 1566.24,754.294 1567.2,755.753 1568.17,757.205 1569.14,758.651 1570.1,760.091 1571.07,761.524 1572.03,762.95 1573,764.37 1573.97,765.783 1574.93,767.19 1575.9,768.589 1576.87,769.982 1577.83,771.367 1578.8,772.745 1579.76,774.117 1580.73,775.481 1581.7,776.837 1582.66,778.186 1583.63,779.528 1584.6,780.862 1585.56,782.189 1586.53,783.508 1587.49,784.819 1588.46,786.122 1589.43,787.417 1590.39,788.704 1591.36,789.983 1592.33,791.254 1593.29,792.517 1594.26,793.772 1595.22,795.018 1596.19,796.255 1597.16,797.484 1598.12,798.705 1599.09,799.916 1600.06,801.119 1601.02,802.313 1601.99,803.498 1602.95,804.675 1603.92,805.842 1604.89,806.999 1605.85,808.148 1606.82,809.287 1607.79,810.417 1608.75,811.537 1609.72,812.648 1610.68,813.749 1611.65,814.84 1612.62,815.922 1613.58,816.994 1614.55,818.055 1615.52,819.107 1616.48,820.149 1617.45,821.18 1618.41,822.201 1619.38,823.212 1620.35,824.212 1621.31,825.201 1622.28,826.18 1623.25,827.149 1624.21,828.106 1625.18,829.053 1626.14,829.989 1627.11,830.914 1628.08,831.827 1629.04,832.73 1630.01,833.621 1630.98,834.501 1631.94,835.369 1632.91,836.226 1633.87,837.072 1634.84,837.905 1635.81,838.727 1636.77,839.537 1637.74,840.335 1638.71,841.122 1639.67,841.896 1640.64,842.658 1641.6,843.407 1642.57,844.145 1643.54,844.87 1644.5,845.582 1645.47,846.282 1646.44,846.969 1647.4,847.644 1648.37,848.306 1649.33,848.955 1650.3,849.59 1651.27,850.213 1652.23,850.823 1653.2,851.419 1654.17,852.003 1655.13,852.572 1656.1,853.129 1657.06,853.671 1658.03,854.201 1659,854.716 1659.96,855.218 1660.93,855.705 1661.9,856.179 1662.86,856.639 1663.83,857.085 1664.79,857.516 1665.76,857.934 1666.73,858.337 1667.69,858.725 1668.66,859.099 1669.63,859.458 1670.59,859.803 1671.56,860.133 1672.52,860.448 1673.49,860.748 1674.46,861.034 1675.42,861.304 1676.39,861.559 1677.35,861.799 1678.32,862.023 1679.29,862.232 1680.25,862.426 1681.22,862.604 1682.19,862.767 1683.15,862.914 1684.12,863.045 1685.08,863.16 1686.05,863.26 1687.02,863.343 1687.98,863.41 1688.95,863.462 1689.92,863.496 1690.88,863.515 1691.85,863.518 1692.81,863.503 1693.78,863.473 1694.75,863.426 1695.71,863.362 1696.68,863.281 1697.65,863.184 1698.61,863.069 1699.58,862.938 1700.54,862.79 1701.51,862.625 1702.48,862.442 1703.44,862.243 1704.41,862.026 1705.38,861.791 1706.34,861.539 1707.31,861.27 1708.27,860.983 1709.24,860.679 1710.21,860.356 1711.17,860.016 1712.14,859.659 1713.11,859.283 1714.07,858.889 1715.04,858.477 1716,858.048 1716.97,857.6 1717.94,857.133 1718.9,856.649 1719.87,856.146 1720.84,855.625 1721.8,855.085 1722.77,854.527 1723.73,853.95 1724.7,853.354 1725.67,852.74 1726.63,852.107 1727.6,851.455 1728.57,850.785 1729.53,850.095 1730.5,849.386 1731.46,848.659 1732.43,847.912 1733.4,847.146 1734.36,846.361 1735.33,845.557 1736.3,844.733 1737.26,843.89 1738.23,843.028 1739.19,842.146 1740.16,841.245 1741.13,840.324 1742.09,839.383 1743.06,838.423 1744.03,837.444 1744.99,836.444 1745.96,835.425 1746.92,834.386 1747.89,833.327 1748.86,832.248 1749.82,831.15 1750.79,830.031 1751.76,828.892 1752.72,827.734 1753.69,826.555 1754.65,825.356 1755.62,824.137 1756.59,822.898 1757.55,821.639 1758.52,820.359 1759.49,819.06 1760.45,817.74 1761.42,816.399 1762.38,815.039 1763.35,813.658 1764.32,812.256 1765.28,810.834 1766.25,809.392 1767.22,807.93 1768.18,806.446 1769.15,804.943 1770.11,803.419 1771.08,801.874 1772.05,800.309 1773.01,798.724 1773.98,797.117 1774.95,795.491 1775.91,793.844 1776.88,792.176 1777.84,790.487 1778.81,788.778 1779.78,787.049 1780.74,785.299 1781.71,783.528 1782.67,781.737 1783.64,779.925 1784.61,778.093 1785.57,776.24 1786.54,774.366 1787.51,772.473 1788.47,770.558 1789.44,768.623 1790.4,766.667 1791.37,764.691 1792.34,762.695 1793.3,760.678 1794.27,758.641 1795.24,756.583 1796.2,754.505 1797.17,752.406 1798.13,750.287 1799.1,748.148 1800.07,745.989 1801.03,743.809 1802,741.61 1802.97,739.39 1803.93,737.149 1804.9,734.889 1805.86,732.609 1806.83,730.309 1807.8,727.989 1808.76,725.649 1809.73,723.289 1810.7,720.909 1811.66,718.51 1812.63,716.09 1813.59,713.652 1814.56,711.193 1815.53,708.715 1816.49,706.218 1817.46,703.701 1818.43,701.165 1819.39,698.61 1820.36,696.036 1821.32,693.442 1822.29,690.829 1823.26,688.198 1824.22,685.548 1825.19,682.879 1826.16,680.191 1827.12,677.484 1828.09,674.76 1829.05,672.016 1830.02,669.255 1830.99,666.475 1831.95,663.677 1832.92,660.861 1833.89,658.027 1834.85,655.176 1835.82,652.306 1836.78,649.419 1837.75,646.515 1838.72,643.593 1839.68,640.654 1840.65,637.698 1841.62,634.725 1842.58,631.736 1843.55,628.729 1844.51,625.706 1845.48,622.667 1846.45,619.611 1847.41,616.539 1848.38,613.451 1849.35,610.347 1850.31,607.228 1851.28,604.093 1852.24,600.942 1853.21,597.777 1854.18,594.596 1855.14,591.4 1856.11,588.19 1857.08,584.965 1858.04,581.726 1859.01,578.472 1859.97,575.205 1860.94,571.923 1861.91,568.628 1862.87,565.32 1863.84,561.998 1864.81,558.663 1865.77,555.316 1866.74,551.955 1867.7,548.582 1868.67,545.197 1869.64,541.8 1870.6,538.391 1871.57,534.971 1872.54,531.539 1873.5,528.096 1874.47,524.642 1875.43,521.178 1876.4,517.703 1877.37,514.217 1878.33,510.722 1879.3,507.217 1880.27,503.703 1881.23,500.179 1882.2,496.647 1883.16,493.105 1884.13,489.556 1885.1,485.998 1886.06,482.432 1887.03,478.859 1888,475.279 1888.96,471.691 1889.93,468.097 1890.89,464.496 1891.86,460.889 1892.83,457.276 1893.79,453.657 1894.76,450.034 1895.72,446.405 1896.69,442.772 1897.66,439.134 1898.62,435.493 1899.59,431.848 1900.56,428.199 1901.52,424.547 1902.49,420.893 1903.45,417.237 1904.42,413.578 1905.39,409.918 1906.35,406.257 1907.32,402.594 1908.29,398.931 1909.25,395.268 1910.22,391.605 1911.18,387.943 1912.15,384.282 1913.12,380.621 1914.08,376.963 1915.05,373.307 1916.02,369.653 1916.98,366.002 1917.95,362.354 1918.91,358.71 1919.88,355.07 1920.85,351.435 1921.81,347.804 1922.78,344.179 1923.75,340.56 1924.71,336.946 1925.68,333.34 1926.64,329.74 1927.61,326.148 1928.58,322.564 1929.54,318.989 1930.51,315.422 1931.48,311.865 1932.44,308.317 1933.41,304.78 1934.37,301.253 1935.34,297.738 1936.31,294.234 1937.27,290.742 1938.24,287.264 1939.21,283.798 1940.17,280.346 1941.14,276.908 1942.1,273.484 1943.07,270.076 1944.04,266.684 1945,263.307 1945.97,259.947 1946.94,256.605 1947.9,253.28 1948.87,249.974 1949.83,246.686 1950.8,243.418 1951.77,240.17 1952.73,236.942 1953.7,233.735 1954.67,230.549 1955.63,227.386 1956.6,224.245 1957.56,221.127 1958.53,218.034 1959.5,214.964 1960.46,211.92 1961.43,208.901 1962.4,205.908 1963.36,202.942 1964.33,200.003 1965.29,197.092 1966.26,194.209 1967.23,191.355 1968.19,188.531 1969.16,185.738 1970.13,182.975 1971.09,180.243 1972.06,177.544 1973.02,174.877 1973.99,172.244 1974.96,169.644 1975.92,167.079 1976.89,164.549 1977.86,162.055 1978.82,159.597 1979.79,157.176 1980.75,154.793 1981.72,152.449 1982.69,150.143 1983.65,147.877 1984.62,145.651 1985.59,143.466 1986.55,141.322 1987.52,139.22 1988.48,137.162 1989.45,135.147 1990.42,133.175 1991.38,131.249 1992.35,129.368 1993.32,127.533 1994.28,125.745 1995.25,124.004 1996.21,122.311 1997.18,120.666 1998.15,119.071 1999.11,117.526 2000.08,116.032 2001.04,114.588 2002.01,113.197 2002.98,111.858 2003.94,110.573 2004.91,109.341 2005.88,108.164 2006.84,107.041 2007.81,105.975 2008.77,104.965 2009.74,104.012 2010.71,103.117 2011.67,102.281 2012.64,101.503 2013.61,100.785 2014.57,100.127 2015.54,99.5298 2016.5,98.9942 2017.47,98.5208 2018.44,98.1101 2019.4,97.7627 2020.37,97.4793 2021.34,97.2604 2022.3,97.1066 2023.27,97.0186 2024.23,96.997 2025.2,97.0422 2026.17,97.1549 2027.13,97.3356 2028.1,97.585 2029.07,97.9036 2030.03,98.2919 2031,98.7504 2031.96,99.2798 2032.93,99.8805 2033.9,100.553 2034.86,101.298 2035.83,102.116 2036.8,103.007 2037.76,103.972 2038.73,105.011 2039.69,106.126 2040.66,107.315 2041.63,108.58 2042.59,109.921 2043.56,111.339 2044.53,112.834 2045.49,114.406 2046.46,116.056 2047.42,117.784 2048.39,119.591 2049.36,121.476 2050.32,123.441 2051.29,125.485 2052.26,127.608 2053.22,129.812 2054.19,132.097 2055.15,134.462 2056.12,136.907 2057.09,139.434 2058.05,142.042 2059.02,144.732 2059.99,147.503 2060.95,150.356 2061.92,153.291 2062.88,156.307 2063.85,159.406 2064.82,162.588 2065.78,165.851 2066.75,169.197 2067.72,172.624 2068.68,176.134 2069.65,179.727 2070.61,183.401 2071.58,187.157 2072.55,190.996 2073.51,194.915 2074.48,198.917 2075.45,203 2076.41,207.164 2077.38,211.409 2078.34,215.734 2079.31,220.14 2080.28,224.626 2081.24,229.191 2082.21,233.835 2083.18,238.558 2084.14,243.36 2085.11,248.239 2086.07,253.195 2087.04,258.228 2088.01,263.337 2088.97,268.521 2089.94,273.78 2090.91,279.113 2091.87,284.519 2092.84,289.997 2093.8,295.547 2094.77,301.168 2095.74,306.858 2096.7,312.617 2097.67,318.444 2098.64,324.338 2099.6,330.297 2100.57,336.321 2101.53,342.408 2102.5,348.558 2103.47,354.768 2104.43,361.038 2105.4,367.365 2106.36,373.75 2107.33,380.19 2108.3,386.684 2109.26,393.229 2110.23,399.826 2111.2,406.471 2112.16,413.164 2113.13,419.902 2114.09,426.683 2115.06,433.506 2116.03,440.369 2116.99,447.27 2117.96,454.207 2118.93,461.177 2119.89,468.178 2120.86,475.209 2121.82,482.267 2122.79,489.349 2123.76,496.453 2124.72,503.577 2125.69,510.719 2126.66,517.874 2127.62,525.042 2128.59,532.219 2129.55,539.403 2130.52,546.59 2131.49,553.777 2132.45,560.963 2133.42,568.143 2134.39,575.315 2135.35,582.475 2136.32,589.62 2137.28,596.748 2138.25,603.853 2139.22,610.934 2140.18,617.987 2141.15,625.008 2142.12,631.993 2143.08,638.938 2144.05,645.841 2145.01,652.697 2145.98,659.503 2146.95,666.254 2147.91,672.946 2148.88,679.575 2149.85,686.138 2150.81,692.63 2151.78,699.046 2152.74,705.383 2153.71,711.635 2154.68,717.8 2155.64,723.871 2156.61,729.845 2157.58,735.717 2158.54,741.482 2159.51,747.136 2160.47,752.673 2161.44,758.09 2162.41,763.381 2163.37,768.541 2164.34,773.565 2165.31,778.449 2166.27,783.187 2167.24,787.775 2168.2,792.206 2169.17,796.477 2170.14,800.582 2171.1,804.515 2172.07,808.272 2173.04,811.848 2174,815.237 2174.97,818.434 2175.93,821.433 2176.9,824.231 2177.87,826.82 2178.83,829.197 2179.8,831.356 2180.77,833.291 2181.73,834.999 2182.7,836.473 2183.66,837.708 2184.63,838.7 2185.6,839.444 2186.56,839.934 2187.53,840.167 2188.5,840.136 2189.46,839.837 2190.43,839.267 2191.39,838.42 2192.36,837.291 2193.33,835.878 2194.29,834.175 2195.26,832.178 2196.23,829.885 2197.19,827.29 2198.16,824.391 2199.12,821.184 2200.09,817.666 2201.06,813.834 2202.02,809.686 2202.99,805.218 2203.96,800.429 2204.92,795.317 2205.89,789.88 2206.85,784.116 2207.82,778.025 2208.79,771.606 2209.75,764.858 2210.72,757.781 2211.69,750.375 2212.65,742.642 2213.62,734.581 2214.58,726.196 2215.55,717.487 2216.52,708.457 2217.48,699.109 2218.45,689.446 2219.41,679.473 2220.38,669.193 2221.35,658.612 2222.31,647.735 2223.28,636.569 2224.25,625.121 2225.21,613.397 2226.18,601.407 2227.14,589.159 2228.11,576.662 2229.08,563.928 2230.04,550.966 2231.01,537.79 2231.98,524.412 2232.94,510.845 2233.91,497.104 2234.87,483.204 2235.84,469.162 2236.81,454.994 2237.77,440.719 2238.74,426.355 2239.71,411.922 2240.67,397.442 2241.64,382.937 2242.6,368.429 2243.57,353.942 2244.54,339.502 2245.5,325.135 2246.47,310.867 2247.44,296.727 2248.4,282.744 2249.37,268.949 2250.33,255.372 2251.3,242.046 2252.27,229.005 2253.23,216.282 2254.2,203.913 2255.17,191.933 2256.13,180.381 2257.1,169.294 2258.06,158.71 2259.03,148.669 2260,139.211 2260.96,130.375 2261.93,122.204 2262.9,114.739 2263.86,108.021 2264.83,102.091 2265.79,96.9921 2266.76,92.765 2267.73,89.451 2268.69,87.0907 2269.66,85.7241 2270.63,85.3899 2271.59,86.1261 2272.56,87.9687 2273.52,90.9524 2274.49,95.1095 2275.46,100.47 2276.42,107.062 2277.39,114.909 2278.36,124.032 2279.32,134.448 2280.29,146.169 2281.25,159.202 2282.22,173.551 2283.19,189.21 2284.15,206.17 2285.12,224.414 2286.09,243.915 2287.05,264.641 2288.02,286.548 2288.98,309.584 2289.95,333.687 2290.92,358.782 2291.88,384.782 2292.85,411.591 2293.82,439.094 2294.78,467.167 2295.75,495.669 2296.71,524.444 2297.68,553.319 2298.65,582.107 2299.61,610.604 2300.58,638.587 2301.55,665.82 2302.51,692.048 2303.48,717 2304.44,740.392 2305.41,761.923 2306.38,781.282 2307.34,798.148 2308.31,812.191 2309.28,823.079 2310.24,830.48 2311.21,834.066 2312.17,833.524 2313.14,828.557 2314.11,818.899 2315.07,804.32 2316.04,784.642 2317.01,759.748 2317.97,729.601 2318.94,694.259 2319.9,653.894 2320.87,608.813 2321.84,559.478 2322.8,506.533 2323.77,450.82 2324.73,393.409 2325.7,335.61 2326.67,278.996 2327.63,225.402 2328.6,176.925 2329.57,135.901 2330.53,104.859 2331.5,86.4382 2332.46,83.2615 2333.43,97.7533 2334.4,131.877 2335.36,186.784 2336.33,262.356 2337.3,356.636 2338.26,465.157 2339.23,580.229 2340.19,690.299 2341.16,779.659 2342.13,828.981 2343.09,817.526 2344.06,728.356 2345.03,558.366 2345.99,334.638 2346.96,135.074 2347.92,97.074 2348.89,356.099 2349.86,779.253 2350.82,558.088 2351.79,355.965 \"/>\n",
       "<path clip-path=\"url(#clip570)\" d=\"M1418.73 178.238 L1598.94 178.238 L1598.94 74.5584 L1418.73 74.5584  Z\" fill=\"#ffffff\" fill-rule=\"evenodd\" fill-opacity=\"1\"/>\n",
       "<polyline clip-path=\"url(#clip570)\" style=\"stroke:#000000; stroke-linecap:round; stroke-linejoin:round; stroke-width:4; stroke-opacity:1; fill:none\" points=\"1418.73,178.238 1598.94,178.238 1598.94,74.5584 1418.73,74.5584 1418.73,178.238 \"/>\n",
       "<polyline clip-path=\"url(#clip570)\" style=\"stroke:#009af9; stroke-linecap:round; stroke-linejoin:round; stroke-width:4; stroke-opacity:1; fill:none\" points=\"1429.46,126.398 1493.88,126.398 \"/>\n",
       "<path clip-path=\"url(#clip570)\" d=\"M1504.61 109.118 L1524.47 109.118 L1524.47 113.054 L1509.29 113.054 L1509.29 123.239 L1522.99 123.239 L1522.99 127.174 L1509.29 127.174 L1509.29 143.678 L1504.61 143.678 L1504.61 109.118 Z\" fill=\"#000000\" fill-rule=\"nonzero\" fill-opacity=\"1\" /><path clip-path=\"url(#clip570)\" d=\"M1541.93 107.706 Q1538.83 113.03 1537.32 118.239 Q1535.82 123.447 1535.82 128.794 Q1535.82 134.141 1537.32 139.396 Q1538.85 144.627 1541.93 149.928 L1538.22 149.928 Q1534.75 144.489 1533.02 139.234 Q1531.3 133.979 1531.3 128.794 Q1531.3 123.632 1533.02 118.401 Q1534.73 113.169 1538.22 107.706 L1541.93 107.706 Z\" fill=\"#000000\" fill-rule=\"nonzero\" fill-opacity=\"1\" /><path clip-path=\"url(#clip570)\" d=\"M1571.74 117.753 L1562.37 130.368 L1572.23 143.678 L1567.21 143.678 L1559.66 133.493 L1552.11 143.678 L1547.09 143.678 L1557.16 130.114 L1547.95 117.753 L1552.97 117.753 L1559.84 126.989 L1566.72 117.753 L1571.74 117.753 Z\" fill=\"#000000\" fill-rule=\"nonzero\" fill-opacity=\"1\" /><path clip-path=\"url(#clip570)\" d=\"M1577.58 107.706 L1581.28 107.706 Q1584.75 113.169 1586.46 118.401 Q1588.2 123.632 1588.2 128.794 Q1588.2 133.979 1586.46 139.234 Q1584.75 144.489 1581.28 149.928 L1577.58 149.928 Q1580.65 144.627 1582.16 139.396 Q1583.69 134.141 1583.69 128.794 Q1583.69 123.447 1582.16 118.239 Q1580.65 113.03 1577.58 107.706 Z\" fill=\"#000000\" fill-rule=\"nonzero\" fill-opacity=\"1\" /></svg>\n"
      ],
      "text/html": [
       "<img src=\"data:image/png;base64,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\" />"
      ]
     },
     "execution_count": 40,
     "metadata": {},
     "output_type": "execute_result"
    }
   ],
   "source": [
    "# 上の f(x) が x→1 で収束しないことの数値的確認\n",
    "\n",
    "F(x; N=10^3) = sum(n->(-1)^n*x^(2.0^n), 0:N)\n",
    "x = 0:0.001:0.999\n",
    "P1 = plot(x, F.(x), label=\"F(x)\", ylims=(0,0.5), xlims=(0,1))\n",
    "x = 0.999:0.000001:0.999999\n",
    "P2 = plot(x, F.(x), label=\"F(x)\", ylims=(0.497, 0.503), xlims=(0.999,1))\n",
    "plot(P1, P2, size=(600, 240), legend=:topleft)"
   ]
  },
  {
   "cell_type": "markdown",
   "metadata": {},
   "source": [
    "### 収束円盤の境界上でのべき級数の収束"
   ]
  },
  {
   "cell_type": "markdown",
   "metadata": {},
   "source": [
    "#### 準備: Cesàro総和可能性\n",
    "\n",
    "Cesàro総和可能性から収束円盤の境界上での収束性(後で説明するところのAbel総和可能性)が導かれるので, Cesàro総和可能性について準備しておこう.\n",
    "\n",
    "**定義:** 級数 $\\ds\\sum_{k=0}^\\infty a_k$ が**Cesàro総和可能**(Cesàro summable)であるとは, その部分和 $\\ds s_n = \\sum_{k=0}^n a_k$ の加法平均\n",
    "\n",
    "$$\n",
    "\\frac{s_0+s_1+\\cdots+s_n}{n+1}\n",
    "$$\n",
    "\n",
    "が $n\\to\\infty$ で収束することであると定める. その収束先を**Cesàro和**(Cesàro sum)と呼ぶ. $\\QED$\n",
    "\n",
    "**問題:** $\\ds s_n = \\sum_{k=0}^n a_k$, $\\ds t_n = \\sum_{k=0}^n s_k$ とおく. 級数 $\\ds\\sum_{k=0}^\\infty a_k$ がCesàro総和可能ならば $a_n=O(n)$, $s_n=O(n)$, $t_n=O(n)$ となることを示せ.\n",
    "\n",
    "**解答例:** $\\ds\\sum_{k=0}^\\infty a_k$ のCesàro総和可能性は $\\ds\\frac{t_n}{n+1}$ の収束性と同値である. ゆえに, 収束数列が有界であることより, ある $M>0$ が存在して, すべての番号 $n$ について\n",
    "\n",
    "$$\n",
    "|t_n|\\leqq M(n+1)\n",
    "$$\n",
    "\n",
    "となることが導かれる. そのとき, \n",
    "\n",
    "$$\n",
    "\\begin{aligned}\n",
    "&\n",
    "|s_n|=|t_n-t_{n-1}|\\leqq |t_n|+|t_{n-1}|\\leqq M(n+1)+Mn = M(2n+1), \\quad\n",
    "\\\\ &\n",
    "|a_n|=|s_n-s_{n-1}|\\leqq |s_n|+|s_{n-1}|\\leqq M(2n+1)+M(2n-1)=4Mn.\n",
    "\\end{aligned}\n",
    "$$\n",
    "\n",
    "これで $a_n=O(n)$, $s_n=O(n)$, $t_n=O(n)$ であることがわかった. $\\QED$\n",
    "\n",
    "**注意:** 特に級数 $\\ds\\sum_{k=0}^\\infty a_k$ がCesàro総和可能ならばべき級数 $\\ds\\sum_{k=0}^\\infty a_k z^k$, $\\ds\\sum_{k=0}^\\infty s_k z^k$, $\\ds\\sum_{k=0}^\\infty t_k z^k$ の収束半径は $1$ 以上になる. $\\QED$"
   ]
  },
  {
   "cell_type": "markdown",
   "metadata": {},
   "source": [
    "**問題:** 級数 $\\ds\\sum_{n=0}^\\infty a_n$ が $\\alpha$ に収束するとき, 級数 $\\ds\\sum_{n=0}^\\infty a_n$ はCesàro総和可能でかつそのCesàro和は $\\alpha$ に一致することを示せ.\n",
    "\n",
    "**解答例:** $\\ds s_n = \\sum_{k=0}^n a_k$ とおく. $s_n\\to\\alpha$ ならば $\\ds\\frac{s_0+s_1+\\cdots+s_n}{n+1}\\to \\alpha$ となることを示せばよい. しかし, その事実はノート「01 収束」ですでに示している. $\\eps$-$N$ 論法の応用の典型例であり, $\\eps$-$N$ 論法が使える人にとって証明は容易である. $\\QED$\n",
    "\n",
    "**問題:** 級数 $\\ds\\sum_{k=0}^\\infty (-1)^k$ は発散するが, Cesàro総和可能であり, そのCesàro和は $\\ds\\frac{1}{2}$ になることを示せ.\n",
    "\n",
    "**解答例:** 一般に級数 $\\ds\\sum_{k=0}^\\infty a_k$ が収束していれば $a_n\\to 0$ となるが, $(-1)^n$ は収束しないので $\\ds\\sum_{k=0}^\\infty (-1)^k$ は収束していない(すなわち発散している). $\\ds s_n=\\sum_{k=0}^n a_k$ とおくと, $n$ が偶数ならば $s_n=1$ となり, 奇数ならば $s_n=0$ となる. このことから, $\\ds\\frac{1}{n+1}\\sum_{k=0}^n s_k$ は $n$ 以下の偶数の割合に一致するので, $n\\to\\infty$ で $\\ds\\frac{1}{2}$ に収束する. $\\QED$\n",
    "\n",
    "**問題:** $\\quad\\ds\\sum_{j=1}^n (-1)^{j-1}j^2 = (-1)^{n-1}\\frac{n(n+1)}{2}$ を示せ.\n",
    "\n",
    "**解答例:** 数学的帰納法. $n=0$ のとき両辺は $0$ になり等しい. $n\\geqq 0$ でその等式が成立していると仮定すると,\n",
    "\n",
    "$$\n",
    "\\begin{aligned}\n",
    "\\sum_{j=1}^{n+1} (-1)^{j-1}j^2 &= \n",
    "(-1)^{n-1}\\frac{n(n+1)}{2} + (-1)^n (n+1)^2 \n",
    "\\\\ &=\n",
    "(-1)^n\\frac{n+1}{2}(-n+2(n+1)) =\n",
    "(-1)^n\\frac{(n+1)(n+2)}{2}.\n",
    "\\end{aligned}\n",
    "$$\n",
    "\n",
    "ゆえに数学的帰納法より任意の $n\\geqq 0$ について示したい等式は成立している. $\\QED$"
   ]
  },
  {
   "cell_type": "code",
   "execution_count": 41,
   "metadata": {},
   "outputs": [
    {
     "data": {
      "text/latex": [
       "$\\displaystyle - \\frac{\\left(-1\\right)^{n} n \\left(n + 1\\right)}{2}$\n"
      ],
      "text/plain": [
       "     n           \n",
       "-(-1) *n*(n + 1) \n",
       "-----------------\n",
       "        2        "
      ]
     },
     "execution_count": 41,
     "metadata": {},
     "output_type": "execute_result"
    }
   ],
   "source": [
    "j, n = symbols(\"j n\", integer=true)\n",
    "doit(sympy.Sum((-1)^(j-1)*j^2, (j,1,n)))"
   ]
  },
  {
   "cell_type": "markdown",
   "metadata": {},
   "source": [
    "**問題:** $n$ が平方数ならば $a_n=1$ でそれ以外ならば $a_n=0$ であるとする. このとき, 級数 $\\ds\\sum_{k=0}^\\infty (-1)^k a_k$ は発散するが, Cesàro総和可能であり, そのCesàro和は $\\ds\\frac{1}{2}$ になることを示せ.\n",
    "\n",
    "**解答例:** $\\ds s_n = \\sum_{k=0}^n (-1)^k a_k$ とおく. 整数 $j$ について $(-1)^{j^2}=(-1)^j$ なので $\\ds s_n = \\sum_{0\\leqq j\\leqq\\sqrt{n}} (-1)^j$ となる. これより, $s_n$ は $\\sqrt{n}$ 以下の最大の整数が偶数であれば $1$ になり, 奇数ならば $0$ になる. ゆえに $s_n$ 自身は収束しない. $\\sqrt{n}$ 以下の最大の整数が $m$ になることと $m^2\\leqq n< (m+1)^2$ は同値である. $\\ds \\sigma_n = \\frac{1}{n+1}\\sum_{k=0}^n s_k$ とおく. $\\ds\\sigma_n\\to \\frac{1}{2}$ を示せばよい. 偶数 $m$ に対する $m^2\\leqq n<(m+1)^2$ で $\\sigma_{n-1}<\\sigma_n$ となり, 奇数 $m$ に対する $m^2\\leqq n<(m+1)^2$ で $\\sigma_{n-1}<\\sigma_n$ となる. ゆえに, $\\sigma_n$ は偶数 $m$ に対する $n=(m+1)^2-1$ で極大値\n",
    "\n",
    "$$\n",
    "\\sigma_n = \\frac{1}{(m+1)^2}\\sum_{j=1}^{m+1}(-1)^{j-1}j^2 = \\frac{1}{2}\\frac{m+2}{m+1}\n",
    "$$\n",
    "\n",
    "になり, 奇数 $m$ に対する $n=(m+1)^2-1$ で極小値\n",
    "\n",
    "$$\n",
    "\\sigma_n = \\frac{1}{(m+1)^2}\\sum_{j=1}^{m}(-1)^{j-1}j^2 = \\frac{1}{2}\\frac{m}{m+1}\n",
    "$$\n",
    "\n",
    "になることがわかる. これより, $\\ds \\sigma_n\\to\\frac{1}{2}$ であることがわかる. $\\QED$"
   ]
  },
  {
   "cell_type": "code",
   "execution_count": 42,
   "metadata": {},
   "outputs": [
    {
     "name": "stdout",
     "output_type": "stream",
     "text": [
      "  2.642882 seconds (283.40 k allocations: 18.876 MiB, 0.56% gc time, 9.57% compilation time: 1% of which was recompilation)\n"
     ]
    },
    {
     "data": {
      "image/png": "[encoded data removed]",
      "image/svg+xml": [
       "<?xml version=\"1.0\" encoding=\"utf-8\"?>\n",
       "<svg xmlns=\"http://www.w3.org/2000/svg\" xmlns:xlink=\"http://www.w3.org/1999/xlink\" width=\"640\" height=\"180\" viewBox=\"0 0 2560 720\">\n",
       "<defs>\n",
       "  <clipPath id=\"clip630\">\n",
       "    <rect x=\"0\" y=\"0\" width=\"2560\" height=\"720\"/>\n",
       "  </clipPath>\n",
       "</defs>\n",
       "<path clip-path=\"url(#clip630)\" d=\"M0 720 L2560 720 L2560 0 L0 0  Z\" fill=\"#ffffff\" fill-rule=\"evenodd\" fill-opacity=\"1\"/>\n",
       "<defs>\n",
       "  <clipPath id=\"clip631\">\n",
       "    <rect x=\"512\" y=\"0\" width=\"1793\" height=\"720\"/>\n",
       "  </clipPath>\n",
       "</defs>\n",
       "<path clip-path=\"url(#clip630)\" d=\"M158.198 635.228 L2512.76 635.228 L2512.76 47.2441 L158.198 47.2441  Z\" fill=\"#ffffff\" fill-rule=\"evenodd\" fill-opacity=\"1\"/>\n",
       "<defs>\n",
       "  <clipPath id=\"clip632\">\n",
       "    <rect x=\"158\" y=\"47\" width=\"2356\" height=\"589\"/>\n",
       "  </clipPath>\n",
       "</defs>\n",
       "<polyline clip-path=\"url(#clip632)\" style=\"stroke:#000000; stroke-linecap:round; stroke-linejoin:round; stroke-width:2; stroke-opacity:0.1; fill:none\" points=\"169.854,635.228 169.854,47.2441 \"/>\n",
       "<polyline clip-path=\"url(#clip632)\" style=\"stroke:#000000; stroke-linecap:round; stroke-linejoin:round; stroke-width:2; stroke-opacity:0.1; fill:none\" points=\"752.666,635.228 752.666,47.2441 \"/>\n",
       "<polyline clip-path=\"url(#clip632)\" style=\"stroke:#000000; stroke-linecap:round; stroke-linejoin:round; stroke-width:2; stroke-opacity:0.1; fill:none\" points=\"1335.48,635.228 1335.48,47.2441 \"/>\n",
       "<polyline clip-path=\"url(#clip632)\" style=\"stroke:#000000; stroke-linecap:round; stroke-linejoin:round; stroke-width:2; stroke-opacity:0.1; fill:none\" points=\"1918.29,635.228 1918.29,47.2441 \"/>\n",
       "<polyline clip-path=\"url(#clip632)\" style=\"stroke:#000000; stroke-linecap:round; stroke-linejoin:round; stroke-width:2; stroke-opacity:0.1; fill:none\" points=\"2501.1,635.228 2501.1,47.2441 \"/>\n",
       "<polyline clip-path=\"url(#clip630)\" style=\"stroke:#000000; stroke-linecap:round; stroke-linejoin:round; stroke-width:4; stroke-opacity:1; fill:none\" points=\"158.198,635.228 2512.76,635.228 \"/>\n",
       "<polyline clip-path=\"url(#clip630)\" style=\"stroke:#000000; stroke-linecap:round; stroke-linejoin:round; stroke-width:4; stroke-opacity:1; fill:none\" points=\"169.854,635.228 169.854,616.33 \"/>\n",
       "<polyline clip-path=\"url(#clip630)\" style=\"stroke:#000000; stroke-linecap:round; stroke-linejoin:round; stroke-width:4; stroke-opacity:1; fill:none\" points=\"752.666,635.228 752.666,616.33 \"/>\n",
       "<polyline clip-path=\"url(#clip630)\" style=\"stroke:#000000; stroke-linecap:round; stroke-linejoin:round; stroke-width:4; stroke-opacity:1; fill:none\" points=\"1335.48,635.228 1335.48,616.33 \"/>\n",
       "<polyline clip-path=\"url(#clip630)\" style=\"stroke:#000000; stroke-linecap:round; stroke-linejoin:round; stroke-width:4; stroke-opacity:1; fill:none\" points=\"1918.29,635.228 1918.29,616.33 \"/>\n",
       "<polyline clip-path=\"url(#clip630)\" style=\"stroke:#000000; stroke-linecap:round; stroke-linejoin:round; stroke-width:4; stroke-opacity:1; fill:none\" points=\"2501.1,635.228 2501.1,616.33 \"/>\n",
       "<path clip-path=\"url(#clip630)\" d=\"M169.854 667.427 Q166.243 667.427 164.415 670.991 Q162.609 674.533 162.609 681.663 Q162.609 688.769 164.415 692.334 Q166.243 695.875 169.854 695.875 Q173.489 695.875 175.294 692.334 Q177.123 688.769 177.123 681.663 Q177.123 674.533 175.294 670.991 Q173.489 667.427 169.854 667.427 M169.854 663.723 Q175.665 663.723 178.72 668.329 Q181.799 672.913 181.799 681.663 Q181.799 690.389 178.72 694.996 Q175.665 699.579 169.854 699.579 Q164.044 699.579 160.966 694.996 Q157.91 690.389 157.91 681.663 Q157.91 672.913 160.966 668.329 Q164.044 663.723 169.854 663.723 Z\" fill=\"#000000\" fill-rule=\"nonzero\" fill-opacity=\"1\" /><path clip-path=\"url(#clip630)\" d=\"M716.358 694.973 L732.677 694.973 L732.677 698.908 L710.733 698.908 L710.733 694.973 Q713.395 692.218 717.978 687.588 Q722.585 682.936 723.765 681.593 Q726.011 679.07 726.89 677.334 Q727.793 675.575 727.793 673.885 Q727.793 671.13 725.849 669.394 Q723.927 667.658 720.826 667.658 Q718.627 667.658 716.173 668.422 Q713.742 669.186 710.965 670.737 L710.965 666.015 Q713.789 664.88 716.242 664.302 Q718.696 663.723 720.733 663.723 Q726.103 663.723 729.298 666.408 Q732.492 669.093 732.492 673.584 Q732.492 675.714 731.682 677.635 Q730.895 679.533 728.789 682.126 Q728.21 682.797 725.108 686.014 Q722.006 689.209 716.358 694.973 Z\" fill=\"#000000\" fill-rule=\"nonzero\" fill-opacity=\"1\" /><path clip-path=\"url(#clip630)\" d=\"M742.539 664.348 L760.895 664.348 L760.895 668.283 L746.821 668.283 L746.821 676.755 Q747.839 676.408 748.858 676.246 Q749.876 676.061 750.895 676.061 Q756.682 676.061 760.062 679.232 Q763.441 682.403 763.441 687.82 Q763.441 693.399 759.969 696.5 Q756.497 699.579 750.177 699.579 Q748.001 699.579 745.733 699.209 Q743.488 698.838 741.08 698.098 L741.08 693.399 Q743.164 694.533 745.386 695.088 Q747.608 695.644 750.085 695.644 Q754.089 695.644 756.427 693.538 Q758.765 691.431 758.765 687.82 Q758.765 684.209 756.427 682.102 Q754.089 679.996 750.085 679.996 Q748.21 679.996 746.335 680.413 Q744.483 680.829 742.539 681.709 L742.539 664.348 Z\" fill=\"#000000\" fill-rule=\"nonzero\" fill-opacity=\"1\" /><path clip-path=\"url(#clip630)\" d=\"M782.654 667.427 Q779.043 667.427 777.214 670.991 Q775.409 674.533 775.409 681.663 Q775.409 688.769 777.214 692.334 Q779.043 695.875 782.654 695.875 Q786.288 695.875 788.094 692.334 Q789.923 688.769 789.923 681.663 Q789.923 674.533 788.094 670.991 Q786.288 667.427 782.654 667.427 M782.654 663.723 Q788.464 663.723 791.52 668.329 Q794.598 672.913 794.598 681.663 Q794.598 690.389 791.52 694.996 Q788.464 699.579 782.654 699.579 Q776.844 699.579 773.765 694.996 Q770.71 690.389 770.71 681.663 Q770.71 672.913 773.765 668.329 Q776.844 663.723 782.654 663.723 Z\" fill=\"#000000\" fill-rule=\"nonzero\" fill-opacity=\"1\" /><path clip-path=\"url(#clip630)\" d=\"M1295.1 664.348 L1313.45 664.348 L1313.45 668.283 L1299.38 668.283 L1299.38 676.755 Q1300.4 676.408 1301.41 676.246 Q1302.43 676.061 1303.45 676.061 Q1309.24 676.061 1312.62 679.232 Q1316 682.403 1316 687.82 Q1316 693.399 1312.53 696.5 Q1309.05 699.579 1302.73 699.579 Q1300.56 699.579 1298.29 699.209 Q1296.04 698.838 1293.64 698.098 L1293.64 693.399 Q1295.72 694.533 1297.94 695.088 Q1300.16 695.644 1302.64 695.644 Q1306.65 695.644 1308.98 693.538 Q1311.32 691.431 1311.32 687.82 Q1311.32 684.209 1308.98 682.102 Q1306.65 679.996 1302.64 679.996 Q1300.77 679.996 1298.89 680.413 Q1297.04 680.829 1295.1 681.709 L1295.1 664.348 Z\" fill=\"#000000\" fill-rule=\"nonzero\" fill-opacity=\"1\" /><path clip-path=\"url(#clip630)\" d=\"M1335.21 667.427 Q1331.6 667.427 1329.77 670.991 Q1327.97 674.533 1327.97 681.663 Q1327.97 688.769 1329.77 692.334 Q1331.6 695.875 1335.21 695.875 Q1338.85 695.875 1340.65 692.334 Q1342.48 688.769 1342.48 681.663 Q1342.48 674.533 1340.65 670.991 Q1338.85 667.427 1335.21 667.427 M1335.21 663.723 Q1341.02 663.723 1344.08 668.329 Q1347.16 672.913 1347.16 681.663 Q1347.16 690.389 1344.08 694.996 Q1341.02 699.579 1335.21 699.579 Q1329.4 699.579 1326.32 694.996 Q1323.27 690.389 1323.27 681.663 Q1323.27 672.913 1326.32 668.329 Q1329.4 663.723 1335.21 663.723 Z\" fill=\"#000000\" fill-rule=\"nonzero\" fill-opacity=\"1\" /><path clip-path=\"url(#clip630)\" d=\"M1365.37 667.427 Q1361.76 667.427 1359.93 670.991 Q1358.13 674.533 1358.13 681.663 Q1358.13 688.769 1359.93 692.334 Q1361.76 695.875 1365.37 695.875 Q1369.01 695.875 1370.81 692.334 Q1372.64 688.769 1372.64 681.663 Q1372.64 674.533 1370.81 670.991 Q1369.01 667.427 1365.37 667.427 M1365.37 663.723 Q1371.18 663.723 1374.24 668.329 Q1377.32 672.913 1377.32 681.663 Q1377.32 690.389 1374.24 694.996 Q1371.18 699.579 1365.37 699.579 Q1359.56 699.579 1356.48 694.996 Q1353.43 690.389 1353.43 681.663 Q1353.43 672.913 1356.48 668.329 Q1359.56 663.723 1365.37 663.723 Z\" fill=\"#000000\" fill-rule=\"nonzero\" fill-opacity=\"1\" /><path clip-path=\"url(#clip630)\" d=\"M1876.56 664.348 L1898.79 664.348 L1898.79 666.339 L1886.24 698.908 L1881.36 698.908 L1893.16 668.283 L1876.56 668.283 L1876.56 664.348 Z\" fill=\"#000000\" fill-rule=\"nonzero\" fill-opacity=\"1\" /><path clip-path=\"url(#clip630)\" d=\"M1907.95 664.348 L1926.31 664.348 L1926.31 668.283 L1912.24 668.283 L1912.24 676.755 Q1913.25 676.408 1914.27 676.246 Q1915.29 676.061 1916.31 676.061 Q1922.1 676.061 1925.48 679.232 Q1928.86 682.403 1928.86 687.82 Q1928.86 693.399 1925.38 696.5 Q1921.91 699.579 1915.59 699.579 Q1913.42 699.579 1911.15 699.209 Q1908.9 698.838 1906.49 698.098 L1906.49 693.399 Q1908.58 694.533 1910.8 695.088 Q1913.02 695.644 1915.5 695.644 Q1919.5 695.644 1921.84 693.538 Q1924.18 691.431 1924.18 687.82 Q1924.18 684.209 1921.84 682.102 Q1919.5 679.996 1915.5 679.996 Q1913.62 679.996 1911.75 680.413 Q1909.9 680.829 1907.95 681.709 L1907.95 664.348 Z\" fill=\"#000000\" fill-rule=\"nonzero\" fill-opacity=\"1\" /><path clip-path=\"url(#clip630)\" d=\"M1948.07 667.427 Q1944.46 667.427 1942.63 670.991 Q1940.82 674.533 1940.82 681.663 Q1940.82 688.769 1942.63 692.334 Q1944.46 695.875 1948.07 695.875 Q1951.7 695.875 1953.51 692.334 Q1955.34 688.769 1955.34 681.663 Q1955.34 674.533 1953.51 670.991 Q1951.7 667.427 1948.07 667.427 M1948.07 663.723 Q1953.88 663.723 1956.93 668.329 Q1960.01 672.913 1960.01 681.663 Q1960.01 690.389 1956.93 694.996 Q1953.88 699.579 1948.07 699.579 Q1942.26 699.579 1939.18 694.996 Q1936.12 690.389 1936.12 681.663 Q1936.12 672.913 1939.18 668.329 Q1942.26 663.723 1948.07 663.723 Z\" fill=\"#000000\" fill-rule=\"nonzero\" fill-opacity=\"1\" /><path clip-path=\"url(#clip630)\" d=\"M2445.63 694.973 L2453.26 694.973 L2453.26 668.607 L2444.95 670.274 L2444.95 666.015 L2453.22 664.348 L2457.89 664.348 L2457.89 694.973 L2465.53 694.973 L2465.53 698.908 L2445.63 698.908 L2445.63 694.973 Z\" fill=\"#000000\" fill-rule=\"nonzero\" fill-opacity=\"1\" /><path clip-path=\"url(#clip630)\" d=\"M2484.98 667.427 Q2481.37 667.427 2479.54 670.991 Q2477.73 674.533 2477.73 681.663 Q2477.73 688.769 2479.54 692.334 Q2481.37 695.875 2484.98 695.875 Q2488.61 695.875 2490.42 692.334 Q2492.25 688.769 2492.25 681.663 Q2492.25 674.533 2490.42 670.991 Q2488.61 667.427 2484.98 667.427 M2484.98 663.723 Q2490.79 663.723 2493.84 668.329 Q2496.92 672.913 2496.92 681.663 Q2496.92 690.389 2493.84 694.996 Q2490.79 699.579 2484.98 699.579 Q2479.17 699.579 2476.09 694.996 Q2473.03 690.389 2473.03 681.663 Q2473.03 672.913 2476.09 668.329 Q2479.17 663.723 2484.98 663.723 Z\" fill=\"#000000\" fill-rule=\"nonzero\" fill-opacity=\"1\" /><path clip-path=\"url(#clip630)\" d=\"M2515.14 667.427 Q2511.53 667.427 2509.7 670.991 Q2507.89 674.533 2507.89 681.663 Q2507.89 688.769 2509.7 692.334 Q2511.53 695.875 2515.14 695.875 Q2518.77 695.875 2520.58 692.334 Q2522.41 688.769 2522.41 681.663 Q2522.41 674.533 2520.58 670.991 Q2518.77 667.427 2515.14 667.427 M2515.14 663.723 Q2520.95 663.723 2524 668.329 Q2527.08 672.913 2527.08 681.663 Q2527.08 690.389 2524 694.996 Q2520.95 699.579 2515.14 699.579 Q2509.33 699.579 2506.25 694.996 Q2503.19 690.389 2503.19 681.663 Q2503.19 672.913 2506.25 668.329 Q2509.33 663.723 2515.14 663.723 Z\" fill=\"#000000\" fill-rule=\"nonzero\" fill-opacity=\"1\" /><path clip-path=\"url(#clip630)\" d=\"M2545.3 667.427 Q2541.69 667.427 2539.86 670.991 Q2538.06 674.533 2538.06 681.663 Q2538.06 688.769 2539.86 692.334 Q2541.69 695.875 2545.3 695.875 Q2548.94 695.875 2550.74 692.334 Q2552.57 688.769 2552.57 681.663 Q2552.57 674.533 2550.74 670.991 Q2548.94 667.427 2545.3 667.427 M2545.3 663.723 Q2551.11 663.723 2554.17 668.329 Q2557.25 672.913 2557.25 681.663 Q2557.25 690.389 2554.17 694.996 Q2551.11 699.579 2545.3 699.579 Q2539.49 699.579 2536.41 694.996 Q2533.36 690.389 2533.36 681.663 Q2533.36 672.913 2536.41 668.329 Q2539.49 663.723 2545.3 663.723 Z\" fill=\"#000000\" fill-rule=\"nonzero\" fill-opacity=\"1\" /><polyline clip-path=\"url(#clip632)\" style=\"stroke:#000000; stroke-linecap:round; stroke-linejoin:round; stroke-width:2; stroke-opacity:0.1; fill:none\" points=\"158.198,507.646 2512.76,507.646 \"/>\n",
       "<polyline clip-path=\"url(#clip632)\" style=\"stroke:#000000; stroke-linecap:round; stroke-linejoin:round; stroke-width:2; stroke-opacity:0.1; fill:none\" points=\"158.198,359.726 2512.76,359.726 \"/>\n",
       "<polyline clip-path=\"url(#clip632)\" style=\"stroke:#000000; stroke-linecap:round; stroke-linejoin:round; stroke-width:2; stroke-opacity:0.1; fill:none\" points=\"158.198,211.806 2512.76,211.806 \"/>\n",
       "<polyline clip-path=\"url(#clip632)\" style=\"stroke:#000000; stroke-linecap:round; stroke-linejoin:round; stroke-width:2; stroke-opacity:0.1; fill:none\" points=\"158.198,63.8851 2512.76,63.8851 \"/>\n",
       "<polyline clip-path=\"url(#clip630)\" style=\"stroke:#000000; stroke-linecap:round; stroke-linejoin:round; stroke-width:4; stroke-opacity:1; fill:none\" points=\"158.198,635.228 158.198,47.2441 \"/>\n",
       "<polyline clip-path=\"url(#clip630)\" style=\"stroke:#000000; stroke-linecap:round; stroke-linejoin:round; stroke-width:4; stroke-opacity:1; fill:none\" points=\"158.198,507.646 177.096,507.646 \"/>\n",
       "<polyline clip-path=\"url(#clip630)\" style=\"stroke:#000000; stroke-linecap:round; stroke-linejoin:round; stroke-width:4; stroke-opacity:1; fill:none\" points=\"158.198,359.726 177.096,359.726 \"/>\n",
       "<polyline clip-path=\"url(#clip630)\" style=\"stroke:#000000; stroke-linecap:round; stroke-linejoin:round; stroke-width:4; stroke-opacity:1; fill:none\" points=\"158.198,211.806 177.096,211.806 \"/>\n",
       "<polyline clip-path=\"url(#clip630)\" style=\"stroke:#000000; stroke-linecap:round; stroke-linejoin:round; stroke-width:4; stroke-opacity:1; fill:none\" points=\"158.198,63.8851 177.096,63.8851 \"/>\n",
       "<path clip-path=\"url(#clip630)\" d=\"M62.1365 493.445 Q58.5254 493.445 56.6967 497.01 Q54.8912 500.552 54.8912 507.681 Q54.8912 514.788 56.6967 518.352 Q58.5254 521.894 62.1365 521.894 Q65.7707 521.894 67.5763 518.352 Q69.405 514.788 69.405 507.681 Q69.405 500.552 67.5763 497.01 Q65.7707 493.445 62.1365 493.445 M62.1365 489.741 Q67.9467 489.741 71.0022 494.348 Q74.0809 498.931 74.0809 507.681 Q74.0809 516.408 71.0022 521.014 Q67.9467 525.598 62.1365 525.598 Q56.3264 525.598 53.2477 521.014 Q50.1921 516.408 50.1921 507.681 Q50.1921 498.931 53.2477 494.348 Q56.3264 489.741 62.1365 489.741 Z\" fill=\"#000000\" fill-rule=\"nonzero\" fill-opacity=\"1\" /><path clip-path=\"url(#clip630)\" d=\"M82.2984 519.047 L87.1827 519.047 L87.1827 524.926 L82.2984 524.926 L82.2984 519.047 Z\" fill=\"#000000\" fill-rule=\"nonzero\" fill-opacity=\"1\" /><path clip-path=\"url(#clip630)\" d=\"M110.215 494.441 L98.4095 512.89 L110.215 512.89 L110.215 494.441 M108.988 490.366 L114.868 490.366 L114.868 512.89 L119.798 512.89 L119.798 516.778 L114.868 516.778 L114.868 524.926 L110.215 524.926 L110.215 516.778 L94.6132 516.778 L94.6132 512.265 L108.988 490.366 Z\" fill=\"#000000\" fill-rule=\"nonzero\" fill-opacity=\"1\" /><path clip-path=\"url(#clip630)\" d=\"M62.4606 345.525 Q58.8495 345.525 57.0208 349.09 Q55.2152 352.631 55.2152 359.761 Q55.2152 366.867 57.0208 370.432 Q58.8495 373.974 62.4606 373.974 Q66.0948 373.974 67.9004 370.432 Q69.7291 366.867 69.7291 359.761 Q69.7291 352.631 67.9004 349.09 Q66.0948 345.525 62.4606 345.525 M62.4606 341.821 Q68.2707 341.821 71.3263 346.428 Q74.405 351.011 74.405 359.761 Q74.405 368.488 71.3263 373.094 Q68.2707 377.677 62.4606 377.677 Q56.6504 377.677 53.5717 373.094 Q50.5162 368.488 50.5162 359.761 Q50.5162 351.011 53.5717 346.428 Q56.6504 341.821 62.4606 341.821 Z\" fill=\"#000000\" fill-rule=\"nonzero\" fill-opacity=\"1\" /><path clip-path=\"url(#clip630)\" d=\"M82.6225 371.126 L87.5067 371.126 L87.5067 377.006 L82.6225 377.006 L82.6225 371.126 Z\" fill=\"#000000\" fill-rule=\"nonzero\" fill-opacity=\"1\" /><path clip-path=\"url(#clip630)\" d=\"M108.271 357.863 Q105.122 357.863 103.271 360.015 Q101.442 362.168 101.442 365.918 Q101.442 369.645 103.271 371.821 Q105.122 373.974 108.271 373.974 Q111.419 373.974 113.247 371.821 Q115.099 369.645 115.099 365.918 Q115.099 362.168 113.247 360.015 Q111.419 357.863 108.271 357.863 M117.553 343.21 L117.553 347.469 Q115.794 346.636 113.988 346.196 Q112.206 345.756 110.446 345.756 Q105.817 345.756 103.363 348.881 Q100.933 352.006 100.585 358.326 Q101.951 356.312 104.011 355.247 Q106.071 354.159 108.548 354.159 Q113.757 354.159 116.766 357.33 Q119.798 360.478 119.798 365.918 Q119.798 371.242 116.65 374.46 Q113.502 377.677 108.271 377.677 Q102.275 377.677 99.1039 373.094 Q95.9326 368.488 95.9326 359.761 Q95.9326 351.566 99.8215 346.705 Q103.71 341.821 110.261 341.821 Q112.02 341.821 113.803 342.168 Q115.608 342.515 117.553 343.21 Z\" fill=\"#000000\" fill-rule=\"nonzero\" fill-opacity=\"1\" /><path clip-path=\"url(#clip630)\" d=\"M62.7152 197.604 Q59.1041 197.604 57.2754 201.169 Q55.4699 204.711 55.4699 211.84 Q55.4699 218.947 57.2754 222.512 Q59.1041 226.053 62.7152 226.053 Q66.3494 226.053 68.155 222.512 Q69.9837 218.947 69.9837 211.84 Q69.9837 204.711 68.155 201.169 Q66.3494 197.604 62.7152 197.604 M62.7152 193.901 Q68.5254 193.901 71.5809 198.507 Q74.6596 203.09 74.6596 211.84 Q74.6596 220.567 71.5809 225.174 Q68.5254 229.757 62.7152 229.757 Q56.9051 229.757 53.8264 225.174 Q50.7708 220.567 50.7708 211.84 Q50.7708 203.09 53.8264 198.507 Q56.9051 193.901 62.7152 193.901 Z\" fill=\"#000000\" fill-rule=\"nonzero\" fill-opacity=\"1\" /><path clip-path=\"url(#clip630)\" d=\"M82.8771 223.206 L87.7614 223.206 L87.7614 229.086 L82.8771 229.086 L82.8771 223.206 Z\" fill=\"#000000\" fill-rule=\"nonzero\" fill-opacity=\"1\" /><path clip-path=\"url(#clip630)\" d=\"M107.946 212.674 Q104.613 212.674 102.692 214.456 Q100.794 216.238 100.794 219.363 Q100.794 222.488 102.692 224.271 Q104.613 226.053 107.946 226.053 Q111.28 226.053 113.201 224.271 Q115.122 222.465 115.122 219.363 Q115.122 216.238 113.201 214.456 Q111.303 212.674 107.946 212.674 M103.271 210.683 Q100.261 209.942 98.5715 207.882 Q96.9048 205.822 96.9048 202.859 Q96.9048 198.715 99.8446 196.308 Q102.808 193.901 107.946 193.901 Q113.108 193.901 116.048 196.308 Q118.988 198.715 118.988 202.859 Q118.988 205.822 117.298 207.882 Q115.632 209.942 112.645 210.683 Q116.025 211.47 117.9 213.762 Q119.798 216.053 119.798 219.363 Q119.798 224.387 116.72 227.072 Q113.664 229.757 107.946 229.757 Q102.229 229.757 99.1502 227.072 Q96.0947 224.387 96.0947 219.363 Q96.0947 216.053 97.9928 213.762 Q99.8909 211.47 103.271 210.683 M101.558 203.299 Q101.558 205.984 103.224 207.488 Q104.914 208.993 107.946 208.993 Q110.956 208.993 112.645 207.488 Q114.358 205.984 114.358 203.299 Q114.358 200.614 112.645 199.109 Q110.956 197.604 107.946 197.604 Q104.914 197.604 103.224 199.109 Q101.558 200.614 101.558 203.299 Z\" fill=\"#000000\" fill-rule=\"nonzero\" fill-opacity=\"1\" /><path clip-path=\"url(#clip630)\" d=\"M53.4328 77.23 L61.0717 77.23 L61.0717 50.8644 L52.7616 52.531 L52.7616 48.2718 L61.0254 46.6051 L65.7013 46.6051 L65.7013 77.23 L73.3402 77.23 L73.3402 81.1651 L53.4328 81.1651 L53.4328 77.23 Z\" fill=\"#000000\" fill-rule=\"nonzero\" fill-opacity=\"1\" /><path clip-path=\"url(#clip630)\" d=\"M82.7845 75.2855 L87.6688 75.2855 L87.6688 81.1651 L82.7845 81.1651 L82.7845 75.2855 Z\" fill=\"#000000\" fill-rule=\"nonzero\" fill-opacity=\"1\" /><path clip-path=\"url(#clip630)\" d=\"M107.854 49.6838 Q104.243 49.6838 102.414 53.2486 Q100.609 56.7903 100.609 63.9199 Q100.609 71.0263 102.414 74.5911 Q104.243 78.1328 107.854 78.1328 Q111.488 78.1328 113.294 74.5911 Q115.122 71.0263 115.122 63.9199 Q115.122 56.7903 113.294 53.2486 Q111.488 49.6838 107.854 49.6838 M107.854 45.9801 Q113.664 45.9801 116.72 50.5866 Q119.798 55.1699 119.798 63.9199 Q119.798 72.6467 116.72 77.2531 Q113.664 81.8364 107.854 81.8364 Q102.044 81.8364 98.965 77.2531 Q95.9095 72.6467 95.9095 63.9199 Q95.9095 55.1699 98.965 50.5866 Q102.044 45.9801 107.854 45.9801 Z\" fill=\"#000000\" fill-rule=\"nonzero\" fill-opacity=\"1\" /><polyline clip-path=\"url(#clip632)\" style=\"stroke:#009af9; stroke-linecap:round; stroke-linejoin:round; stroke-width:4; stroke-opacity:1; fill:none\" points=\"169.854,63.8851 172.186,433.686 174.517,556.953 176.848,618.587 179.179,507.646 181.511,433.686 183.842,380.858 186.173,341.236 188.504,310.419 190.836,359.726 193.167,400.068 195.498,433.686 197.829,462.133 200.161,486.515 202.492,507.646 204.823,526.137 207.154,498.945 209.486,474.775 211.817,453.149 214.148,433.686 216.479,416.077 218.811,400.068 221.142,385.451 223.473,372.053 225.804,359.726 228.136,376.794 230.467,392.597 232.798,407.272 235.129,420.935 237.461,433.686 239.792,445.615 242.123,456.799 244.454,467.305 246.786,477.192 249.117,486.515 251.448,495.32 253.779,483.659 256.111,472.613 258.442,462.133 260.773,452.176 263.104,442.706 265.436,433.686 267.767,425.086 270.098,416.877 272.429,409.033 274.76,401.53 277.092,394.346 279.423,387.461 281.754,380.858 284.085,389.31 286.417,397.431 288.748,405.24 291.079,412.754 293.41,419.99 295.742,426.963 298.073,433.686 300.404,440.174 302.735,446.438 305.067,452.49 307.398,458.34 309.729,463.998 312.06,469.473 314.392,474.775 316.723,479.911 319.054,473.511 321.385,467.305 323.717,461.283 326.048,455.439 328.379,449.765 330.71,444.252 333.042,438.895 335.373,433.686 337.704,428.62 340.035,423.692 342.367,418.894 344.698,414.223 347.029,409.673 349.36,405.24 351.692,400.919 354.023,396.706 356.354,392.597 358.685,397.608 361.017,402.498 363.348,407.272 365.679,411.933 368.01,416.486 370.342,420.935 372.673,425.282 375.004,429.531 377.335,433.686 379.667,437.75 381.998,441.725 384.329,445.615 386.66,449.422 388.992,453.149 391.323,456.799 393.654,460.373 395.985,463.874 398.316,467.305 400.648,470.666 402.979,466.639 405.31,462.69 407.641,458.818 409.973,455.021 412.304,451.296 414.635,447.641 416.966,444.055 419.298,440.534 421.629,437.079 423.96,433.686 426.291,430.355 428.623,427.083 430.954,423.869 433.285,420.711 435.616,417.608 437.948,414.559 440.279,411.561 442.61,408.615 444.941,405.718 447.273,402.87 449.604,400.068 451.935,403.375 454.266,406.628 456.598,409.828 458.929,412.977 461.26,416.077 463.591,419.127 465.923,422.13 468.254,425.086 470.585,427.997 472.916,430.863 475.248,433.686 477.579,436.467 479.91,439.206 482.241,441.904 484.573,444.563 486.904,447.183 489.235,449.765 491.566,452.309 493.898,454.818 496.229,457.291 498.56,459.729 500.891,462.133 503.223,464.503 505.554,461.74 507.885,459.015 510.216,456.327 512.548,453.676 514.879,451.059 517.21,448.478 519.541,445.931 521.872,443.418 524.204,440.937 526.535,438.489 528.866,436.072 531.197,433.686 533.529,431.331 535.86,429.005 538.191,426.709 540.522,424.441 542.854,422.202 545.185,419.99 547.516,417.805 549.847,415.647 552.179,413.515 554.51,411.409 556.841,409.328 559.172,407.272 561.504,405.24 563.835,407.583 566.166,409.898 568.497,412.186 570.829,414.448 573.16,416.684 575.491,418.894 577.822,421.079 580.154,423.24 582.485,425.376 584.816,427.488 587.147,429.577 589.479,431.643 591.81,433.686 594.141,435.707 596.472,437.706 598.804,439.683 601.135,441.639 603.466,443.574 605.797,445.488 608.129,447.383 610.46,449.257 612.791,451.111 615.122,452.947 617.454,454.763 619.785,456.561 622.116,458.34 624.447,460.101 626.779,458.089 629.11,456.098 631.441,454.128 633.772,452.176 636.104,450.245 638.435,448.332 640.766,446.438 643.097,444.563 645.428,442.706 647.76,440.867 650.091,439.046 652.422,437.242 654.753,435.456 657.085,433.686 659.416,431.934 661.747,430.198 664.078,428.478 666.41,426.774 668.741,425.086 671.072,423.414 673.403,421.757 675.735,420.116 678.066,418.489 680.397,416.877 682.728,415.28 685.06,413.697 687.391,412.128 689.722,410.574 692.053,409.033 694.385,410.778 696.716,412.508 699.047,414.223 701.378,415.923 703.71,417.608 706.041,419.278 708.372,420.935 710.703,422.576 713.035,424.204 715.366,425.818 717.697,427.418 720.028,429.005 722.36,430.579 724.691,432.139 727.022,433.686 729.353,435.221 731.685,436.742 734.016,438.252 736.347,439.749 738.678,441.233 741.01,442.706 743.341,444.166 745.672,445.615 748.003,447.053 750.335,448.478 752.666,449.893 754.997,451.296 757.328,452.688 759.66,454.069 761.991,455.439 764.322,456.799 766.653,455.27 768.984,453.753 771.316,452.248 773.647,450.754 775.978,449.272 778.309,447.801 780.641,446.341 782.972,444.892 785.303,443.455 787.634,442.028 789.966,440.611 792.297,439.206 794.628,437.81 796.959,436.426 799.291,435.051 801.622,433.686 803.953,432.332 806.284,430.987 808.616,429.652 810.947,428.327 813.278,427.011 815.609,425.705 817.941,424.408 820.272,423.121 822.603,421.842 824.934,420.573 827.266,419.312 829.597,418.061 831.928,416.818 834.259,415.584 836.591,414.359 838.922,413.142 841.253,411.933 843.584,413.283 845.916,414.624 848.247,415.956 850.578,417.279 852.909,418.592 855.241,419.897 857.572,421.193 859.903,422.48 862.234,423.759 864.566,425.029 866.897,426.29 869.228,427.543 871.559,428.788 873.891,430.025 876.222,431.253 878.553,432.474 880.884,433.686 883.215,434.891 885.547,436.088 887.878,437.277 890.209,438.458 892.54,439.632 894.872,440.798 897.203,441.957 899.534,443.108 901.865,444.252 904.197,445.389 906.528,446.518 908.859,447.641 911.19,448.757 913.522,449.865 915.853,450.967 918.184,452.061 920.515,453.149 922.847,454.231 925.178,453.03 927.509,451.836 929.84,450.65 932.172,449.47 934.503,448.298 936.834,447.134 939.165,445.976 941.497,444.825 943.828,443.681 946.159,442.544 948.49,441.413 950.822,440.29 953.153,439.173 955.484,438.063 957.815,436.959 960.147,435.862 962.478,434.771 964.809,433.686 967.14,432.608 969.472,431.536 971.803,430.471 974.134,429.411 976.465,428.358 978.797,427.31 981.128,426.269 983.459,425.234 985.79,424.204 988.122,423.181 990.453,422.163 992.784,421.151 995.115,420.144 997.447,419.144 999.778,418.148 1002.11,417.159 1004.44,416.175 1006.77,415.196 1009.1,414.223 1011.43,415.298 1013.77,416.368 1016.1,417.431 1018.43,418.489 1020.76,419.541 1023.09,420.587 1025.42,421.628 1027.75,422.662 1030.08,423.692 1032.42,424.715 1034.75,425.734 1037.08,426.746 1039.41,427.754 1041.74,428.756 1044.07,429.752 1046.4,430.744 1048.73,431.73 1051.07,432.711 1053.4,433.686 1055.73,434.657 1058.06,435.622 1060.39,436.583 1062.72,437.538 1065.05,438.489 1067.38,439.434 1069.72,440.375 1072.05,441.311 1074.38,442.242 1076.71,443.168 1079.04,444.09 1081.37,445.007 1083.7,445.919 1086.03,446.826 1088.37,447.729 1090.7,448.628 1093.03,449.522 1095.36,450.411 1097.69,451.296 1100.02,452.176 1102.35,451.208 1104.68,450.245 1107.02,449.286 1109.35,448.332 1111.68,447.383 1114.01,446.438 1116.34,445.498 1118.67,444.563 1121,443.632 1123.33,442.706 1125.67,441.784 1128,440.867 1130.33,439.954 1132.66,439.046 1134.99,438.142 1137.32,437.242 1139.65,436.347 1141.98,435.456 1144.31,434.569 1146.65,433.686 1148.98,432.808 1151.31,431.934 1153.64,431.064 1155.97,430.198 1158.3,429.336 1160.63,428.478 1162.96,427.624 1165.3,426.774 1167.63,425.928 1169.96,425.086 1172.29,424.248 1174.62,423.414 1176.95,422.584 1179.28,421.757 1181.61,420.935 1183.95,420.116 1186.28,419.3 1188.61,418.489 1190.94,417.681 1193.27,416.877 1195.6,416.077 1197.93,416.953 1200.26,417.826 1202.6,418.694 1204.93,419.559 1207.26,420.42 1209.59,421.277 1211.92,422.13 1214.25,422.979 1216.58,423.825 1218.91,424.667 1221.25,425.505 1223.58,426.339 1225.91,427.17 1228.24,427.997 1230.57,428.82 1232.9,429.64 1235.23,430.457 1237.56,431.269 1239.9,432.078 1242.23,432.884 1244.56,433.686 1246.89,434.485 1249.22,435.28 1251.55,436.072 1253.88,436.861 1256.21,437.646 1258.55,438.427 1260.88,439.206 1263.21,439.981 1265.54,440.753 1267.87,441.521 1270.2,442.286 1272.53,443.048 1274.86,443.807 1277.2,444.563 1279.53,445.315 1281.86,446.065 1284.19,446.811 1286.52,447.554 1288.85,448.294 1291.18,449.031 1293.51,449.765 1295.85,450.495 1298.18,449.698 1300.51,448.904 1302.84,448.114 1305.17,447.326 1307.5,446.542 1309.83,445.761 1312.16,444.984 1314.5,444.209 1316.83,443.438 1319.16,442.669 1321.49,441.904 1323.82,441.142 1326.15,440.383 1328.48,439.627 1330.81,438.874 1333.15,438.124 1335.48,437.377 1337.81,436.633 1340.14,435.892 1342.47,435.154 1344.8,434.419 1347.13,433.686 1349.46,432.957 1351.8,432.23 1354.13,431.507 1356.46,430.786 1358.79,430.068 1361.12,429.353 1363.45,428.64 1365.78,427.931 1368.11,427.224 1370.45,426.52 1372.78,425.818 1375.11,425.119 1377.44,424.423 1379.77,423.73 1382.1,423.039 1384.43,422.351 1386.76,421.666 1389.1,420.983 1391.43,420.303 1393.76,419.625 1396.09,418.95 1398.42,418.278 1400.75,417.608 1403.08,418.336 1405.41,419.061 1407.75,419.784 1410.08,420.504 1412.41,421.221 1414.74,421.936 1417.07,422.647 1419.4,423.357 1421.73,424.063 1424.06,424.767 1426.4,425.468 1428.73,426.167 1431.06,426.863 1433.39,427.557 1435.72,428.248 1438.05,428.937 1440.38,429.623 1442.71,430.306 1445.05,430.987 1447.38,431.665 1449.71,432.342 1452.04,433.015 1454.37,433.686 1456.7,434.355 1459.03,435.021 1461.36,435.685 1463.7,436.347 1466.03,437.006 1468.36,437.663 1470.69,438.317 1473.02,438.969 1475.35,439.619 1477.68,440.266 1480.01,440.912 1482.35,441.554 1484.68,442.195 1487.01,442.833 1489.34,443.469 1491.67,444.103 1494,444.735 1496.33,445.364 1498.66,445.991 1501,446.616 1503.33,447.239 1505.66,447.86 1507.99,448.478 1510.32,449.095 1512.65,448.427 1514.98,447.762 1517.31,447.099 1519.65,446.438 1521.98,445.78 1524.31,445.123 1526.64,444.469 1528.97,443.818 1531.3,443.168 1533.63,442.521 1535.96,441.876 1538.3,441.233 1540.63,440.593 1542.96,439.954 1545.29,439.318 1547.62,438.684 1549.95,438.052 1552.28,437.422 1554.61,436.794 1556.95,436.168 1559.28,435.545 1561.61,434.923 1563.94,434.304 1566.27,433.686 1568.6,433.071 1570.93,432.458 1573.26,431.846 1575.6,431.237 1577.93,430.63 1580.26,430.025 1582.59,429.422 1584.92,428.82 1587.25,428.221 1589.58,427.624 1591.91,427.029 1594.25,426.435 1596.58,425.844 1598.91,425.254 1601.24,424.667 1603.57,424.081 1605.9,423.497 1608.23,422.915 1610.56,422.335 1612.9,421.757 1615.23,421.181 1617.56,420.606 1619.89,420.034 1622.22,419.463 1624.55,418.894 1626.88,419.509 1629.21,420.121 1631.55,420.731 1633.88,421.34 1636.21,421.947 1638.54,422.551 1640.87,423.154 1643.2,423.755 1645.53,424.354 1647.86,424.951 1650.2,425.546 1652.53,426.139 1654.86,426.731 1657.19,427.32 1659.52,427.908 1661.85,428.494 1664.18,429.078 1666.51,429.66 1668.85,430.241 1671.18,430.82 1673.51,431.396 1675.84,431.972 1678.17,432.545 1680.5,433.116 1682.83,433.686 1685.16,434.254 1687.5,434.821 1689.83,435.385 1692.16,435.948 1694.49,436.509 1696.82,437.069 1699.15,437.626 1701.48,438.182 1703.81,438.737 1706.15,439.289 1708.48,439.84 1710.81,440.39 1713.14,440.937 1715.47,441.483 1717.8,442.028 1720.13,442.57 1722.46,443.111 1724.8,443.651 1727.13,444.189 1729.46,444.725 1731.79,445.26 1734.12,445.793 1736.45,446.324 1738.78,446.854 1741.11,447.383 1743.44,447.909 1745.78,447.342 1748.11,446.777 1750.44,446.213 1752.77,445.65 1755.1,445.09 1757.43,444.531 1759.76,443.974 1762.09,443.418 1764.43,442.864 1766.76,442.311 1769.09,441.761 1771.42,441.211 1773.75,440.664 1776.08,440.118 1778.41,439.573 1780.74,439.03 1783.08,438.489 1785.41,437.949 1787.74,437.411 1790.07,436.874 1792.4,436.339 1794.73,435.805 1797.06,435.273 1799.39,434.743 1801.73,434.214 1804.06,433.686 1806.39,433.16 1808.72,432.636 1811.05,432.113 1813.38,431.591 1815.71,431.071 1818.04,430.552 1820.38,430.035 1822.71,429.519 1825.04,429.005 1827.37,428.492 1829.7,427.981 1832.03,427.471 1834.36,426.963 1836.69,426.456 1839.03,425.95 1841.36,425.446 1843.69,424.943 1846.02,424.441 1848.35,423.941 1850.68,423.442 1853.01,422.945 1855.34,422.449 1857.68,421.955 1860.01,421.461 1862.34,420.97 1864.67,420.479 1867,419.99 1869.33,420.515 1871.66,421.039 1873.99,421.562 1876.33,422.083 1878.66,422.602 1880.99,423.121 1883.32,423.637 1885.65,424.153 1887.98,424.667 1890.31,425.179 1892.64,425.691 1894.98,426.2 1897.31,426.709 1899.64,427.216 1901.97,427.722 1904.3,428.226 1906.63,428.729 1908.96,429.231 1911.29,429.731 1913.63,430.23 1915.96,430.728 1918.29,431.224 1920.62,431.719 1922.95,432.213 1925.28,432.705 1927.61,433.196 1929.94,433.686 1932.28,434.175 1934.61,434.662 1936.94,435.148 1939.27,435.633 1941.6,436.116 1943.93,436.598 1946.26,437.079 1948.59,437.559 1950.93,438.037 1953.26,438.514 1955.59,438.99 1957.92,439.464 1960.25,439.938 1962.58,440.41 1964.91,440.881 1967.24,441.351 1969.58,441.819 1971.91,442.286 1974.24,442.752 1976.57,443.217 1978.9,443.681 1981.23,444.143 1983.56,444.605 1985.89,445.065 1988.23,445.524 1990.56,445.981 1992.89,446.438 1995.22,446.893 1997.55,446.406 1999.88,445.919 2002.21,445.433 2004.54,444.949 2006.88,444.466 2009.21,443.985 2011.54,443.504 2013.87,443.025 2016.2,442.547 2018.53,442.07 2020.86,441.594 2023.19,441.119 2025.53,440.646 2027.86,440.174 2030.19,439.703 2032.52,439.233 2034.85,438.765 2037.18,438.297 2039.51,437.831 2041.84,437.366 2044.18,436.902 2046.51,436.439 2048.84,435.977 2051.17,435.517 2053.5,435.058 2055.83,434.599 2058.16,434.142 2060.49,433.686 2062.83,433.231 2065.16,432.778 2067.49,432.325 2069.82,431.874 2072.15,431.423 2074.48,430.974 2076.81,430.526 2079.14,430.078 2081.48,429.632 2083.81,429.187 2086.14,428.744 2088.47,428.301 2090.8,427.859 2093.13,427.418 2095.46,426.979 2097.79,426.54 2100.13,426.103 2102.46,425.666 2104.79,425.231 2107.12,424.797 2109.45,424.364 2111.78,423.931 2114.11,423.5 2116.44,423.07 2118.78,422.641 2121.11,422.213 2123.44,421.786 2125.77,421.36 2128.1,420.935 2130.43,421.389 2132.76,421.842 2135.09,422.294 2137.43,422.745 2139.76,423.195 2142.09,423.644 2144.42,424.092 2146.75,424.539 2149.08,424.985 2151.41,425.43 2153.74,425.874 2156.08,426.316 2158.41,426.758 2160.74,427.199 2163.07,427.638 2165.4,428.077 2167.73,428.514 2170.06,428.951 2172.39,429.386 2174.73,429.821 2177.06,430.254 2179.39,430.687 2181.72,431.118 2184.05,431.549 2186.38,431.978 2188.71,432.407 2191.04,432.834 2193.38,433.261 2195.71,433.686 2198.04,434.111 2200.37,434.534 2202.7,434.957 2205.03,435.379 2207.36,435.799 2209.69,436.219 2212.03,436.638 2214.36,437.056 2216.69,437.473 2219.02,437.889 2221.35,438.304 2223.68,438.718 2226.01,439.131 2228.34,439.543 2230.68,439.954 2233.01,440.364 2235.34,440.774 2237.67,441.182 2240,441.59 2242.33,441.996 2244.66,442.402 2246.99,442.807 2249.33,443.211 2251.66,443.614 2253.99,444.016 2256.32,444.417 2258.65,444.817 2260.98,445.217 2263.31,445.615 2265.64,446.013 2267.98,445.589 2270.31,445.166 2272.64,444.743 2274.97,444.322 2277.3,443.902 2279.63,443.482 2281.96,443.064 2284.29,442.646 2286.63,442.23 2288.96,441.814 2291.29,441.399 2293.62,440.985 2295.95,440.572 2298.28,440.16 2300.61,439.749 2302.94,439.338 2305.28,438.929 2307.61,438.52 2309.94,438.113 2312.27,437.706 2314.6,437.3 2316.93,436.895 2319.26,436.491 2321.59,436.088 2323.93,435.685 2326.26,435.284 2328.59,434.883 2330.92,434.483 2333.25,434.084 2335.58,433.686 2337.91,433.289 2340.24,432.893 2342.58,432.497 2344.91,432.103 2347.24,431.709 2349.57,431.316 2351.9,430.924 2354.23,430.532 2356.56,430.142 2358.89,429.752 2361.22,429.363 2363.56,428.975 2365.89,428.588 2368.22,428.202 2370.55,427.816 2372.88,427.432 2375.21,427.048 2377.54,426.665 2379.87,426.282 2382.21,425.901 2384.54,425.52 2386.87,425.14 2389.2,424.761 2391.53,424.383 2393.86,424.006 2396.19,423.629 2398.52,423.253 2400.86,422.878 2403.19,422.504 2405.52,422.13 2407.85,421.757 2410.18,422.154 2412.51,422.55 2414.84,422.945 2417.17,423.339 2419.51,423.733 2421.84,424.126 2424.17,424.518 2426.5,424.909 2428.83,425.299 2431.16,425.689 2433.49,426.077 2435.82,426.465 2438.16,426.852 2440.49,427.238 2442.82,427.624 2445.15,428.009 2447.48,428.393 2449.81,428.776 2452.14,429.158 2454.47,429.54 2456.81,429.92 2459.14,430.3 2461.47,430.68 2463.8,431.058 2466.13,431.436 2468.46,431.813 2470.79,432.189 2473.12,432.565 2475.46,432.939 2477.79,433.313 2480.12,433.686 2482.45,434.059 2484.78,434.43 2487.11,434.801 2489.44,435.171 2491.77,435.541 2494.11,435.91 2496.44,436.277 2498.77,436.645 2501.1,437.011 \"/>\n",
       "<polyline clip-path=\"url(#clip632)\" style=\"stroke:#e26f46; stroke-linecap:round; stroke-linejoin:round; stroke-width:4; stroke-opacity:1; fill:none\" stroke-dasharray=\"16, 10\" points=\"-2196.36,433.686 4867.31,433.686 \"/>\n",
       "<path clip-path=\"url(#clip630)\" d=\"M2008.47 222.364 L2434.27 222.364 L2434.27 66.8436 L2008.47 66.8436  Z\" fill=\"#ffffff\" fill-rule=\"evenodd\" fill-opacity=\"1\"/>\n",
       "<polyline clip-path=\"url(#clip630)\" style=\"stroke:#000000; stroke-linecap:round; stroke-linejoin:round; stroke-width:4; stroke-opacity:1; fill:none\" points=\"2008.47,222.364 2434.27,222.364 2434.27,66.8436 2008.47,66.8436 2008.47,222.364 \"/>\n",
       "<polyline clip-path=\"url(#clip630)\" style=\"stroke:#009af9; stroke-linecap:round; stroke-linejoin:round; stroke-width:4; stroke-opacity:1; fill:none\" points=\"2034.63,118.684 2191.6,118.684 \"/>\n",
       "<path clip-path=\"url(#clip630)\" d=\"M2236.19 110.802 L2236.19 114.829 Q2234.38 113.903 2232.44 113.441 Q2230.49 112.978 2228.41 112.978 Q2225.24 112.978 2223.64 113.95 Q2222.07 114.922 2222.07 116.866 Q2222.07 118.348 2223.2 119.204 Q2224.34 120.038 2227.76 120.802 L2229.22 121.126 Q2233.76 122.098 2235.66 123.88 Q2237.58 125.64 2237.58 128.811 Q2237.58 132.422 2234.71 134.528 Q2231.86 136.635 2226.86 136.635 Q2224.78 136.635 2222.51 136.218 Q2220.26 135.825 2217.76 135.014 L2217.76 130.616 Q2220.12 131.843 2222.42 132.468 Q2224.71 133.07 2226.95 133.07 Q2229.96 133.07 2231.58 132.052 Q2233.2 131.01 2233.2 129.135 Q2233.2 127.399 2232.02 126.473 Q2230.86 125.547 2226.91 124.69 L2225.42 124.343 Q2221.47 123.51 2219.71 121.797 Q2217.95 120.061 2217.95 117.052 Q2217.95 113.394 2220.54 111.404 Q2223.13 109.413 2227.9 109.413 Q2230.26 109.413 2232.35 109.76 Q2234.43 110.107 2236.19 110.802 Z\" fill=\"#000000\" fill-rule=\"nonzero\" fill-opacity=\"1\" /><path clip-path=\"url(#clip630)\" d=\"M2244.36 110.038 L2248.62 110.038 L2248.62 135.964 L2244.36 135.964 L2244.36 110.038 M2244.36 99.9452 L2248.62 99.9452 L2248.62 105.339 L2244.36 105.339 L2244.36 99.9452 Z\" fill=\"#000000\" fill-rule=\"nonzero\" fill-opacity=\"1\" /><path clip-path=\"url(#clip630)\" d=\"M2274.59 122.7 Q2274.59 118.07 2272.67 115.524 Q2270.77 112.978 2267.32 112.978 Q2263.9 112.978 2261.98 115.524 Q2260.08 118.07 2260.08 122.7 Q2260.08 127.306 2261.98 129.852 Q2263.9 132.399 2267.32 132.399 Q2270.77 132.399 2272.67 129.852 Q2274.59 127.306 2274.59 122.7 M2278.85 132.746 Q2278.85 139.366 2275.91 142.584 Q2272.97 145.825 2266.91 145.825 Q2264.66 145.825 2262.67 145.477 Q2260.68 145.153 2258.8 144.459 L2258.8 140.315 Q2260.68 141.334 2262.51 141.82 Q2264.34 142.306 2266.23 142.306 Q2270.42 142.306 2272.51 140.107 Q2274.59 137.931 2274.59 133.51 L2274.59 131.403 Q2273.27 133.695 2271.21 134.829 Q2269.15 135.964 2266.28 135.964 Q2261.51 135.964 2258.6 132.329 Q2255.68 128.695 2255.68 122.7 Q2255.68 116.681 2258.6 113.047 Q2261.51 109.413 2266.28 109.413 Q2269.15 109.413 2271.21 110.547 Q2273.27 111.681 2274.59 113.973 L2274.59 110.038 L2278.85 110.038 L2278.85 132.746 Z\" fill=\"#000000\" fill-rule=\"nonzero\" fill-opacity=\"1\" /><path clip-path=\"url(#clip630)\" d=\"M2307.81 115.015 Q2309.41 112.144 2311.63 110.779 Q2313.85 109.413 2316.86 109.413 Q2320.91 109.413 2323.11 112.26 Q2325.31 115.084 2325.31 120.315 L2325.31 135.964 L2321.03 135.964 L2321.03 120.454 Q2321.03 116.728 2319.71 114.922 Q2318.39 113.116 2315.68 113.116 Q2312.37 113.116 2310.45 115.316 Q2308.53 117.515 2308.53 121.311 L2308.53 135.964 L2304.24 135.964 L2304.24 120.454 Q2304.24 116.704 2302.92 114.922 Q2301.6 113.116 2298.85 113.116 Q2295.59 113.116 2293.67 115.339 Q2291.74 117.538 2291.74 121.311 L2291.74 135.964 L2287.46 135.964 L2287.46 110.038 L2291.74 110.038 L2291.74 114.066 Q2293.2 111.681 2295.24 110.547 Q2297.28 109.413 2300.08 109.413 Q2302.9 109.413 2304.87 110.848 Q2306.86 112.283 2307.81 115.015 Z\" fill=\"#000000\" fill-rule=\"nonzero\" fill-opacity=\"1\" /><path clip-path=\"url(#clip630)\" d=\"M2345.59 122.931 Q2340.42 122.931 2338.43 124.112 Q2336.44 125.292 2336.44 128.14 Q2336.44 130.408 2337.92 131.751 Q2339.43 133.07 2342 133.07 Q2345.54 133.07 2347.67 130.57 Q2349.82 128.047 2349.82 123.88 L2349.82 122.931 L2345.59 122.931 M2354.08 121.172 L2354.08 135.964 L2349.82 135.964 L2349.82 132.028 Q2348.36 134.389 2346.19 135.524 Q2344.01 136.635 2340.86 136.635 Q2336.88 136.635 2334.52 134.413 Q2332.18 132.167 2332.18 128.417 Q2332.18 124.042 2335.1 121.82 Q2338.04 119.598 2343.85 119.598 L2349.82 119.598 L2349.82 119.181 Q2349.82 116.241 2347.88 114.644 Q2345.96 113.024 2342.46 113.024 Q2340.24 113.024 2338.13 113.556 Q2336.03 114.089 2334.08 115.153 L2334.08 111.218 Q2336.42 110.316 2338.62 109.876 Q2340.82 109.413 2342.9 109.413 Q2348.53 109.413 2351.3 112.329 Q2354.08 115.246 2354.08 121.172 Z\" fill=\"#000000\" fill-rule=\"nonzero\" fill-opacity=\"1\" /><path clip-path=\"url(#clip630)\" d=\"M2382.55 143.834 L2382.55 147.144 L2357.92 147.144 L2357.92 143.834 L2382.55 143.834 Z\" fill=\"#000000\" fill-rule=\"nonzero\" fill-opacity=\"1\" /><path clip-path=\"url(#clip630)\" d=\"M2408.11 120.315 L2408.11 135.964 L2403.85 135.964 L2403.85 120.454 Q2403.85 116.774 2402.41 114.945 Q2400.98 113.116 2398.11 113.116 Q2394.66 113.116 2392.67 115.316 Q2390.68 117.515 2390.68 121.311 L2390.68 135.964 L2386.4 135.964 L2386.4 110.038 L2390.68 110.038 L2390.68 114.066 Q2392.21 111.728 2394.27 110.57 Q2396.35 109.413 2399.06 109.413 Q2403.53 109.413 2405.82 112.191 Q2408.11 114.945 2408.11 120.315 Z\" fill=\"#000000\" fill-rule=\"nonzero\" fill-opacity=\"1\" /><polyline clip-path=\"url(#clip630)\" style=\"stroke:#e26f46; stroke-linecap:round; stroke-linejoin:round; stroke-width:4; stroke-opacity:1; fill:none\" stroke-dasharray=\"16, 10\" points=\"2034.63,170.524 2191.6,170.524 \"/>\n",
       "<path clip-path=\"url(#clip630)\" d=\"M2218.43 183.868 L2226.07 183.868 L2226.07 157.503 L2217.76 159.169 L2217.76 154.91 L2226.03 153.244 L2230.7 153.244 L2230.7 183.868 L2238.34 183.868 L2238.34 187.804 L2218.43 187.804 L2218.43 183.868 Z\" fill=\"#000000\" fill-rule=\"nonzero\" fill-opacity=\"1\" /><path clip-path=\"url(#clip630)\" d=\"M2254.75 153.244 L2258.69 153.244 L2246.65 192.202 L2242.72 192.202 L2254.75 153.244 Z\" fill=\"#000000\" fill-rule=\"nonzero\" fill-opacity=\"1\" /><path clip-path=\"url(#clip630)\" d=\"M2267.79 183.868 L2284.1 183.868 L2284.1 187.804 L2262.16 187.804 L2262.16 183.868 Q2264.82 181.114 2269.41 176.484 Q2274.01 171.831 2275.19 170.489 Q2277.44 167.966 2278.32 166.23 Q2279.22 164.47 2279.22 162.781 Q2279.22 160.026 2277.28 158.29 Q2275.35 156.554 2272.25 156.554 Q2270.05 156.554 2267.6 157.318 Q2265.17 158.081 2262.39 159.632 L2262.39 154.91 Q2265.22 153.776 2267.67 153.197 Q2270.12 152.619 2272.16 152.619 Q2277.53 152.619 2280.73 155.304 Q2283.92 157.989 2283.92 162.48 Q2283.92 164.609 2283.11 166.531 Q2282.32 168.429 2280.22 171.021 Q2279.64 171.693 2276.54 174.91 Q2273.43 178.105 2267.79 183.868 Z\" fill=\"#000000\" fill-rule=\"nonzero\" fill-opacity=\"1\" /></svg>\n"
      ],
      "text/html": [
       "<img src=\"data:image/png;base64,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\" />"
      ]
     },
     "execution_count": 42,
     "metadata": {},
     "output_type": "execute_result"
    }
   ],
   "source": [
    "aa(n) = n == floor(typeof(n), √n)^2 ? one(n) : zero(n)\n",
    "ss(n) = sum(k->(-1)^k*aa(k), 0:n)\n",
    "tt(n) = sum(k->ss(k), 0:n)\n",
    "sigma(n) = tt(n)/(n+1)\n",
    "N = 1000\n",
    "n = 0:N\n",
    "plot(size=(640, 180), xlim=(-0.005*N, 1.005*N))\n",
    "@time plot!(n, sigma.(n), label=\"sigma_n\")\n",
    "hline!([1/2], label=\"1/2\", ls=:dash)"
   ]
  },
  {
   "cell_type": "markdown",
   "metadata": {},
   "source": [
    "**問題:** $n$ が $2$ のべきで表わされる整数ならば $a_n=1$ でそれ以外ならば $a_n=0$ であるとする. このとき, 級数\n",
    "\n",
    "$$\n",
    "\\sum_{k=0}^\\infty (-1)^{\\log_2 k} a_k =\n",
    "0+1-1+0+1+0+0+0+0+0+0+0+0-1+\\cdots\n",
    "$$\n",
    "\n",
    "はCesàro総和**不可能**であることを示せ.\n",
    "\n",
    "**解答例:** $\\ds s_n=\\sum_{k=0}^n (-1)^{\\log_2 k} a_k$, $\\ds \\sigma_n=\\frac{1}{n+1}\\sum_{k=0}^n s_k$ とおく. $s_n$ は $2^m\\leqq n < 2^{m+1}-1$ のとき $m$ が偶数なら $1$ になり, 奇数なら $0$ になる. ゆえに $\\sigma_n$ は偶数 $m$ に対する $n=2^{m+1}-1$ で極大値\n",
    "\n",
    "$$\n",
    "\\sigma_n = \\frac{1}{2^{m+1}}\\sum_{k=0}^{m+1}(-1)^{k-1}2^k = \\frac{2^{m+2}-1}{3\\cdot 2^{m+1}}\n",
    "$$\n",
    "\n",
    "になり, 奇数 $m$ に対する $n=2^{m+1}-1$ で極小値\n",
    "\n",
    "$$\n",
    "\\sigma_n = \\frac{1}{2^{m+1}}\\sum_{k=0}^{m}(-1)^{k-1}2^k = \\frac{2^{m-2}-1}{3\\cdot 2^{m+1}}\n",
    "$$\n",
    "\n",
    "になる. これより, $m$ を偶数のまま $m\\to\\infty$ とすると $\\ds\\sigma_{2^{m+1}-1}\\to\\frac{2}{3}$ となり, $m$ を奇数のまま $m\\to\\infty$ とすると $\\ds\\sigma_{2^{m+1}-1}\\to\\frac{1}{3}$ となる. これより, $\\sigma_n$ が収束しないことがわかる. これで級数 $\\sum_{k=0}^\\infty (-1)^{\\log_2 k} a_k$ はCesàro総和不可能であることが分かった.  $\\QED$"
   ]
  },
  {
   "cell_type": "markdown",
   "metadata": {},
   "source": [
    "#### Abel総和可能性\n",
    "\n",
    "**定義:** 級数 $\\ds\\sum_{k=0}^\\infty a_k$ が**Abel総和可能**(Abel summable)であるとは\n",
    "\n",
    "$$\n",
    "f(x) = \\sum_{k=0}^\\infty a_k x^k\n",
    "$$\n",
    "\n",
    "の右辺のべき級数の収束半径が $1$ 以上でかつ $x\\nearrow 0$ のとき $f(x)$ が収束することであると定める. $f(x)$ の $x\\nearrow 1$ での収束先を**Abel和**(Abel sum)と呼ぶ. $\\QED$\n",
    "\n",
    "**問題:** 級数 $\\ds\\sum_{n=0}^\\infty a_n$ が $\\alpha$ に収束するとき, 級数 $\\ds\\sum_{n=0}^\\infty a_n$ はAbel総和可能でかつそのAbel和は $\\alpha$ に一致することを示せ.\n",
    "\n",
    "**解答例:** $\\ds\\sum_{n=0}^\\infty a_n$ が収束することより, 特に $a_n\\to 0$ なので, べき級数 $\\ds\\sum_{k=0}^\\infty a_k x^k$ の収束半径は $1$ 以上であることがわかる. $|x|<1$ を満たす複素数 $z$ に対して $f(z) = \\ds\\sum_{k=0}^\\infty a_k z^k$ とおく. $\\ds s_n=\\sum_{k=0}^n a_k$, $s_{-1}=0$ とおく. $s_n$ は収束するので特に有界である. このとき, $a_k=s_k-s_{k-1}$ を代入すると, \n",
    "\n",
    "$$\n",
    "\\sum_{k=0}^n a_k z^k = s_n z^n + (1-z)\\sum_{k=0}^{n-1} s_k z^k.\n",
    "$$\n",
    "\n",
    "$|z|<1$ のとき $s_n$ の有界性より, $s_n z^n\\to 0$ となるので\n",
    "\n",
    "$$\n",
    "f(z) = (1-z)\\sum_{k=0}^\\infty s_k z^k.\n",
    "$$\n",
    "\n",
    "これと\n",
    "\n",
    "$$\n",
    "\\alpha = (1-z)\\frac{\\alpha}{1-z} = (1-z)\\sum_{k=0}^\\infty \\alpha z^k\n",
    "$$\n",
    "\n",
    "の差は任意の番号 $N$ について\n",
    "\n",
    "$$\n",
    "f(z) - \\alpha = (1-z)\\sum_{k=0}^\\infty (s_k-\\alpha)z^k =\n",
    "(1-z)\\sum_{k=0}^{N-1} (s_k-\\alpha)z^k + (1-z)\\sum_{k=N}^\\infty (s_k-\\alpha)z^k\n",
    "$$\n",
    "\n",
    "となる. $R\\geqq 1$, $\\ds\\frac{|1-z|}{1-|z|}\\leqq R$ と仮定する. 任意に $\\eps>0$ を取る. $s_k\\to\\alpha$ なのである番号 $N$ が存在して $k\\geqq N$ ならば $\\ds|s_k-\\alpha|\\leqq \\frac{\\eps}{2R}$ となる. ゆえにそのとき\n",
    "\n",
    "$$\n",
    "\\left|(1-z)\\sum_{k=N}^\\infty (s_k-\\alpha)z^k\\right|\\leqq\n",
    "|1-z|\\sum_{k=N}^\\infty\\eps|z|^k\\leqq\n",
    "\\frac{\\eps}{2R}\\frac{|1-z|}{1-|z|} \\leqq\n",
    "\\frac{\\eps}{2}.\n",
    "$$\n",
    "\n",
    "$s_k-\\alpha$ は有界なので $k$ によらない定数 $M>0$ が存在して $|s_k-\\alpha|\\leqq M$ となるので, $\\ds\\frac|1-z|\\leqq\\frac{\\eps}{2MN}$ とすると,\n",
    "\n",
    "$$\n",
    "\\left|(1-z)\\sum_{k=0}^{N-1} (s_k-\\alpha)z^k\\right| = |1-z|MN\\leqq \\frac{\\eps}{2}. \n",
    "$$\n",
    "\n",
    "このとき,\n",
    "\n",
    "$$\n",
    "|f(z) - \\alpha| \\leqq  \\frac{\\eps}{2} + \\frac{\\eps}{2} = \\eps.\n",
    "$$\n",
    "\n",
    "これで, ある $R\\geqq 1$ について, $z$ が $|z|<1$ かつ $\\ds\\frac{|1-z|}{1-|z|}\\leqq R$ を満たしながら $1$ に近付くとき, $f(z)$ が $\\alpha$ に収束することが示された. 特に $x$ が区間 $[0,1)$ の上を動きながら $1$ に近付くならば $f(x)$ は $\\alpha$ に収束する. これで, Abel総和可能性とAbel和が $\\alpha$ に等しくなることが示された. $\\QED$\n",
    "\n",
    "**注意:** 上の問題の結果は**Abelの連続性定理**と呼ばれることがある. $|z|<1$ かつ $\\ds\\frac{|1-z|}{1-|z|}\\leqq R$ を満たす $z$ 達の領域は**Stolz領域**のように呼ばれることがあるらしい. $\\QED$\n",
    "\n",
    "**問題:** 級数 $\\ds\\sum_{n=0}^\\infty a_n$ がCesàro総和可能でかつそのCesàro和が $\\alpha$ になるとき, 級数 $\\ds\\sum_{n=0}^\\infty a_n$ はAbel総和可能でかつそのAbel和は $\\alpha$ に一致することを示せ.\n",
    "\n",
    "**証明:**  $\\ds s_n=\\sum_{k=0}^n a_k$, $s_{-1}=0$, $\\ds t_n=\\sum_{k=0}^n s_k$, $t_{-1}=0$ とおく. $\\ds\\sum_{n=0}^\\infty a_n$ がCesàro総和可能であるとき, $a_n=O(n)$, $s_n=O(n)$, $t_n=O(n)$ となることは上の方ですでに示した. そのことより, べき級数 $\\ds\\sum_{k=0}^\\infty a_k z^k$,  $\\ds\\sum_{k=0}^\\infty s_k z^k$,  $\\ds\\sum_{k=0}^\\infty t_k z^k$ の収束半径が $1$ 以上になることがわかる. $|z|<1$ を満たす複素数 $z$ に対して $\\ds f(z)=\\sum_{k=0}^\\infty a_k z^k$ とおく. このとき, $|z|<1$ ならば\n",
    "\n",
    "$$\n",
    "f(z) = (1-z)\\sum_{k=0}^\\infty s_k z^k = (1-z)^2\\sum_{k=0}^\\infty t_k z^k =\n",
    "(1-z)^2 \\sum_{k=0}^\\infty \\frac{t_k}{k+1} (k+1) z^k.\n",
    "$$\n",
    "\n",
    "これと\n",
    "\n",
    "$$\n",
    "\\alpha = (1-z)^2\\frac{\\alpha}{(1-z)^2} = (1-z)^2\\sum_{k=0}^\\infty \\alpha (k+1)z^k\n",
    "$$\n",
    "\n",
    "の差は任意の番号 $N$ について\n",
    "\n",
    "$$\n",
    "f(z)-\\alpha = \n",
    "(1-z)^2 \\sum_{k=0}^{N-1}  \\left(\\frac{t_k}{k+1}-\\alpha\\right) (k+1) z^k +\n",
    "(1-z)^2 \\sum_{k=N}^\\infty \\left(\\frac{t_k}{k+1}-\\alpha\\right) (k+1) z^k\n",
    "$$\n",
    "\n",
    "となる. $R\\geqq 1$, $\\ds\\frac{|1-z|}{1-|z|}\\leqq R$ と仮定する. 任意に $\\eps>0$ を取る. 級数 $\\ds\\sum_{n=0}^\\infty a_n$ のCesàro総和可能性は $\\ds\\frac{t_k}{k+1}\\to\\alpha$ を意味するので, ある番号 $N$ が存在して $k\\geqq N$ ならば $\\ds\\left|\\frac{t_k}{k+1}-\\alpha\\right|\\leqq\\frac{\\eps}{2R^2}$ となる. そのとき,\n",
    "\n",
    "$$\n",
    "\\left|(1-z)^2 \\sum_{k=N}^\\infty \\left(\\frac{t_k}{k+1}-\\alpha\\right) (k+1) z^k\\right| \\leqq\n",
    "|1-z|^2\\eps\\sum_{k=N}^\\infty(k+1)|z|^k \\leqq\n",
    "\\frac{\\eps}{2R^2}\\frac{|1-z|^2}{(1-|z|)^2} \\leqq \n",
    "\\frac{\\eps}{2}.\n",
    "$$\n",
    "\n",
    "$\\ds\\frac{t_k}{k+1}-\\alpha$ は有界なので $k$ によらない定数 $M>0$ が存在して, $\\ds \\left|\\frac{t_k}{k+1}-\\alpha\\right|\\leqq M$ となるので, $\\ds |1-z|\\leqq\\sqrt{\\frac{\\eps}{MN(N+1)}}$ ならば\n",
    "\n",
    "$$\n",
    "\\left|(1-z)^2 \\sum_{k=0}^{N-1}  \\left(\\frac{t_k}{k+1}-\\alpha\\right) (k+1) z^k\\right| \\leqq\n",
    "|1-z|^2M\\frac{N(N+1)}{2}\\leqq \\frac{\\eps}{MN(N+1)}\\frac{MN(N+1)}{2}= \\frac{\\eps}{2}.\n",
    "$$\n",
    "\n",
    "このとき,\n",
    "\n",
    "$$\n",
    "|f(z) - \\alpha| \\leqq  \\frac{\\eps}{2} + \\frac{\\eps}{2} = \\eps.\n",
    "$$\n",
    "\n",
    "これで, ある $R\\geqq 1$ について, $z$ が $|z|<1$ かつ $\\ds\\frac{|1-z|}{1-|z|}\\leqq R$ を満たしながら $1$ に近付くとき, $f(z)$ が $\\alpha$ に収束することが示された. 特に $x$ が区間 $[0,1)$ の上を動きながら $1$ に近付くならば $f(x)$ は $\\alpha$ に収束する. これで, Abel総和可能性とAbel和が $\\alpha$ に等しくなることが示された. $\\QED$\n",
    "\n",
    "**問題:** 収束半径が $1$ のべき級数 $\\ds f(x)=\\sum_{k=0}^\\infty (-1)^k x^{k^2}$ について, $x\\nearrow 1$ のとき $\\ds f(x)\\to \\frac{1}{2}$ となることを示せ. \n",
    "\n",
    "**解答例:** $n$ が平方数のとき $a_n=1$ でそれ以外のとき $a_n=0$ とおくと, $\\ds f(x) = \\sum_{j=0}^\\infty (-1)^j a_j x^j$ となる. 上の方で級数 $\\ds\\sum_{j=0}^\\infty (-1)^j a_j$ がCesàro総和可能でかつそのCesàro和が $\\ds\\frac{1}{2}$ になることを示した. ゆえに, その級数はAbel総和可能でかつそのAbel和も $\\ds\\frac{1}{2}$ になる. すなわち, $x\\nearrow 1$ のとき $\\ds f(x)\\to \\frac{1}{2}$ となる. $\\QED$\n",
    "\n",
    "**問題:** Cesàro総和不可能だが, Abel総和可能な級数の例を挙げよ.\n",
    "\n",
    "**解答例:** $a_k = (-1)^k (k+1)$, $\\ds s_n = \\sum_{k=0}^n a_k = 1-2+3-4+\\cdots+(-1)^n(n+1)$, $t_n=\\sum_{k=0}^n s_k$ とおくと,\n",
    "\n",
    "$$\n",
    "\\begin{aligned}\n",
    "&\n",
    "s_0 = 1, \\quad \n",
    "s_1 = -1, \\quad \n",
    "s_2 = 2, \\quad \n",
    "s_3 = -2, \\quad \n",
    "s_4 = 3, \\quad \n",
    "s_5 = -3, \\quad\n",
    "\\ldots,\n",
    "\\\\ &\n",
    "t_0 = 1, \\quad\n",
    "t_1 = 0, \\quad\n",
    "t_2 = 2, \\quad\n",
    "t_3 = 0, \\quad\n",
    "t_4 = 3, \\quad\n",
    "t_5 = 0, \\quad\n",
    "\\ldots\n",
    "\\end{aligned}\n",
    "$$\n",
    "\n",
    "すなわち, $t_{2k}=k+1$, $s_{2k+1}=0$ なので $\\ds\\lim_{k\\to\\infty}\\frac{t_{2k}}{2k+1}=\\frac{1}{2}$, $\\ds\\lim_{k\\to\\infty}\\frac{s_{2k+1}}{2k+2}=0$ となるので, $\\ds\\frac{t_n}{n+1}$ は収束しない. すなわち, 級数 $\\ds\\sum_{k=0}^\\infty a_k = 1 - 2 + 3 - 4 + \\cdots$ はCesàro総和不可能である. しかし, \n",
    "\n",
    "$$\n",
    "f(x) = \\sum_{k=0}^\\infty a_k x^k = \\sum_{k=0}^\\infty(-1)^k(k+1)x^k = \n",
    "\\sum_{k=0}^\\infty \\binom{-2}{k}(-x)^k = \\frac{1}{(1+x)^2}\n",
    "$$\n",
    "\n",
    "は $x\\nearrow 1$ で $\\ds\\frac{1}{4}$ に収束する. すなわち, 級数 $\\ds\\sum_{k=0}^\\infty a_k = 1 - 2 + 3 - 4 + \\cdots$ はAbel総和可能であり, そのAbel和は $\\ds\\frac{1}{4}$ になる. $\\QED$\n",
    "\n",
    "次の問題とその解答例は次のスライドのp.25にある.\n",
    "\n",
    "* Peter Duren, <a href=\"http://matematicas.uam.es/~dragan.vukotic/respub/Duren_Tauberian_Talk_2013-10_UAM.pdf\">Sums for Divergent Series: A Tauberian Adventure</a>, Slide 2013-10\n",
    "\n",
    "**問題:** $n$ が $2$ のべきで表わされる整数ならば $a_n=1$ でそれ以外ならば $a_n=0$ であるとする. このとき, 級数\n",
    "\n",
    "$$\n",
    "\\sum_{k=0}^\\infty (-1)^{\\log_2 k} a_k =\n",
    "0+1-1+0+1+0+0+0+0+0+0+0+0-1+\\cdots\n",
    "$$\n",
    "\n",
    "はAbel総和**不可能**であることを示せ. ただし, $|x|<1$ のとき\n",
    "\n",
    "$$\n",
    "f(x) = \\sum_{k=0}^\\infty (-1)^{\\log_2 k} a_k x^k =\n",
    "\\sum_{j=0}^\\infty (-1)^j x^{2^j} =\n",
    "x - x^2 + x^4 - x^8 + x^{16} - x^{32} + \\cdots\n",
    "$$\n",
    "\n",
    "とおくと, 数値計算の結果 $f(0.995)=0.50088\\cdots$ が正しいことを認めて使ってよいものとする.\n",
    "\n",
    "**解答例:** $0<x<1$ であると仮定する. もしも $x\\nearrow 1$ で $f(x)$ が $\\alpha$ に収束するならば, $f(x)=x-f(x^2)$ より $\\alpha=1-\\alpha$ となるので, $\\ds\\alpha=\\frac{1}{2}$ でなければいけない. しかし, $f(x)=x-x^2+f(x^4) > f(x^4)$ より, $f(x)<f(x^{1/4})<f(x^{1/4^2})<\\cdots$ となることと, 数値計算の結果より $x=0.995$ のとき $f(x)>0.5$ となることから, もしも $x\\nearrow 1$ で $f(x)$ が収束するならばその収束先 $\\alpha$ は $0.5$ より大きくなる. これで矛盾が導かれた. $x\\nearrow 1$ で $f(x)$ は収束しない. $\\QED$"
   ]
  },
  {
   "cell_type": "code",
   "execution_count": 43,
   "metadata": {},
   "outputs": [
    {
     "name": "stdout",
     "output_type": "stream",
     "text": [
      "  0.074509 seconds (84.32 k allocations: 5.753 MiB, 98.94% compilation time)\n"
     ]
    },
    {
     "data": {
      "text/plain": [
       "6-element Vector{BigFloat}:\n",
       " 0.00497500000000000000000000000000000000000000000000000000000000000000000000000275\n",
       " 0.9851245006249999999999999999999999999999999999999999999999999999999999999999928\n",
       " 0.9473625810237993796873652874030756837463378906249999999999999999999999999999727\n",
       " 0.5718265527518791413369599184207730651863317022847063397385549887356997426795488\n",
       " 0.5008815862056572522950678763359730015035702048673540602989286876366169520887714\n",
       " 0.5008815862056572522950678763359730015035702048673540602989286876366169520887714"
      ]
     },
     "execution_count": 43,
     "metadata": {},
     "output_type": "execute_result"
    }
   ],
   "source": [
    "f(x; N=2^5) = sum(j->(-1)^j*x^(typeof(x)(2)^j), 0:N)\n",
    "@time [f(big\"0.995\"; N=2^m) for m in 0:5]"
   ]
  },
  {
   "cell_type": "markdown",
   "metadata": {},
   "source": [
    "**Stolz領域の形:** $R\\geqq 1$ に対して, Stolz領域 $K_R$ を\n",
    "\n",
    "$$\n",
    "K_R = \\left\\{\\,z\\in\\C \\,\\left|\\, |z|<1,\\; \\frac{|1-z|}{1-|z|}\\leqq R \\right.\\right\\}\n",
    "$$\n",
    "\n",
    "と定める. $K_R$ の形については次のセルのプロットを見よ. $\\QED$"
   ]
  },
  {
   "cell_type": "code",
   "execution_count": 44,
   "metadata": {},
   "outputs": [
    {
     "data": {
      "image/png": "[encoded data removed]",
      "image/svg+xml": [
       "<?xml version=\"1.0\" encoding=\"utf-8\"?>\n",
       "<svg xmlns=\"http://www.w3.org/2000/svg\" xmlns:xlink=\"http://www.w3.org/1999/xlink\" width=\"750\" height=\"170\" viewBox=\"0 0 3000 680\">\n",
       "<defs>\n",
       "  <clipPath id=\"clip690\">\n",
       "    <rect x=\"0\" y=\"0\" width=\"3000\" height=\"680\"/>\n",
       "  </clipPath>\n",
       "</defs>\n",
       "<path clip-path=\"url(#clip690)\" d=\"M0 680 L3000 680 L3000 0 L0 0  Z\" fill=\"#ffffff\" fill-rule=\"evenodd\" fill-opacity=\"1\"/>\n",
       "<defs>\n",
       "  <clipPath id=\"clip691\">\n",
       "    <rect x=\"600\" y=\"0\" width=\"2101\" height=\"680\"/>\n",
       "  </clipPath>\n",
       "</defs>\n",
       "<path clip-path=\"url(#clip690)\" d=\"M199.936 589.479 L702.756 589.479 L702.756 86.6588 L199.936 86.6588  Z\" fill=\"#ffffff\" fill-rule=\"evenodd\" fill-opacity=\"1\"/>\n",
       "<defs>\n",
       "  <clipPath id=\"clip692\">\n",
       "    <rect x=\"199\" y=\"86\" width=\"504\" height=\"504\"/>\n",
       "  </clipPath>\n",
       "</defs>\n",
       "<polyline clip-path=\"url(#clip692)\" style=\"stroke:#000000; stroke-linecap:round; stroke-linejoin:round; stroke-width:2; stroke-opacity:0.1; fill:none\" points=\"199.936,589.479 199.936,86.6588 \"/>\n",
       "<polyline clip-path=\"url(#clip692)\" style=\"stroke:#000000; stroke-linecap:round; stroke-linejoin:round; stroke-width:2; stroke-opacity:0.1; fill:none\" points=\"325.641,589.479 325.641,86.6588 \"/>\n",
       "<polyline clip-path=\"url(#clip692)\" style=\"stroke:#000000; stroke-linecap:round; stroke-linejoin:round; stroke-width:2; stroke-opacity:0.1; fill:none\" points=\"451.346,589.479 451.346,86.6588 \"/>\n",
       "<polyline clip-path=\"url(#clip692)\" style=\"stroke:#000000; stroke-linecap:round; stroke-linejoin:round; stroke-width:2; stroke-opacity:0.1; fill:none\" points=\"577.051,589.479 577.051,86.6588 \"/>\n",
       "<polyline clip-path=\"url(#clip692)\" style=\"stroke:#000000; stroke-linecap:round; stroke-linejoin:round; stroke-width:2; stroke-opacity:0.1; fill:none\" points=\"702.756,589.479 702.756,86.6588 \"/>\n",
       "<polyline clip-path=\"url(#clip690)\" style=\"stroke:#000000; stroke-linecap:round; stroke-linejoin:round; stroke-width:4; stroke-opacity:1; fill:none\" points=\"199.936,589.479 702.756,589.479 \"/>\n",
       "<polyline clip-path=\"url(#clip690)\" style=\"stroke:#000000; stroke-linecap:round; stroke-linejoin:round; stroke-width:4; stroke-opacity:1; fill:none\" points=\"199.936,589.479 199.936,571.233 \"/>\n",
       "<polyline clip-path=\"url(#clip690)\" style=\"stroke:#000000; stroke-linecap:round; stroke-linejoin:round; stroke-width:4; stroke-opacity:1; fill:none\" points=\"325.641,589.479 325.641,571.233 \"/>\n",
       "<polyline clip-path=\"url(#clip690)\" style=\"stroke:#000000; stroke-linecap:round; stroke-linejoin:round; stroke-width:4; stroke-opacity:1; fill:none\" points=\"451.346,589.479 451.346,571.233 \"/>\n",
       "<polyline clip-path=\"url(#clip690)\" style=\"stroke:#000000; stroke-linecap:round; stroke-linejoin:round; stroke-width:4; stroke-opacity:1; fill:none\" points=\"577.051,589.479 577.051,571.233 \"/>\n",
       "<polyline clip-path=\"url(#clip690)\" style=\"stroke:#000000; stroke-linecap:round; stroke-linejoin:round; stroke-width:4; stroke-opacity:1; fill:none\" points=\"702.756,589.479 702.756,571.233 \"/>\n",
       "<path clip-path=\"url(#clip690)\" d=\"M146.464 639.85 L176.14 639.85 L176.14 643.785 L146.464 643.785 L146.464 639.85 Z\" fill=\"#000000\" fill-rule=\"nonzero\" fill-opacity=\"1\" /><path clip-path=\"url(#clip690)\" d=\"M187.043 652.744 L194.681 652.744 L194.681 626.378 L186.371 628.045 L186.371 623.785 L194.635 622.119 L199.311 622.119 L199.311 652.744 L206.95 652.744 L206.95 656.679 L187.043 656.679 L187.043 652.744 Z\" fill=\"#000000\" fill-rule=\"nonzero\" fill-opacity=\"1\" /><path clip-path=\"url(#clip690)\" d=\"M216.394 650.799 L221.278 650.799 L221.278 656.679 L216.394 656.679 L216.394 650.799 Z\" fill=\"#000000\" fill-rule=\"nonzero\" fill-opacity=\"1\" /><path clip-path=\"url(#clip690)\" d=\"M241.464 625.197 Q237.852 625.197 236.024 628.762 Q234.218 632.304 234.218 639.433 Q234.218 646.54 236.024 650.105 Q237.852 653.646 241.464 653.646 Q245.098 653.646 246.903 650.105 Q248.732 646.54 248.732 639.433 Q248.732 632.304 246.903 628.762 Q245.098 625.197 241.464 625.197 M241.464 621.494 Q247.274 621.494 250.329 626.1 Q253.408 630.684 253.408 639.433 Q253.408 648.16 250.329 652.767 Q247.274 657.35 241.464 657.35 Q235.653 657.35 232.575 652.767 Q229.519 648.16 229.519 639.433 Q229.519 630.684 232.575 626.1 Q235.653 621.494 241.464 621.494 Z\" fill=\"#000000\" fill-rule=\"nonzero\" fill-opacity=\"1\" /><path clip-path=\"url(#clip690)\" d=\"M272.667 639.85 L302.342 639.85 L302.342 643.785 L272.667 643.785 L272.667 639.85 Z\" fill=\"#000000\" fill-rule=\"nonzero\" fill-opacity=\"1\" /><path clip-path=\"url(#clip690)\" d=\"M322.435 625.197 Q318.824 625.197 316.995 628.762 Q315.19 632.304 315.19 639.433 Q315.19 646.54 316.995 650.105 Q318.824 653.646 322.435 653.646 Q326.069 653.646 327.875 650.105 Q329.703 646.54 329.703 639.433 Q329.703 632.304 327.875 628.762 Q326.069 625.197 322.435 625.197 M322.435 621.494 Q328.245 621.494 331.301 626.1 Q334.379 630.684 334.379 639.433 Q334.379 648.16 331.301 652.767 Q328.245 657.35 322.435 657.35 Q316.625 657.35 313.546 652.767 Q310.491 648.16 310.491 639.433 Q310.491 630.684 313.546 626.1 Q316.625 621.494 322.435 621.494 Z\" fill=\"#000000\" fill-rule=\"nonzero\" fill-opacity=\"1\" /><path clip-path=\"url(#clip690)\" d=\"M342.597 650.799 L347.481 650.799 L347.481 656.679 L342.597 656.679 L342.597 650.799 Z\" fill=\"#000000\" fill-rule=\"nonzero\" fill-opacity=\"1\" /><path clip-path=\"url(#clip690)\" d=\"M357.713 622.119 L376.069 622.119 L376.069 626.054 L361.995 626.054 L361.995 634.526 Q363.013 634.179 364.032 634.017 Q365.05 633.832 366.069 633.832 Q371.856 633.832 375.236 637.003 Q378.615 640.174 378.615 645.591 Q378.615 651.17 375.143 654.271 Q371.671 657.35 365.351 657.35 Q363.175 657.35 360.907 656.98 Q358.662 656.609 356.254 655.869 L356.254 651.17 Q358.338 652.304 360.56 652.859 Q362.782 653.415 365.259 653.415 Q369.263 653.415 371.601 651.308 Q373.939 649.202 373.939 645.591 Q373.939 641.98 371.601 639.873 Q369.263 637.767 365.259 637.767 Q363.384 637.767 361.509 638.183 Q359.657 638.6 357.713 639.48 L357.713 622.119 Z\" fill=\"#000000\" fill-rule=\"nonzero\" fill-opacity=\"1\" /><path clip-path=\"url(#clip690)\" d=\"M428.73 625.197 Q425.119 625.197 423.291 628.762 Q421.485 632.304 421.485 639.433 Q421.485 646.54 423.291 650.105 Q425.119 653.646 428.73 653.646 Q432.365 653.646 434.17 650.105 Q435.999 646.54 435.999 639.433 Q435.999 632.304 434.17 628.762 Q432.365 625.197 428.73 625.197 M428.73 621.494 Q434.54 621.494 437.596 626.1 Q440.675 630.684 440.675 639.433 Q440.675 648.16 437.596 652.767 Q434.54 657.35 428.73 657.35 Q422.92 657.35 419.841 652.767 Q416.786 648.16 416.786 639.433 Q416.786 630.684 419.841 626.1 Q422.92 621.494 428.73 621.494 Z\" fill=\"#000000\" fill-rule=\"nonzero\" fill-opacity=\"1\" /><path clip-path=\"url(#clip690)\" d=\"M448.892 650.799 L453.776 650.799 L453.776 656.679 L448.892 656.679 L448.892 650.799 Z\" fill=\"#000000\" fill-rule=\"nonzero\" fill-opacity=\"1\" /><path clip-path=\"url(#clip690)\" d=\"M473.962 625.197 Q470.35 625.197 468.522 628.762 Q466.716 632.304 466.716 639.433 Q466.716 646.54 468.522 650.105 Q470.35 653.646 473.962 653.646 Q477.596 653.646 479.401 650.105 Q481.23 646.54 481.23 639.433 Q481.23 632.304 479.401 628.762 Q477.596 625.197 473.962 625.197 M473.962 621.494 Q479.772 621.494 482.827 626.1 Q485.906 630.684 485.906 639.433 Q485.906 648.16 482.827 652.767 Q479.772 657.35 473.962 657.35 Q468.151 657.35 465.073 652.767 Q462.017 648.16 462.017 639.433 Q462.017 630.684 465.073 626.1 Q468.151 621.494 473.962 621.494 Z\" fill=\"#000000\" fill-rule=\"nonzero\" fill-opacity=\"1\" /><path clip-path=\"url(#clip690)\" d=\"M554.933 625.197 Q551.322 625.197 549.493 628.762 Q547.688 632.304 547.688 639.433 Q547.688 646.54 549.493 650.105 Q551.322 653.646 554.933 653.646 Q558.567 653.646 560.373 650.105 Q562.201 646.54 562.201 639.433 Q562.201 632.304 560.373 628.762 Q558.567 625.197 554.933 625.197 M554.933 621.494 Q560.743 621.494 563.799 626.1 Q566.877 630.684 566.877 639.433 Q566.877 648.16 563.799 652.767 Q560.743 657.35 554.933 657.35 Q549.123 657.35 546.044 652.767 Q542.989 648.16 542.989 639.433 Q542.989 630.684 546.044 626.1 Q549.123 621.494 554.933 621.494 Z\" fill=\"#000000\" fill-rule=\"nonzero\" fill-opacity=\"1\" /><path clip-path=\"url(#clip690)\" d=\"M575.095 650.799 L579.979 650.799 L579.979 656.679 L575.095 656.679 L575.095 650.799 Z\" fill=\"#000000\" fill-rule=\"nonzero\" fill-opacity=\"1\" /><path clip-path=\"url(#clip690)\" d=\"M590.211 622.119 L608.567 622.119 L608.567 626.054 L594.493 626.054 L594.493 634.526 Q595.511 634.179 596.53 634.017 Q597.549 633.832 598.567 633.832 Q604.354 633.832 607.734 637.003 Q611.113 640.174 611.113 645.591 Q611.113 651.17 607.641 654.271 Q604.169 657.35 597.849 657.35 Q595.674 657.35 593.405 656.98 Q591.16 656.609 588.752 655.869 L588.752 651.17 Q590.836 652.304 593.058 652.859 Q595.28 653.415 597.757 653.415 Q601.761 653.415 604.099 651.308 Q606.437 649.202 606.437 645.591 Q606.437 641.98 604.099 639.873 Q601.761 637.767 597.757 637.767 Q595.882 637.767 594.007 638.183 Q592.155 638.6 590.211 639.48 L590.211 622.119 Z\" fill=\"#000000\" fill-rule=\"nonzero\" fill-opacity=\"1\" /><path clip-path=\"url(#clip690)\" d=\"M669.909 652.744 L677.548 652.744 L677.548 626.378 L669.238 628.045 L669.238 623.785 L677.501 622.119 L682.177 622.119 L682.177 652.744 L689.816 652.744 L689.816 656.679 L669.909 656.679 L669.909 652.744 Z\" fill=\"#000000\" fill-rule=\"nonzero\" fill-opacity=\"1\" /><path clip-path=\"url(#clip690)\" d=\"M699.261 650.799 L704.145 650.799 L704.145 656.679 L699.261 656.679 L699.261 650.799 Z\" fill=\"#000000\" fill-rule=\"nonzero\" fill-opacity=\"1\" /><path clip-path=\"url(#clip690)\" d=\"M724.33 625.197 Q720.719 625.197 718.89 628.762 Q717.085 632.304 717.085 639.433 Q717.085 646.54 718.89 650.105 Q720.719 653.646 724.33 653.646 Q727.964 653.646 729.77 650.105 Q731.598 646.54 731.598 639.433 Q731.598 632.304 729.77 628.762 Q727.964 625.197 724.33 625.197 M724.33 621.494 Q730.14 621.494 733.196 626.1 Q736.274 630.684 736.274 639.433 Q736.274 648.16 733.196 652.767 Q730.14 657.35 724.33 657.35 Q718.52 657.35 715.441 652.767 Q712.385 648.16 712.385 639.433 Q712.385 630.684 715.441 626.1 Q718.52 621.494 724.33 621.494 Z\" fill=\"#000000\" fill-rule=\"nonzero\" fill-opacity=\"1\" /><polyline clip-path=\"url(#clip692)\" style=\"stroke:#000000; stroke-linecap:round; stroke-linejoin:round; stroke-width:2; stroke-opacity:0.1; fill:none\" points=\"199.936,589.479 702.756,589.479 \"/>\n",
       "<polyline clip-path=\"url(#clip692)\" style=\"stroke:#000000; stroke-linecap:round; stroke-linejoin:round; stroke-width:2; stroke-opacity:0.1; fill:none\" points=\"199.936,463.774 702.756,463.774 \"/>\n",
       "<polyline clip-path=\"url(#clip692)\" style=\"stroke:#000000; stroke-linecap:round; stroke-linejoin:round; stroke-width:2; stroke-opacity:0.1; fill:none\" points=\"199.936,338.069 702.756,338.069 \"/>\n",
       "<polyline clip-path=\"url(#clip692)\" style=\"stroke:#000000; stroke-linecap:round; stroke-linejoin:round; stroke-width:2; stroke-opacity:0.1; fill:none\" points=\"199.936,212.364 702.756,212.364 \"/>\n",
       "<polyline clip-path=\"url(#clip692)\" style=\"stroke:#000000; stroke-linecap:round; stroke-linejoin:round; stroke-width:2; stroke-opacity:0.1; fill:none\" points=\"199.936,86.6588 702.756,86.6588 \"/>\n",
       "<polyline clip-path=\"url(#clip690)\" style=\"stroke:#000000; stroke-linecap:round; stroke-linejoin:round; stroke-width:4; stroke-opacity:1; fill:none\" points=\"199.936,589.479 199.936,86.6588 \"/>\n",
       "<polyline clip-path=\"url(#clip690)\" style=\"stroke:#000000; stroke-linecap:round; stroke-linejoin:round; stroke-width:4; stroke-opacity:1; fill:none\" points=\"199.936,589.479 218.834,589.479 \"/>\n",
       "<polyline clip-path=\"url(#clip690)\" style=\"stroke:#000000; stroke-linecap:round; stroke-linejoin:round; stroke-width:4; stroke-opacity:1; fill:none\" points=\"199.936,463.774 218.834,463.774 \"/>\n",
       "<polyline clip-path=\"url(#clip690)\" style=\"stroke:#000000; stroke-linecap:round; stroke-linejoin:round; stroke-width:4; stroke-opacity:1; fill:none\" points=\"199.936,338.069 218.834,338.069 \"/>\n",
       "<polyline clip-path=\"url(#clip690)\" style=\"stroke:#000000; stroke-linecap:round; stroke-linejoin:round; stroke-width:4; stroke-opacity:1; fill:none\" points=\"199.936,212.364 218.834,212.364 \"/>\n",
       "<polyline clip-path=\"url(#clip690)\" style=\"stroke:#000000; stroke-linecap:round; stroke-linejoin:round; stroke-width:4; stroke-opacity:1; fill:none\" points=\"199.936,86.6588 218.834,86.6588 \"/>\n",
       "<path clip-path=\"url(#clip690)\" d=\"M47.9921 589.93 L77.6679 589.93 L77.6679 593.865 L47.9921 593.865 L47.9921 589.93 Z\" fill=\"#000000\" fill-rule=\"nonzero\" fill-opacity=\"1\" /><path clip-path=\"url(#clip690)\" d=\"M88.5706 602.824 L96.2095 602.824 L96.2095 576.458 L87.8993 578.125 L87.8993 573.865 L96.1632 572.199 L100.839 572.199 L100.839 602.824 L108.478 602.824 L108.478 606.759 L88.5706 606.759 L88.5706 602.824 Z\" fill=\"#000000\" fill-rule=\"nonzero\" fill-opacity=\"1\" /><path clip-path=\"url(#clip690)\" d=\"M117.922 600.879 L122.807 600.879 L122.807 606.759 L117.922 606.759 L117.922 600.879 Z\" fill=\"#000000\" fill-rule=\"nonzero\" fill-opacity=\"1\" /><path clip-path=\"url(#clip690)\" d=\"M142.992 575.277 Q139.381 575.277 137.552 578.842 Q135.746 582.384 135.746 589.513 Q135.746 596.62 137.552 600.185 Q139.381 603.726 142.992 603.726 Q146.626 603.726 148.431 600.185 Q150.26 596.62 150.26 589.513 Q150.26 582.384 148.431 578.842 Q146.626 575.277 142.992 575.277 M142.992 571.574 Q148.802 571.574 151.857 576.18 Q154.936 580.764 154.936 589.513 Q154.936 598.24 151.857 602.847 Q148.802 607.43 142.992 607.43 Q137.181 607.43 134.103 602.847 Q131.047 598.24 131.047 589.513 Q131.047 580.764 134.103 576.18 Q137.181 571.574 142.992 571.574 Z\" fill=\"#000000\" fill-rule=\"nonzero\" fill-opacity=\"1\" /><path clip-path=\"url(#clip690)\" d=\"M48.9875 464.225 L78.6633 464.225 L78.6633 468.16 L48.9875 468.16 L48.9875 464.225 Z\" fill=\"#000000\" fill-rule=\"nonzero\" fill-opacity=\"1\" /><path clip-path=\"url(#clip690)\" d=\"M98.7557 449.572 Q95.1447 449.572 93.316 453.137 Q91.5104 456.679 91.5104 463.808 Q91.5104 470.915 93.316 474.48 Q95.1447 478.021 98.7557 478.021 Q102.39 478.021 104.196 474.48 Q106.024 470.915 106.024 463.808 Q106.024 456.679 104.196 453.137 Q102.39 449.572 98.7557 449.572 M98.7557 445.869 Q104.566 445.869 107.621 450.475 Q110.7 455.059 110.7 463.808 Q110.7 472.535 107.621 477.142 Q104.566 481.725 98.7557 481.725 Q92.9456 481.725 89.8669 477.142 Q86.8114 472.535 86.8114 463.808 Q86.8114 455.059 89.8669 450.475 Q92.9456 445.869 98.7557 445.869 Z\" fill=\"#000000\" fill-rule=\"nonzero\" fill-opacity=\"1\" /><path clip-path=\"url(#clip690)\" d=\"M118.918 475.174 L123.802 475.174 L123.802 481.054 L118.918 481.054 L118.918 475.174 Z\" fill=\"#000000\" fill-rule=\"nonzero\" fill-opacity=\"1\" /><path clip-path=\"url(#clip690)\" d=\"M134.033 446.494 L152.39 446.494 L152.39 450.429 L138.316 450.429 L138.316 458.901 Q139.334 458.554 140.353 458.392 Q141.371 458.207 142.39 458.207 Q148.177 458.207 151.556 461.378 Q154.936 464.549 154.936 469.966 Q154.936 475.545 151.464 478.646 Q147.992 481.725 141.672 481.725 Q139.496 481.725 137.228 481.355 Q134.982 480.984 132.575 480.244 L132.575 475.545 Q134.658 476.679 136.881 477.234 Q139.103 477.79 141.58 477.79 Q145.584 477.79 147.922 475.683 Q150.26 473.577 150.26 469.966 Q150.26 466.355 147.922 464.248 Q145.584 462.142 141.58 462.142 Q139.705 462.142 137.83 462.559 Q135.978 462.975 134.033 463.855 L134.033 446.494 Z\" fill=\"#000000\" fill-rule=\"nonzero\" fill-opacity=\"1\" /><path clip-path=\"url(#clip690)\" d=\"M97.7604 323.867 Q94.1493 323.867 92.3206 327.432 Q90.515 330.974 90.515 338.104 Q90.515 345.21 92.3206 348.775 Q94.1493 352.316 97.7604 352.316 Q101.395 352.316 103.2 348.775 Q105.029 345.21 105.029 338.104 Q105.029 330.974 103.2 327.432 Q101.395 323.867 97.7604 323.867 M97.7604 320.164 Q103.571 320.164 106.626 324.77 Q109.705 329.354 109.705 338.104 Q109.705 346.83 106.626 351.437 Q103.571 356.02 97.7604 356.02 Q91.9502 356.02 88.8715 351.437 Q85.816 346.83 85.816 338.104 Q85.816 329.354 88.8715 324.77 Q91.9502 320.164 97.7604 320.164 Z\" fill=\"#000000\" fill-rule=\"nonzero\" fill-opacity=\"1\" /><path clip-path=\"url(#clip690)\" d=\"M117.922 349.469 L122.807 349.469 L122.807 355.349 L117.922 355.349 L117.922 349.469 Z\" fill=\"#000000\" fill-rule=\"nonzero\" fill-opacity=\"1\" /><path clip-path=\"url(#clip690)\" d=\"M142.992 323.867 Q139.381 323.867 137.552 327.432 Q135.746 330.974 135.746 338.104 Q135.746 345.21 137.552 348.775 Q139.381 352.316 142.992 352.316 Q146.626 352.316 148.431 348.775 Q150.26 345.21 150.26 338.104 Q150.26 330.974 148.431 327.432 Q146.626 323.867 142.992 323.867 M142.992 320.164 Q148.802 320.164 151.857 324.77 Q154.936 329.354 154.936 338.104 Q154.936 346.83 151.857 351.437 Q148.802 356.02 142.992 356.02 Q137.181 356.02 134.103 351.437 Q131.047 346.83 131.047 338.104 Q131.047 329.354 134.103 324.77 Q137.181 320.164 142.992 320.164 Z\" fill=\"#000000\" fill-rule=\"nonzero\" fill-opacity=\"1\" /><path clip-path=\"url(#clip690)\" d=\"M98.7557 198.163 Q95.1447 198.163 93.316 201.727 Q91.5104 205.269 91.5104 212.399 Q91.5104 219.505 93.316 223.07 Q95.1447 226.611 98.7557 226.611 Q102.39 226.611 104.196 223.07 Q106.024 219.505 106.024 212.399 Q106.024 205.269 104.196 201.727 Q102.39 198.163 98.7557 198.163 M98.7557 194.459 Q104.566 194.459 107.621 199.065 Q110.7 203.649 110.7 212.399 Q110.7 221.125 107.621 225.732 Q104.566 230.315 98.7557 230.315 Q92.9456 230.315 89.8669 225.732 Q86.8114 221.125 86.8114 212.399 Q86.8114 203.649 89.8669 199.065 Q92.9456 194.459 98.7557 194.459 Z\" fill=\"#000000\" fill-rule=\"nonzero\" fill-opacity=\"1\" /><path clip-path=\"url(#clip690)\" d=\"M118.918 223.764 L123.802 223.764 L123.802 229.644 L118.918 229.644 L118.918 223.764 Z\" fill=\"#000000\" fill-rule=\"nonzero\" fill-opacity=\"1\" /><path clip-path=\"url(#clip690)\" d=\"M134.033 195.084 L152.39 195.084 L152.39 199.019 L138.316 199.019 L138.316 207.491 Q139.334 207.144 140.353 206.982 Q141.371 206.797 142.39 206.797 Q148.177 206.797 151.556 209.968 Q154.936 213.139 154.936 218.556 Q154.936 224.135 151.464 227.236 Q147.992 230.315 141.672 230.315 Q139.496 230.315 137.228 229.945 Q134.982 229.574 132.575 228.834 L132.575 224.135 Q134.658 225.269 136.881 225.824 Q139.103 226.38 141.58 226.38 Q145.584 226.38 147.922 224.273 Q150.26 222.167 150.26 218.556 Q150.26 214.945 147.922 212.838 Q145.584 210.732 141.58 210.732 Q139.705 210.732 137.83 211.149 Q135.978 211.565 134.033 212.445 L134.033 195.084 Z\" fill=\"#000000\" fill-rule=\"nonzero\" fill-opacity=\"1\" /><path clip-path=\"url(#clip690)\" d=\"M88.5706 100.004 L96.2095 100.004 L96.2095 73.6381 L87.8993 75.3047 L87.8993 71.0455 L96.1632 69.3788 L100.839 69.3788 L100.839 100.004 L108.478 100.004 L108.478 103.939 L88.5706 103.939 L88.5706 100.004 Z\" fill=\"#000000\" fill-rule=\"nonzero\" fill-opacity=\"1\" /><path clip-path=\"url(#clip690)\" d=\"M117.922 98.0592 L122.807 98.0592 L122.807 103.939 L117.922 103.939 L117.922 98.0592 Z\" fill=\"#000000\" fill-rule=\"nonzero\" fill-opacity=\"1\" /><path clip-path=\"url(#clip690)\" d=\"M142.992 72.4575 Q139.381 72.4575 137.552 76.0223 Q135.746 79.564 135.746 86.6936 Q135.746 93.8 137.552 97.3648 Q139.381 100.906 142.992 100.906 Q146.626 100.906 148.431 97.3648 Q150.26 93.8 150.26 86.6936 Q150.26 79.564 148.431 76.0223 Q146.626 72.4575 142.992 72.4575 M142.992 68.7538 Q148.802 68.7538 151.857 73.3603 Q154.936 77.9436 154.936 86.6936 Q154.936 95.4204 151.857 100.027 Q148.802 104.61 142.992 104.61 Q137.181 104.61 134.103 100.027 Q131.047 95.4204 131.047 86.6936 Q131.047 77.9436 134.103 73.3603 Q137.181 68.7538 142.992 68.7538 Z\" fill=\"#000000\" fill-rule=\"nonzero\" fill-opacity=\"1\" /><path clip-path=\"url(#clip690)\" d=\"M365.337 31.5855 Q367.217 32.222 368.982 34.3054 Q370.776 36.3887 372.57 40.0345 L378.502 51.84 L372.223 51.84 L366.697 40.7579 Q364.555 36.4176 362.53 34.9998 Q360.533 33.582 357.061 33.582 L350.695 33.582 L350.695 51.84 L344.851 51.84 L344.851 8.64 L358.045 8.64 Q365.452 8.64 369.098 11.736 Q372.744 14.8321 372.744 21.0821 Q372.744 25.1619 370.834 27.8529 Q368.953 30.5438 365.337 31.5855 M350.695 13.4432 L350.695 28.7788 L358.045 28.7788 Q362.269 28.7788 364.411 26.8401 Q366.581 24.8726 366.581 21.0821 Q366.581 17.2916 364.411 15.3819 Q362.269 13.4432 358.045 13.4432 L350.695 13.4432 Z\" fill=\"#000000\" fill-rule=\"nonzero\" fill-opacity=\"1\" /><path clip-path=\"url(#clip690)\" d=\"M405.325 24.9304 L442.419 24.9304 L442.419 29.7915 L405.325 29.7915 L405.325 24.9304 M405.325 36.7359 L442.419 36.7359 L442.419 41.6549 L405.325 41.6549 L405.325 36.7359 Z\" fill=\"#000000\" fill-rule=\"nonzero\" fill-opacity=\"1\" /><path clip-path=\"url(#clip690)\" d=\"M474.885 46.921 L484.433 46.921 L484.433 13.964 L474.045 16.0474 L474.045 10.7233 L484.375 8.64 L490.22 8.64 L490.22 46.921 L499.769 46.921 L499.769 51.84 L474.885 51.84 L474.885 46.921 Z\" fill=\"#000000\" fill-rule=\"nonzero\" fill-opacity=\"1\" /><path clip-path=\"url(#clip690)\" d=\"M511.574 44.4905 L517.68 44.4905 L517.68 51.84 L511.574 51.84 L511.574 44.4905 Z\" fill=\"#000000\" fill-rule=\"nonzero\" fill-opacity=\"1\" /><path clip-path=\"url(#clip690)\" d=\"M542.911 12.4884 Q538.397 12.4884 536.111 16.9444 Q533.854 21.3714 533.854 30.2834 Q533.854 39.1665 536.111 43.6225 Q538.397 48.0495 542.911 48.0495 Q547.454 48.0495 549.711 43.6225 Q551.996 39.1665 551.996 30.2834 Q551.996 21.3714 549.711 16.9444 Q547.454 12.4884 542.911 12.4884 M542.911 7.85875 Q550.174 7.85875 553.993 13.6168 Q557.841 19.346 557.841 30.2834 Q557.841 41.1919 553.993 46.95 Q550.174 52.6791 542.911 52.6791 Q535.648 52.6791 531.8 46.95 Q527.98 41.1919 527.98 30.2834 Q527.98 19.346 531.8 13.6168 Q535.648 7.85875 542.911 7.85875 Z\" fill=\"#000000\" fill-rule=\"nonzero\" fill-opacity=\"1\" /><g clip-path=\"url(#clip692)\">\n",
       "<image width=\"504\" height=\"504\" xlink:href=\"data:image/png;base64,\n",
       "iVBORw0KGgoAAAANSUhEUgAAAfgAAAH4CAYAAACmKP9/AAAIHklEQVR4nO3YsQ2DQAAEQbDIXYED\n",
       "mqMo2nMDOCTCTSBeWs1UcNlKNx/nek0AQMpr9AAA4H4CDwBBAg8AQQIPAEECDwBBAg8AQQIPAEEC\n",
       "DwBBAg8AQQIPAEECDwBBAg8AQQIPAEECDwBBAg8AQQIPAEECDwBBAg8AQQIPAEECDwBBAg8AQQIP\n",
       "AEECDwBBAg8AQQIPAEECDwBBAg8AQQIPAEECDwBBAg8AQQIPAEECDwBBAg8AQQIPAEECDwBBAg8A\n",
       "QQIPAEECDwBBAg8AQQIPAEECDwBBAg8AQQIPAEECDwBBAg8AQQIPAEECDwBBAg8AQQIPAEECDwBB\n",
       "Ag8AQQIPAEECDwBBAg8AQQIPAEECDwBBAg8AQQIPAEECDwBBAg8AQQIPAEECDwBBAg8AQQIPAEEC\n",
       "DwBBAg8AQQIPAEECDwBBAg8AQQIPAEECDwBBAg8AQQIPAEECDwBBAg8AQQIPAEECDwBBAg8AQQIP\n",
       "AEECDwBBAg8AQQIPAEECDwBBAg8AQQIPAEECDwBBAg8AQQIPAEECDwBBAg8AQQIPAEECDwBBAg8A\n",
       "QQIPAEECDwBBAg8AQQIPAEECDwBBAg8AQQIPAEECDwBBAg8AQQIPAEECDwBBAg8AQQIPAEECDwBB\n",
       "Ag8AQQIPAEECDwBBAg8AQQIPAEECDwBBAg8AQQIPAEECDwBBAg8AQQIPAEECDwBBAg8AQQIPAEEC\n",
       "DwBBAg8AQQIPAEECDwBBAg8AQQIPAEECDwBBAg8AQQIPAEECDwBBAg8AQQIPAEECDwBBAg8AQQIP\n",
       "AEECDwBBAg8AQQIPAEECDwBBAg8AQQIPAEECDwBBAg8AQQIPAEECDwBBAg8AQQIPAEECDwBBAg8A\n",
       "QQIPAEECDwBBAg8AQQIPAEECDwBBAg8AQQIPAEECDwBBAg8AQQIPAEECDwBBAg8AQQIPAEECDwBB\n",
       "Ag8AQQIPAEECDwBBAg8AQQIPAEECDwBBAg8AQQIPAEECDwBBAg8AQQIPAEECDwBBAg8AQQIPAEEC\n",
       "DwBBAg8AQQIPAEECDwBBAg8AQQIPAEECDwBBAg8AQQIPAEECDwBBAg8AQQIPAEECDwBBAg8AQQIP\n",
       "AEECDwBBAg8AQQIPAEECDwBBAg8AQQIPAEECDwBBAg8AQQIPAEECDwBBAg8AQQIPAEECDwBBAg8A\n",
       "QQIPAEECDwBBAg8AQQIPAEECDwBBAg8AQQIPAEECDwBBAg8AQQIPAEECDwBBAg8AQQIPAEECDwBB\n",
       "Ag8AQQIPAEECDwBBAg8AQQIPAEECDwBBAg8AQQIPAEECDwBBAg8AQQIPAEECDwBBAg8AQQIPAEEC\n",
       "DwBBAg8AQQIPAEECDwBBAg8AQQIPAEECDwBBAg8AQQIPAEECDwBBAg8AQQIPAEECDwBBAg8AQQIP\n",
       "AEECDwBBy+gBwHM+7230BOAB398+zce5XqOHAAD3ctEDQJDAA0CQwANAkMADQJDAA0CQwANAkMAD\n",
       "QJDAA0CQwANAkMADQJDAA0CQwANAkMADQJDAA0CQwANAkMADQJDAA0CQwANAkMADQJDAA0CQwANA\n",
       "kMADQJDAA0CQwANAkMADQJDAA0CQwANAkMADQJDAA0CQwANAkMADQJDAA0CQwANAkMADQJDAA0CQ\n",
       "wANAkMADQJDAA0CQwANAkMADQJDAA0CQwANAkMADQJDAA0CQwANAkMADQJDAA0CQwANAkMADQJDA\n",
       "A0CQwANAkMADQJDAA0CQwANAkMADQJDAA0CQwANAkMADQJDAA0CQwANAkMADQJDAA0CQwANAkMAD\n",
       "QJDAA0CQwANAkMADQJDAA0CQwANAkMADQJDAA0CQwANAkMADQJDAA0CQwANAkMADQJDAA0CQwANA\n",
       "kMADQJDAA0CQwANAkMADQJDAA0CQwANAkMADQJDAA0CQwANAkMADQJDAA0CQwANAkMADQJDAA0CQ\n",
       "wANAkMADQJDAA0CQwANAkMADQJDAA0CQwANAkMADQJDAA0CQwANAkMADQJDAA0CQwANAkMADQJDA\n",
       "A0CQwANAkMADQJDAA0CQwANAkMADQJDAA0CQwANAkMADQJDAA0CQwANAkMADQJDAA0CQwANAkMAD\n",
       "QJDAA0CQwANAkMADQJDAA0CQwANAkMADQJDAA0CQwANAkMADQJDAA0CQwANAkMADQJDAA0CQwANA\n",
       "kMADQJDAA0CQwANAkMADQJDAA0CQwANAkMADQJDAA0CQwANAkMADQJDAA0CQwANAkMADQJDAA0CQ\n",
       "wANAkMADQJDAA0CQwANAkMADQJDAA0CQwANAkMADQJDAA0CQwANAkMADQJDAA0CQwANAkMADQJDA\n",
       "A0CQwANAkMADQJDAA0CQwANAkMADQJDAA0CQwANAkMADQJDAA0CQwANAkMADQJDAA0CQwANAkMAD\n",
       "QJDAA0CQwANAkMADQJDAA0CQwANAkMADQJDAA0CQwANAkMADQJDAA0CQwANAkMADQJDAA0CQwANA\n",
       "kMADQJDAA0CQwANAkMADQJDAA0CQwANAkMADQJDAA0CQwANAkMADQJDAA0CQwANAkMADQJDAA0CQ\n",
       "wANAkMADQJDAA0CQwANAkMADQJDAA0CQwANAkMADQJDAA0CQwANAkMADQJDAA0CQwANAkMADQJDA\n",
       "A0CQwANAkMADQJDAA0CQwANAkMADQJDAA0CQwANAkMADQJDAA0CQwANAkMADQJDAA0CQwANAkMAD\n",
       "QJDAA0CQwANAkMADQJDAA0CQwANAkMADQJDAA0CQwANAkMADQJDAA0CQwANAkMADQJDAA0CQwANA\n",
       "kMADQNAfUFgNA70DJQ8AAAAASUVORK5CYII=\n",
       "\" transform=\"translate(199, 86)\"/>\n",
       "</g>\n",
       "<polyline clip-path=\"url(#clip692)\" style=\"stroke:#e26f46; stroke-linecap:round; stroke-linejoin:round; stroke-width:4; stroke-opacity:1; fill:none\" points=\"702.756,338.069 702.743,335.555 702.706,333.041 702.643,330.528 702.555,328.015 702.442,325.504 702.304,322.993 702.14,320.484 701.952,317.977 701.738,315.472 701.5,312.97 701.236,310.469 700.948,307.972 700.634,305.477 700.296,302.986 699.933,300.499 699.545,298.015 699.132,295.535 698.694,293.059 698.232,290.588 697.744,288.121 697.233,285.66 696.696,283.204 696.135,280.753 695.55,278.308 694.94,275.869 694.306,273.436 693.648,271.01 692.965,268.59 692.258,266.178 691.527,263.772 690.772,261.374 689.993,258.984 689.19,256.601 688.364,254.227 687.514,251.861 686.64,249.504 685.742,247.155 684.821,244.816 683.877,242.486 682.91,240.165 681.919,237.854 680.906,235.554 679.869,233.263 678.81,230.983 677.727,228.714 676.622,226.456 675.495,224.209 674.345,221.973 673.173,219.749 671.979,217.536 670.763,215.336 669.524,213.148 668.264,210.973 666.982,208.81 665.679,206.66 664.354,204.523 663.008,202.4 661.641,200.29 660.253,198.194 658.844,196.112 657.414,194.044 655.963,191.991 654.492,189.952 653.001,187.928 651.489,185.919 649.958,183.925 648.407,181.947 646.835,179.984 645.245,178.037 643.635,176.106 642.006,174.191 640.357,172.293 638.69,170.411 637.004,168.546 635.3,166.698 633.577,164.867 631.836,163.053 630.077,161.257 628.3,159.479 626.505,157.718 624.693,155.976 622.863,154.251 621.016,152.546 619.153,150.858 617.272,149.189 615.375,147.54 613.462,145.909 611.532,144.297 609.586,142.705 607.625,141.133 605.648,139.58 603.655,138.047 601.647,136.534 599.625,135.041 597.587,133.568 595.535,132.116 593.468,130.684 591.387,129.273 589.292,127.884 587.183,126.515 585.061,125.167 582.925,123.84 580.777,122.535 578.615,121.252 576.44,119.99 574.253,118.75 572.054,117.532 569.843,116.336 567.619,115.162 565.385,114.01 563.138,112.881 560.881,111.775 558.612,110.691 556.333,109.629 554.044,108.591 551.744,107.575 549.434,106.583 547.114,105.614 544.785,104.668 542.446,103.745 540.099,102.846 537.742,101.97 535.377,101.118 533.003,100.289 530.621,99.4846 528.231,98.7038 525.834,97.9469 523.429,97.2141 521.017,96.5053 518.598,95.8207 516.172,95.1603 513.74,94.5242 511.301,93.9124 508.857,93.3251 506.406,92.7622 503.951,92.2239 501.49,91.7102 499.024,91.221 496.553,90.7566 494.077,90.3169 491.598,89.902 489.114,89.5119 486.627,89.1467 484.136,88.8063 481.642,88.4909 479.144,88.2004 476.644,87.9349 474.142,87.6944 471.637,87.479 469.13,87.2886 466.621,87.1233 464.111,86.9831 461.6,86.868 459.087,86.7781 456.574,86.7132 454.06,86.6735 451.546,86.6589 449.032,86.6695 446.518,86.7052 444.005,86.766 441.492,86.852 438.981,86.9631 436.47,87.0993 433.961,87.2606 431.454,87.447 428.949,87.6585 426.446,87.8949 423.946,88.1564 421.448,88.4429 418.953,88.7544 416.462,89.0908 413.974,89.4521 411.489,89.8382 409.009,90.2492 406.533,90.6849 404.062,91.1454 401.595,91.6306 399.133,92.1404 396.676,92.6749 394.225,93.2338 391.78,93.8173 389.34,94.4251 386.907,95.0573 384.48,95.7139 382.06,96.3946 379.647,97.0996 377.241,97.8286 374.842,98.5817 372.451,99.3587 370.068,100.16 367.693,100.984 365.326,101.833 362.968,102.705 360.619,103.6 358.279,104.519 355.948,105.461 353.627,106.427 351.315,107.416 349.014,108.428 346.722,109.462 344.442,110.52 342.172,111.6 339.912,112.703 337.664,113.829 335.428,114.977 333.203,116.147 330.989,117.34 328.788,118.554 326.599,119.791 324.423,121.049 322.259,122.329 320.108,123.631 317.97,124.954 315.846,126.299 313.735,127.664 311.638,129.051 309.554,130.458 307.486,131.887 305.431,133.335 303.391,134.805 301.366,136.294 299.355,137.804 297.36,139.334 295.381,140.884 293.417,142.453 291.469,144.042 289.536,145.651 287.62,147.279 285.721,148.925 283.838,150.591 281.971,152.276 280.122,153.979 278.289,155.7 276.474,157.44 274.677,159.197 272.897,160.973 271.135,162.766 269.391,164.577 267.665,166.405 265.958,168.251 264.269,170.113 262.599,171.992 260.947,173.888 259.315,175.8 257.702,177.728 256.108,179.673 254.534,181.633 252.98,183.609 251.445,185.6 249.93,187.607 248.436,189.629 246.962,191.665 245.508,193.716 244.075,195.782 242.662,197.862 241.271,199.955 239.9,202.063 238.551,204.184 237.222,206.319 235.916,208.467 234.63,210.627 233.367,212.801 232.125,214.987 230.905,217.185 229.707,219.396 228.532,221.618 227.378,223.852 226.247,226.097 225.139,228.354 224.053,230.621 222.99,232.9 221.95,235.188 220.933,237.487 219.938,239.796 218.967,242.115 218.019,244.444 217.095,246.782 216.194,249.129 215.316,251.485 214.462,253.849 213.632,256.222 212.825,258.604 212.042,260.993 211.283,263.39 210.549,265.794 209.838,268.206 209.151,270.624 208.489,273.049 207.851,275.481 207.237,277.919 206.648,280.363 206.083,282.813 205.543,285.268 205.027,287.729 204.536,290.195 204.07,292.665 203.628,295.14 203.211,297.619 202.819,300.103 202.452,302.59 202.11,305.08 201.792,307.574 201.5,310.071 201.232,312.571 200.99,315.074 200.772,317.578 200.58,320.085 200.413,322.594 200.271,325.104 200.153,327.615 200.061,330.127 199.995,332.641 199.953,335.154 199.936,337.668 199.945,340.182 199.979,342.696 200.037,345.21 200.121,347.722 200.231,350.234 200.365,352.745 200.524,355.254 200.708,357.761 200.918,360.266 201.152,362.769 201.412,365.27 201.696,367.768 202.006,370.263 202.34,372.755 202.7,375.243 203.084,377.728 203.493,380.208 203.926,382.685 204.385,385.157 204.868,387.624 205.376,390.086 205.909,392.543 206.466,394.995 207.047,397.441 207.653,399.881 208.283,402.314 208.938,404.742 209.617,407.162 210.32,409.576 211.047,411.983 211.798,414.382 212.573,416.774 213.372,419.158 214.195,421.533 215.041,423.9 215.911,426.259 216.805,428.609 217.722,430.95 218.663,433.281 219.626,435.604 220.613,437.916 221.623,440.218 222.656,442.51 223.712,444.792 224.791,447.063 225.892,449.323 227.016,451.572 228.162,453.809 229.331,456.035 230.521,458.25 231.734,460.452 232.969,462.642 234.226,464.819 235.504,466.984 236.804,469.136 238.125,471.275 239.468,473.4 240.832,475.512 242.217,477.611 243.623,479.695 245.049,481.765 246.496,483.821 247.964,485.862 249.452,487.888 250.96,489.9 252.489,491.896 254.037,493.877 255.605,495.842 257.192,497.792 258.799,499.725 260.425,501.642 262.071,503.543 263.735,505.428 265.418,507.296 267.119,509.146 268.839,510.98 270.578,512.796 272.334,514.595 274.108,516.377 275.9,518.14 277.709,519.885 279.536,521.613 281.38,523.322 283.241,525.012 285.119,526.684 287.013,528.336 288.924,529.97 290.851,531.585 292.795,533.18 294.754,534.756 296.728,536.312 298.718,537.848 300.724,539.364 302.744,540.861 304.78,542.336 306.829,543.792 308.894,545.227 310.973,546.641 313.065,548.034 315.172,549.406 317.292,550.758 319.426,552.087 321.572,553.396 323.732,554.683 325.904,555.948 328.09,557.192 330.287,558.413 332.496,559.613 334.718,560.79 336.951,561.945 339.195,563.078 341.451,564.188 343.717,565.276 345.995,566.341 348.283,567.383 350.581,568.402 352.889,569.398 355.208,570.371 357.535,571.321 359.873,572.247 362.219,573.15 364.574,574.03 366.938,574.886 369.31,575.718 371.691,576.526 374.079,577.311 376.476,578.072 378.879,578.808 381.29,579.521 383.708,580.21 386.133,580.874 388.564,581.514 391.002,582.129 393.445,582.721 395.895,583.287 398.35,583.83 400.81,584.347 403.275,584.84 405.745,585.309 408.22,585.752 410.699,586.171 413.182,586.565 415.669,586.934 418.159,587.279 420.653,587.598 423.15,587.893 425.649,588.162 428.151,588.407 430.656,588.626 433.163,588.82 435.671,588.99 438.181,589.134 440.692,589.253 443.204,589.347 445.718,589.416 448.231,589.459 450.745,589.478 453.259,589.471 455.773,589.44 458.287,589.383 460.8,589.301 463.311,589.194 465.822,589.062 468.331,588.904 470.839,588.722 473.344,588.514 475.847,588.282 478.348,588.024 480.846,587.742 483.342,587.434 485.834,587.102 488.322,586.745 490.807,586.363 493.288,585.956 495.765,585.524 498.237,585.067 500.705,584.586 503.167,584.08 505.625,583.55 508.077,582.994 510.523,582.415 512.964,581.811 515.398,581.183 517.826,580.53 520.247,579.853 522.661,579.152 525.069,578.427 527.469,577.677 529.861,576.904 532.245,576.107 534.621,575.286 536.989,574.442 539.349,573.573 541.699,572.682 544.041,571.766 546.373,570.828 548.696,569.866 551.009,568.881 553.312,567.873 555.605,566.842 557.888,565.788 560.159,564.711 562.42,563.611 564.67,562.489 566.909,561.345 569.136,560.178 571.351,558.989 573.554,557.778 575.745,556.545 577.923,555.29 580.089,554.013 582.242,552.715 584.382,551.396 586.509,550.055 588.622,548.692 590.721,547.309 592.807,545.905 594.878,544.48 596.935,543.034 598.977,541.568 601.005,540.082 603.017,538.575 605.015,537.048 606.997,535.502 608.963,533.935 610.914,532.349 612.849,530.744 614.768,529.119 616.67,527.476 618.556,525.813 620.425,524.132 622.277,522.432 624.112,520.713 625.93,518.976 627.73,517.221 629.513,515.449 631.277,513.658 633.024,511.85 634.753,510.025 636.463,508.182 638.155,506.322 639.828,504.446 641.483,502.553 643.118,500.643 644.734,498.717 646.331,496.776 647.908,494.818 649.466,492.844 651.004,490.855 652.522,488.851 654.019,486.832 655.497,484.798 656.954,482.749 658.39,480.686 659.806,478.608 661.201,476.517 662.575,474.411 663.928,472.292 665.259,470.16 666.57,468.014 667.858,465.855 669.125,463.684 670.371,461.5 671.594,459.303 672.795,457.095 673.974,454.874 675.131,452.642 676.266,450.399 677.378,448.144 678.467,445.878 679.534,443.602 680.578,441.315 681.599,439.017 682.597,436.71 683.572,434.392 684.523,432.065 685.452,429.729 686.356,427.383 687.238,425.029 688.096,422.665 688.93,420.294 689.74,417.914 690.527,415.526 691.289,413.13 692.028,410.727 692.742,408.317 693.433,405.899 694.099,403.475 694.741,401.044 695.358,398.607 695.952,396.164 696.52,393.715 697.064,391.261 697.584,388.801 698.079,386.336 698.549,383.866 698.995,381.392 699.416,378.913 699.812,376.431 700.183,373.944 700.529,371.454 700.851,368.961 701.147,366.464 701.419,363.965 701.665,361.463 701.887,358.958 702.083,356.452 702.254,353.944 702.4,351.434 702.522,348.923 702.617,346.41 702.688,343.897 702.734,341.384 702.755,338.87 \"/>\n",
       "<path clip-path=\"url(#clip690)\" d=\"M949.936 589.479 L1452.76 589.479 L1452.76 86.6588 L949.936 86.6588  Z\" fill=\"#ffffff\" fill-rule=\"evenodd\" fill-opacity=\"1\"/>\n",
       "<defs>\n",
       "  <clipPath id=\"clip693\">\n",
       "    <rect x=\"949\" y=\"86\" width=\"504\" height=\"504\"/>\n",
       "  </clipPath>\n",
       "</defs>\n",
       "<polyline clip-path=\"url(#clip693)\" style=\"stroke:#000000; stroke-linecap:round; stroke-linejoin:round; stroke-width:2; stroke-opacity:0.1; fill:none\" points=\"949.936,589.479 949.936,86.6588 \"/>\n",
       "<polyline clip-path=\"url(#clip693)\" style=\"stroke:#000000; stroke-linecap:round; stroke-linejoin:round; stroke-width:2; stroke-opacity:0.1; fill:none\" points=\"1075.64,589.479 1075.64,86.6588 \"/>\n",
       "<polyline clip-path=\"url(#clip693)\" style=\"stroke:#000000; stroke-linecap:round; stroke-linejoin:round; stroke-width:2; stroke-opacity:0.1; fill:none\" points=\"1201.35,589.479 1201.35,86.6588 \"/>\n",
       "<polyline clip-path=\"url(#clip693)\" style=\"stroke:#000000; stroke-linecap:round; stroke-linejoin:round; stroke-width:2; stroke-opacity:0.1; fill:none\" points=\"1327.05,589.479 1327.05,86.6588 \"/>\n",
       "<polyline clip-path=\"url(#clip693)\" style=\"stroke:#000000; stroke-linecap:round; stroke-linejoin:round; stroke-width:2; stroke-opacity:0.1; fill:none\" points=\"1452.76,589.479 1452.76,86.6588 \"/>\n",
       "<polyline clip-path=\"url(#clip690)\" style=\"stroke:#000000; stroke-linecap:round; stroke-linejoin:round; stroke-width:4; stroke-opacity:1; fill:none\" points=\"949.936,589.479 1452.76,589.479 \"/>\n",
       "<polyline clip-path=\"url(#clip690)\" style=\"stroke:#000000; stroke-linecap:round; stroke-linejoin:round; stroke-width:4; stroke-opacity:1; fill:none\" points=\"949.936,589.479 949.936,571.233 \"/>\n",
       "<polyline clip-path=\"url(#clip690)\" style=\"stroke:#000000; stroke-linecap:round; stroke-linejoin:round; stroke-width:4; stroke-opacity:1; fill:none\" points=\"1075.64,589.479 1075.64,571.233 \"/>\n",
       "<polyline clip-path=\"url(#clip690)\" style=\"stroke:#000000; stroke-linecap:round; stroke-linejoin:round; stroke-width:4; stroke-opacity:1; fill:none\" points=\"1201.35,589.479 1201.35,571.233 \"/>\n",
       "<polyline clip-path=\"url(#clip690)\" style=\"stroke:#000000; stroke-linecap:round; stroke-linejoin:round; stroke-width:4; stroke-opacity:1; fill:none\" points=\"1327.05,589.479 1327.05,571.233 \"/>\n",
       "<polyline clip-path=\"url(#clip690)\" style=\"stroke:#000000; stroke-linecap:round; stroke-linejoin:round; stroke-width:4; stroke-opacity:1; fill:none\" points=\"1452.76,589.479 1452.76,571.233 \"/>\n",
       "<path clip-path=\"url(#clip690)\" d=\"M896.464 639.85 L926.14 639.85 L926.14 643.785 L896.464 643.785 L896.464 639.85 Z\" fill=\"#000000\" fill-rule=\"nonzero\" fill-opacity=\"1\" /><path clip-path=\"url(#clip690)\" d=\"M937.043 652.744 L944.681 652.744 L944.681 626.378 L936.371 628.045 L936.371 623.785 L944.635 622.119 L949.311 622.119 L949.311 652.744 L956.95 652.744 L956.95 656.679 L937.043 656.679 L937.043 652.744 Z\" fill=\"#000000\" fill-rule=\"nonzero\" fill-opacity=\"1\" /><path clip-path=\"url(#clip690)\" d=\"M966.394 650.799 L971.278 650.799 L971.278 656.679 L966.394 656.679 L966.394 650.799 Z\" fill=\"#000000\" fill-rule=\"nonzero\" fill-opacity=\"1\" /><path clip-path=\"url(#clip690)\" d=\"M991.464 625.197 Q987.852 625.197 986.024 628.762 Q984.218 632.304 984.218 639.433 Q984.218 646.54 986.024 650.105 Q987.852 653.646 991.464 653.646 Q995.098 653.646 996.903 650.105 Q998.732 646.54 998.732 639.433 Q998.732 632.304 996.903 628.762 Q995.098 625.197 991.464 625.197 M991.464 621.494 Q997.274 621.494 1000.33 626.1 Q1003.41 630.684 1003.41 639.433 Q1003.41 648.16 1000.33 652.767 Q997.274 657.35 991.464 657.35 Q985.653 657.35 982.575 652.767 Q979.519 648.16 979.519 639.433 Q979.519 630.684 982.575 626.1 Q985.653 621.494 991.464 621.494 Z\" fill=\"#000000\" fill-rule=\"nonzero\" fill-opacity=\"1\" /><path clip-path=\"url(#clip690)\" d=\"M1022.67 639.85 L1052.34 639.85 L1052.34 643.785 L1022.67 643.785 L1022.67 639.85 Z\" fill=\"#000000\" fill-rule=\"nonzero\" fill-opacity=\"1\" /><path clip-path=\"url(#clip690)\" d=\"M1072.43 625.197 Q1068.82 625.197 1067 628.762 Q1065.19 632.304 1065.19 639.433 Q1065.19 646.54 1067 650.105 Q1068.82 653.646 1072.43 653.646 Q1076.07 653.646 1077.87 650.105 Q1079.7 646.54 1079.7 639.433 Q1079.7 632.304 1077.87 628.762 Q1076.07 625.197 1072.43 625.197 M1072.43 621.494 Q1078.25 621.494 1081.3 626.1 Q1084.38 630.684 1084.38 639.433 Q1084.38 648.16 1081.3 652.767 Q1078.25 657.35 1072.43 657.35 Q1066.62 657.35 1063.55 652.767 Q1060.49 648.16 1060.49 639.433 Q1060.49 630.684 1063.55 626.1 Q1066.62 621.494 1072.43 621.494 Z\" fill=\"#000000\" fill-rule=\"nonzero\" fill-opacity=\"1\" /><path clip-path=\"url(#clip690)\" d=\"M1092.6 650.799 L1097.48 650.799 L1097.48 656.679 L1092.6 656.679 L1092.6 650.799 Z\" fill=\"#000000\" fill-rule=\"nonzero\" fill-opacity=\"1\" /><path clip-path=\"url(#clip690)\" d=\"M1107.71 622.119 L1126.07 622.119 L1126.07 626.054 L1111.99 626.054 L1111.99 634.526 Q1113.01 634.179 1114.03 634.017 Q1115.05 633.832 1116.07 633.832 Q1121.86 633.832 1125.24 637.003 Q1128.62 640.174 1128.62 645.591 Q1128.62 651.17 1125.14 654.271 Q1121.67 657.35 1115.35 657.35 Q1113.18 657.35 1110.91 656.98 Q1108.66 656.609 1106.25 655.869 L1106.25 651.17 Q1108.34 652.304 1110.56 652.859 Q1112.78 653.415 1115.26 653.415 Q1119.26 653.415 1121.6 651.308 Q1123.94 649.202 1123.94 645.591 Q1123.94 641.98 1121.6 639.873 Q1119.26 637.767 1115.26 637.767 Q1113.38 637.767 1111.51 638.183 Q1109.66 638.6 1107.71 639.48 L1107.71 622.119 Z\" fill=\"#000000\" fill-rule=\"nonzero\" fill-opacity=\"1\" /><path clip-path=\"url(#clip690)\" d=\"M1178.73 625.197 Q1175.12 625.197 1173.29 628.762 Q1171.49 632.304 1171.49 639.433 Q1171.49 646.54 1173.29 650.105 Q1175.12 653.646 1178.73 653.646 Q1182.36 653.646 1184.17 650.105 Q1186 646.54 1186 639.433 Q1186 632.304 1184.17 628.762 Q1182.36 625.197 1178.73 625.197 M1178.73 621.494 Q1184.54 621.494 1187.6 626.1 Q1190.67 630.684 1190.67 639.433 Q1190.67 648.16 1187.6 652.767 Q1184.54 657.35 1178.73 657.35 Q1172.92 657.35 1169.84 652.767 Q1166.79 648.16 1166.79 639.433 Q1166.79 630.684 1169.84 626.1 Q1172.92 621.494 1178.73 621.494 Z\" fill=\"#000000\" fill-rule=\"nonzero\" fill-opacity=\"1\" /><path clip-path=\"url(#clip690)\" d=\"M1198.89 650.799 L1203.78 650.799 L1203.78 656.679 L1198.89 656.679 L1198.89 650.799 Z\" fill=\"#000000\" fill-rule=\"nonzero\" fill-opacity=\"1\" /><path clip-path=\"url(#clip690)\" d=\"M1223.96 625.197 Q1220.35 625.197 1218.52 628.762 Q1216.72 632.304 1216.72 639.433 Q1216.72 646.54 1218.52 650.105 Q1220.35 653.646 1223.96 653.646 Q1227.6 653.646 1229.4 650.105 Q1231.23 646.54 1231.23 639.433 Q1231.23 632.304 1229.4 628.762 Q1227.6 625.197 1223.96 625.197 M1223.96 621.494 Q1229.77 621.494 1232.83 626.1 Q1235.91 630.684 1235.91 639.433 Q1235.91 648.16 1232.83 652.767 Q1229.77 657.35 1223.96 657.35 Q1218.15 657.35 1215.07 652.767 Q1212.02 648.16 1212.02 639.433 Q1212.02 630.684 1215.07 626.1 Q1218.15 621.494 1223.96 621.494 Z\" fill=\"#000000\" fill-rule=\"nonzero\" fill-opacity=\"1\" /><path clip-path=\"url(#clip690)\" d=\"M1304.93 625.197 Q1301.32 625.197 1299.49 628.762 Q1297.69 632.304 1297.69 639.433 Q1297.69 646.54 1299.49 650.105 Q1301.32 653.646 1304.93 653.646 Q1308.57 653.646 1310.37 650.105 Q1312.2 646.54 1312.2 639.433 Q1312.2 632.304 1310.37 628.762 Q1308.57 625.197 1304.93 625.197 M1304.93 621.494 Q1310.74 621.494 1313.8 626.1 Q1316.88 630.684 1316.88 639.433 Q1316.88 648.16 1313.8 652.767 Q1310.74 657.35 1304.93 657.35 Q1299.12 657.35 1296.04 652.767 Q1292.99 648.16 1292.99 639.433 Q1292.99 630.684 1296.04 626.1 Q1299.12 621.494 1304.93 621.494 Z\" fill=\"#000000\" fill-rule=\"nonzero\" fill-opacity=\"1\" /><path clip-path=\"url(#clip690)\" d=\"M1325.09 650.799 L1329.98 650.799 L1329.98 656.679 L1325.09 656.679 L1325.09 650.799 Z\" fill=\"#000000\" fill-rule=\"nonzero\" fill-opacity=\"1\" /><path clip-path=\"url(#clip690)\" d=\"M1340.21 622.119 L1358.57 622.119 L1358.57 626.054 L1344.49 626.054 L1344.49 634.526 Q1345.51 634.179 1346.53 634.017 Q1347.55 633.832 1348.57 633.832 Q1354.35 633.832 1357.73 637.003 Q1361.11 640.174 1361.11 645.591 Q1361.11 651.17 1357.64 654.271 Q1354.17 657.35 1347.85 657.35 Q1345.67 657.35 1343.41 656.98 Q1341.16 656.609 1338.75 655.869 L1338.75 651.17 Q1340.84 652.304 1343.06 652.859 Q1345.28 653.415 1347.76 653.415 Q1351.76 653.415 1354.1 651.308 Q1356.44 649.202 1356.44 645.591 Q1356.44 641.98 1354.1 639.873 Q1351.76 637.767 1347.76 637.767 Q1345.88 637.767 1344.01 638.183 Q1342.16 638.6 1340.21 639.48 L1340.21 622.119 Z\" fill=\"#000000\" fill-rule=\"nonzero\" fill-opacity=\"1\" /><path clip-path=\"url(#clip690)\" d=\"M1419.91 652.744 L1427.55 652.744 L1427.55 626.378 L1419.24 628.045 L1419.24 623.785 L1427.5 622.119 L1432.18 622.119 L1432.18 652.744 L1439.82 652.744 L1439.82 656.679 L1419.91 656.679 L1419.91 652.744 Z\" fill=\"#000000\" fill-rule=\"nonzero\" fill-opacity=\"1\" /><path clip-path=\"url(#clip690)\" d=\"M1449.26 650.799 L1454.14 650.799 L1454.14 656.679 L1449.26 656.679 L1449.26 650.799 Z\" fill=\"#000000\" fill-rule=\"nonzero\" fill-opacity=\"1\" /><path clip-path=\"url(#clip690)\" d=\"M1474.33 625.197 Q1470.72 625.197 1468.89 628.762 Q1467.08 632.304 1467.08 639.433 Q1467.08 646.54 1468.89 650.105 Q1470.72 653.646 1474.33 653.646 Q1477.96 653.646 1479.77 650.105 Q1481.6 646.54 1481.6 639.433 Q1481.6 632.304 1479.77 628.762 Q1477.96 625.197 1474.33 625.197 M1474.33 621.494 Q1480.14 621.494 1483.2 626.1 Q1486.27 630.684 1486.27 639.433 Q1486.27 648.16 1483.2 652.767 Q1480.14 657.35 1474.33 657.35 Q1468.52 657.35 1465.44 652.767 Q1462.39 648.16 1462.39 639.433 Q1462.39 630.684 1465.44 626.1 Q1468.52 621.494 1474.33 621.494 Z\" fill=\"#000000\" fill-rule=\"nonzero\" fill-opacity=\"1\" /><polyline clip-path=\"url(#clip693)\" style=\"stroke:#000000; stroke-linecap:round; stroke-linejoin:round; stroke-width:2; stroke-opacity:0.1; fill:none\" points=\"949.936,589.479 1452.76,589.479 \"/>\n",
       "<polyline clip-path=\"url(#clip693)\" style=\"stroke:#000000; stroke-linecap:round; stroke-linejoin:round; stroke-width:2; stroke-opacity:0.1; fill:none\" points=\"949.936,463.774 1452.76,463.774 \"/>\n",
       "<polyline clip-path=\"url(#clip693)\" style=\"stroke:#000000; stroke-linecap:round; stroke-linejoin:round; stroke-width:2; stroke-opacity:0.1; fill:none\" points=\"949.936,338.069 1452.76,338.069 \"/>\n",
       "<polyline clip-path=\"url(#clip693)\" style=\"stroke:#000000; stroke-linecap:round; stroke-linejoin:round; stroke-width:2; stroke-opacity:0.1; fill:none\" points=\"949.936,212.364 1452.76,212.364 \"/>\n",
       "<polyline clip-path=\"url(#clip693)\" style=\"stroke:#000000; stroke-linecap:round; stroke-linejoin:round; stroke-width:2; stroke-opacity:0.1; fill:none\" points=\"949.936,86.6588 1452.76,86.6588 \"/>\n",
       "<polyline clip-path=\"url(#clip690)\" style=\"stroke:#000000; stroke-linecap:round; stroke-linejoin:round; stroke-width:4; stroke-opacity:1; fill:none\" points=\"949.936,589.479 949.936,86.6588 \"/>\n",
       "<polyline clip-path=\"url(#clip690)\" style=\"stroke:#000000; stroke-linecap:round; stroke-linejoin:round; stroke-width:4; stroke-opacity:1; fill:none\" points=\"949.936,589.479 968.834,589.479 \"/>\n",
       "<polyline clip-path=\"url(#clip690)\" style=\"stroke:#000000; stroke-linecap:round; stroke-linejoin:round; stroke-width:4; stroke-opacity:1; fill:none\" points=\"949.936,463.774 968.834,463.774 \"/>\n",
       "<polyline clip-path=\"url(#clip690)\" style=\"stroke:#000000; stroke-linecap:round; stroke-linejoin:round; stroke-width:4; stroke-opacity:1; fill:none\" points=\"949.936,338.069 968.834,338.069 \"/>\n",
       "<polyline clip-path=\"url(#clip690)\" style=\"stroke:#000000; stroke-linecap:round; stroke-linejoin:round; stroke-width:4; stroke-opacity:1; fill:none\" points=\"949.936,212.364 968.834,212.364 \"/>\n",
       "<polyline clip-path=\"url(#clip690)\" style=\"stroke:#000000; stroke-linecap:round; stroke-linejoin:round; stroke-width:4; stroke-opacity:1; fill:none\" points=\"949.936,86.6588 968.834,86.6588 \"/>\n",
       "<path clip-path=\"url(#clip690)\" d=\"M797.992 589.93 L827.668 589.93 L827.668 593.865 L797.992 593.865 L797.992 589.93 Z\" fill=\"#000000\" fill-rule=\"nonzero\" fill-opacity=\"1\" /><path clip-path=\"url(#clip690)\" d=\"M838.571 602.824 L846.209 602.824 L846.209 576.458 L837.899 578.125 L837.899 573.865 L846.163 572.199 L850.839 572.199 L850.839 602.824 L858.478 602.824 L858.478 606.759 L838.571 606.759 L838.571 602.824 Z\" fill=\"#000000\" fill-rule=\"nonzero\" fill-opacity=\"1\" /><path clip-path=\"url(#clip690)\" d=\"M867.922 600.879 L872.807 600.879 L872.807 606.759 L867.922 606.759 L867.922 600.879 Z\" fill=\"#000000\" fill-rule=\"nonzero\" fill-opacity=\"1\" /><path clip-path=\"url(#clip690)\" d=\"M892.992 575.277 Q889.381 575.277 887.552 578.842 Q885.746 582.384 885.746 589.513 Q885.746 596.62 887.552 600.185 Q889.381 603.726 892.992 603.726 Q896.626 603.726 898.431 600.185 Q900.26 596.62 900.26 589.513 Q900.26 582.384 898.431 578.842 Q896.626 575.277 892.992 575.277 M892.992 571.574 Q898.802 571.574 901.857 576.18 Q904.936 580.764 904.936 589.513 Q904.936 598.24 901.857 602.847 Q898.802 607.43 892.992 607.43 Q887.181 607.43 884.103 602.847 Q881.047 598.24 881.047 589.513 Q881.047 580.764 884.103 576.18 Q887.181 571.574 892.992 571.574 Z\" fill=\"#000000\" fill-rule=\"nonzero\" fill-opacity=\"1\" /><path clip-path=\"url(#clip690)\" d=\"M798.987 464.225 L828.663 464.225 L828.663 468.16 L798.987 468.16 L798.987 464.225 Z\" fill=\"#000000\" fill-rule=\"nonzero\" fill-opacity=\"1\" /><path clip-path=\"url(#clip690)\" d=\"M848.756 449.572 Q845.145 449.572 843.316 453.137 Q841.51 456.679 841.51 463.808 Q841.51 470.915 843.316 474.48 Q845.145 478.021 848.756 478.021 Q852.39 478.021 854.196 474.48 Q856.024 470.915 856.024 463.808 Q856.024 456.679 854.196 453.137 Q852.39 449.572 848.756 449.572 M848.756 445.869 Q854.566 445.869 857.621 450.475 Q860.7 455.059 860.7 463.808 Q860.7 472.535 857.621 477.142 Q854.566 481.725 848.756 481.725 Q842.946 481.725 839.867 477.142 Q836.811 472.535 836.811 463.808 Q836.811 455.059 839.867 450.475 Q842.946 445.869 848.756 445.869 Z\" fill=\"#000000\" fill-rule=\"nonzero\" fill-opacity=\"1\" /><path clip-path=\"url(#clip690)\" d=\"M868.918 475.174 L873.802 475.174 L873.802 481.054 L868.918 481.054 L868.918 475.174 Z\" fill=\"#000000\" fill-rule=\"nonzero\" fill-opacity=\"1\" /><path clip-path=\"url(#clip690)\" d=\"M884.033 446.494 L902.39 446.494 L902.39 450.429 L888.316 450.429 L888.316 458.901 Q889.334 458.554 890.353 458.392 Q891.371 458.207 892.39 458.207 Q898.177 458.207 901.556 461.378 Q904.936 464.549 904.936 469.966 Q904.936 475.545 901.464 478.646 Q897.992 481.725 891.672 481.725 Q889.496 481.725 887.228 481.355 Q884.982 480.984 882.575 480.244 L882.575 475.545 Q884.658 476.679 886.881 477.234 Q889.103 477.79 891.58 477.79 Q895.584 477.79 897.922 475.683 Q900.26 473.577 900.26 469.966 Q900.26 466.355 897.922 464.248 Q895.584 462.142 891.58 462.142 Q889.705 462.142 887.83 462.559 Q885.978 462.975 884.033 463.855 L884.033 446.494 Z\" fill=\"#000000\" fill-rule=\"nonzero\" fill-opacity=\"1\" /><path clip-path=\"url(#clip690)\" d=\"M847.76 323.867 Q844.149 323.867 842.321 327.432 Q840.515 330.974 840.515 338.104 Q840.515 345.21 842.321 348.775 Q844.149 352.316 847.76 352.316 Q851.395 352.316 853.2 348.775 Q855.029 345.21 855.029 338.104 Q855.029 330.974 853.2 327.432 Q851.395 323.867 847.76 323.867 M847.76 320.164 Q853.571 320.164 856.626 324.77 Q859.705 329.354 859.705 338.104 Q859.705 346.83 856.626 351.437 Q853.571 356.02 847.76 356.02 Q841.95 356.02 838.872 351.437 Q835.816 346.83 835.816 338.104 Q835.816 329.354 838.872 324.77 Q841.95 320.164 847.76 320.164 Z\" fill=\"#000000\" fill-rule=\"nonzero\" fill-opacity=\"1\" /><path clip-path=\"url(#clip690)\" d=\"M867.922 349.469 L872.807 349.469 L872.807 355.349 L867.922 355.349 L867.922 349.469 Z\" fill=\"#000000\" fill-rule=\"nonzero\" fill-opacity=\"1\" /><path clip-path=\"url(#clip690)\" d=\"M892.992 323.867 Q889.381 323.867 887.552 327.432 Q885.746 330.974 885.746 338.104 Q885.746 345.21 887.552 348.775 Q889.381 352.316 892.992 352.316 Q896.626 352.316 898.431 348.775 Q900.26 345.21 900.26 338.104 Q900.26 330.974 898.431 327.432 Q896.626 323.867 892.992 323.867 M892.992 320.164 Q898.802 320.164 901.857 324.77 Q904.936 329.354 904.936 338.104 Q904.936 346.83 901.857 351.437 Q898.802 356.02 892.992 356.02 Q887.181 356.02 884.103 351.437 Q881.047 346.83 881.047 338.104 Q881.047 329.354 884.103 324.77 Q887.181 320.164 892.992 320.164 Z\" fill=\"#000000\" fill-rule=\"nonzero\" fill-opacity=\"1\" /><path clip-path=\"url(#clip690)\" d=\"M848.756 198.163 Q845.145 198.163 843.316 201.727 Q841.51 205.269 841.51 212.399 Q841.51 219.505 843.316 223.07 Q845.145 226.611 848.756 226.611 Q852.39 226.611 854.196 223.07 Q856.024 219.505 856.024 212.399 Q856.024 205.269 854.196 201.727 Q852.39 198.163 848.756 198.163 M848.756 194.459 Q854.566 194.459 857.621 199.065 Q860.7 203.649 860.7 212.399 Q860.7 221.125 857.621 225.732 Q854.566 230.315 848.756 230.315 Q842.946 230.315 839.867 225.732 Q836.811 221.125 836.811 212.399 Q836.811 203.649 839.867 199.065 Q842.946 194.459 848.756 194.459 Z\" fill=\"#000000\" fill-rule=\"nonzero\" fill-opacity=\"1\" /><path clip-path=\"url(#clip690)\" d=\"M868.918 223.764 L873.802 223.764 L873.802 229.644 L868.918 229.644 L868.918 223.764 Z\" fill=\"#000000\" fill-rule=\"nonzero\" fill-opacity=\"1\" /><path clip-path=\"url(#clip690)\" d=\"M884.033 195.084 L902.39 195.084 L902.39 199.019 L888.316 199.019 L888.316 207.491 Q889.334 207.144 890.353 206.982 Q891.371 206.797 892.39 206.797 Q898.177 206.797 901.556 209.968 Q904.936 213.139 904.936 218.556 Q904.936 224.135 901.464 227.236 Q897.992 230.315 891.672 230.315 Q889.496 230.315 887.228 229.945 Q884.982 229.574 882.575 228.834 L882.575 224.135 Q884.658 225.269 886.881 225.824 Q889.103 226.38 891.58 226.38 Q895.584 226.38 897.922 224.273 Q900.26 222.167 900.26 218.556 Q900.26 214.945 897.922 212.838 Q895.584 210.732 891.58 210.732 Q889.705 210.732 887.83 211.149 Q885.978 211.565 884.033 212.445 L884.033 195.084 Z\" fill=\"#000000\" fill-rule=\"nonzero\" fill-opacity=\"1\" /><path clip-path=\"url(#clip690)\" d=\"M838.571 100.004 L846.209 100.004 L846.209 73.6381 L837.899 75.3047 L837.899 71.0455 L846.163 69.3788 L850.839 69.3788 L850.839 100.004 L858.478 100.004 L858.478 103.939 L838.571 103.939 L838.571 100.004 Z\" fill=\"#000000\" fill-rule=\"nonzero\" fill-opacity=\"1\" /><path clip-path=\"url(#clip690)\" d=\"M867.922 98.0592 L872.807 98.0592 L872.807 103.939 L867.922 103.939 L867.922 98.0592 Z\" fill=\"#000000\" fill-rule=\"nonzero\" fill-opacity=\"1\" /><path clip-path=\"url(#clip690)\" d=\"M892.992 72.4575 Q889.381 72.4575 887.552 76.0223 Q885.746 79.564 885.746 86.6936 Q885.746 93.8 887.552 97.3648 Q889.381 100.906 892.992 100.906 Q896.626 100.906 898.431 97.3648 Q900.26 93.8 900.26 86.6936 Q900.26 79.564 898.431 76.0223 Q896.626 72.4575 892.992 72.4575 M892.992 68.7538 Q898.802 68.7538 901.857 73.3603 Q904.936 77.9436 904.936 86.6936 Q904.936 95.4204 901.857 100.027 Q898.802 104.61 892.992 104.61 Q887.181 104.61 884.103 100.027 Q881.047 95.4204 881.047 86.6936 Q881.047 77.9436 884.103 73.3603 Q887.181 68.7538 892.992 68.7538 Z\" fill=\"#000000\" fill-rule=\"nonzero\" fill-opacity=\"1\" /><path clip-path=\"url(#clip690)\" d=\"M1115.34 31.5855 Q1117.22 32.222 1118.98 34.3054 Q1120.78 36.3887 1122.57 40.0345 L1128.5 51.84 L1122.22 51.84 L1116.7 40.7579 Q1114.56 36.4176 1112.53 34.9998 Q1110.53 33.582 1107.06 33.582 L1100.7 33.582 L1100.7 51.84 L1094.85 51.84 L1094.85 8.64 L1108.04 8.64 Q1115.45 8.64 1119.1 11.736 Q1122.74 14.8321 1122.74 21.0821 Q1122.74 25.1619 1120.83 27.8529 Q1118.95 30.5438 1115.34 31.5855 M1100.7 13.4432 L1100.7 28.7788 L1108.04 28.7788 Q1112.27 28.7788 1114.41 26.8401 Q1116.58 24.8726 1116.58 21.0821 Q1116.58 17.2916 1114.41 15.3819 Q1112.27 13.4432 1108.04 13.4432 L1100.7 13.4432 Z\" fill=\"#000000\" fill-rule=\"nonzero\" fill-opacity=\"1\" /><path clip-path=\"url(#clip690)\" d=\"M1155.32 24.9304 L1192.42 24.9304 L1192.42 29.7915 L1155.32 29.7915 L1155.32 24.9304 M1155.32 36.7359 L1192.42 36.7359 L1192.42 41.6549 L1155.32 41.6549 L1155.32 36.7359 Z\" fill=\"#000000\" fill-rule=\"nonzero\" fill-opacity=\"1\" /><path clip-path=\"url(#clip690)\" d=\"M1228.91 46.921 L1249.31 46.921 L1249.31 51.84 L1221.88 51.84 L1221.88 46.921 Q1225.2 43.4778 1230.93 37.6908 Q1236.69 31.8748 1238.17 30.1966 Q1240.97 27.0427 1242.07 24.8726 Q1243.2 22.6735 1243.2 20.5612 Q1243.2 17.118 1240.77 14.9478 Q1238.37 12.7777 1234.49 12.7777 Q1231.74 12.7777 1228.68 13.7326 Q1225.64 14.6874 1222.16 16.6261 L1222.16 10.7233 Q1225.69 9.30551 1228.76 8.58213 Q1231.83 7.85875 1234.38 7.85875 Q1241.09 7.85875 1245.08 11.2152 Q1249.07 14.5717 1249.07 20.1851 Q1249.07 22.8471 1248.06 25.2487 Q1247.08 27.6214 1244.44 30.8621 Q1243.72 31.7012 1239.84 35.7232 Q1235.97 39.7162 1228.91 46.921 Z\" fill=\"#000000\" fill-rule=\"nonzero\" fill-opacity=\"1\" /><path clip-path=\"url(#clip690)\" d=\"M1261.57 44.4905 L1267.68 44.4905 L1267.68 51.84 L1261.57 51.84 L1261.57 44.4905 Z\" fill=\"#000000\" fill-rule=\"nonzero\" fill-opacity=\"1\" /><path clip-path=\"url(#clip690)\" d=\"M1292.91 12.4884 Q1288.4 12.4884 1286.11 16.9444 Q1283.85 21.3714 1283.85 30.2834 Q1283.85 39.1665 1286.11 43.6225 Q1288.4 48.0495 1292.91 48.0495 Q1297.45 48.0495 1299.71 43.6225 Q1302 39.1665 1302 30.2834 Q1302 21.3714 1299.71 16.9444 Q1297.45 12.4884 1292.91 12.4884 M1292.91 7.85875 Q1300.17 7.85875 1303.99 13.6168 Q1307.84 19.346 1307.84 30.2834 Q1307.84 41.1919 1303.99 46.95 Q1300.17 52.6791 1292.91 52.6791 Q1285.65 52.6791 1281.8 46.95 Q1277.98 41.1919 1277.98 30.2834 Q1277.98 19.346 1281.8 13.6168 Q1285.65 7.85875 1292.91 7.85875 Z\" fill=\"#000000\" fill-rule=\"nonzero\" fill-opacity=\"1\" /><g clip-path=\"url(#clip693)\">\n",
       "<image width=\"504\" height=\"504\" xlink:href=\"data:image/png;base64,\n",
       "iVBORw0KGgoAAAANSUhEUgAAAfgAAAH4CAYAAACmKP9/AAAMIklEQVR4nO3du5UctxZA0dJb8hWB\n",
       "DCbHoJSeEpBMWXwGNYtcw2GrP/UBDvZOYMYBTl0UuvuXv/759GUDAFL+d/U/AADsT+ABIEjgASBI\n",
       "4AEgSOABIEjgASBI4AEgSOABIEjgASBI4AEgSOABIEjgASBI4AEgSOABIEjgASBI4AEgSOABIEjg\n",
       "ASBI4AEgSOABIEjgASBI4AEgSOABIEjgASBI4AEgSOABIEjgASBI4AEgSOABIEjgASBI4AEgSOAB\n",
       "IEjgASBI4AEgSOABIEjgASBI4AEgSOABIEjgASBI4AEgSOABIEjgASBI4AEgSOABIEjgASBI4AEg\n",
       "SOABIEjgASBI4AEgSOABIEjgASBI4AEgSOABIEjgASBI4AEgSOABIEjgASBI4AEgSOABIEjgASBI\n",
       "4AEgSOABIEjgASBI4AEgSOABIEjgASBI4AEgSOABIEjgASBI4AEgSOABIEjgASBI4AEgSOABIEjg\n",
       "ASBI4AEgSOABIEjgASBI4AEgSOABIEjgASBI4AEgSOABIEjgASBI4AEgSOABIEjgASBI4AEgSOAB\n",
       "IEjgASBI4AEgSOABIEjgASBI4AEgSOABIEjgASBI4AEgSOABIEjgASBI4AEgSOABIEjgASBI4AEg\n",
       "SOABIEjgASBI4AEgSOABIEjgASBI4AEgSOABIEjgASBI4AEgSOABIEjgASBI4AEgSOABIEjgASBI\n",
       "4AEgSOABIEjgASBI4AEgSOABIEjgASBI4AEgSOABIEjgASBI4AEgSOABIOjXq/8BgFt+/+3zaX/r\n",
       "z7//OO1vwdF++eufT1+u/ieAtZwZ7aN4GGB0Ag/srhDwPXgI4EoCDzxNyJ8j/JzBJTsACDLBA3cx\n",
       "rR/LVM/eBB74kKBfT/R5hcADYj4JwecRAg8LEvQGwecWl+wAIMgEDwsxuXeZ5nlP4CFM0Ncl+Ag8\n",
       "BAk77wn+eryDB4AgEzxEmNp5hIm+T+BhcsLOK4S+S+BhQqLOEcS+ReBhIsLOWcR+fi7ZAUCQCR4G\n",
       "Z2rnaqb5OQk8DErYGY3Qz0XgYSCizizEfnwCD4MQd2Yk9ONyyQ4AgkzwcCFTOyWm+bEIPFxE3KkS\n",
       "+jEIPJxI1FmJ0F9L4OEk4s6qhP4aLtkBQJAJHk5geoevTPPnEXg4iKjDzwn98QQeDiDucB+hP47A\n",
       "w87EHR4n9PtzyQ4AggQedmR6h+dYO/tzRA8vsjHB/hzZv84EDy8QdziGtfU6Ezw8yQYE5zHRP84E\n",
       "DwBBJnh4kMkdrmGKf4zAwwPEHa4n9PcReLiTuMNYhP427+DhDuIO47EubxN4AAhyRA83mBBgDo7r\n",
       "fyTw8BPiDvMR+m8c0cMHxB3mZO1+I/AApIj8VwIPAEHewcM7nv6hZdX38gIP/xJ26Fox8o7oYRN3\n",
       "qFtxjQs8y1tx4cOKVlvrAg8AQQIPwDJ+/+3zMpO8S3YsbZWFDnysfPlO4FmSsANvqpF3RA8AQSZ4\n",
       "lmN6Bz5Sm+RN8ACw9R7+BZ6l1BYwsK/SHiHwLKO0cIHjVPYKgQeAIIEHgHcKX4jjFj15sy9S4Fqz\n",
       "3q43wQPADbMOCSZ40mZdmMCYZprmTfAAECTwZJnegb3NtK8IPAA8YJbIewdPziyLD5jb6O/jTfAA\n",
       "8ITRPysv8AAQJPCkjPw0DTSNuu8IPAC8aMTICzwZIy4wYB2j7UECDwA7GenincADQJDAkzDKEzPA\n",
       "to2xJwk8ABzg6sgLPAAE+apapnb1EzLAf7nqK21N8AAQJPAAcKCrPjon8EzL8Twwk7P3LIEHgJOc\n",
       "GXmBB4ATnRV5gQeAIIFnSt6/A9wm8ABwsjNu1gs8AFzkyMgLPNNxPA+UHLWnCTwABAk8AFzsiCle\n",
       "4AEgSOABYAB736z3c7FMw+U6YBV7/MSsCR4AggQeAAazx4mlwANAkMADwIBeneIFHgCC3KJnCm7Q\n",
       "Ayt75la9CR4AggQeAAb3zCmmwAPABB6NvMADQJDAA0CQwAPAJB45phd4AJjIvb86J/AMz2fgAR4n\n",
       "8AAQJPAAMKH/Ot0UeACY1K3ICzwABAk8AEzsZ1O8wANAkMADwOQ++my8wANAkMADQMT3U7zAA0CQ\n",
       "wANAkMADQMjbMb3AA0CQwANAkMADQMiff/+xbZvAA0CSwANAkMADQMTb8fy2CTwAJP169T8AALzm\n",
       "+8n9jQkeAIIEHgAm9tH0vm0CDwBJAg8Ak/rZ9L5tAg8AU7oV920TeABIEniG919PqQD8yOfgAWAi\n",
       "9w49JngAmMQjJ5oCDwBBAg8AQQIPABN49MKxwAPA4J75NJHAA0DQL3/98+nL1f8E3OP33z5f/S8A\n",
       "nOqV7wExwQNAkMADwIBe/RZPgQeAIIEHgMHs8RscAg8AQW7RMx236YGyvX5B06/JAcAA9v5pbEf0\n",
       "ABAk8ABwsb2n920TeABIEnimc8STLsBVjtrTBB4ALnLkwOIWPQCc7IyTSBM8U3JMD3CbwANAkMAD\n",
       "wInOOoEUeAA4yZmvFwWeaXkPD8zk7D3LLXoAONBVw4gJHgCC/FwsCX5CFhjRla8STfAAECTwAHCA\n",
       "qy8CCzwJVy8kgO+NsCcJPAAE+ZgcAOxkhMn9jQmejJEWFrCe0fYggQeAF40W920TeGJGXGRA26j7\n",
       "jsADQJBLdgDwhFEn9ze+qpYsX18LHGX0uG+bI3oAeMgMcd82gSdslkUIzGOmfUXgASDIO3jyvIsH\n",
       "XjXT5P7GBA8AN8wY920zwbMQkzzwqFnjvm0+Bw8AP5g57G8c0QNAkMCzjMITOXC8yl4h8CylsnCB\n",
       "Y5T2CIEHgK0V921zi55FuVEPvKmF/Y0JHgCCTPAszSQPa6tO79sm8CDysKBy2N/4ohsAlrFC2N94\n",
       "Bw8AQQLP8lZ6ooeVrbbWBR629RY+rGbFNe6SHbzj0h20rBj3bRN4+JDIw9xWjfr3HNEDQJDAA5Bi\n",
       "ev9K4OEDNgiYk7X7jXfwcIN38TAHYf+RwMMdhB7GJOw/54geAIIEHu5gSoDxWJe3OaKHBziqh+sJ\n",
       "+30EHh4k8nANYX+MwMOThB7OI+6P8w4eAIJM8PACUzwcx9T+GhM8vMAGBMewtl5ngocdmejheaK+\n",
       "LxM87MgGBc+xdvYn8AAQ5IgeDuCoHu5jcj+OwMNBRB5+TtiPJ/BwArGHr4T9PAIPJxF5ViXq13DJ\n",
       "DgCCTPBwIlM8KzG5X0vg4SJiT5Wwj0Hg4UIiT4mwj0XgYRBiz4xEfVwu2QFAkAkeBmKKZxYm9/EJ\n",
       "PAxK7BmNqM9F4GFwQs/VhH1OAg8TEXvOIurzc8kOAIJM8DAhkzxHMLW3CDxMTux5hah3CTxECD2P\n",
       "EPY+gYcgsec9QV+PS3YAEGSChzCT/LpM7Ag8LETwuwSd9wQeFiT0DaLOLd7BA0CQCR4w0U/CxM4j\n",
       "BB74kOhfT9B5hcADdxH8Y4k5exN44Gmi/xwx5wwu2QFAkAke2J3J/iuTOlcSeOB0hQcA8WZ0Ag8M\n",
       "7cyHAdGmROABIMglOwAIEngACBJ4AAgSeAAIEngACBJ4AAgSeAAIEngACBJ4AAgSeAAIEngACBJ4\n",
       "AAgSeAAIEngACBJ4AAgSeAAIEngACBJ4AAgSeAAIEngACBJ4AAgSeAAIEngACBJ4AAgSeAAIEngA\n",
       "CBJ4AAgSeAAIEngACBJ4AAgSeAAIEngACBJ4AAgSeAAIEngACBJ4AAgSeAAIEngACBJ4AAgSeAAI\n",
       "EngACBJ4AAgSeAAIEngACBJ4AAgSeAAIEngACBJ4AAgSeAAIEngACBJ4AAgSeAAIEngACBJ4AAgS\n",
       "eAAIEngACBJ4AAgSeAAIEngACBJ4AAgSeAAIEngACBJ4AAgSeAAIEngACBJ4AAgSeAAIEngACBJ4\n",
       "AAgSeAAIEngACBJ4AAgSeAAIEngACBJ4AAgSeAAIEngACBJ4AAgSeAAIEngACBJ4AAgSeAAIEngA\n",
       "CBJ4AAgSeAAIEngACBJ4AAgSeAAIEngACBJ4AAgSeAAIEngACBJ4AAgSeAAIEngACBJ4AAgSeAAI\n",
       "EngACBJ4AAgSeAAIEngACBJ4AAgSeAAIEngACBJ4AAgSeAAIEngACBJ4AAgSeAAIEngACBJ4AAgS\n",
       "eAAIEngACBJ4AAgSeAAIEngACBJ4AAgSeAAIEngACBJ4AAgSeAAIEngACBJ4AAgSeAAIEngACBJ4\n",
       "AAgSeAAI+j/q2tYVB5MlEQAAAABJRU5ErkJggg==\n",
       "\" transform=\"translate(949, 86)\"/>\n",
       "</g>\n",
       "<polyline clip-path=\"url(#clip693)\" style=\"stroke:#e26f46; stroke-linecap:round; stroke-linejoin:round; stroke-width:4; stroke-opacity:1; fill:none\" points=\"1452.76,338.069 1452.74,335.555 1452.71,333.041 1452.64,330.528 1452.55,328.015 1452.44,325.504 1452.3,322.993 1452.14,320.484 1451.95,317.977 1451.74,315.472 1451.5,312.97 1451.24,310.469 1450.95,307.972 1450.63,305.477 1450.3,302.986 1449.93,300.499 1449.54,298.015 1449.13,295.535 1448.69,293.059 1448.23,290.588 1447.74,288.121 1447.23,285.66 1446.7,283.204 1446.14,280.753 1445.55,278.308 1444.94,275.869 1444.31,273.436 1443.65,271.01 1442.96,268.59 1442.26,266.178 1441.53,263.772 1440.77,261.374 1439.99,258.984 1439.19,256.601 1438.36,254.227 1437.51,251.861 1436.64,249.504 1435.74,247.155 1434.82,244.816 1433.88,242.486 1432.91,240.165 1431.92,237.854 1430.91,235.554 1429.87,233.263 1428.81,230.983 1427.73,228.714 1426.62,226.456 1425.5,224.209 1424.35,221.973 1423.17,219.749 1421.98,217.536 1420.76,215.336 1419.52,213.148 1418.26,210.973 1416.98,208.81 1415.68,206.66 1414.35,204.523 1413.01,202.4 1411.64,200.29 1410.25,198.194 1408.84,196.112 1407.41,194.044 1405.96,191.991 1404.49,189.952 1403,187.928 1401.49,185.919 1399.96,183.925 1398.41,181.947 1396.84,179.984 1395.24,178.037 1393.63,176.106 1392.01,174.191 1390.36,172.293 1388.69,170.411 1387,168.546 1385.3,166.698 1383.58,164.867 1381.84,163.053 1380.08,161.257 1378.3,159.479 1376.5,157.718 1374.69,155.976 1372.86,154.251 1371.02,152.546 1369.15,150.858 1367.27,149.189 1365.38,147.54 1363.46,145.909 1361.53,144.297 1359.59,142.705 1357.62,141.133 1355.65,139.58 1353.66,138.047 1351.65,136.534 1349.62,135.041 1347.59,133.568 1345.53,132.116 1343.47,130.684 1341.39,129.273 1339.29,127.884 1337.18,126.515 1335.06,125.167 1332.93,123.84 1330.78,122.535 1328.61,121.252 1326.44,119.99 1324.25,118.75 1322.05,117.532 1319.84,116.336 1317.62,115.162 1315.38,114.01 1313.14,112.881 1310.88,111.775 1308.61,110.691 1306.33,109.629 1304.04,108.591 1301.74,107.575 1299.43,106.583 1297.11,105.614 1294.78,104.668 1292.45,103.745 1290.1,102.846 1287.74,101.97 1285.38,101.118 1283,100.289 1280.62,99.4846 1278.23,98.7038 1275.83,97.9469 1273.43,97.2141 1271.02,96.5053 1268.6,95.8207 1266.17,95.1603 1263.74,94.5242 1261.3,93.9124 1258.86,93.3251 1256.41,92.7622 1253.95,92.2239 1251.49,91.7102 1249.02,91.221 1246.55,90.7566 1244.08,90.3169 1241.6,89.902 1239.11,89.5119 1236.63,89.1467 1234.14,88.8063 1231.64,88.4909 1229.14,88.2004 1226.64,87.9349 1224.14,87.6944 1221.64,87.479 1219.13,87.2886 1216.62,87.1233 1214.11,86.9831 1211.6,86.868 1209.09,86.7781 1206.57,86.7132 1204.06,86.6735 1201.55,86.6589 1199.03,86.6695 1196.52,86.7052 1194,86.766 1191.49,86.852 1188.98,86.9631 1186.47,87.0993 1183.96,87.2606 1181.45,87.447 1178.95,87.6585 1176.45,87.8949 1173.95,88.1564 1171.45,88.4429 1168.95,88.7544 1166.46,89.0908 1163.97,89.4521 1161.49,89.8382 1159.01,90.2492 1156.53,90.6849 1154.06,91.1454 1151.59,91.6306 1149.13,92.1404 1146.68,92.6749 1144.23,93.2338 1141.78,93.8173 1139.34,94.4251 1136.91,95.0573 1134.48,95.7139 1132.06,96.3946 1129.65,97.0996 1127.24,97.8286 1124.84,98.5817 1122.45,99.3587 1120.07,100.16 1117.69,100.984 1115.33,101.833 1112.97,102.705 1110.62,103.6 1108.28,104.519 1105.95,105.461 1103.63,106.427 1101.32,107.416 1099.01,108.428 1096.72,109.462 1094.44,110.52 1092.17,111.6 1089.91,112.703 1087.66,113.829 1085.43,114.977 1083.2,116.147 1080.99,117.34 1078.79,118.554 1076.6,119.791 1074.42,121.049 1072.26,122.329 1070.11,123.631 1067.97,124.954 1065.85,126.299 1063.73,127.664 1061.64,129.051 1059.55,130.458 1057.49,131.887 1055.43,133.335 1053.39,134.805 1051.37,136.294 1049.36,137.804 1047.36,139.334 1045.38,140.884 1043.42,142.453 1041.47,144.042 1039.54,145.651 1037.62,147.279 1035.72,148.925 1033.84,150.591 1031.97,152.276 1030.12,153.979 1028.29,155.7 1026.47,157.44 1024.68,159.197 1022.9,160.973 1021.14,162.766 1019.39,164.577 1017.67,166.405 1015.96,168.251 1014.27,170.113 1012.6,171.992 1010.95,173.888 1009.32,175.8 1007.7,177.728 1006.11,179.673 1004.53,181.633 1002.98,183.609 1001.45,185.6 999.93,187.607 998.436,189.629 996.962,191.665 995.508,193.716 994.075,195.782 992.662,197.862 991.271,199.955 989.9,202.063 988.551,204.184 987.222,206.319 985.916,208.467 984.63,210.627 983.367,212.801 982.125,214.987 980.905,217.185 979.707,219.396 978.532,221.618 977.378,223.852 976.247,226.097 975.139,228.354 974.053,230.621 972.99,232.9 971.95,235.188 970.933,237.487 969.938,239.796 968.967,242.115 968.019,244.444 967.095,246.782 966.194,249.129 965.316,251.485 964.462,253.849 963.632,256.222 962.825,258.604 962.042,260.993 961.283,263.39 960.549,265.794 959.838,268.206 959.151,270.624 958.489,273.049 957.851,275.481 957.237,277.919 956.648,280.363 956.083,282.813 955.543,285.268 955.027,287.729 954.536,290.195 954.07,292.665 953.628,295.14 953.211,297.619 952.819,300.103 952.452,302.59 952.11,305.08 951.792,307.574 951.5,310.071 951.232,312.571 950.99,315.074 950.772,317.578 950.58,320.085 950.413,322.594 950.271,325.104 950.153,327.615 950.061,330.127 949.995,332.641 949.953,335.154 949.936,337.668 949.945,340.182 949.979,342.696 950.037,345.21 950.121,347.722 950.231,350.234 950.365,352.745 950.524,355.254 950.708,357.761 950.918,360.266 951.152,362.769 951.412,365.27 951.696,367.768 952.006,370.263 952.34,372.755 952.7,375.243 953.084,377.728 953.493,380.208 953.926,382.685 954.385,385.157 954.868,387.624 955.376,390.086 955.909,392.543 956.466,394.995 957.047,397.441 957.653,399.881 958.283,402.314 958.938,404.742 959.617,407.162 960.32,409.576 961.047,411.983 961.798,414.382 962.573,416.774 963.372,419.158 964.195,421.533 965.041,423.9 965.911,426.259 966.805,428.609 967.722,430.95 968.663,433.281 969.626,435.604 970.613,437.916 971.623,440.218 972.656,442.51 973.712,444.792 974.791,447.063 975.892,449.323 977.016,451.572 978.162,453.809 979.331,456.035 980.521,458.25 981.734,460.452 982.969,462.642 984.226,464.819 985.504,466.984 986.804,469.136 988.125,471.275 989.468,473.4 990.832,475.512 992.217,477.611 993.623,479.695 995.049,481.765 996.496,483.821 997.964,485.862 999.452,487.888 1000.96,489.9 1002.49,491.896 1004.04,493.877 1005.6,495.842 1007.19,497.792 1008.8,499.725 1010.43,501.642 1012.07,503.543 1013.73,505.428 1015.42,507.296 1017.12,509.146 1018.84,510.98 1020.58,512.796 1022.33,514.595 1024.11,516.377 1025.9,518.14 1027.71,519.885 1029.54,521.613 1031.38,523.322 1033.24,525.012 1035.12,526.684 1037.01,528.336 1038.92,529.97 1040.85,531.585 1042.79,533.18 1044.75,534.756 1046.73,536.312 1048.72,537.848 1050.72,539.364 1052.74,540.861 1054.78,542.336 1056.83,543.792 1058.89,545.227 1060.97,546.641 1063.07,548.034 1065.17,549.406 1067.29,550.758 1069.43,552.087 1071.57,553.396 1073.73,554.683 1075.9,555.948 1078.09,557.192 1080.29,558.413 1082.5,559.613 1084.72,560.79 1086.95,561.945 1089.2,563.078 1091.45,564.188 1093.72,565.276 1095.99,566.341 1098.28,567.383 1100.58,568.402 1102.89,569.398 1105.21,570.371 1107.54,571.321 1109.87,572.247 1112.22,573.15 1114.57,574.03 1116.94,574.886 1119.31,575.718 1121.69,576.526 1124.08,577.311 1126.48,578.072 1128.88,578.808 1131.29,579.521 1133.71,580.21 1136.13,580.874 1138.56,581.514 1141,582.129 1143.45,582.721 1145.89,583.287 1148.35,583.83 1150.81,584.347 1153.28,584.84 1155.75,585.309 1158.22,585.752 1160.7,586.171 1163.18,586.565 1165.67,586.934 1168.16,587.279 1170.65,587.598 1173.15,587.893 1175.65,588.162 1178.15,588.407 1180.66,588.626 1183.16,588.82 1185.67,588.99 1188.18,589.134 1190.69,589.253 1193.2,589.347 1195.72,589.416 1198.23,589.459 1200.75,589.478 1203.26,589.471 1205.77,589.44 1208.29,589.383 1210.8,589.301 1213.31,589.194 1215.82,589.062 1218.33,588.904 1220.84,588.722 1223.34,588.514 1225.85,588.282 1228.35,588.024 1230.85,587.742 1233.34,587.434 1235.83,587.102 1238.32,586.745 1240.81,586.363 1243.29,585.956 1245.76,585.524 1248.24,585.067 1250.7,584.586 1253.17,584.08 1255.62,583.55 1258.08,582.994 1260.52,582.415 1262.96,581.811 1265.4,581.183 1267.83,580.53 1270.25,579.853 1272.66,579.152 1275.07,578.427 1277.47,577.677 1279.86,576.904 1282.25,576.107 1284.62,575.286 1286.99,574.442 1289.35,573.573 1291.7,572.682 1294.04,571.766 1296.37,570.828 1298.7,569.866 1301.01,568.881 1303.31,567.873 1305.61,566.842 1307.89,565.788 1310.16,564.711 1312.42,563.611 1314.67,562.489 1316.91,561.345 1319.14,560.178 1321.35,558.989 1323.55,557.778 1325.74,556.545 1327.92,555.29 1330.09,554.013 1332.24,552.715 1334.38,551.396 1336.51,550.055 1338.62,548.692 1340.72,547.309 1342.81,545.905 1344.88,544.48 1346.93,543.034 1348.98,541.568 1351,540.082 1353.02,538.575 1355.01,537.048 1357,535.502 1358.96,533.935 1360.91,532.349 1362.85,530.744 1364.77,529.119 1366.67,527.476 1368.56,525.813 1370.42,524.132 1372.28,522.432 1374.11,520.713 1375.93,518.976 1377.73,517.221 1379.51,515.449 1381.28,513.658 1383.02,511.85 1384.75,510.025 1386.46,508.182 1388.16,506.322 1389.83,504.446 1391.48,502.553 1393.12,500.643 1394.73,498.717 1396.33,496.776 1397.91,494.818 1399.47,492.844 1401,490.855 1402.52,488.851 1404.02,486.832 1405.5,484.798 1406.95,482.749 1408.39,480.686 1409.81,478.608 1411.2,476.517 1412.58,474.411 1413.93,472.292 1415.26,470.16 1416.57,468.014 1417.86,465.855 1419.13,463.684 1420.37,461.5 1421.59,459.303 1422.8,457.095 1423.97,454.874 1425.13,452.642 1426.27,450.399 1427.38,448.144 1428.47,445.878 1429.53,443.602 1430.58,441.315 1431.6,439.017 1432.6,436.71 1433.57,434.392 1434.52,432.065 1435.45,429.729 1436.36,427.383 1437.24,425.029 1438.1,422.665 1438.93,420.294 1439.74,417.914 1440.53,415.526 1441.29,413.13 1442.03,410.727 1442.74,408.317 1443.43,405.899 1444.1,403.475 1444.74,401.044 1445.36,398.607 1445.95,396.164 1446.52,393.715 1447.06,391.261 1447.58,388.801 1448.08,386.336 1448.55,383.866 1449,381.392 1449.42,378.913 1449.81,376.431 1450.18,373.944 1450.53,371.454 1450.85,368.961 1451.15,366.464 1451.42,363.965 1451.67,361.463 1451.89,358.958 1452.08,356.452 1452.25,353.944 1452.4,351.434 1452.52,348.923 1452.62,346.41 1452.69,343.897 1452.73,341.384 1452.75,338.87 \"/>\n",
       "<path clip-path=\"url(#clip690)\" d=\"M1699.94 589.479 L2202.76 589.479 L2202.76 86.6588 L1699.94 86.6588  Z\" fill=\"#ffffff\" fill-rule=\"evenodd\" fill-opacity=\"1\"/>\n",
       "<defs>\n",
       "  <clipPath id=\"clip694\">\n",
       "    <rect x=\"1699\" y=\"86\" width=\"504\" height=\"504\"/>\n",
       "  </clipPath>\n",
       "</defs>\n",
       "<polyline clip-path=\"url(#clip694)\" style=\"stroke:#000000; stroke-linecap:round; stroke-linejoin:round; stroke-width:2; stroke-opacity:0.1; fill:none\" points=\"1699.94,589.479 1699.94,86.6588 \"/>\n",
       "<polyline clip-path=\"url(#clip694)\" style=\"stroke:#000000; stroke-linecap:round; stroke-linejoin:round; stroke-width:2; stroke-opacity:0.1; fill:none\" points=\"1825.64,589.479 1825.64,86.6588 \"/>\n",
       "<polyline clip-path=\"url(#clip694)\" style=\"stroke:#000000; stroke-linecap:round; stroke-linejoin:round; stroke-width:2; stroke-opacity:0.1; fill:none\" points=\"1951.35,589.479 1951.35,86.6588 \"/>\n",
       "<polyline clip-path=\"url(#clip694)\" style=\"stroke:#000000; stroke-linecap:round; stroke-linejoin:round; stroke-width:2; stroke-opacity:0.1; fill:none\" points=\"2077.05,589.479 2077.05,86.6588 \"/>\n",
       "<polyline clip-path=\"url(#clip694)\" style=\"stroke:#000000; stroke-linecap:round; stroke-linejoin:round; stroke-width:2; stroke-opacity:0.1; fill:none\" points=\"2202.76,589.479 2202.76,86.6588 \"/>\n",
       "<polyline clip-path=\"url(#clip690)\" style=\"stroke:#000000; stroke-linecap:round; stroke-linejoin:round; stroke-width:4; stroke-opacity:1; fill:none\" points=\"1699.94,589.479 2202.76,589.479 \"/>\n",
       "<polyline clip-path=\"url(#clip690)\" style=\"stroke:#000000; stroke-linecap:round; stroke-linejoin:round; stroke-width:4; stroke-opacity:1; fill:none\" points=\"1699.94,589.479 1699.94,571.233 \"/>\n",
       "<polyline clip-path=\"url(#clip690)\" style=\"stroke:#000000; stroke-linecap:round; stroke-linejoin:round; stroke-width:4; stroke-opacity:1; fill:none\" points=\"1825.64,589.479 1825.64,571.233 \"/>\n",
       "<polyline clip-path=\"url(#clip690)\" style=\"stroke:#000000; stroke-linecap:round; stroke-linejoin:round; stroke-width:4; stroke-opacity:1; fill:none\" points=\"1951.35,589.479 1951.35,571.233 \"/>\n",
       "<polyline clip-path=\"url(#clip690)\" style=\"stroke:#000000; stroke-linecap:round; stroke-linejoin:round; stroke-width:4; stroke-opacity:1; fill:none\" points=\"2077.05,589.479 2077.05,571.233 \"/>\n",
       "<polyline clip-path=\"url(#clip690)\" style=\"stroke:#000000; stroke-linecap:round; stroke-linejoin:round; stroke-width:4; stroke-opacity:1; fill:none\" points=\"2202.76,589.479 2202.76,571.233 \"/>\n",
       "<path clip-path=\"url(#clip690)\" d=\"M1646.46 639.85 L1676.14 639.85 L1676.14 643.785 L1646.46 643.785 L1646.46 639.85 Z\" fill=\"#000000\" fill-rule=\"nonzero\" fill-opacity=\"1\" /><path clip-path=\"url(#clip690)\" d=\"M1687.04 652.744 L1694.68 652.744 L1694.68 626.378 L1686.37 628.045 L1686.37 623.785 L1694.64 622.119 L1699.31 622.119 L1699.31 652.744 L1706.95 652.744 L1706.95 656.679 L1687.04 656.679 L1687.04 652.744 Z\" fill=\"#000000\" fill-rule=\"nonzero\" fill-opacity=\"1\" /><path clip-path=\"url(#clip690)\" d=\"M1716.39 650.799 L1721.28 650.799 L1721.28 656.679 L1716.39 656.679 L1716.39 650.799 Z\" fill=\"#000000\" fill-rule=\"nonzero\" fill-opacity=\"1\" /><path clip-path=\"url(#clip690)\" d=\"M1741.46 625.197 Q1737.85 625.197 1736.02 628.762 Q1734.22 632.304 1734.22 639.433 Q1734.22 646.54 1736.02 650.105 Q1737.85 653.646 1741.46 653.646 Q1745.1 653.646 1746.9 650.105 Q1748.73 646.54 1748.73 639.433 Q1748.73 632.304 1746.9 628.762 Q1745.1 625.197 1741.46 625.197 M1741.46 621.494 Q1747.27 621.494 1750.33 626.1 Q1753.41 630.684 1753.41 639.433 Q1753.41 648.16 1750.33 652.767 Q1747.27 657.35 1741.46 657.35 Q1735.65 657.35 1732.57 652.767 Q1729.52 648.16 1729.52 639.433 Q1729.52 630.684 1732.57 626.1 Q1735.65 621.494 1741.46 621.494 Z\" fill=\"#000000\" fill-rule=\"nonzero\" fill-opacity=\"1\" /><path clip-path=\"url(#clip690)\" d=\"M1772.67 639.85 L1802.34 639.85 L1802.34 643.785 L1772.67 643.785 L1772.67 639.85 Z\" fill=\"#000000\" fill-rule=\"nonzero\" fill-opacity=\"1\" /><path clip-path=\"url(#clip690)\" d=\"M1822.43 625.197 Q1818.82 625.197 1817 628.762 Q1815.19 632.304 1815.19 639.433 Q1815.19 646.54 1817 650.105 Q1818.82 653.646 1822.43 653.646 Q1826.07 653.646 1827.87 650.105 Q1829.7 646.54 1829.7 639.433 Q1829.7 632.304 1827.87 628.762 Q1826.07 625.197 1822.43 625.197 M1822.43 621.494 Q1828.25 621.494 1831.3 626.1 Q1834.38 630.684 1834.38 639.433 Q1834.38 648.16 1831.3 652.767 Q1828.25 657.35 1822.43 657.35 Q1816.62 657.35 1813.55 652.767 Q1810.49 648.16 1810.49 639.433 Q1810.49 630.684 1813.55 626.1 Q1816.62 621.494 1822.43 621.494 Z\" fill=\"#000000\" fill-rule=\"nonzero\" fill-opacity=\"1\" /><path clip-path=\"url(#clip690)\" d=\"M1842.6 650.799 L1847.48 650.799 L1847.48 656.679 L1842.6 656.679 L1842.6 650.799 Z\" fill=\"#000000\" fill-rule=\"nonzero\" fill-opacity=\"1\" /><path clip-path=\"url(#clip690)\" d=\"M1857.71 622.119 L1876.07 622.119 L1876.07 626.054 L1861.99 626.054 L1861.99 634.526 Q1863.01 634.179 1864.03 634.017 Q1865.05 633.832 1866.07 633.832 Q1871.86 633.832 1875.24 637.003 Q1878.62 640.174 1878.62 645.591 Q1878.62 651.17 1875.14 654.271 Q1871.67 657.35 1865.35 657.35 Q1863.18 657.35 1860.91 656.98 Q1858.66 656.609 1856.25 655.869 L1856.25 651.17 Q1858.34 652.304 1860.56 652.859 Q1862.78 653.415 1865.26 653.415 Q1869.26 653.415 1871.6 651.308 Q1873.94 649.202 1873.94 645.591 Q1873.94 641.98 1871.6 639.873 Q1869.26 637.767 1865.26 637.767 Q1863.38 637.767 1861.51 638.183 Q1859.66 638.6 1857.71 639.48 L1857.71 622.119 Z\" fill=\"#000000\" fill-rule=\"nonzero\" fill-opacity=\"1\" /><path clip-path=\"url(#clip690)\" d=\"M1928.73 625.197 Q1925.12 625.197 1923.29 628.762 Q1921.49 632.304 1921.49 639.433 Q1921.49 646.54 1923.29 650.105 Q1925.12 653.646 1928.73 653.646 Q1932.36 653.646 1934.17 650.105 Q1936 646.54 1936 639.433 Q1936 632.304 1934.17 628.762 Q1932.36 625.197 1928.73 625.197 M1928.73 621.494 Q1934.54 621.494 1937.6 626.1 Q1940.67 630.684 1940.67 639.433 Q1940.67 648.16 1937.6 652.767 Q1934.54 657.35 1928.73 657.35 Q1922.92 657.35 1919.84 652.767 Q1916.79 648.16 1916.79 639.433 Q1916.79 630.684 1919.84 626.1 Q1922.92 621.494 1928.73 621.494 Z\" fill=\"#000000\" fill-rule=\"nonzero\" fill-opacity=\"1\" /><path clip-path=\"url(#clip690)\" d=\"M1948.89 650.799 L1953.78 650.799 L1953.78 656.679 L1948.89 656.679 L1948.89 650.799 Z\" fill=\"#000000\" fill-rule=\"nonzero\" fill-opacity=\"1\" /><path clip-path=\"url(#clip690)\" d=\"M1973.96 625.197 Q1970.35 625.197 1968.52 628.762 Q1966.72 632.304 1966.72 639.433 Q1966.72 646.54 1968.52 650.105 Q1970.35 653.646 1973.96 653.646 Q1977.6 653.646 1979.4 650.105 Q1981.23 646.54 1981.23 639.433 Q1981.23 632.304 1979.4 628.762 Q1977.6 625.197 1973.96 625.197 M1973.96 621.494 Q1979.77 621.494 1982.83 626.1 Q1985.91 630.684 1985.91 639.433 Q1985.91 648.16 1982.83 652.767 Q1979.77 657.35 1973.96 657.35 Q1968.15 657.35 1965.07 652.767 Q1962.02 648.16 1962.02 639.433 Q1962.02 630.684 1965.07 626.1 Q1968.15 621.494 1973.96 621.494 Z\" fill=\"#000000\" fill-rule=\"nonzero\" fill-opacity=\"1\" /><path clip-path=\"url(#clip690)\" d=\"M2054.93 625.197 Q2051.32 625.197 2049.49 628.762 Q2047.69 632.304 2047.69 639.433 Q2047.69 646.54 2049.49 650.105 Q2051.32 653.646 2054.93 653.646 Q2058.57 653.646 2060.37 650.105 Q2062.2 646.54 2062.2 639.433 Q2062.2 632.304 2060.37 628.762 Q2058.57 625.197 2054.93 625.197 M2054.93 621.494 Q2060.74 621.494 2063.8 626.1 Q2066.88 630.684 2066.88 639.433 Q2066.88 648.16 2063.8 652.767 Q2060.74 657.35 2054.93 657.35 Q2049.12 657.35 2046.04 652.767 Q2042.99 648.16 2042.99 639.433 Q2042.99 630.684 2046.04 626.1 Q2049.12 621.494 2054.93 621.494 Z\" fill=\"#000000\" fill-rule=\"nonzero\" fill-opacity=\"1\" /><path clip-path=\"url(#clip690)\" d=\"M2075.09 650.799 L2079.98 650.799 L2079.98 656.679 L2075.09 656.679 L2075.09 650.799 Z\" fill=\"#000000\" fill-rule=\"nonzero\" fill-opacity=\"1\" /><path clip-path=\"url(#clip690)\" d=\"M2090.21 622.119 L2108.57 622.119 L2108.57 626.054 L2094.49 626.054 L2094.49 634.526 Q2095.51 634.179 2096.53 634.017 Q2097.55 633.832 2098.57 633.832 Q2104.35 633.832 2107.73 637.003 Q2111.11 640.174 2111.11 645.591 Q2111.11 651.17 2107.64 654.271 Q2104.17 657.35 2097.85 657.35 Q2095.67 657.35 2093.41 656.98 Q2091.16 656.609 2088.75 655.869 L2088.75 651.17 Q2090.84 652.304 2093.06 652.859 Q2095.28 653.415 2097.76 653.415 Q2101.76 653.415 2104.1 651.308 Q2106.44 649.202 2106.44 645.591 Q2106.44 641.98 2104.1 639.873 Q2101.76 637.767 2097.76 637.767 Q2095.88 637.767 2094.01 638.183 Q2092.16 638.6 2090.21 639.48 L2090.21 622.119 Z\" fill=\"#000000\" fill-rule=\"nonzero\" fill-opacity=\"1\" /><path clip-path=\"url(#clip690)\" d=\"M2169.91 652.744 L2177.55 652.744 L2177.55 626.378 L2169.24 628.045 L2169.24 623.785 L2177.5 622.119 L2182.18 622.119 L2182.18 652.744 L2189.82 652.744 L2189.82 656.679 L2169.91 656.679 L2169.91 652.744 Z\" fill=\"#000000\" fill-rule=\"nonzero\" fill-opacity=\"1\" /><path clip-path=\"url(#clip690)\" d=\"M2199.26 650.799 L2204.14 650.799 L2204.14 656.679 L2199.26 656.679 L2199.26 650.799 Z\" fill=\"#000000\" fill-rule=\"nonzero\" fill-opacity=\"1\" /><path clip-path=\"url(#clip690)\" d=\"M2224.33 625.197 Q2220.72 625.197 2218.89 628.762 Q2217.08 632.304 2217.08 639.433 Q2217.08 646.54 2218.89 650.105 Q2220.72 653.646 2224.33 653.646 Q2227.96 653.646 2229.77 650.105 Q2231.6 646.54 2231.6 639.433 Q2231.6 632.304 2229.77 628.762 Q2227.96 625.197 2224.33 625.197 M2224.33 621.494 Q2230.14 621.494 2233.2 626.1 Q2236.27 630.684 2236.27 639.433 Q2236.27 648.16 2233.2 652.767 Q2230.14 657.35 2224.33 657.35 Q2218.52 657.35 2215.44 652.767 Q2212.39 648.16 2212.39 639.433 Q2212.39 630.684 2215.44 626.1 Q2218.52 621.494 2224.33 621.494 Z\" fill=\"#000000\" fill-rule=\"nonzero\" fill-opacity=\"1\" /><polyline clip-path=\"url(#clip694)\" style=\"stroke:#000000; stroke-linecap:round; stroke-linejoin:round; stroke-width:2; stroke-opacity:0.1; fill:none\" points=\"1699.94,589.479 2202.76,589.479 \"/>\n",
       "<polyline clip-path=\"url(#clip694)\" style=\"stroke:#000000; stroke-linecap:round; stroke-linejoin:round; stroke-width:2; stroke-opacity:0.1; fill:none\" points=\"1699.94,463.774 2202.76,463.774 \"/>\n",
       "<polyline clip-path=\"url(#clip694)\" style=\"stroke:#000000; stroke-linecap:round; stroke-linejoin:round; stroke-width:2; stroke-opacity:0.1; fill:none\" points=\"1699.94,338.069 2202.76,338.069 \"/>\n",
       "<polyline clip-path=\"url(#clip694)\" style=\"stroke:#000000; stroke-linecap:round; stroke-linejoin:round; stroke-width:2; stroke-opacity:0.1; fill:none\" points=\"1699.94,212.364 2202.76,212.364 \"/>\n",
       "<polyline clip-path=\"url(#clip694)\" style=\"stroke:#000000; stroke-linecap:round; stroke-linejoin:round; stroke-width:2; stroke-opacity:0.1; fill:none\" points=\"1699.94,86.6588 2202.76,86.6588 \"/>\n",
       "<polyline clip-path=\"url(#clip690)\" style=\"stroke:#000000; stroke-linecap:round; stroke-linejoin:round; stroke-width:4; stroke-opacity:1; fill:none\" points=\"1699.94,589.479 1699.94,86.6588 \"/>\n",
       "<polyline clip-path=\"url(#clip690)\" style=\"stroke:#000000; stroke-linecap:round; stroke-linejoin:round; stroke-width:4; stroke-opacity:1; fill:none\" points=\"1699.94,589.479 1718.83,589.479 \"/>\n",
       "<polyline clip-path=\"url(#clip690)\" style=\"stroke:#000000; stroke-linecap:round; stroke-linejoin:round; stroke-width:4; stroke-opacity:1; fill:none\" points=\"1699.94,463.774 1718.83,463.774 \"/>\n",
       "<polyline clip-path=\"url(#clip690)\" style=\"stroke:#000000; stroke-linecap:round; stroke-linejoin:round; stroke-width:4; stroke-opacity:1; fill:none\" points=\"1699.94,338.069 1718.83,338.069 \"/>\n",
       "<polyline clip-path=\"url(#clip690)\" style=\"stroke:#000000; stroke-linecap:round; stroke-linejoin:round; stroke-width:4; stroke-opacity:1; fill:none\" points=\"1699.94,212.364 1718.83,212.364 \"/>\n",
       "<polyline clip-path=\"url(#clip690)\" style=\"stroke:#000000; stroke-linecap:round; stroke-linejoin:round; stroke-width:4; stroke-opacity:1; fill:none\" points=\"1699.94,86.6588 1718.83,86.6588 \"/>\n",
       "<path clip-path=\"url(#clip690)\" d=\"M1547.99 589.93 L1577.67 589.93 L1577.67 593.865 L1547.99 593.865 L1547.99 589.93 Z\" fill=\"#000000\" fill-rule=\"nonzero\" fill-opacity=\"1\" /><path clip-path=\"url(#clip690)\" d=\"M1588.57 602.824 L1596.21 602.824 L1596.21 576.458 L1587.9 578.125 L1587.9 573.865 L1596.16 572.199 L1600.84 572.199 L1600.84 602.824 L1608.48 602.824 L1608.48 606.759 L1588.57 606.759 L1588.57 602.824 Z\" fill=\"#000000\" fill-rule=\"nonzero\" fill-opacity=\"1\" /><path clip-path=\"url(#clip690)\" d=\"M1617.92 600.879 L1622.81 600.879 L1622.81 606.759 L1617.92 606.759 L1617.92 600.879 Z\" fill=\"#000000\" fill-rule=\"nonzero\" fill-opacity=\"1\" /><path clip-path=\"url(#clip690)\" d=\"M1642.99 575.277 Q1639.38 575.277 1637.55 578.842 Q1635.75 582.384 1635.75 589.513 Q1635.75 596.62 1637.55 600.185 Q1639.38 603.726 1642.99 603.726 Q1646.63 603.726 1648.43 600.185 Q1650.26 596.62 1650.26 589.513 Q1650.26 582.384 1648.43 578.842 Q1646.63 575.277 1642.99 575.277 M1642.99 571.574 Q1648.8 571.574 1651.86 576.18 Q1654.94 580.764 1654.94 589.513 Q1654.94 598.24 1651.86 602.847 Q1648.8 607.43 1642.99 607.43 Q1637.18 607.43 1634.1 602.847 Q1631.05 598.24 1631.05 589.513 Q1631.05 580.764 1634.1 576.18 Q1637.18 571.574 1642.99 571.574 Z\" fill=\"#000000\" fill-rule=\"nonzero\" fill-opacity=\"1\" /><path clip-path=\"url(#clip690)\" d=\"M1548.99 464.225 L1578.66 464.225 L1578.66 468.16 L1548.99 468.16 L1548.99 464.225 Z\" fill=\"#000000\" fill-rule=\"nonzero\" fill-opacity=\"1\" /><path clip-path=\"url(#clip690)\" d=\"M1598.76 449.572 Q1595.14 449.572 1593.32 453.137 Q1591.51 456.679 1591.51 463.808 Q1591.51 470.915 1593.32 474.48 Q1595.14 478.021 1598.76 478.021 Q1602.39 478.021 1604.2 474.48 Q1606.02 470.915 1606.02 463.808 Q1606.02 456.679 1604.2 453.137 Q1602.39 449.572 1598.76 449.572 M1598.76 445.869 Q1604.57 445.869 1607.62 450.475 Q1610.7 455.059 1610.7 463.808 Q1610.7 472.535 1607.62 477.142 Q1604.57 481.725 1598.76 481.725 Q1592.95 481.725 1589.87 477.142 Q1586.81 472.535 1586.81 463.808 Q1586.81 455.059 1589.87 450.475 Q1592.95 445.869 1598.76 445.869 Z\" fill=\"#000000\" fill-rule=\"nonzero\" fill-opacity=\"1\" /><path clip-path=\"url(#clip690)\" d=\"M1618.92 475.174 L1623.8 475.174 L1623.8 481.054 L1618.92 481.054 L1618.92 475.174 Z\" fill=\"#000000\" fill-rule=\"nonzero\" fill-opacity=\"1\" /><path clip-path=\"url(#clip690)\" d=\"M1634.03 446.494 L1652.39 446.494 L1652.39 450.429 L1638.32 450.429 L1638.32 458.901 Q1639.33 458.554 1640.35 458.392 Q1641.37 458.207 1642.39 458.207 Q1648.18 458.207 1651.56 461.378 Q1654.94 464.549 1654.94 469.966 Q1654.94 475.545 1651.46 478.646 Q1647.99 481.725 1641.67 481.725 Q1639.5 481.725 1637.23 481.355 Q1634.98 480.984 1632.58 480.244 L1632.58 475.545 Q1634.66 476.679 1636.88 477.234 Q1639.1 477.79 1641.58 477.79 Q1645.58 477.79 1647.92 475.683 Q1650.26 473.577 1650.26 469.966 Q1650.26 466.355 1647.92 464.248 Q1645.58 462.142 1641.58 462.142 Q1639.7 462.142 1637.83 462.559 Q1635.98 462.975 1634.03 463.855 L1634.03 446.494 Z\" fill=\"#000000\" fill-rule=\"nonzero\" fill-opacity=\"1\" /><path clip-path=\"url(#clip690)\" d=\"M1597.76 323.867 Q1594.15 323.867 1592.32 327.432 Q1590.52 330.974 1590.52 338.104 Q1590.52 345.21 1592.32 348.775 Q1594.15 352.316 1597.76 352.316 Q1601.39 352.316 1603.2 348.775 Q1605.03 345.21 1605.03 338.104 Q1605.03 330.974 1603.2 327.432 Q1601.39 323.867 1597.76 323.867 M1597.76 320.164 Q1603.57 320.164 1606.63 324.77 Q1609.7 329.354 1609.7 338.104 Q1609.7 346.83 1606.63 351.437 Q1603.57 356.02 1597.76 356.02 Q1591.95 356.02 1588.87 351.437 Q1585.82 346.83 1585.82 338.104 Q1585.82 329.354 1588.87 324.77 Q1591.95 320.164 1597.76 320.164 Z\" fill=\"#000000\" fill-rule=\"nonzero\" fill-opacity=\"1\" /><path clip-path=\"url(#clip690)\" d=\"M1617.92 349.469 L1622.81 349.469 L1622.81 355.349 L1617.92 355.349 L1617.92 349.469 Z\" fill=\"#000000\" fill-rule=\"nonzero\" fill-opacity=\"1\" /><path clip-path=\"url(#clip690)\" d=\"M1642.99 323.867 Q1639.38 323.867 1637.55 327.432 Q1635.75 330.974 1635.75 338.104 Q1635.75 345.21 1637.55 348.775 Q1639.38 352.316 1642.99 352.316 Q1646.63 352.316 1648.43 348.775 Q1650.26 345.21 1650.26 338.104 Q1650.26 330.974 1648.43 327.432 Q1646.63 323.867 1642.99 323.867 M1642.99 320.164 Q1648.8 320.164 1651.86 324.77 Q1654.94 329.354 1654.94 338.104 Q1654.94 346.83 1651.86 351.437 Q1648.8 356.02 1642.99 356.02 Q1637.18 356.02 1634.1 351.437 Q1631.05 346.83 1631.05 338.104 Q1631.05 329.354 1634.1 324.77 Q1637.18 320.164 1642.99 320.164 Z\" fill=\"#000000\" fill-rule=\"nonzero\" fill-opacity=\"1\" /><path clip-path=\"url(#clip690)\" d=\"M1598.76 198.163 Q1595.14 198.163 1593.32 201.727 Q1591.51 205.269 1591.51 212.399 Q1591.51 219.505 1593.32 223.07 Q1595.14 226.611 1598.76 226.611 Q1602.39 226.611 1604.2 223.07 Q1606.02 219.505 1606.02 212.399 Q1606.02 205.269 1604.2 201.727 Q1602.39 198.163 1598.76 198.163 M1598.76 194.459 Q1604.57 194.459 1607.62 199.065 Q1610.7 203.649 1610.7 212.399 Q1610.7 221.125 1607.62 225.732 Q1604.57 230.315 1598.76 230.315 Q1592.95 230.315 1589.87 225.732 Q1586.81 221.125 1586.81 212.399 Q1586.81 203.649 1589.87 199.065 Q1592.95 194.459 1598.76 194.459 Z\" fill=\"#000000\" fill-rule=\"nonzero\" fill-opacity=\"1\" /><path clip-path=\"url(#clip690)\" d=\"M1618.92 223.764 L1623.8 223.764 L1623.8 229.644 L1618.92 229.644 L1618.92 223.764 Z\" fill=\"#000000\" fill-rule=\"nonzero\" fill-opacity=\"1\" /><path clip-path=\"url(#clip690)\" d=\"M1634.03 195.084 L1652.39 195.084 L1652.39 199.019 L1638.32 199.019 L1638.32 207.491 Q1639.33 207.144 1640.35 206.982 Q1641.37 206.797 1642.39 206.797 Q1648.18 206.797 1651.56 209.968 Q1654.94 213.139 1654.94 218.556 Q1654.94 224.135 1651.46 227.236 Q1647.99 230.315 1641.67 230.315 Q1639.5 230.315 1637.23 229.945 Q1634.98 229.574 1632.58 228.834 L1632.58 224.135 Q1634.66 225.269 1636.88 225.824 Q1639.1 226.38 1641.58 226.38 Q1645.58 226.38 1647.92 224.273 Q1650.26 222.167 1650.26 218.556 Q1650.26 214.945 1647.92 212.838 Q1645.58 210.732 1641.58 210.732 Q1639.7 210.732 1637.83 211.149 Q1635.98 211.565 1634.03 212.445 L1634.03 195.084 Z\" fill=\"#000000\" fill-rule=\"nonzero\" fill-opacity=\"1\" /><path clip-path=\"url(#clip690)\" d=\"M1588.57 100.004 L1596.21 100.004 L1596.21 73.6381 L1587.9 75.3047 L1587.9 71.0455 L1596.16 69.3788 L1600.84 69.3788 L1600.84 100.004 L1608.48 100.004 L1608.48 103.939 L1588.57 103.939 L1588.57 100.004 Z\" fill=\"#000000\" fill-rule=\"nonzero\" fill-opacity=\"1\" /><path clip-path=\"url(#clip690)\" d=\"M1617.92 98.0592 L1622.81 98.0592 L1622.81 103.939 L1617.92 103.939 L1617.92 98.0592 Z\" fill=\"#000000\" fill-rule=\"nonzero\" fill-opacity=\"1\" /><path clip-path=\"url(#clip690)\" d=\"M1642.99 72.4575 Q1639.38 72.4575 1637.55 76.0223 Q1635.75 79.564 1635.75 86.6936 Q1635.75 93.8 1637.55 97.3648 Q1639.38 100.906 1642.99 100.906 Q1646.63 100.906 1648.43 97.3648 Q1650.26 93.8 1650.26 86.6936 Q1650.26 79.564 1648.43 76.0223 Q1646.63 72.4575 1642.99 72.4575 M1642.99 68.7538 Q1648.8 68.7538 1651.86 73.3603 Q1654.94 77.9436 1654.94 86.6936 Q1654.94 95.4204 1651.86 100.027 Q1648.8 104.61 1642.99 104.61 Q1637.18 104.61 1634.1 100.027 Q1631.05 95.4204 1631.05 86.6936 Q1631.05 77.9436 1634.1 73.3603 Q1637.18 68.7538 1642.99 68.7538 Z\" fill=\"#000000\" fill-rule=\"nonzero\" fill-opacity=\"1\" /><path clip-path=\"url(#clip690)\" d=\"M1865.34 31.5855 Q1867.22 32.222 1868.98 34.3054 Q1870.78 36.3887 1872.57 40.0345 L1878.5 51.84 L1872.22 51.84 L1866.7 40.7579 Q1864.56 36.4176 1862.53 34.9998 Q1860.53 33.582 1857.06 33.582 L1850.7 33.582 L1850.7 51.84 L1844.85 51.84 L1844.85 8.64 L1858.04 8.64 Q1865.45 8.64 1869.1 11.736 Q1872.74 14.8321 1872.74 21.0821 Q1872.74 25.1619 1870.83 27.8529 Q1868.95 30.5438 1865.34 31.5855 M1850.7 13.4432 L1850.7 28.7788 L1858.04 28.7788 Q1862.27 28.7788 1864.41 26.8401 Q1866.58 24.8726 1866.58 21.0821 Q1866.58 17.2916 1864.41 15.3819 Q1862.27 13.4432 1858.04 13.4432 L1850.7 13.4432 Z\" fill=\"#000000\" fill-rule=\"nonzero\" fill-opacity=\"1\" /><path clip-path=\"url(#clip690)\" d=\"M1905.32 24.9304 L1942.42 24.9304 L1942.42 29.7915 L1905.32 29.7915 L1905.32 24.9304 M1905.32 36.7359 L1942.42 36.7359 L1942.42 41.6549 L1905.32 41.6549 L1905.32 36.7359 Z\" fill=\"#000000\" fill-rule=\"nonzero\" fill-opacity=\"1\" /><path clip-path=\"url(#clip690)\" d=\"M1973.93 8.64 L1996.88 8.64 L1996.88 13.559 L1979.28 13.559 L1979.28 24.1492 Q1980.56 23.7152 1981.83 23.5126 Q1983.1 23.2811 1984.38 23.2811 Q1991.61 23.2811 1995.83 27.2452 Q2000.06 31.2093 2000.06 37.9801 Q2000.06 44.9535 1995.72 48.8308 Q1991.38 52.6791 1983.48 52.6791 Q1980.76 52.6791 1977.92 52.2162 Q1975.12 51.7532 1972.11 50.8273 L1972.11 44.9535 Q1974.71 46.3713 1977.49 47.0657 Q1980.27 47.7602 1983.36 47.7602 Q1988.37 47.7602 1991.29 45.1271 Q1994.21 42.494 1994.21 37.9801 Q1994.21 33.4663 1991.29 30.8332 Q1988.37 28.2001 1983.36 28.2001 Q1981.02 28.2001 1978.68 28.7209 Q1976.36 29.2417 1973.93 30.3413 L1973.93 8.64 Z\" fill=\"#000000\" fill-rule=\"nonzero\" fill-opacity=\"1\" /><path clip-path=\"url(#clip690)\" d=\"M2011.57 44.4905 L2017.68 44.4905 L2017.68 51.84 L2011.57 51.84 L2011.57 44.4905 Z\" fill=\"#000000\" fill-rule=\"nonzero\" fill-opacity=\"1\" /><path clip-path=\"url(#clip690)\" d=\"M2042.91 12.4884 Q2038.4 12.4884 2036.11 16.9444 Q2033.85 21.3714 2033.85 30.2834 Q2033.85 39.1665 2036.11 43.6225 Q2038.4 48.0495 2042.91 48.0495 Q2047.45 48.0495 2049.71 43.6225 Q2052 39.1665 2052 30.2834 Q2052 21.3714 2049.71 16.9444 Q2047.45 12.4884 2042.91 12.4884 M2042.91 7.85875 Q2050.17 7.85875 2053.99 13.6168 Q2057.84 19.346 2057.84 30.2834 Q2057.84 41.1919 2053.99 46.95 Q2050.17 52.6791 2042.91 52.6791 Q2035.65 52.6791 2031.8 46.95 Q2027.98 41.1919 2027.98 30.2834 Q2027.98 19.346 2031.8 13.6168 Q2035.65 7.85875 2042.91 7.85875 Z\" fill=\"#000000\" fill-rule=\"nonzero\" fill-opacity=\"1\" /><g clip-path=\"url(#clip694)\">\n",
       "<image width=\"504\" height=\"504\" xlink:href=\"data:image/png;base64,\n",
       "iVBORw0KGgoAAAANSUhEUgAAAfgAAAH4CAYAAACmKP9/AAANeElEQVR4nO3dQZITOxqFUdUL5qyA\n",
       "AZtjUWyPDcCQEW9AVz8oykXamZJ+XZ0z7oh2dNj51ZXV5unr948/GgAQ5Z/ZLwAAuJ7AA0AggQeA\n",
       "QAIPAIEEHgACCTwABBJ4AAgk8AAQSOABIJDAA0AggQeAQAIPAIEEHgACCTwABBJ4AAgk8AAQSOAB\n",
       "IJDAA0AggQeAQAIPAIEEHgACCTwABBJ4AAgk8AAQSOABIJDAA0AggQeAQAIPAIEEHgACCTwABBJ4\n",
       "AAgk8AAQSOABIJDAA0AggQeAQAIPAIEEHgACCTwABBJ4AAgk8AAQSOABIJDAA0AggQeAQAIPAIEE\n",
       "HgACCTwABBJ4AAgk8AAQSOABIJDAA0AggQeAQAIPAIEEHgACCTwABBJ4AAgk8AAQSOABIJDAA0Ag\n",
       "gQeAQAIPAIEEHgACvZv9AoCaPrz/NPsl/OHLt8+zXwIs4+nr948/Zr8IYIyK0e7FHwPszhE9AASy\n",
       "4CHITgv9DOueHQg8LEjI+/IHAAkEHooT8xpEn9UIPBQi5msRfSpzyQ4AAlnwMJHFnseqpwqBh0HE\n",
       "fE+CzywCD50IOq8RfEYReLiQqHMPsacnl+wAIJAFDydZ7VzFoudKAg93EnRGEHvOEng4SNiZRex5\n",
       "hMDDDYJORWLPUS7ZAUAgCx5esNxZiUXPLQIPTdRZn9DzksCzNWEnkdjTmsCzIVFnF0K/N5fsACCQ\n",
       "Bc82LHd2Zs3vR+CJJurwO6Hfh8ATR9ThGLHPJvBEEXe4n9BncskOAAJZ8ESw3OEa1nwOgWdZog59\n",
       "iHwGgWdJ4g5jiP26fAcPAIEseJZhtcM8lvx6LHiWIO4wl8/geix4SvNQgZos+voEnpKEHeoT+doc\n",
       "0QNAIAueUix3WJM1X48FTxniDuvy+a3Hgmc6DwbIYs3XIPBMI+yQTejnckQPAIEseKaw3mEflvwc\n",
       "As9Qwg57EvnxBJ5hxB0Q+nEEnu6EHXhJ6PtzyQ4AAlnwdGO5A39jyfdjwdOFuANHeFb0Y8FzOR9Y\n",
       "4BHW/LUEnkuJO3CW0F/DET0ABLLguYTlDlzJij/Pguc0cQeu5rlynsBzig8h0IvnyzmO6LmbDx0w\n",
       "miP7+1nwABDIgucu1jswkyV/nAXPYeIOzOY5dJwFz1/5QAEVWfNvs+ABWJLx8TaBB4BAAs+b/IUM\n",
       "VOYZdZvAc5MPDrACz6rXuWTHq3xggBW5ePcfgec3wg6sTuR/ckQPAIEEnv+z3oEEnmU/CTytNR8I\n",
       "IItnmu/gaT4IQLZdv5MX+I0JO7CLHSPviB4AAgk8APF2PLEU+E3t+GYH9rbbc8938Bva7U0O8NIO\n",
       "38lb8JsRd4A9CDwABHJEvwnLHeB36cf0FjwAW0ofPgK/gfQ3McCjkp+PAg8AgXwHHy75r1OAK6V9\n",
       "J2/BA0DLG0QCHyztzQrQW9Jz893sF8D1kt6gADzGggeAQAIPAL9IOQV1iz5MyhsToIKVb9Zb8EHE\n",
       "HeBaKz9XBR4AAgk8AAQS+BArHyMBVLbq89Ulu8Wt+sYDWNFKl+4seAA4aKVRJfALW+mNBsBYAg8A\n",
       "gQR+UdY7wByrPH8FHgDutELk3aJf0ApvLIBdVL1Zb8EDQCCBB4BAjugX4mgeoKaKx/QWPACcVHGA\n",
       "CfwiKr55AKhL4AHgAtWGmMADQCCX7BZQ7a9CAN5W4dKdBQ8AgQS+OOsdYD0Vnt0CDwCBBB4AArlk\n",
       "V1SF4x0Azpl52c6CB4BOZo41gS/IegfgLIEHgI4+vP80ZbgJPAAEEvhiHM8DcAWBB4ABRg84gQeA\n",
       "QAJfiON5gGwjn/MCDwCBBB4ABhq14t8N+W/hTY7mAbiaBQ8Ag4348RuBB4BAAg8AgQR+Mt+/A+yr\n",
       "ZwMEHgACCfxE1jsAvVog8AAQSOABIJDAA8BkPY7pBX4S378D0JPAA0ABV/+6ncADQCCBB4BAAg8A\n",
       "hVx1TO+fix3M5ToARrDgASCQwANAIIEHgGKu+DpX4Afy/TsAowg8ABR0dhQKPAAEEngACCTwAFDU\n",
       "md+nF/hBXLADYCSBB4BAAg8AxT1yCizwABBI4AEg0NPX7x9/zH4RyVyuA+AqX759PvyfteABIJDA\n",
       "A0AggQeAQAIPAIu4516XwANAIIHvyA16AGYReABYyNF/gEbgASCQwANAIIEHgEACDwAL+tv38AIP\n",
       "AIEEHgACCTwABBL4TvzIDQC9vdUagQeAQAIPAIEEHgACCTwALOzW9/ACDwCBBB4AAgk8AAQSeAAI\n",
       "JPAAsLgP7z/9cdlO4AEgkMADQCCBB4BAAt+Bf2gGgNkEHgBC/DowBR4AAgk8AAQSeAAIJPAAEEjg\n",
       "ASDI80U7gQeAQAIPAIEEHgACCTwABBJ4AAgk8AAQSOABIJDAA0AggQeAQAIPAIEEHgCCfPn2ubUm\n",
       "8AAQSeABIJDAA0AggQeAQAIPACGeL9i1JvBd/Po/MADMIPAAEEjgASCQwANAoHezXwAAcM5rd78s\n",
       "eAAIJPAAEEjgASCQwANAIIEHgIXd+nE1gQeAQAIPAIEEHgACCXwn/sEZAHp7qzUCDwCBBB4AAgk8\n",
       "AAQSeABY0N/uegk8AAQSeAAIJPAAEOjd7BcAABx39HdWLPiO/NgNALMIPAAEEngAWMQ9J8MCDwCB\n",
       "BB4AAgk8AAR6+vr944/ZL2IHH95/mv0SAFjYvf/PLAseAAIJPAAEEngAKO6RH04TeAAIJPCD+Nla\n",
       "AEbyj80AQFFnxqEFDwCBBB4AAgk8ABR09u6WwA/koh0Aowg8ABRzxSAUeAAIJPAAEEjgB/vy7bPv\n",
       "4gHoTuABoJCrRqDAA0AggQeAQH6LHgAKuPp+lgU/iYt2APQk8AAwWY/RJ/AAEEjgASCQwE/ke3gA\n",
       "erVA4AEgkMBPZsUD7KtnAwQeAAIJPAAE8kt2ADDYiK9nLfgC/BOyAFxN4AFgoFGDTuABIJDAF+KY\n",
       "HiDbyOe8wANAIIEHgAFGn9IKfDGO6QG4gsADQCA/dAMAHc06mbXgC3JMD8BZAg8AncwcbE9fv3/8\n",
       "Me2/nb/68P7T7JcAwANmn8Za8AAQSOABIJDAFzf7iAeA+1V4dgs8AARyyW4RLtsB1FdhuT+z4AEg\n",
       "kMADwAUqrffWBH4Z1d44ANQm8ABwUsUR5pLdgly4A6ijYtxbs+ABIJLAA0AgR/SLckwPMFfVo/ln\n",
       "FjwA3Kl63FsT+GWt8OYCSLTK81fgASCQwC9slb8iARhP4AHgoJWGlVv0IdyqB+hnpbA/s+BDrPjm\n",
       "A1jBqs9XgQeAQAIPAIEEPsiqx0gAVa38XHXJLpALdwDnrBz2ZxY8APwiIe6tCTwARBL4QF++fY75\n",
       "CxSAxwh8MJEHuE/Sc1PgAaBlxb01t+i34FY9wG1pYX9mwQNAIIHfQOpfpwBnJT8fBR6ALSXHvTXf\n",
       "wW/H9/EA+XFvzYIHgEgCv5kd/moFwBH9thzVAzvaaeRY8Jva6U0O0Np+zz2BByDebnFvTeABIJLv\n",
       "4PF9PBBtx/XemsDzPyIPpNk17M8c0dNa80EAsnimCTy/8IEAEniW/STwABDId/C8ynfywIqs9/8I\n",
       "PDeJPLAKYf+TI3pu8oEBVuBZ9TqB500+OEBlnlG3CTwABBJ4AJZkvb/NJTsOc+kOqEDYj7HgOcyH\n",
       "CpjNc+g4C567WfLAaMJ+PwseAAJZ8JxizQM9We6Ps+A5xYcP6MXz5RyB5zQfQuBqnivnOaLnUo7s\n",
       "gbPE/RoWPAAEsuC5nBUPPMJyv5bA04XIA0cJex+O6OnCBxY4wrOiHwue7qx54CVh78+CB4BAFjzD\n",
       "WPKA5T6OwDOUyMOehH08gWcKoYd9iPscAs80Ig/ZhH0ul+wAIJAFz3SWPGSx3GsQeMoQelibsNfi\n",
       "iJ4yPBxgXT6/9VjwlGTNQ32iXpsFDwCBLHhKs+ShJuu9PoFnCUIP84n6WhzRswQPFpjLZ3A9FjxL\n",
       "suhhDGFflwUPAIEseJZlxUMfVnsGgSeC2MM1xD2HwBNF6OF+op7Jd/AAEMiCJ44VD8dY7tkEnmhi\n",
       "D78T9X0IPNsQe3Ym7PsReLYj9OxC1Pfmkh0ABLLg2Zo1TyLLndYEHlprQs/6RJ2XBB5eEHtWIuzc\n",
       "IvBwg9BTkaBzlEt2ABDIgoeDLHpmsdp5hMDDnYSeEUSdswQeThJ8riLqXEng4UJizz0EnZ5csgOA\n",
       "QBY8dGLN8xqrnVEEHgYR/D0JOrMIPEwk+nkEnSoEHgoR/LWIOZW5ZAcAgSx4KM6qr8FaZzUCDwsS\n",
       "/b7EnAQCD0GE/xgBZwcCDxvZ6Q8AEWd3LtkBQCALHnhVxbVvlcNxAg8AgRzRA0AggQeAQAIPAIEE\n",
       "HgACCTwABBJ4AAgk8AAQSOABIJDAA0AggQeAQAIPAIEEHgACCTwABBJ4AAgk8AAQSOABIJDAA0Ag\n",
       "gQeAQAIPAIEEHgACCTwABBJ4AAgk8AAQSOABIJDAA0AggQeAQAIPAIEEHgACCTwABBJ4AAgk8AAQ\n",
       "SOABIJDAA0AggQeAQAIPAIEEHgACCTwABBJ4AAgk8AAQSOABIJDAA0AggQeAQAIPAIEEHgACCTwA\n",
       "BBJ4AAgk8AAQSOABIJDAA0AggQeAQAIPAIEEHgACCTwABBJ4AAgk8AAQSOABIJDAA0AggQeAQAIP\n",
       "AIEEHgAC/QtBAqhoaFGGOAAAAABJRU5ErkJggg==\n",
       "\" transform=\"translate(1699, 86)\"/>\n",
       "</g>\n",
       "<polyline clip-path=\"url(#clip694)\" style=\"stroke:#e26f46; stroke-linecap:round; stroke-linejoin:round; stroke-width:4; stroke-opacity:1; fill:none\" points=\"2202.76,338.069 2202.74,335.555 2202.71,333.041 2202.64,330.528 2202.55,328.015 2202.44,325.504 2202.3,322.993 2202.14,320.484 2201.95,317.977 2201.74,315.472 2201.5,312.97 2201.24,310.469 2200.95,307.972 2200.63,305.477 2200.3,302.986 2199.93,300.499 2199.54,298.015 2199.13,295.535 2198.69,293.059 2198.23,290.588 2197.74,288.121 2197.23,285.66 2196.7,283.204 2196.14,280.753 2195.55,278.308 2194.94,275.869 2194.31,273.436 2193.65,271.01 2192.96,268.59 2192.26,266.178 2191.53,263.772 2190.77,261.374 2189.99,258.984 2189.19,256.601 2188.36,254.227 2187.51,251.861 2186.64,249.504 2185.74,247.155 2184.82,244.816 2183.88,242.486 2182.91,240.165 2181.92,237.854 2180.91,235.554 2179.87,233.263 2178.81,230.983 2177.73,228.714 2176.62,226.456 2175.5,224.209 2174.35,221.973 2173.17,219.749 2171.98,217.536 2170.76,215.336 2169.52,213.148 2168.26,210.973 2166.98,208.81 2165.68,206.66 2164.35,204.523 2163.01,202.4 2161.64,200.29 2160.25,198.194 2158.84,196.112 2157.41,194.044 2155.96,191.991 2154.49,189.952 2153,187.928 2151.49,185.919 2149.96,183.925 2148.41,181.947 2146.84,179.984 2145.24,178.037 2143.63,176.106 2142.01,174.191 2140.36,172.293 2138.69,170.411 2137,168.546 2135.3,166.698 2133.58,164.867 2131.84,163.053 2130.08,161.257 2128.3,159.479 2126.5,157.718 2124.69,155.976 2122.86,154.251 2121.02,152.546 2119.15,150.858 2117.27,149.189 2115.38,147.54 2113.46,145.909 2111.53,144.297 2109.59,142.705 2107.62,141.133 2105.65,139.58 2103.66,138.047 2101.65,136.534 2099.62,135.041 2097.59,133.568 2095.53,132.116 2093.47,130.684 2091.39,129.273 2089.29,127.884 2087.18,126.515 2085.06,125.167 2082.93,123.84 2080.78,122.535 2078.61,121.252 2076.44,119.99 2074.25,118.75 2072.05,117.532 2069.84,116.336 2067.62,115.162 2065.38,114.01 2063.14,112.881 2060.88,111.775 2058.61,110.691 2056.33,109.629 2054.04,108.591 2051.74,107.575 2049.43,106.583 2047.11,105.614 2044.78,104.668 2042.45,103.745 2040.1,102.846 2037.74,101.97 2035.38,101.118 2033,100.289 2030.62,99.4846 2028.23,98.7038 2025.83,97.9469 2023.43,97.2141 2021.02,96.5053 2018.6,95.8207 2016.17,95.1603 2013.74,94.5242 2011.3,93.9124 2008.86,93.3251 2006.41,92.7622 2003.95,92.2239 2001.49,91.7102 1999.02,91.221 1996.55,90.7566 1994.08,90.3169 1991.6,89.902 1989.11,89.5119 1986.63,89.1467 1984.14,88.8063 1981.64,88.4909 1979.14,88.2004 1976.64,87.9349 1974.14,87.6944 1971.64,87.479 1969.13,87.2886 1966.62,87.1233 1964.11,86.9831 1961.6,86.868 1959.09,86.7781 1956.57,86.7132 1954.06,86.6735 1951.55,86.6589 1949.03,86.6695 1946.52,86.7052 1944,86.766 1941.49,86.852 1938.98,86.9631 1936.47,87.0993 1933.96,87.2606 1931.45,87.447 1928.95,87.6585 1926.45,87.8949 1923.95,88.1564 1921.45,88.4429 1918.95,88.7544 1916.46,89.0908 1913.97,89.4521 1911.49,89.8382 1909.01,90.2492 1906.53,90.6849 1904.06,91.1454 1901.59,91.6306 1899.13,92.1404 1896.68,92.6749 1894.23,93.2338 1891.78,93.8173 1889.34,94.4251 1886.91,95.0573 1884.48,95.7139 1882.06,96.3946 1879.65,97.0996 1877.24,97.8286 1874.84,98.5817 1872.45,99.3587 1870.07,100.16 1867.69,100.984 1865.33,101.833 1862.97,102.705 1860.62,103.6 1858.28,104.519 1855.95,105.461 1853.63,106.427 1851.32,107.416 1849.01,108.428 1846.72,109.462 1844.44,110.52 1842.17,111.6 1839.91,112.703 1837.66,113.829 1835.43,114.977 1833.2,116.147 1830.99,117.34 1828.79,118.554 1826.6,119.791 1824.42,121.049 1822.26,122.329 1820.11,123.631 1817.97,124.954 1815.85,126.299 1813.73,127.664 1811.64,129.051 1809.55,130.458 1807.49,131.887 1805.43,133.335 1803.39,134.805 1801.37,136.294 1799.36,137.804 1797.36,139.334 1795.38,140.884 1793.42,142.453 1791.47,144.042 1789.54,145.651 1787.62,147.279 1785.72,148.925 1783.84,150.591 1781.97,152.276 1780.12,153.979 1778.29,155.7 1776.47,157.44 1774.68,159.197 1772.9,160.973 1771.14,162.766 1769.39,164.577 1767.67,166.405 1765.96,168.251 1764.27,170.113 1762.6,171.992 1760.95,173.888 1759.32,175.8 1757.7,177.728 1756.11,179.673 1754.53,181.633 1752.98,183.609 1751.45,185.6 1749.93,187.607 1748.44,189.629 1746.96,191.665 1745.51,193.716 1744.07,195.782 1742.66,197.862 1741.27,199.955 1739.9,202.063 1738.55,204.184 1737.22,206.319 1735.92,208.467 1734.63,210.627 1733.37,212.801 1732.13,214.987 1730.91,217.185 1729.71,219.396 1728.53,221.618 1727.38,223.852 1726.25,226.097 1725.14,228.354 1724.05,230.621 1722.99,232.9 1721.95,235.188 1720.93,237.487 1719.94,239.796 1718.97,242.115 1718.02,244.444 1717.09,246.782 1716.19,249.129 1715.32,251.485 1714.46,253.849 1713.63,256.222 1712.82,258.604 1712.04,260.993 1711.28,263.39 1710.55,265.794 1709.84,268.206 1709.15,270.624 1708.49,273.049 1707.85,275.481 1707.24,277.919 1706.65,280.363 1706.08,282.813 1705.54,285.268 1705.03,287.729 1704.54,290.195 1704.07,292.665 1703.63,295.14 1703.21,297.619 1702.82,300.103 1702.45,302.59 1702.11,305.08 1701.79,307.574 1701.5,310.071 1701.23,312.571 1700.99,315.074 1700.77,317.578 1700.58,320.085 1700.41,322.594 1700.27,325.104 1700.15,327.615 1700.06,330.127 1699.99,332.641 1699.95,335.154 1699.94,337.668 1699.94,340.182 1699.98,342.696 1700.04,345.21 1700.12,347.722 1700.23,350.234 1700.36,352.745 1700.52,355.254 1700.71,357.761 1700.92,360.266 1701.15,362.769 1701.41,365.27 1701.7,367.768 1702.01,370.263 1702.34,372.755 1702.7,375.243 1703.08,377.728 1703.49,380.208 1703.93,382.685 1704.39,385.157 1704.87,387.624 1705.38,390.086 1705.91,392.543 1706.47,394.995 1707.05,397.441 1707.65,399.881 1708.28,402.314 1708.94,404.742 1709.62,407.162 1710.32,409.576 1711.05,411.983 1711.8,414.382 1712.57,416.774 1713.37,419.158 1714.19,421.533 1715.04,423.9 1715.91,426.259 1716.81,428.609 1717.72,430.95 1718.66,433.281 1719.63,435.604 1720.61,437.916 1721.62,440.218 1722.66,442.51 1723.71,444.792 1724.79,447.063 1725.89,449.323 1727.02,451.572 1728.16,453.809 1729.33,456.035 1730.52,458.25 1731.73,460.452 1732.97,462.642 1734.23,464.819 1735.5,466.984 1736.8,469.136 1738.13,471.275 1739.47,473.4 1740.83,475.512 1742.22,477.611 1743.62,479.695 1745.05,481.765 1746.5,483.821 1747.96,485.862 1749.45,487.888 1750.96,489.9 1752.49,491.896 1754.04,493.877 1755.6,495.842 1757.19,497.792 1758.8,499.725 1760.43,501.642 1762.07,503.543 1763.73,505.428 1765.42,507.296 1767.12,509.146 1768.84,510.98 1770.58,512.796 1772.33,514.595 1774.11,516.377 1775.9,518.14 1777.71,519.885 1779.54,521.613 1781.38,523.322 1783.24,525.012 1785.12,526.684 1787.01,528.336 1788.92,529.97 1790.85,531.585 1792.79,533.18 1794.75,534.756 1796.73,536.312 1798.72,537.848 1800.72,539.364 1802.74,540.861 1804.78,542.336 1806.83,543.792 1808.89,545.227 1810.97,546.641 1813.07,548.034 1815.17,549.406 1817.29,550.758 1819.43,552.087 1821.57,553.396 1823.73,554.683 1825.9,555.948 1828.09,557.192 1830.29,558.413 1832.5,559.613 1834.72,560.79 1836.95,561.945 1839.2,563.078 1841.45,564.188 1843.72,565.276 1845.99,566.341 1848.28,567.383 1850.58,568.402 1852.89,569.398 1855.21,570.371 1857.54,571.321 1859.87,572.247 1862.22,573.15 1864.57,574.03 1866.94,574.886 1869.31,575.718 1871.69,576.526 1874.08,577.311 1876.48,578.072 1878.88,578.808 1881.29,579.521 1883.71,580.21 1886.13,580.874 1888.56,581.514 1891,582.129 1893.45,582.721 1895.89,583.287 1898.35,583.83 1900.81,584.347 1903.28,584.84 1905.75,585.309 1908.22,585.752 1910.7,586.171 1913.18,586.565 1915.67,586.934 1918.16,587.279 1920.65,587.598 1923.15,587.893 1925.65,588.162 1928.15,588.407 1930.66,588.626 1933.16,588.82 1935.67,588.99 1938.18,589.134 1940.69,589.253 1943.2,589.347 1945.72,589.416 1948.23,589.459 1950.75,589.478 1953.26,589.471 1955.77,589.44 1958.29,589.383 1960.8,589.301 1963.31,589.194 1965.82,589.062 1968.33,588.904 1970.84,588.722 1973.34,588.514 1975.85,588.282 1978.35,588.024 1980.85,587.742 1983.34,587.434 1985.83,587.102 1988.32,586.745 1990.81,586.363 1993.29,585.956 1995.76,585.524 1998.24,585.067 2000.7,584.586 2003.17,584.08 2005.62,583.55 2008.08,582.994 2010.52,582.415 2012.96,581.811 2015.4,581.183 2017.83,580.53 2020.25,579.853 2022.66,579.152 2025.07,578.427 2027.47,577.677 2029.86,576.904 2032.25,576.107 2034.62,575.286 2036.99,574.442 2039.35,573.573 2041.7,572.682 2044.04,571.766 2046.37,570.828 2048.7,569.866 2051.01,568.881 2053.31,567.873 2055.61,566.842 2057.89,565.788 2060.16,564.711 2062.42,563.611 2064.67,562.489 2066.91,561.345 2069.14,560.178 2071.35,558.989 2073.55,557.778 2075.74,556.545 2077.92,555.29 2080.09,554.013 2082.24,552.715 2084.38,551.396 2086.51,550.055 2088.62,548.692 2090.72,547.309 2092.81,545.905 2094.88,544.48 2096.93,543.034 2098.98,541.568 2101,540.082 2103.02,538.575 2105.01,537.048 2107,535.502 2108.96,533.935 2110.91,532.349 2112.85,530.744 2114.77,529.119 2116.67,527.476 2118.56,525.813 2120.42,524.132 2122.28,522.432 2124.11,520.713 2125.93,518.976 2127.73,517.221 2129.51,515.449 2131.28,513.658 2133.02,511.85 2134.75,510.025 2136.46,508.182 2138.16,506.322 2139.83,504.446 2141.48,502.553 2143.12,500.643 2144.73,498.717 2146.33,496.776 2147.91,494.818 2149.47,492.844 2151,490.855 2152.52,488.851 2154.02,486.832 2155.5,484.798 2156.95,482.749 2158.39,480.686 2159.81,478.608 2161.2,476.517 2162.58,474.411 2163.93,472.292 2165.26,470.16 2166.57,468.014 2167.86,465.855 2169.13,463.684 2170.37,461.5 2171.59,459.303 2172.8,457.095 2173.97,454.874 2175.13,452.642 2176.27,450.399 2177.38,448.144 2178.47,445.878 2179.53,443.602 2180.58,441.315 2181.6,439.017 2182.6,436.71 2183.57,434.392 2184.52,432.065 2185.45,429.729 2186.36,427.383 2187.24,425.029 2188.1,422.665 2188.93,420.294 2189.74,417.914 2190.53,415.526 2191.29,413.13 2192.03,410.727 2192.74,408.317 2193.43,405.899 2194.1,403.475 2194.74,401.044 2195.36,398.607 2195.95,396.164 2196.52,393.715 2197.06,391.261 2197.58,388.801 2198.08,386.336 2198.55,383.866 2199,381.392 2199.42,378.913 2199.81,376.431 2200.18,373.944 2200.53,371.454 2200.85,368.961 2201.15,366.464 2201.42,363.965 2201.67,361.463 2201.89,358.958 2202.08,356.452 2202.25,353.944 2202.4,351.434 2202.52,348.923 2202.62,346.41 2202.69,343.897 2202.73,341.384 2202.75,338.87 \"/>\n",
       "<path clip-path=\"url(#clip690)\" d=\"M2449.94 589.479 L2952.76 589.479 L2952.76 86.6588 L2449.94 86.6588  Z\" fill=\"#ffffff\" fill-rule=\"evenodd\" fill-opacity=\"1\"/>\n",
       "<defs>\n",
       "  <clipPath id=\"clip695\">\n",
       "    <rect x=\"2449\" y=\"86\" width=\"504\" height=\"504\"/>\n",
       "  </clipPath>\n",
       "</defs>\n",
       "<polyline clip-path=\"url(#clip695)\" style=\"stroke:#000000; stroke-linecap:round; stroke-linejoin:round; stroke-width:2; stroke-opacity:0.1; fill:none\" points=\"2449.94,589.479 2449.94,86.6588 \"/>\n",
       "<polyline clip-path=\"url(#clip695)\" style=\"stroke:#000000; stroke-linecap:round; stroke-linejoin:round; stroke-width:2; stroke-opacity:0.1; fill:none\" points=\"2575.64,589.479 2575.64,86.6588 \"/>\n",
       "<polyline clip-path=\"url(#clip695)\" style=\"stroke:#000000; stroke-linecap:round; stroke-linejoin:round; stroke-width:2; stroke-opacity:0.1; fill:none\" points=\"2701.35,589.479 2701.35,86.6588 \"/>\n",
       "<polyline clip-path=\"url(#clip695)\" style=\"stroke:#000000; stroke-linecap:round; stroke-linejoin:round; stroke-width:2; stroke-opacity:0.1; fill:none\" points=\"2827.05,589.479 2827.05,86.6588 \"/>\n",
       "<polyline clip-path=\"url(#clip695)\" style=\"stroke:#000000; stroke-linecap:round; stroke-linejoin:round; stroke-width:2; stroke-opacity:0.1; fill:none\" points=\"2952.76,589.479 2952.76,86.6588 \"/>\n",
       "<polyline clip-path=\"url(#clip690)\" style=\"stroke:#000000; stroke-linecap:round; stroke-linejoin:round; stroke-width:4; stroke-opacity:1; fill:none\" points=\"2449.94,589.479 2952.76,589.479 \"/>\n",
       "<polyline clip-path=\"url(#clip690)\" style=\"stroke:#000000; stroke-linecap:round; stroke-linejoin:round; stroke-width:4; stroke-opacity:1; fill:none\" points=\"2449.94,589.479 2449.94,571.233 \"/>\n",
       "<polyline clip-path=\"url(#clip690)\" style=\"stroke:#000000; stroke-linecap:round; stroke-linejoin:round; stroke-width:4; stroke-opacity:1; fill:none\" points=\"2575.64,589.479 2575.64,571.233 \"/>\n",
       "<polyline clip-path=\"url(#clip690)\" style=\"stroke:#000000; stroke-linecap:round; stroke-linejoin:round; stroke-width:4; stroke-opacity:1; fill:none\" points=\"2701.35,589.479 2701.35,571.233 \"/>\n",
       "<polyline clip-path=\"url(#clip690)\" style=\"stroke:#000000; stroke-linecap:round; stroke-linejoin:round; stroke-width:4; stroke-opacity:1; fill:none\" points=\"2827.05,589.479 2827.05,571.233 \"/>\n",
       "<polyline clip-path=\"url(#clip690)\" style=\"stroke:#000000; stroke-linecap:round; stroke-linejoin:round; stroke-width:4; stroke-opacity:1; fill:none\" points=\"2952.76,589.479 2952.76,571.233 \"/>\n",
       "<path clip-path=\"url(#clip690)\" d=\"M2396.46 639.85 L2426.14 639.85 L2426.14 643.785 L2396.46 643.785 L2396.46 639.85 Z\" fill=\"#000000\" fill-rule=\"nonzero\" fill-opacity=\"1\" /><path clip-path=\"url(#clip690)\" d=\"M2437.04 652.744 L2444.68 652.744 L2444.68 626.378 L2436.37 628.045 L2436.37 623.785 L2444.64 622.119 L2449.31 622.119 L2449.31 652.744 L2456.95 652.744 L2456.95 656.679 L2437.04 656.679 L2437.04 652.744 Z\" fill=\"#000000\" fill-rule=\"nonzero\" fill-opacity=\"1\" /><path clip-path=\"url(#clip690)\" d=\"M2466.39 650.799 L2471.28 650.799 L2471.28 656.679 L2466.39 656.679 L2466.39 650.799 Z\" fill=\"#000000\" fill-rule=\"nonzero\" fill-opacity=\"1\" /><path clip-path=\"url(#clip690)\" d=\"M2491.46 625.197 Q2487.85 625.197 2486.02 628.762 Q2484.22 632.304 2484.22 639.433 Q2484.22 646.54 2486.02 650.105 Q2487.85 653.646 2491.46 653.646 Q2495.1 653.646 2496.9 650.105 Q2498.73 646.54 2498.73 639.433 Q2498.73 632.304 2496.9 628.762 Q2495.1 625.197 2491.46 625.197 M2491.46 621.494 Q2497.27 621.494 2500.33 626.1 Q2503.41 630.684 2503.41 639.433 Q2503.41 648.16 2500.33 652.767 Q2497.27 657.35 2491.46 657.35 Q2485.65 657.35 2482.57 652.767 Q2479.52 648.16 2479.52 639.433 Q2479.52 630.684 2482.57 626.1 Q2485.65 621.494 2491.46 621.494 Z\" fill=\"#000000\" fill-rule=\"nonzero\" fill-opacity=\"1\" /><path clip-path=\"url(#clip690)\" d=\"M2522.67 639.85 L2552.34 639.85 L2552.34 643.785 L2522.67 643.785 L2522.67 639.85 Z\" fill=\"#000000\" fill-rule=\"nonzero\" fill-opacity=\"1\" /><path clip-path=\"url(#clip690)\" d=\"M2572.43 625.197 Q2568.82 625.197 2567 628.762 Q2565.19 632.304 2565.19 639.433 Q2565.19 646.54 2567 650.105 Q2568.82 653.646 2572.43 653.646 Q2576.07 653.646 2577.87 650.105 Q2579.7 646.54 2579.7 639.433 Q2579.7 632.304 2577.87 628.762 Q2576.07 625.197 2572.43 625.197 M2572.43 621.494 Q2578.25 621.494 2581.3 626.1 Q2584.38 630.684 2584.38 639.433 Q2584.38 648.16 2581.3 652.767 Q2578.25 657.35 2572.43 657.35 Q2566.62 657.35 2563.55 652.767 Q2560.49 648.16 2560.49 639.433 Q2560.49 630.684 2563.55 626.1 Q2566.62 621.494 2572.43 621.494 Z\" fill=\"#000000\" fill-rule=\"nonzero\" fill-opacity=\"1\" /><path clip-path=\"url(#clip690)\" d=\"M2592.6 650.799 L2597.48 650.799 L2597.48 656.679 L2592.6 656.679 L2592.6 650.799 Z\" fill=\"#000000\" fill-rule=\"nonzero\" fill-opacity=\"1\" /><path clip-path=\"url(#clip690)\" d=\"M2607.71 622.119 L2626.07 622.119 L2626.07 626.054 L2611.99 626.054 L2611.99 634.526 Q2613.01 634.179 2614.03 634.017 Q2615.05 633.832 2616.07 633.832 Q2621.86 633.832 2625.24 637.003 Q2628.62 640.174 2628.62 645.591 Q2628.62 651.17 2625.14 654.271 Q2621.67 657.35 2615.35 657.35 Q2613.18 657.35 2610.91 656.98 Q2608.66 656.609 2606.25 655.869 L2606.25 651.17 Q2608.34 652.304 2610.56 652.859 Q2612.78 653.415 2615.26 653.415 Q2619.26 653.415 2621.6 651.308 Q2623.94 649.202 2623.94 645.591 Q2623.94 641.98 2621.6 639.873 Q2619.26 637.767 2615.26 637.767 Q2613.38 637.767 2611.51 638.183 Q2609.66 638.6 2607.71 639.48 L2607.71 622.119 Z\" fill=\"#000000\" fill-rule=\"nonzero\" fill-opacity=\"1\" /><path clip-path=\"url(#clip690)\" d=\"M2678.73 625.197 Q2675.12 625.197 2673.29 628.762 Q2671.49 632.304 2671.49 639.433 Q2671.49 646.54 2673.29 650.105 Q2675.12 653.646 2678.73 653.646 Q2682.36 653.646 2684.17 650.105 Q2686 646.54 2686 639.433 Q2686 632.304 2684.17 628.762 Q2682.36 625.197 2678.73 625.197 M2678.73 621.494 Q2684.54 621.494 2687.6 626.1 Q2690.67 630.684 2690.67 639.433 Q2690.67 648.16 2687.6 652.767 Q2684.54 657.35 2678.73 657.35 Q2672.92 657.35 2669.84 652.767 Q2666.79 648.16 2666.79 639.433 Q2666.79 630.684 2669.84 626.1 Q2672.92 621.494 2678.73 621.494 Z\" fill=\"#000000\" fill-rule=\"nonzero\" fill-opacity=\"1\" /><path clip-path=\"url(#clip690)\" d=\"M2698.89 650.799 L2703.78 650.799 L2703.78 656.679 L2698.89 656.679 L2698.89 650.799 Z\" fill=\"#000000\" fill-rule=\"nonzero\" fill-opacity=\"1\" /><path clip-path=\"url(#clip690)\" d=\"M2723.96 625.197 Q2720.35 625.197 2718.52 628.762 Q2716.72 632.304 2716.72 639.433 Q2716.72 646.54 2718.52 650.105 Q2720.35 653.646 2723.96 653.646 Q2727.6 653.646 2729.4 650.105 Q2731.23 646.54 2731.23 639.433 Q2731.23 632.304 2729.4 628.762 Q2727.6 625.197 2723.96 625.197 M2723.96 621.494 Q2729.77 621.494 2732.83 626.1 Q2735.91 630.684 2735.91 639.433 Q2735.91 648.16 2732.83 652.767 Q2729.77 657.35 2723.96 657.35 Q2718.15 657.35 2715.07 652.767 Q2712.02 648.16 2712.02 639.433 Q2712.02 630.684 2715.07 626.1 Q2718.15 621.494 2723.96 621.494 Z\" fill=\"#000000\" fill-rule=\"nonzero\" fill-opacity=\"1\" /><path clip-path=\"url(#clip690)\" d=\"M2804.93 625.197 Q2801.32 625.197 2799.49 628.762 Q2797.69 632.304 2797.69 639.433 Q2797.69 646.54 2799.49 650.105 Q2801.32 653.646 2804.93 653.646 Q2808.57 653.646 2810.37 650.105 Q2812.2 646.54 2812.2 639.433 Q2812.2 632.304 2810.37 628.762 Q2808.57 625.197 2804.93 625.197 M2804.93 621.494 Q2810.74 621.494 2813.8 626.1 Q2816.88 630.684 2816.88 639.433 Q2816.88 648.16 2813.8 652.767 Q2810.74 657.35 2804.93 657.35 Q2799.12 657.35 2796.04 652.767 Q2792.99 648.16 2792.99 639.433 Q2792.99 630.684 2796.04 626.1 Q2799.12 621.494 2804.93 621.494 Z\" fill=\"#000000\" fill-rule=\"nonzero\" fill-opacity=\"1\" /><path clip-path=\"url(#clip690)\" d=\"M2825.09 650.799 L2829.98 650.799 L2829.98 656.679 L2825.09 656.679 L2825.09 650.799 Z\" fill=\"#000000\" fill-rule=\"nonzero\" fill-opacity=\"1\" /><path clip-path=\"url(#clip690)\" d=\"M2840.21 622.119 L2858.57 622.119 L2858.57 626.054 L2844.49 626.054 L2844.49 634.526 Q2845.51 634.179 2846.53 634.017 Q2847.55 633.832 2848.57 633.832 Q2854.35 633.832 2857.73 637.003 Q2861.11 640.174 2861.11 645.591 Q2861.11 651.17 2857.64 654.271 Q2854.17 657.35 2847.85 657.35 Q2845.67 657.35 2843.41 656.98 Q2841.16 656.609 2838.75 655.869 L2838.75 651.17 Q2840.84 652.304 2843.06 652.859 Q2845.28 653.415 2847.76 653.415 Q2851.76 653.415 2854.1 651.308 Q2856.44 649.202 2856.44 645.591 Q2856.44 641.98 2854.1 639.873 Q2851.76 637.767 2847.76 637.767 Q2845.88 637.767 2844.01 638.183 Q2842.16 638.6 2840.21 639.48 L2840.21 622.119 Z\" fill=\"#000000\" fill-rule=\"nonzero\" fill-opacity=\"1\" /><path clip-path=\"url(#clip690)\" d=\"M2919.91 652.744 L2927.55 652.744 L2927.55 626.378 L2919.24 628.045 L2919.24 623.785 L2927.5 622.119 L2932.18 622.119 L2932.18 652.744 L2939.82 652.744 L2939.82 656.679 L2919.91 656.679 L2919.91 652.744 Z\" fill=\"#000000\" fill-rule=\"nonzero\" fill-opacity=\"1\" /><path clip-path=\"url(#clip690)\" d=\"M2949.26 650.799 L2954.14 650.799 L2954.14 656.679 L2949.26 656.679 L2949.26 650.799 Z\" fill=\"#000000\" fill-rule=\"nonzero\" fill-opacity=\"1\" /><path clip-path=\"url(#clip690)\" d=\"M2974.33 625.197 Q2970.72 625.197 2968.89 628.762 Q2967.08 632.304 2967.08 639.433 Q2967.08 646.54 2968.89 650.105 Q2970.72 653.646 2974.33 653.646 Q2977.96 653.646 2979.77 650.105 Q2981.6 646.54 2981.6 639.433 Q2981.6 632.304 2979.77 628.762 Q2977.96 625.197 2974.33 625.197 M2974.33 621.494 Q2980.14 621.494 2983.2 626.1 Q2986.27 630.684 2986.27 639.433 Q2986.27 648.16 2983.2 652.767 Q2980.14 657.35 2974.33 657.35 Q2968.52 657.35 2965.44 652.767 Q2962.39 648.16 2962.39 639.433 Q2962.39 630.684 2965.44 626.1 Q2968.52 621.494 2974.33 621.494 Z\" fill=\"#000000\" fill-rule=\"nonzero\" fill-opacity=\"1\" /><polyline clip-path=\"url(#clip695)\" style=\"stroke:#000000; stroke-linecap:round; stroke-linejoin:round; stroke-width:2; stroke-opacity:0.1; fill:none\" points=\"2449.94,589.479 2952.76,589.479 \"/>\n",
       "<polyline clip-path=\"url(#clip695)\" style=\"stroke:#000000; stroke-linecap:round; stroke-linejoin:round; stroke-width:2; stroke-opacity:0.1; fill:none\" points=\"2449.94,463.774 2952.76,463.774 \"/>\n",
       "<polyline clip-path=\"url(#clip695)\" style=\"stroke:#000000; stroke-linecap:round; stroke-linejoin:round; stroke-width:2; stroke-opacity:0.1; fill:none\" points=\"2449.94,338.069 2952.76,338.069 \"/>\n",
       "<polyline clip-path=\"url(#clip695)\" style=\"stroke:#000000; stroke-linecap:round; stroke-linejoin:round; stroke-width:2; stroke-opacity:0.1; fill:none\" points=\"2449.94,212.364 2952.76,212.364 \"/>\n",
       "<polyline clip-path=\"url(#clip695)\" style=\"stroke:#000000; stroke-linecap:round; stroke-linejoin:round; stroke-width:2; stroke-opacity:0.1; fill:none\" points=\"2449.94,86.6588 2952.76,86.6588 \"/>\n",
       "<polyline clip-path=\"url(#clip690)\" style=\"stroke:#000000; stroke-linecap:round; stroke-linejoin:round; stroke-width:4; stroke-opacity:1; fill:none\" points=\"2449.94,589.479 2449.94,86.6588 \"/>\n",
       "<polyline clip-path=\"url(#clip690)\" style=\"stroke:#000000; stroke-linecap:round; stroke-linejoin:round; stroke-width:4; stroke-opacity:1; fill:none\" points=\"2449.94,589.479 2468.83,589.479 \"/>\n",
       "<polyline clip-path=\"url(#clip690)\" style=\"stroke:#000000; stroke-linecap:round; stroke-linejoin:round; stroke-width:4; stroke-opacity:1; fill:none\" points=\"2449.94,463.774 2468.83,463.774 \"/>\n",
       "<polyline clip-path=\"url(#clip690)\" style=\"stroke:#000000; stroke-linecap:round; stroke-linejoin:round; stroke-width:4; stroke-opacity:1; fill:none\" points=\"2449.94,338.069 2468.83,338.069 \"/>\n",
       "<polyline clip-path=\"url(#clip690)\" style=\"stroke:#000000; stroke-linecap:round; stroke-linejoin:round; stroke-width:4; stroke-opacity:1; fill:none\" points=\"2449.94,212.364 2468.83,212.364 \"/>\n",
       "<polyline clip-path=\"url(#clip690)\" style=\"stroke:#000000; stroke-linecap:round; stroke-linejoin:round; stroke-width:4; stroke-opacity:1; fill:none\" points=\"2449.94,86.6588 2468.83,86.6588 \"/>\n",
       "<path clip-path=\"url(#clip690)\" d=\"M2297.99 589.93 L2327.67 589.93 L2327.67 593.865 L2297.99 593.865 L2297.99 589.93 Z\" fill=\"#000000\" fill-rule=\"nonzero\" fill-opacity=\"1\" /><path clip-path=\"url(#clip690)\" d=\"M2338.57 602.824 L2346.21 602.824 L2346.21 576.458 L2337.9 578.125 L2337.9 573.865 L2346.16 572.199 L2350.84 572.199 L2350.84 602.824 L2358.48 602.824 L2358.48 606.759 L2338.57 606.759 L2338.57 602.824 Z\" fill=\"#000000\" fill-rule=\"nonzero\" fill-opacity=\"1\" /><path clip-path=\"url(#clip690)\" d=\"M2367.92 600.879 L2372.81 600.879 L2372.81 606.759 L2367.92 606.759 L2367.92 600.879 Z\" fill=\"#000000\" fill-rule=\"nonzero\" fill-opacity=\"1\" /><path clip-path=\"url(#clip690)\" d=\"M2392.99 575.277 Q2389.38 575.277 2387.55 578.842 Q2385.75 582.384 2385.75 589.513 Q2385.75 596.62 2387.55 600.185 Q2389.38 603.726 2392.99 603.726 Q2396.63 603.726 2398.43 600.185 Q2400.26 596.62 2400.26 589.513 Q2400.26 582.384 2398.43 578.842 Q2396.63 575.277 2392.99 575.277 M2392.99 571.574 Q2398.8 571.574 2401.86 576.18 Q2404.94 580.764 2404.94 589.513 Q2404.94 598.24 2401.86 602.847 Q2398.8 607.43 2392.99 607.43 Q2387.18 607.43 2384.1 602.847 Q2381.05 598.24 2381.05 589.513 Q2381.05 580.764 2384.1 576.18 Q2387.18 571.574 2392.99 571.574 Z\" fill=\"#000000\" fill-rule=\"nonzero\" fill-opacity=\"1\" /><path clip-path=\"url(#clip690)\" d=\"M2298.99 464.225 L2328.66 464.225 L2328.66 468.16 L2298.99 468.16 L2298.99 464.225 Z\" fill=\"#000000\" fill-rule=\"nonzero\" fill-opacity=\"1\" /><path clip-path=\"url(#clip690)\" d=\"M2348.76 449.572 Q2345.14 449.572 2343.32 453.137 Q2341.51 456.679 2341.51 463.808 Q2341.51 470.915 2343.32 474.48 Q2345.14 478.021 2348.76 478.021 Q2352.39 478.021 2354.2 474.48 Q2356.02 470.915 2356.02 463.808 Q2356.02 456.679 2354.2 453.137 Q2352.39 449.572 2348.76 449.572 M2348.76 445.869 Q2354.57 445.869 2357.62 450.475 Q2360.7 455.059 2360.7 463.808 Q2360.7 472.535 2357.62 477.142 Q2354.57 481.725 2348.76 481.725 Q2342.95 481.725 2339.87 477.142 Q2336.81 472.535 2336.81 463.808 Q2336.81 455.059 2339.87 450.475 Q2342.95 445.869 2348.76 445.869 Z\" fill=\"#000000\" fill-rule=\"nonzero\" fill-opacity=\"1\" /><path clip-path=\"url(#clip690)\" d=\"M2368.92 475.174 L2373.8 475.174 L2373.8 481.054 L2368.92 481.054 L2368.92 475.174 Z\" fill=\"#000000\" fill-rule=\"nonzero\" fill-opacity=\"1\" /><path clip-path=\"url(#clip690)\" d=\"M2384.03 446.494 L2402.39 446.494 L2402.39 450.429 L2388.32 450.429 L2388.32 458.901 Q2389.33 458.554 2390.35 458.392 Q2391.37 458.207 2392.39 458.207 Q2398.18 458.207 2401.56 461.378 Q2404.94 464.549 2404.94 469.966 Q2404.94 475.545 2401.46 478.646 Q2397.99 481.725 2391.67 481.725 Q2389.5 481.725 2387.23 481.355 Q2384.98 480.984 2382.58 480.244 L2382.58 475.545 Q2384.66 476.679 2386.88 477.234 Q2389.1 477.79 2391.58 477.79 Q2395.58 477.79 2397.92 475.683 Q2400.26 473.577 2400.26 469.966 Q2400.26 466.355 2397.92 464.248 Q2395.58 462.142 2391.58 462.142 Q2389.7 462.142 2387.83 462.559 Q2385.98 462.975 2384.03 463.855 L2384.03 446.494 Z\" fill=\"#000000\" fill-rule=\"nonzero\" fill-opacity=\"1\" /><path clip-path=\"url(#clip690)\" d=\"M2347.76 323.867 Q2344.15 323.867 2342.32 327.432 Q2340.52 330.974 2340.52 338.104 Q2340.52 345.21 2342.32 348.775 Q2344.15 352.316 2347.76 352.316 Q2351.39 352.316 2353.2 348.775 Q2355.03 345.21 2355.03 338.104 Q2355.03 330.974 2353.2 327.432 Q2351.39 323.867 2347.76 323.867 M2347.76 320.164 Q2353.57 320.164 2356.63 324.77 Q2359.7 329.354 2359.7 338.104 Q2359.7 346.83 2356.63 351.437 Q2353.57 356.02 2347.76 356.02 Q2341.95 356.02 2338.87 351.437 Q2335.82 346.83 2335.82 338.104 Q2335.82 329.354 2338.87 324.77 Q2341.95 320.164 2347.76 320.164 Z\" fill=\"#000000\" fill-rule=\"nonzero\" fill-opacity=\"1\" /><path clip-path=\"url(#clip690)\" d=\"M2367.92 349.469 L2372.81 349.469 L2372.81 355.349 L2367.92 355.349 L2367.92 349.469 Z\" fill=\"#000000\" fill-rule=\"nonzero\" fill-opacity=\"1\" /><path clip-path=\"url(#clip690)\" d=\"M2392.99 323.867 Q2389.38 323.867 2387.55 327.432 Q2385.75 330.974 2385.75 338.104 Q2385.75 345.21 2387.55 348.775 Q2389.38 352.316 2392.99 352.316 Q2396.63 352.316 2398.43 348.775 Q2400.26 345.21 2400.26 338.104 Q2400.26 330.974 2398.43 327.432 Q2396.63 323.867 2392.99 323.867 M2392.99 320.164 Q2398.8 320.164 2401.86 324.77 Q2404.94 329.354 2404.94 338.104 Q2404.94 346.83 2401.86 351.437 Q2398.8 356.02 2392.99 356.02 Q2387.18 356.02 2384.1 351.437 Q2381.05 346.83 2381.05 338.104 Q2381.05 329.354 2384.1 324.77 Q2387.18 320.164 2392.99 320.164 Z\" fill=\"#000000\" fill-rule=\"nonzero\" fill-opacity=\"1\" /><path clip-path=\"url(#clip690)\" d=\"M2348.76 198.163 Q2345.14 198.163 2343.32 201.727 Q2341.51 205.269 2341.51 212.399 Q2341.51 219.505 2343.32 223.07 Q2345.14 226.611 2348.76 226.611 Q2352.39 226.611 2354.2 223.07 Q2356.02 219.505 2356.02 212.399 Q2356.02 205.269 2354.2 201.727 Q2352.39 198.163 2348.76 198.163 M2348.76 194.459 Q2354.57 194.459 2357.62 199.065 Q2360.7 203.649 2360.7 212.399 Q2360.7 221.125 2357.62 225.732 Q2354.57 230.315 2348.76 230.315 Q2342.95 230.315 2339.87 225.732 Q2336.81 221.125 2336.81 212.399 Q2336.81 203.649 2339.87 199.065 Q2342.95 194.459 2348.76 194.459 Z\" fill=\"#000000\" fill-rule=\"nonzero\" fill-opacity=\"1\" /><path clip-path=\"url(#clip690)\" d=\"M2368.92 223.764 L2373.8 223.764 L2373.8 229.644 L2368.92 229.644 L2368.92 223.764 Z\" fill=\"#000000\" fill-rule=\"nonzero\" fill-opacity=\"1\" /><path clip-path=\"url(#clip690)\" d=\"M2384.03 195.084 L2402.39 195.084 L2402.39 199.019 L2388.32 199.019 L2388.32 207.491 Q2389.33 207.144 2390.35 206.982 Q2391.37 206.797 2392.39 206.797 Q2398.18 206.797 2401.56 209.968 Q2404.94 213.139 2404.94 218.556 Q2404.94 224.135 2401.46 227.236 Q2397.99 230.315 2391.67 230.315 Q2389.5 230.315 2387.23 229.945 Q2384.98 229.574 2382.58 228.834 L2382.58 224.135 Q2384.66 225.269 2386.88 225.824 Q2389.1 226.38 2391.58 226.38 Q2395.58 226.38 2397.92 224.273 Q2400.26 222.167 2400.26 218.556 Q2400.26 214.945 2397.92 212.838 Q2395.58 210.732 2391.58 210.732 Q2389.7 210.732 2387.83 211.149 Q2385.98 211.565 2384.03 212.445 L2384.03 195.084 Z\" fill=\"#000000\" fill-rule=\"nonzero\" fill-opacity=\"1\" /><path clip-path=\"url(#clip690)\" d=\"M2338.57 100.004 L2346.21 100.004 L2346.21 73.6381 L2337.9 75.3047 L2337.9 71.0455 L2346.16 69.3788 L2350.84 69.3788 L2350.84 100.004 L2358.48 100.004 L2358.48 103.939 L2338.57 103.939 L2338.57 100.004 Z\" fill=\"#000000\" fill-rule=\"nonzero\" fill-opacity=\"1\" /><path clip-path=\"url(#clip690)\" d=\"M2367.92 98.0592 L2372.81 98.0592 L2372.81 103.939 L2367.92 103.939 L2367.92 98.0592 Z\" fill=\"#000000\" fill-rule=\"nonzero\" fill-opacity=\"1\" /><path clip-path=\"url(#clip690)\" d=\"M2392.99 72.4575 Q2389.38 72.4575 2387.55 76.0223 Q2385.75 79.564 2385.75 86.6936 Q2385.75 93.8 2387.55 97.3648 Q2389.38 100.906 2392.99 100.906 Q2396.63 100.906 2398.43 97.3648 Q2400.26 93.8 2400.26 86.6936 Q2400.26 79.564 2398.43 76.0223 Q2396.63 72.4575 2392.99 72.4575 M2392.99 68.7538 Q2398.8 68.7538 2401.86 73.3603 Q2404.94 77.9436 2404.94 86.6936 Q2404.94 95.4204 2401.86 100.027 Q2398.8 104.61 2392.99 104.61 Q2387.18 104.61 2384.1 100.027 Q2381.05 95.4204 2381.05 86.6936 Q2381.05 77.9436 2384.1 73.3603 Q2387.18 68.7538 2392.99 68.7538 Z\" fill=\"#000000\" fill-rule=\"nonzero\" fill-opacity=\"1\" /><path clip-path=\"url(#clip690)\" d=\"M2596.49 31.5855 Q2598.37 32.222 2600.13 34.3054 Q2601.93 36.3887 2603.72 40.0345 L2609.65 51.84 L2603.37 51.84 L2597.85 40.7579 Q2595.7 36.4176 2593.68 34.9998 Q2591.68 33.582 2588.21 33.582 L2581.84 33.582 L2581.84 51.84 L2576 51.84 L2576 8.64 L2589.19 8.64 Q2596.6 8.64 2600.25 11.736 Q2603.89 14.8321 2603.89 21.0821 Q2603.89 25.1619 2601.98 27.8529 Q2600.1 30.5438 2596.49 31.5855 M2581.84 13.4432 L2581.84 28.7788 L2589.19 28.7788 Q2593.42 28.7788 2595.56 26.8401 Q2597.73 24.8726 2597.73 21.0821 Q2597.73 17.2916 2595.56 15.3819 Q2593.42 13.4432 2589.19 13.4432 L2581.84 13.4432 Z\" fill=\"#000000\" fill-rule=\"nonzero\" fill-opacity=\"1\" /><path clip-path=\"url(#clip690)\" d=\"M2636.47 24.9304 L2673.57 24.9304 L2673.57 29.7915 L2636.47 29.7915 L2636.47 24.9304 M2636.47 36.7359 L2673.57 36.7359 L2673.57 41.6549 L2636.47 41.6549 L2636.47 36.7359 Z\" fill=\"#000000\" fill-rule=\"nonzero\" fill-opacity=\"1\" /><path clip-path=\"url(#clip690)\" d=\"M2706.03 46.921 L2715.58 46.921 L2715.58 13.964 L2705.19 16.0474 L2705.19 10.7233 L2715.52 8.64 L2721.37 8.64 L2721.37 46.921 L2730.92 46.921 L2730.92 51.84 L2706.03 51.84 L2706.03 46.921 Z\" fill=\"#000000\" fill-rule=\"nonzero\" fill-opacity=\"1\" /><path clip-path=\"url(#clip690)\" d=\"M2755.22 12.4884 Q2750.71 12.4884 2748.42 16.9444 Q2746.17 21.3714 2746.17 30.2834 Q2746.17 39.1665 2748.42 43.6225 Q2750.71 48.0495 2755.22 48.0495 Q2759.77 48.0495 2762.02 43.6225 Q2764.31 39.1665 2764.31 30.2834 Q2764.31 21.3714 2762.02 16.9444 Q2759.77 12.4884 2755.22 12.4884 M2755.22 7.85875 Q2762.49 7.85875 2766.31 13.6168 Q2770.15 19.346 2770.15 30.2834 Q2770.15 41.1919 2766.31 46.95 Q2762.49 52.6791 2755.22 52.6791 Q2747.96 52.6791 2744.11 46.95 Q2740.29 41.1919 2740.29 30.2834 Q2740.29 19.346 2744.11 13.6168 Q2747.96 7.85875 2755.22 7.85875 Z\" fill=\"#000000\" fill-rule=\"nonzero\" fill-opacity=\"1\" /><path clip-path=\"url(#clip690)\" d=\"M2780.43 44.4905 L2786.53 44.4905 L2786.53 51.84 L2780.43 51.84 L2780.43 44.4905 Z\" fill=\"#000000\" fill-rule=\"nonzero\" fill-opacity=\"1\" /><path clip-path=\"url(#clip690)\" d=\"M2811.76 12.4884 Q2807.25 12.4884 2804.96 16.9444 Q2802.71 21.3714 2802.71 30.2834 Q2802.71 39.1665 2804.96 43.6225 Q2807.25 48.0495 2811.76 48.0495 Q2816.3 48.0495 2818.56 43.6225 Q2820.85 39.1665 2820.85 30.2834 Q2820.85 21.3714 2818.56 16.9444 Q2816.3 12.4884 2811.76 12.4884 M2811.76 7.85875 Q2819.02 7.85875 2822.84 13.6168 Q2826.69 19.346 2826.69 30.2834 Q2826.69 41.1919 2822.84 46.95 Q2819.02 52.6791 2811.76 52.6791 Q2804.5 52.6791 2800.65 46.95 Q2796.83 41.1919 2796.83 30.2834 Q2796.83 19.346 2800.65 13.6168 Q2804.5 7.85875 2811.76 7.85875 Z\" fill=\"#000000\" fill-rule=\"nonzero\" fill-opacity=\"1\" /><g clip-path=\"url(#clip695)\">\n",
       "<image width=\"504\" height=\"504\" xlink:href=\"data:image/png;base64,\n",
       "iVBORw0KGgoAAAANSUhEUgAAAfgAAAH4CAYAAACmKP9/AAAOCUlEQVR4nO3dQVLbWheFUeUv9xkB\n",
       "jUyOQTE9JhCaaeVv8HjJCzbYsqR7zz5rDSDlKmx93leCfPvx8/uvBQCI8r/RLwAA2J7AA0AggQeA\n",
       "QAIPAIEEHgACCTwABBJ4AAgk8AAQSOABIJDAA0AggQeAQAIPAIEEHgACCTwABBJ4AAgk8AAQSOAB\n",
       "IJDAA0AggQeAQAIPAIEEHgACCTwABBJ4AAgk8AAQSOABIJDAA0AggQeAQAIPAIEEHgACCTwABBJ4\n",
       "AAgk8AAQSOABINBp9AsAtvf48DT6Jazy8vo8+iVADAseAAJ9+/Hz+6/RLwK4TtVlvjVLH74m8DAR\n",
       "Ad+GLwAg8DCEkI8h/HQi8LATEa9D+EnkITsACGTBwwas9TxWPdUJPKwk6r0IPtUIPFxBzDlH9JmZ\n",
       "wMMZgs4ags9MPGQHAIEseFgsdvZh0TOSwNOSoHM0sedoAk8rws4MxJ4juAcPAIEseKJZ7FRg0bMH\n",
       "gSeOqFOV0LMlgSeCqJNI8LmHwFOWqNOF0LOGh+wAIJAFTzmWO51Z81xL4ClB1OEjseczAs/UhB2+\n",
       "JvScI/BMR9RhPbHnnYfsACCQBc80LHfYjiWPwDOUqMP+xL4ngWcIYYfjCX0vAs+hhB3mIPb5PGQH\n",
       "AIEseA5hucOcLPlcAs9uRB1qEPlMAs8uxB1qEvscAs+mhB0yCH19HrIDgEAWPJuw3CGTJV+XwHMX\n",
       "YYcehL4eR/SsJu7Qh897PRY8N/EhB5bFoq/AggeAQALP1ax34J3rwfwc0fMpH2LgGo7s52PBc5G4\n",
       "A9dyvZiPwHOWDytwK9eNuQg8AARyD55/+fYNbMl9+bEseJZlEXdge64rYwk8PoTAblxfxnFE35gP\n",
       "HnA0x/bHseABIJAF35DlDoxkxR/Dgm9G3IHRXIeOYcE34QMFzMia34/ANyDuwOyEfnuO6AEgkMCH\n",
       "s96BClyrtueIPpgPDFCR4/ptCHwgYQeqE/n7OaIHgEAWfBDLHUhixd/Hgg8h7kAa17X7WPDF+QAA\n",
       "HVjzt7PgCxN3oAvXu9sJPAAEEviifJsFunHdu4178AV5kwO4L/8VgS9E2AH+S+Qvc0RfhLgDfOTa\n",
       "eJnAA0AggS/AN1SAy1wjzxN4AMp7fHgS+r8I/OS8YQFYw1P0kxJ2gHU8Wf/GggeAQAI/IesdYD3X\n",
       "0DcCPxlvTID7uZa6Bz8Vb0iA7XW9Jy/wExB2gH11jLwjegAIJPCDWe8A++t4rRV4AFroFnn34Afq\n",
       "9mYDmEWHe/IW/CDiDjBOh2uwwANAoNPoF9BNh2+NAIxnwR9I3AHmkX5NFngA2kqOvKfoD5L8JgJI\n",
       "kPZkvQUPAIEs+J1Z7gB1JK14Cx4AAgn8jqx3gFqSrtsCv5OkNwlAJynXb4EHgEAesttByrc/gO4q\n",
       "P3RnwQNAIAt+Q5Y7QJ6qK96C34i4A2Sqen0XeAAIJPAA8IXHh6dyS17gN1Dthw5APoG/k7gD9FHp\n",
       "mi/wAHCDKpEXeAAIdBr9Aqqq8g0OgJ4seAC4UYWR5y/ZrVDhBwvAMWb9S3cWPAAEEvgbWe8AVCDw\n",
       "AHCHWYefwN9g1h8iAGPN2AeBB4BAAg8Agfya3BVmPHoBYD4z/cqcBQ8AgSz4L1jvANxqhiVvwQPA\n",
       "xmYYhwIPAIEE/hMzfAMDgDUEHgB2MHokCvwFo38wAHAPgQeAnYwciwIPAIFOo1/AbBzNA5DAggeA\n",
       "HT0+PA0ZjwL/B+sdgBQCDwAHOHpECjwABBL4fzieB2BvR7ZG4AEgkMAv1jsAxzmqOQIPAIEEHgAC\n",
       "ffvx8/uv0S9iFEfzAIz08vq8279twQNAIIEHgEBtA+94HoDR9mxR28ADQDKBB4BALQPveB6AWezV\n",
       "pJaBB4B0Ag8Ag+2x4gUeAAK1C7z77wB00C7wADCjx4enTUeowANAoNPoF3AUR/MAdGLBA0AggQeA\n",
       "iWx14izwABCoReDdfwegki261SLwANCNwANAIIEHgEDxgXf/HYCK7u1XfOABoCOBB4BAAg8Ak7rn\n",
       "P6CJDrz77wB0FR14AOhK4AFgcmtOpAUeAAIJPAAEOo1+AXvwcB0A3VnwAFDAreNV4AEgkMADQCCB\n",
       "B4BAcYH3gB0AqW5pXFzgAQCBB4BIAg8AgQQeAAq59r+QjQq8B+wA4E1U4AGANwIPAIEEHgACCTwA\n",
       "FPTVc2cCDwCBYgLvCXoA+C0m8ADAbwIPAIEEHgCK+uz2tMADQCCBB4BAAg8AgQQeAAIJPAAUdulB\n",
       "u9PBr2Nz/sANAHxkwQNAIIEHgEACDwCBBB4AAgk8ABT3+PD04aFzgQeAQAIPAIEEHgACCTwABBJ4\n",
       "AAhUOvD+TC0A/PZnF0sHHgA4T+ABIJDAA0AggQeAQAIPAIEEHgACCTwABBJ4AAjy/rvwAg8AgQQe\n",
       "AAIJPAAEEngACCTwABBI4AEgkMADQCCBB4BAAg8AgQQeAAIJPAAEEngACCTwABBI4AEgkMADQCCB\n",
       "B4BAAg8AgQQeAAIJPAAEEngACCTwABDk5fV5WRaBB4BIAg8AgQQeAAIJPAAEEngACCTwABBI4AEg\n",
       "UOnAv/+uHwDw3y6WDjwAcJ7AA0AggQeAQAIPAIEEHgACnUa/AADgPud+q8yCB4BAAg8AgQQeAAIJ\n",
       "PAAEKh/4l9dnf7IWAP5SPvAA0NmlkSvwABBI4AEgkMADQCCBB4BAAg8ARX32W2QCDwCBBB4AAsUE\n",
       "3h+7AYDfYgIPAPwm8ABQ0Fcn1wIPAIEEHgACCTwABIoKvCfpAeDNafQLAACud+2YjVrwAMAbgQeA\n",
       "QAIPAIHiAu9BOwBS3dK4uMADAAIPAJEEHgACCTwAFHDrM2aRgX95ffawHQCtRQYeALoTeAAIJPAA\n",
       "MLk1t50FHgACRQfeg3YAdOW/iwWASd0zVKMXPAB0JfAAECg+8O7DA1DRvf2KDzwAdCTwABBI4AEg\n",
       "UIvAuw8PQCVbdKtF4AGgG4EHgIlsdeos8AAQqE3gX16f3YsHoI02gQeATvxnMwAwga1PmdsteMf0\n",
       "AHTQLvAA0IHAA8Bge5wuCzwABGoZePfhAZjFXk1qGXgASCfwABCobeAd0wMw2p4taht4AEgm8AAQ\n",
       "6NuPn99/jX4Roz0+PI1+CQA0csRtYgseAAIJPAAEEvjFE/UAHOeo5gg8AAQS+H9Y8QDs7cjWCDwA\n",
       "BBJ4ADjA0SfFAv8Hx/QApDiNfgEAkGzUeLTg//Ly+mzJA1CewANAIIEHgJ2MPBEW+Asc0wNQmcAD\n",
       "wA5GD0WB/8ToHw4ArCXwABBI4AFgYzOcAH/78fP7r9EvYnaPD0+jXwIABcwQ9ncWPAAEsuBvYMkD\n",
       "cMlM631ZLHgAiCTwABBI4G8w2/ELAHOYsQ8CDwB3mDHuyyLwN5v1BwkAfxJ4AAjk1+RW8itzAL3N\n",
       "fqJrwQPAjWaP+7II/Govr88lfsAA9CTwABBI4AHgBlVObwX+TlV+0ADcr9I1X+A3UOkHDkAPp9Ev\n",
       "AABmV3HIWfAAEEjgN1Lx2x0AX6t6ffeX7Hbgr9wBZKga92Wx4AEgkgW/EyseoK7Ky/2dBQ8AgQR+\n",
       "Jwnf/gA6Srl+C/yOUt4kAF0kXbcFHgACecjuIB66A5hb0npfFgseACJZ8Aey4gHmk7bc31nwALSV\n",
       "GvdlEfhDJb+RAKpJvyYL/MFeXp/j31QAjCfwABBI4Aex4gHG6XAN9hT9YJ6sBzhOh7C/s+ABaKFT\n",
       "3JdF4Ifr9oYDGKHjtVbgASCQe/ATcT8eYHsd1/uyCPx0RB5gG13D/s4R/WS6vyEBtuBaKvBT8sYE\n",
       "WM819I3AA0Ag9+An5548wPWs998s+Ml5swKwxmn0CwCAexlDH1nwBXjjAlzmGnmewANAIIEvwjdU\n",
       "gI9cGy/zFH1BnqwHEPevCHxRIg90JOrXc0RflDc50I3r3m0EHgACCXxhvs0CXbje3c49+BDuyQOJ\n",
       "hH09Cz6EDwGQxnXtPhZ8IGseqE7c72fBA0AgCz6YJQ9UZL1vQ+DDiTxQhbBvyxF9OB8YoALXqu0J\n",
       "PAAEckTfhKN6YEaW+34EvhmhB2Yg7PtzRN+MDxUwmuvQMSz4xqx54GjifhwLHgACWfBY8sCurPYx\n",
       "LHh8+IDduL6MI/Asy+JDCGzPdWUsR/Sc5dgeWEPU52HBA0Aggecs38KBW7luzEXguciHFbiW68V8\n",
       "3IPnau7LA38S9blZ8FzNhxl453owP4EHgECO6FnNkT30YrXXYsGzmg879OHzXo8Fzyasecgk7HUJ\n",
       "PJsSesgg7PU5ogeAQBY8u7DkoSbLPYfAsxuRhxpEPZPAcwixhzmJey6B51BCD3MQ9nwesgOAQBY8\n",
       "Q1jycDyrvReBZyihh/0Je08CzzTEHrYj6gg80xF6WE/YeechOwAIZMEzNWsevma1c47AU4LQw0fC\n",
       "zmcEnnLEns5EnWsJPGUJPV2IOmt4yA4AAlnwRLDmSWS5cw+BJ47YU5WgsyWBJ5rYU4GwsweBpxXB\n",
       "ZwaCzhE8ZAcAgSx4WrLkOZrVztEEHhbBZx+izkgCD2cIPmsIOjNxDx4AAlnwcAWLnnMsdmYm8LCS\n",
       "6Pci5lQj8LABsc8j6FQn8LAT0a9DzEnkITsACGTBwwDW/RiWOp0IPExE+Lch5CDwUIovAG8EHL4m\n",
       "8BCo6hcB4YbteMgOAAJZ8AAQyIIHgEACDwCBBB4AAgk8AAQSeAAIJPAAEEjgASCQwANAIIEHgEAC\n",
       "DwCBBB4AAgk8AAQSeAAIJPAAEEjgASCQwANAIIEHgEACDwCBBB4AAgk8AAQSeAAIJPAAEEjgASCQ\n",
       "wANAIIEHgEACDwCBBB4AAgk8AAQSeAAIJPAAEEjgASCQwANAoP8DWMXdPDugqWQAAAAASUVORK5C\n",
       "YII=\n",
       "\" transform=\"translate(2449, 86)\"/>\n",
       "</g>\n",
       "<polyline clip-path=\"url(#clip695)\" style=\"stroke:#e26f46; stroke-linecap:round; stroke-linejoin:round; stroke-width:4; stroke-opacity:1; fill:none\" points=\"2952.76,338.069 2952.74,335.555 2952.71,333.041 2952.64,330.528 2952.55,328.015 2952.44,325.504 2952.3,322.993 2952.14,320.484 2951.95,317.977 2951.74,315.472 2951.5,312.97 2951.24,310.469 2950.95,307.972 2950.63,305.477 2950.3,302.986 2949.93,300.499 2949.54,298.015 2949.13,295.535 2948.69,293.059 2948.23,290.588 2947.74,288.121 2947.23,285.66 2946.7,283.204 2946.14,280.753 2945.55,278.308 2944.94,275.869 2944.31,273.436 2943.65,271.01 2942.96,268.59 2942.26,266.178 2941.53,263.772 2940.77,261.374 2939.99,258.984 2939.19,256.601 2938.36,254.227 2937.51,251.861 2936.64,249.504 2935.74,247.155 2934.82,244.816 2933.88,242.486 2932.91,240.165 2931.92,237.854 2930.91,235.554 2929.87,233.263 2928.81,230.983 2927.73,228.714 2926.62,226.456 2925.5,224.209 2924.35,221.973 2923.17,219.749 2921.98,217.536 2920.76,215.336 2919.52,213.148 2918.26,210.973 2916.98,208.81 2915.68,206.66 2914.35,204.523 2913.01,202.4 2911.64,200.29 2910.25,198.194 2908.84,196.112 2907.41,194.044 2905.96,191.991 2904.49,189.952 2903,187.928 2901.49,185.919 2899.96,183.925 2898.41,181.947 2896.84,179.984 2895.24,178.037 2893.63,176.106 2892.01,174.191 2890.36,172.293 2888.69,170.411 2887,168.546 2885.3,166.698 2883.58,164.867 2881.84,163.053 2880.08,161.257 2878.3,159.479 2876.5,157.718 2874.69,155.976 2872.86,154.251 2871.02,152.546 2869.15,150.858 2867.27,149.189 2865.38,147.54 2863.46,145.909 2861.53,144.297 2859.59,142.705 2857.62,141.133 2855.65,139.58 2853.66,138.047 2851.65,136.534 2849.62,135.041 2847.59,133.568 2845.53,132.116 2843.47,130.684 2841.39,129.273 2839.29,127.884 2837.18,126.515 2835.06,125.167 2832.93,123.84 2830.78,122.535 2828.61,121.252 2826.44,119.99 2824.25,118.75 2822.05,117.532 2819.84,116.336 2817.62,115.162 2815.38,114.01 2813.14,112.881 2810.88,111.775 2808.61,110.691 2806.33,109.629 2804.04,108.591 2801.74,107.575 2799.43,106.583 2797.11,105.614 2794.78,104.668 2792.45,103.745 2790.1,102.846 2787.74,101.97 2785.38,101.118 2783,100.289 2780.62,99.4846 2778.23,98.7038 2775.83,97.9469 2773.43,97.2141 2771.02,96.5053 2768.6,95.8207 2766.17,95.1603 2763.74,94.5242 2761.3,93.9124 2758.86,93.3251 2756.41,92.7622 2753.95,92.2239 2751.49,91.7102 2749.02,91.221 2746.55,90.7566 2744.08,90.3169 2741.6,89.902 2739.11,89.5119 2736.63,89.1467 2734.14,88.8063 2731.64,88.4909 2729.14,88.2004 2726.64,87.9349 2724.14,87.6944 2721.64,87.479 2719.13,87.2886 2716.62,87.1233 2714.11,86.9831 2711.6,86.868 2709.09,86.7781 2706.57,86.7132 2704.06,86.6735 2701.55,86.6589 2699.03,86.6695 2696.52,86.7052 2694,86.766 2691.49,86.852 2688.98,86.9631 2686.47,87.0993 2683.96,87.2606 2681.45,87.447 2678.95,87.6585 2676.45,87.8949 2673.95,88.1564 2671.45,88.4429 2668.95,88.7544 2666.46,89.0908 2663.97,89.4521 2661.49,89.8382 2659.01,90.2492 2656.53,90.6849 2654.06,91.1454 2651.59,91.6306 2649.13,92.1404 2646.68,92.6749 2644.23,93.2338 2641.78,93.8173 2639.34,94.4251 2636.91,95.0573 2634.48,95.7139 2632.06,96.3946 2629.65,97.0996 2627.24,97.8286 2624.84,98.5817 2622.45,99.3587 2620.07,100.16 2617.69,100.984 2615.33,101.833 2612.97,102.705 2610.62,103.6 2608.28,104.519 2605.95,105.461 2603.63,106.427 2601.32,107.416 2599.01,108.428 2596.72,109.462 2594.44,110.52 2592.17,111.6 2589.91,112.703 2587.66,113.829 2585.43,114.977 2583.2,116.147 2580.99,117.34 2578.79,118.554 2576.6,119.791 2574.42,121.049 2572.26,122.329 2570.11,123.631 2567.97,124.954 2565.85,126.299 2563.73,127.664 2561.64,129.051 2559.55,130.458 2557.49,131.887 2555.43,133.335 2553.39,134.805 2551.37,136.294 2549.36,137.804 2547.36,139.334 2545.38,140.884 2543.42,142.453 2541.47,144.042 2539.54,145.651 2537.62,147.279 2535.72,148.925 2533.84,150.591 2531.97,152.276 2530.12,153.979 2528.29,155.7 2526.47,157.44 2524.68,159.197 2522.9,160.973 2521.14,162.766 2519.39,164.577 2517.67,166.405 2515.96,168.251 2514.27,170.113 2512.6,171.992 2510.95,173.888 2509.32,175.8 2507.7,177.728 2506.11,179.673 2504.53,181.633 2502.98,183.609 2501.45,185.6 2499.93,187.607 2498.44,189.629 2496.96,191.665 2495.51,193.716 2494.07,195.782 2492.66,197.862 2491.27,199.955 2489.9,202.063 2488.55,204.184 2487.22,206.319 2485.92,208.467 2484.63,210.627 2483.37,212.801 2482.13,214.987 2480.91,217.185 2479.71,219.396 2478.53,221.618 2477.38,223.852 2476.25,226.097 2475.14,228.354 2474.05,230.621 2472.99,232.9 2471.95,235.188 2470.93,237.487 2469.94,239.796 2468.97,242.115 2468.02,244.444 2467.09,246.782 2466.19,249.129 2465.32,251.485 2464.46,253.849 2463.63,256.222 2462.82,258.604 2462.04,260.993 2461.28,263.39 2460.55,265.794 2459.84,268.206 2459.15,270.624 2458.49,273.049 2457.85,275.481 2457.24,277.919 2456.65,280.363 2456.08,282.813 2455.54,285.268 2455.03,287.729 2454.54,290.195 2454.07,292.665 2453.63,295.14 2453.21,297.619 2452.82,300.103 2452.45,302.59 2452.11,305.08 2451.79,307.574 2451.5,310.071 2451.23,312.571 2450.99,315.074 2450.77,317.578 2450.58,320.085 2450.41,322.594 2450.27,325.104 2450.15,327.615 2450.06,330.127 2449.99,332.641 2449.95,335.154 2449.94,337.668 2449.94,340.182 2449.98,342.696 2450.04,345.21 2450.12,347.722 2450.23,350.234 2450.36,352.745 2450.52,355.254 2450.71,357.761 2450.92,360.266 2451.15,362.769 2451.41,365.27 2451.7,367.768 2452.01,370.263 2452.34,372.755 2452.7,375.243 2453.08,377.728 2453.49,380.208 2453.93,382.685 2454.39,385.157 2454.87,387.624 2455.38,390.086 2455.91,392.543 2456.47,394.995 2457.05,397.441 2457.65,399.881 2458.28,402.314 2458.94,404.742 2459.62,407.162 2460.32,409.576 2461.05,411.983 2461.8,414.382 2462.57,416.774 2463.37,419.158 2464.19,421.533 2465.04,423.9 2465.91,426.259 2466.81,428.609 2467.72,430.95 2468.66,433.281 2469.63,435.604 2470.61,437.916 2471.62,440.218 2472.66,442.51 2473.71,444.792 2474.79,447.063 2475.89,449.323 2477.02,451.572 2478.16,453.809 2479.33,456.035 2480.52,458.25 2481.73,460.452 2482.97,462.642 2484.23,464.819 2485.5,466.984 2486.8,469.136 2488.13,471.275 2489.47,473.4 2490.83,475.512 2492.22,477.611 2493.62,479.695 2495.05,481.765 2496.5,483.821 2497.96,485.862 2499.45,487.888 2500.96,489.9 2502.49,491.896 2504.04,493.877 2505.6,495.842 2507.19,497.792 2508.8,499.725 2510.43,501.642 2512.07,503.543 2513.73,505.428 2515.42,507.296 2517.12,509.146 2518.84,510.98 2520.58,512.796 2522.33,514.595 2524.11,516.377 2525.9,518.14 2527.71,519.885 2529.54,521.613 2531.38,523.322 2533.24,525.012 2535.12,526.684 2537.01,528.336 2538.92,529.97 2540.85,531.585 2542.79,533.18 2544.75,534.756 2546.73,536.312 2548.72,537.848 2550.72,539.364 2552.74,540.861 2554.78,542.336 2556.83,543.792 2558.89,545.227 2560.97,546.641 2563.07,548.034 2565.17,549.406 2567.29,550.758 2569.43,552.087 2571.57,553.396 2573.73,554.683 2575.9,555.948 2578.09,557.192 2580.29,558.413 2582.5,559.613 2584.72,560.79 2586.95,561.945 2589.2,563.078 2591.45,564.188 2593.72,565.276 2595.99,566.341 2598.28,567.383 2600.58,568.402 2602.89,569.398 2605.21,570.371 2607.54,571.321 2609.87,572.247 2612.22,573.15 2614.57,574.03 2616.94,574.886 2619.31,575.718 2621.69,576.526 2624.08,577.311 2626.48,578.072 2628.88,578.808 2631.29,579.521 2633.71,580.21 2636.13,580.874 2638.56,581.514 2641,582.129 2643.45,582.721 2645.89,583.287 2648.35,583.83 2650.81,584.347 2653.28,584.84 2655.75,585.309 2658.22,585.752 2660.7,586.171 2663.18,586.565 2665.67,586.934 2668.16,587.279 2670.65,587.598 2673.15,587.893 2675.65,588.162 2678.15,588.407 2680.66,588.626 2683.16,588.82 2685.67,588.99 2688.18,589.134 2690.69,589.253 2693.2,589.347 2695.72,589.416 2698.23,589.459 2700.75,589.478 2703.26,589.471 2705.77,589.44 2708.29,589.383 2710.8,589.301 2713.31,589.194 2715.82,589.062 2718.33,588.904 2720.84,588.722 2723.34,588.514 2725.85,588.282 2728.35,588.024 2730.85,587.742 2733.34,587.434 2735.83,587.102 2738.32,586.745 2740.81,586.363 2743.29,585.956 2745.76,585.524 2748.24,585.067 2750.7,584.586 2753.17,584.08 2755.62,583.55 2758.08,582.994 2760.52,582.415 2762.96,581.811 2765.4,581.183 2767.83,580.53 2770.25,579.853 2772.66,579.152 2775.07,578.427 2777.47,577.677 2779.86,576.904 2782.25,576.107 2784.62,575.286 2786.99,574.442 2789.35,573.573 2791.7,572.682 2794.04,571.766 2796.37,570.828 2798.7,569.866 2801.01,568.881 2803.31,567.873 2805.61,566.842 2807.89,565.788 2810.16,564.711 2812.42,563.611 2814.67,562.489 2816.91,561.345 2819.14,560.178 2821.35,558.989 2823.55,557.778 2825.74,556.545 2827.92,555.29 2830.09,554.013 2832.24,552.715 2834.38,551.396 2836.51,550.055 2838.62,548.692 2840.72,547.309 2842.81,545.905 2844.88,544.48 2846.93,543.034 2848.98,541.568 2851,540.082 2853.02,538.575 2855.01,537.048 2857,535.502 2858.96,533.935 2860.91,532.349 2862.85,530.744 2864.77,529.119 2866.67,527.476 2868.56,525.813 2870.42,524.132 2872.28,522.432 2874.11,520.713 2875.93,518.976 2877.73,517.221 2879.51,515.449 2881.28,513.658 2883.02,511.85 2884.75,510.025 2886.46,508.182 2888.16,506.322 2889.83,504.446 2891.48,502.553 2893.12,500.643 2894.73,498.717 2896.33,496.776 2897.91,494.818 2899.47,492.844 2901,490.855 2902.52,488.851 2904.02,486.832 2905.5,484.798 2906.95,482.749 2908.39,480.686 2909.81,478.608 2911.2,476.517 2912.58,474.411 2913.93,472.292 2915.26,470.16 2916.57,468.014 2917.86,465.855 2919.13,463.684 2920.37,461.5 2921.59,459.303 2922.8,457.095 2923.97,454.874 2925.13,452.642 2926.27,450.399 2927.38,448.144 2928.47,445.878 2929.53,443.602 2930.58,441.315 2931.6,439.017 2932.6,436.71 2933.57,434.392 2934.52,432.065 2935.45,429.729 2936.36,427.383 2937.24,425.029 2938.1,422.665 2938.93,420.294 2939.74,417.914 2940.53,415.526 2941.29,413.13 2942.03,410.727 2942.74,408.317 2943.43,405.899 2944.1,403.475 2944.74,401.044 2945.36,398.607 2945.95,396.164 2946.52,393.715 2947.06,391.261 2947.58,388.801 2948.08,386.336 2948.55,383.866 2949,381.392 2949.42,378.913 2949.81,376.431 2950.18,373.944 2950.53,371.454 2950.85,368.961 2951.15,366.464 2951.42,363.965 2951.67,361.463 2951.89,358.958 2952.08,356.452 2952.25,353.944 2952.4,351.434 2952.52,348.923 2952.62,346.41 2952.69,343.897 2952.73,341.384 2952.75,338.87 \"/>\n",
       "</svg>\n"
      ],
      "text/html": [
       "<img src=\"data:image/png;base64,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\" />"
      ]
     },
     "execution_count": 44,
     "metadata": {},
     "output_type": "execute_result"
    }
   ],
   "source": [
    "x = -1:0.005:1\n",
    "y = -1:0.005:1\n",
    "z = x' .+ im.*y\n",
    "f(z, R) = (abs2(z)<1 && abs(1-z) ≤ R*(1-abs(z))) ? 0.0 : 1.0\n",
    "t = 0:0.01:2π\n",
    "\n",
    "PP = []\n",
    "for RR in [1.0, 2.0, 5.0, 10.0]\n",
    "    P = plot(aspectratio=1)\n",
    "    plot!(xlim=(-1,1), ylim=(-1,1))\n",
    "    plot!(title=\"R = $RR\", titlefontsize=10)\n",
    "    heatmap!(x, y, f.(z, RR), colorbar=false, color=:plasma)\n",
    "    plot!(cos.(t), sin.(t), label=\"\")\n",
    "    push!(PP, P)\n",
    "end\n",
    "\n",
    "plot(PP..., size=(750, 170), layout=@layout([a b c d]))"
   ]
  },
  {
   "cell_type": "markdown",
   "metadata": {},
   "source": [
    "**問題:** $a_k\\geqq 0$ かつ $\\ds\\sum_{k=0}^\\infty a_k=\\infty$ ならば,  $x\\nearrow 1$ のとき $\\ds \\sum_{k=1}^\\infty a_k x^k\\to\\infty$ となることを示せ.\n",
    "\n",
    "**解答例:** $a_k\\geqq 0$ かつ $\\ds\\sum_{k=0}^\\infty a_k=\\infty$ と仮定し, $M>0$ であるとする. ある番号 $N$ が存在して $n\\geqq N$ ならば $\\ds\\sum_{k=0}^n a_k\\geqq 2M$ となる.  ゆえに $\\ds\\frac{1}{2^{1/N}}\\leqq x<1$ とすると, \n",
    "\n",
    "$$\n",
    "\\sum_{k=0}^\\infty a_k x^k \\geqq\n",
    "\\sum_{k=0}^N a_k x^k \\geqq\n",
    "x^N \\sum_{k=0}^N a_k \\geqq\n",
    "\\frac{1}{2}2M = M.\n",
    "$$\n",
    "\n",
    "これで $x\\nearrow 1$ のとき $\\ds \\sum_{k=1}^\\infty a_k x^k\\to\\infty$ となることが示された. $\\QED$\n",
    "\n",
    "**例:** $\\ds f(z) = \\sum_{k=0}^\\infty\\frac{z^{2\\cdot 3^k}-z^{3^k}}{k}$ とおく. 右辺のべき級数の収束半径は $1$ であり, $z=1$ でも収束しており, $f(1)=0$ となっている. ゆえに, Abelの連続性定理より, ある $R\\geqq 1$ について, $z$ が $\\ds\\frac{|1-z|}{1-|z|}\\leqq R$ を満たしながら $1$ に近付くと(特に $z\\nearrow 1$ のとき) $f(z)$ は $f(0)=0$ に近付く.\n",
    "\n",
    "しかし, $\\ds z_m=e^{\\pi i/3^m}$ とおくと, $m\\to\\infty$ で $z_m\\to 1$ であり, さらに $k\\geqq m$, $0\\leqq r\\leqq 1$, $z=r z_m$ ならば $z^{2\\cdot 3^k}-z^{3^k}=r^{2\\cdot3^k}+r^{3^k}$ となり, $r$ のべき級数 $\\ds\\sum_{k=m}^\\infty\\frac{r^{2\\cdot3^k}+r^{3^k}}{k}$ は $r=1$ のとき $\\infty$ になるので, 上の問題の結果より, $r\\nearrow 1$ で $\\ds\\sum_{k=m}^\\infty\\frac{r^{2\\cdot3^k}+r^{3^k}}{k}\\to\\infty$ となる.  このことから, $|z|<1$ を満たす $z$ を $1$ に自由に近付けてよいことにすると, $f(z)$ は $0$ に収束しなくなることがわかる. $\\QED$ "
   ]
  },
  {
   "cell_type": "code",
   "execution_count": 45,
   "metadata": {},
   "outputs": [
    {
     "name": "stdout",
     "output_type": "stream",
     "text": [
      "f(1) = 0.0\n",
      "f(0.9 * e ^ ((π * im) / 3 ^ 1)) = 1.5497581048837092 - 1.447746731035876e-15im\n",
      "f(0.9999 * e ^ ((π * im) / 3 ^ 2)) = 2.1652569095059886 - 0.00025970371463305745im\n",
      "f(0.9999999 * e ^ ((π * im) / 3 ^ 3)) = 2.7262170557818766 + 0.3007667935718108im\n",
      "f(0.9999999999 * e ^ ((π * im) / 3 ^ 4)) = 3.046854906145112 + 0.2649066855815363im\n",
      "f(0.9999999999999 * e ^ ((π * im) / 3 ^ 5)) = 3.2124675281844013 + 0.1962355974206421im\n"
     ]
    }
   ],
   "source": [
    "f(z; N=39) = sum(k->(z^(2*3^k)-z^(3^k))/k, 1:N)\n",
    "@show f(1)\n",
    "@show f(0.9*e^(π*im/3^1))\n",
    "@show f(0.9999*e^(π*im/3^2))\n",
    "@show f(0.9999999*e^(π*im/3^3))\n",
    "@show f(0.9999999999*e^(π*im/3^4))\n",
    "@show f(0.9999999999999*e^(π*im/3^5));"
   ]
  },
  {
   "cell_type": "markdown",
   "metadata": {},
   "source": [
    "#### 準備: Vitaliの定理\n",
    "\n",
    "複素函数論を使うことができれば, べき級数の収束円盤の境界の一部分までべき級数で定義された函数が解析接続されているというAbelの連続性定理の仮定も強い仮定のもとで, Abelの定理よりも強い結論を得ることができる. そういう結果を示すための準備として, 次のVitaliの定理を引用しておく.\n",
    "\n",
    "**Vitaliの定理:** $D$ は$\\C$ の連結開集合であり, $f_n$ は $D$ 上の正則函数列であるとする. もしも $f_n$ が $D$ 上で広義一様有界でかつ複素数列 $f_n(z)$ が収束するような $z\\in D$ の全体が集積点を持つならば, 正則函数列 $f_n$ は $D$ 上で広義一様収束する. $\\QED$\n",
    "\n",
    "ここで, $f_n$ が広義一様有界であるとは, $D$ の任意のコンパクト部分集合 $K$ に対してある定数 $M>0$ が存在して, $K$ 上ですべての番号 $n$ について $|f_n|\\leqq M$ となることであり, $f_n$ が $D$ 上で広義一様収束するとは, $D$ の任意のコンパクト部分集合 $K$ 上で $f_n$ が一様収束することである.  正則函数列の広義一様収束先の函数も正則函数になる. \n",
    "\n",
    "Vitaliの定理の証明はこのノートで扱わないが, その定理は極めて有用である. Vitaliの定理を使えば, 領域 $D$ 内のほんの一部分での収束さえ証明すれば, 領域 $D$ 全体での収束が証明できてしまうことがある. 実際に次の節でVitaliの定理がそのような使われ方をする.\n",
    "\n",
    "Vitaliの証明については以下の文献を参照せよ:\n",
    "\n",
    "* 大島利雄, <a href=\"https://web.archive.org/web/20180202163724/http://akagi.ms.u-tokyo.ac.jp/CAMPUS/ca.pdf\">関数論</a>, 2003年\n",
    "\n",
    "* 斎藤恭司述, 松本佳彦記, <a href=\"http://www.ms.u-tokyo.ac.jp/publication/documents/saito-lectures.pdf\">複素解析学特論</a> (<a href=\"https://web.archive.org/web/20130626083906/http://www.ms.u-tokyo.ac.jp/publication/documents/saito-lectures.pdf\">archive</a>), 1978年, 2009年"
   ]
  },
  {
   "cell_type": "markdown",
   "metadata": {},
   "source": [
    "#### M. Riesz の補題とその応用\n",
    "\n",
    "この節の内容については\n",
    "\n",
    "* Remmert, Reinhold.  Classical topics in complex function theory.  Graduate Texts in Mathematics 172, Springer, 1998\n",
    "\n",
    "の第11章 \"Boundary Behavior of Power Series\" の§1 \"Convergent on the Boundary\" (pp.244-249)を参照した.  この文献のこの章は収束円盤の境界上でのべき級数の振る舞いに関する結果やアイデアに関する歴史的覚え書きについても非常に詳しい. \n",
    "\n",
    "基本は次の補題である. $g_n$ の定義の仕方が絶妙で本質を突いている.\n",
    "\n",
    "**M. Rieszの補題:** $\\ds\\sum_{k=0}^\\infty a_k z^k$ は収束半径が1の複素べき級数であるとし, 複素数列 $a_n$ は有界であると仮定する. \n",
    "\n",
    "$$\n",
    "a < b\\leqq a+2\\pi, \\quad\n",
    "c > 1, \\quad\n",
    "K=K_{a,b,c}=\\{\\, z\\in\\C \\mid a\\leqq\\arg(z)\\leqq b,\\; |z|\\leqq c \\,\\}\n",
    "$$\n",
    "\n",
    "であるとし, $|z|<1$ における正則函数 $\\ds\\sum_{k=0}^\\infty a_k z^k$ は $K$ を含む $\\C$ の開集合上の正則函数 $f$ に拡張されると仮定する. $K$ 上の函数列 $g_n$ を次のように定める:\n",
    "\n",
    "$$\n",
    "g_n(z) = \\frac{f(z) - s_n(z)}{z^{n+1}} (z-\\alpha)(z-\\beta),\n",
    "\\quad s_n(z) = \\sum_{k=0}^n a_k z^k,\n",
    "\\quad \\alpha = e^{ia}, \n",
    "\\quad \\beta = e^{ib}.\n",
    "$$\n",
    "\n",
    "このとき, 函数列 $g_n$ は $K$ 上で一様有界である. $\\QED$\n",
    "\n",
    "**証明:** $\\kappa = ce^{ia}$, $\\lambda = ce^{ib}$ とおく.  最大値の原理より, $K$ の境界上で, すなわち, 線分 $[0,\\kappa]$, $[0,\\lambda]$ および円弧 $L = \\{\\,ce^{i\\theta}\\mid a\\leqq\\theta\\leqq b\\,\\}$ の上で函数列 $g_n$ が一様有界であることを示せば十分である. 線分 $[0,\\kappa]$ を $0$, $\\alpha$, $(0,\\alpha)$, $(\\alpha,\\lambda]$ に分割して考える. \n",
    "\n",
    "複素数列 $|a_k|$ の上界の一つを $A>0$ と書き, $|f|$ の $K$ 上での上界の一つを $M>0$ と書く.\n",
    "\n",
    "$z=0$ において, $|g_n(0)| = |a_{n+1}||0-\\alpha||0-\\beta|=|a_{n+1}|\\leqq A$.\n",
    "\n",
    "$z=\\alpha$ において, $|g_n(\\alpha)|=0$.\n",
    "\n",
    "$z\\in(0,\\alpha)$ は $z = re^{ia}$, $0< r < 1$ と表わされる. そのとき,\n",
    "\n",
    "$$\n",
    "\\begin{aligned}\n",
    "&\n",
    "|f(z)-s_n(z)| = \\left|\\sum_{k=n+1}^\\infty a_k z^k\\right| \\leqq \n",
    "A\\sum_{k=n+1}^\\infty r^k = \\frac{A r^{n+1}}{1-r},\n",
    "\\\\ &\n",
    "|z-\\alpha|=1-r,  \\quad |z-\\beta|\\leqq 2\n",
    "\\end{aligned}\n",
    "$$\n",
    "\n",
    "なので, \n",
    "\n",
    "$$\n",
    "|g_n(z)|\\leqq\n",
    "\\frac{A r^{n+1}}{1-r}\\frac{1}{r^{n+1}}(1-r)2 = 2A.\n",
    "$$\n",
    "\n",
    "$z\\in(\\alpha,\\kappa]$ は $z=re^{ia}$, $1<r\\leqq c$ と表わされる. そのとき,\n",
    "\n",
    "$$\n",
    "\\begin{aligned}\n",
    "&\n",
    "|f(z)-s_n(z)| \\leqq \n",
    "|f(z)|+A\\sum_{k=0}^n r^k \\leqq\n",
    "M + \\frac{A(r^{n+1}-1)}{r-1} \\leqq\n",
    "M + A\\frac{r^{n+1}}{r-1},\n",
    "\\\\ &\n",
    "|z-\\alpha| = r-1, \\quad |z-\\beta|\\leqq c+1,\n",
    "\\\\ &\n",
    "r^{n+1} \\geqq r \\geqq r-1\n",
    "\\end{aligned}\n",
    "$$\n",
    "\n",
    "なでの,\n",
    "\n",
    "$$\n",
    "|g_n(z)|\\leqq \n",
    "\\left(M + A\\frac{r^{n+1}}{r-1}\\right)\\frac{1}{r^{n+1}}(r-1)(c+1) \\leqq\n",
    "(M+A)(c+1).\n",
    "$$\n",
    "\n",
    "$z\\in[0,\\lambda]$ 上での $|g_n|$ の上からの評価は以上における $z\\in[0,\\lambda]$ の場合と同様である.\n",
    "\n",
    "$z\\in L$ は $z=ce^{i\\theta}$, $a\\leqq\\theta\\leqq b$ と表わされる. そのとき, $|z|=c>1$ なので,\n",
    "\n",
    "$$\n",
    "\\begin{aligned}\n",
    "&\n",
    "|f(z)-s_n(z)| \\leqq \n",
    "|f(z)|+A\\sum_{k=0}^n c^k \\leqq\n",
    "M + \\frac{A(c^{n+1}-1)}{c-1} \\leqq\n",
    "M + A\\frac{c^{n+1}}{c-1},\\\\ &\n",
    "|z-\\alpha|\\leqq c+1, \\quad |z-\\beta|\\leqq c+1,\n",
    "\\end{aligned}\n",
    "$$\n",
    "\n",
    "なので,\n",
    "\n",
    "$$\n",
    "|g_n(z)|\\leqq\n",
    "\\left(M + A\\frac{c^{n+1}}{c-1}\\right)\\frac{1}{c^{n+1}}(c+1)(c+1) \\leqq\n",
    "\\left(M + \\frac{A}{c-1}\\right)(c+1)^2.\n",
    "$$\n",
    "\n",
    "以上によって, $|g_n|$ が $K$ の境界上で一様有界であることが示されたので, 最大値の原理から $K$ 全体で一様有界であることも導かれる. $\\QED$.\n",
    "\n",
    "**M. Rieszの有界性定理:** $\\ds\\sum_{k=0}^\\infty a_k z^k$ は収束半径が1の複素べき級数であるとし, 複素数列 $a_n$ は有界であると仮定する. \n",
    "\n",
    "$$\n",
    "S=\\{\\, z\\in\\C \\mid A<\\arg(z)<B,\\; |z| < C\\,\\}, \\quad\n",
    "A < B \\leqq A+2\\pi, \\quad\n",
    "C > 1\n",
    "$$\n",
    "\n",
    "であるとし, $|z|<1$ における正則函数 $\\ds\\sum_{k=0}^\\infty a_k z^k$ は $S$ 上の正則函数 $f$ に拡張されると仮定する. このとき, 部分和の函数列 $s_n(z) = \\ds\\sum_{k=0}^n a_k z^k$ は\n",
    "\n",
    "$$\n",
    "S_{|z|\\leqq 1} = \\{\\,z\\in\\C\\mid A<\\arg(z)<B,\\; |z|\\leqq 1\\,\\}\n",
    "$$\n",
    "\n",
    "上で広義一様有界である. $\\QED$\n",
    "\n",
    "**証明:** $S_{|z|\\leqq 1}$ の任意のコンパクト部分集合 $Z$ は M. Rieszの補題におけるある $K=K_{a,b,c}$ で $A<a<b<B$, $1<c<C$ を満たすものの内部に含まれる. 以下では M. Rieszの補題とその証明における記号をそのまま用いる. $Z$ から $K$ の境界への最短距離を $d>0$ と書く. M. Rieszの補題より, ある定数 $G>0$ が存在して, すべての番号 $n$ について $K$ 上で $|g_n|\\leqq G$ となる. ゆえに, $z\\in Z$ のとき, $|z|\\leqq 1$ でもあるので,\n",
    "\n",
    "$$\n",
    "|s_n(z)| = \\left|f(z) - \\frac{g_n(z)z^{n+1}}{(z-\\alpha)(z-\\beta)}\\right| \\leqq\n",
    "|f(z)| + \\frac{|g_n(z)||z^{n+1}|}{|z-\\alpha||z-\\beta|} \\leqq\n",
    "M + \\frac{G}{d^2}.\n",
    "$$\n",
    "\n",
    "これで $s_n(z)$ が $Z$ 上で一様有界であることが確かめられた. $\\QED$"
   ]
  },
  {
   "cell_type": "markdown",
   "metadata": {},
   "source": [
    "**FatouとM. Rieszの収束定理:** M. Rieszの有界性定理の状況において, さらに複素数列 $a_n$ が $0$ に収束していると仮定すると, べき級数 $\\ds\\sum_{k=0}^\\infty a_k z^k$ は $S_{|z|\\leqq 1}$ 上で $f$ に広義一様収束する. $\\QED$\n",
    "\n",
    "**証明:** $S_{|z|\\leqq 1}$ の任意のコンパクト部分集合 $Z$ は M. Rieszの補題におけるある $K=K_{a,b,c}$ で $A<a<b<B$, $1<c<C$ を満たすものの内部に含まれる. 以下では M. Rieszの補題とその証明における記号をそのまま用いる. $Z$ から $K$ の境界への最短距離を $d>0$ と書く. このとき, $z\\in Z$ ならば, $|z|\\leqq 1$ でもあるので,\n",
    "\n",
    "$$\n",
    "|f(z)-s_n(z)| = \\frac{|g_n(z)||z^{n+1}|}{|z-\\alpha||z-\\beta|} \\leqq\n",
    "\\frac{|g_n(z)|}{d^2}.\n",
    "$$\n",
    "\n",
    "したがって, $s_n(z)$ が $f(z)$ に一様収束することを示すためには, $g_n(z)$ が $Z$ 上で $0$ に一様収束することを示せば十分である. さらに, そのためには, Vitaliも定理より, $0<r<1$ を満たす $r$ を任意に固定して, $z\\in K$, $|z|=r$ のときに, $\\ds \\lim_{n\\to\\infty}g_n(z)=0$ となることを示せば十分である. \n",
    "\n",
    "$0<r<1$, $z\\in K$, $|z|=r$ と仮定し, 任意に $\\eps>0$ を取る. この場合には, $a_n$ が $0$ に収束すると仮定してあったので, ある番号 $N$ が存在して, $k\\geqq N$ ならば $\\ds |a_k|\\leqq \\eps\\frac{1-r}{(r+1)^2}$ となる.  以下, $n\\geqq N$ と仮定する. このとき,  $|z-\\alpha|\\leqq r+1$, $|z-\\beta|\\leqq r+1$, \n",
    "\n",
    "$$\n",
    "|f(z)-s_n(z)|\\leqq\\sum_{k=n+1}^\\infty |a_k|q^k \\leqq \n",
    "\\eps\\frac{1-r}{(r+1)^2}\\frac{r^{n+1}}{1-r}\n",
    "$$\n",
    "\n",
    "なので, \n",
    "\n",
    "$$\n",
    "|g_n(z)|\\leqq \\eps\\frac{1-r}{(r+1)^2}\\frac{r^{n+1}}{1-r}\\frac{1}{r^{n+1}}(r+1)^2 = \\eps.\n",
    "$$\n",
    "\n",
    "これで $\\ds\\lim_{n\\to\\infty}g_n(z)=0$ が示された. $\\QED$"
   ]
  },
  {
   "cell_type": "markdown",
   "metadata": {},
   "source": [
    "**注意:** FatouとM. Rieszの収束定理より, 収束半径 $1$ のべき級数で定義された $|z|<1$ における正則函数 $\\ds f(z)=\\sum_{k=0}^\\infty a_k z^k$ が $z=1$ まで解析接続されているとき, 複素数列 $a_n$ が $0$ に収束することと $\\ds\\sum_{k=0}^\\infty a_k = \\lim_{n\\to\\infty}\\sum_{k=0}^n a_k$ が収束することが同値であることがわかる. 後者ならば前者は自明であるが, その逆向きはFatouとM. Rieszの収束定理の証明を読めばかなり非自明である. $\\QED$"
   ]
  },
  {
   "cell_type": "markdown",
   "metadata": {},
   "source": [
    "**例:** FatouとM. Rieszの収束定理(もしくはRieszの有界性定理)において, べき級数の係数が $0$ に収束する(もしくは有界である)という仮定を除くことはできないことは次の例を見ればわかる. 有理函数 $\\ds f(z)=\\frac{1}{(1+z)^2}$ は $z\\ne-1$ 以外で正則であり, そのべき級数展開\n",
    "\n",
    "$$\n",
    "f(z) = \\sum_{n=1}^\\infty (-1)^{n-1} n z^n\n",
    "$$\n",
    "\n",
    "の収束半径は $1$ であり, $\\ds f(1)=\\frac{1}{4}$ である. しかし, 右辺のべき級数の係数 $(-1)^{n-1}n$ は $0$ に収束していないし(有界でさえない), そのべき級数は $z=1$ のとき\n",
    "\n",
    "$$\n",
    "\\begin{aligned}\n",
    "&\n",
    "s_N = \\sum_{n=1}^N (-1)^{n-1} n = 1-2+3-4+\\cdots+(-1)^{N-1}N = \n",
    "(-1)^{N-1}\\left\\lfloor\\frac{N+1}{2}\\right\\rfloor,\n",
    "\\\\ &\n",
    "s_1=1,\\ s_2=-1,\\ s_3=2,\\ s_4=-2,\\ s_5=3,\\ s_6=-3,\\ \\ldots\n",
    "\\end{aligned}\n",
    "$$\n",
    "\n",
    "となって収束しない(有界でさえない). $\\QED$\n",
    "\n",
    "**例:** $\\ds \\log(1+z) = \\int_0^z \\frac{dt}{1+t}$ は $z\\ne -1$ 以外では多価正則であり, そのべき級数展開\n",
    "\n",
    "$$\n",
    "\\log(1+z) = \\sum_{n=1}^\\infty (-1)^{n-1}\\frac{z^n}{n}\n",
    "$$\n",
    "\n",
    "の収束半径は $1$ であり, その係数 $(-1)^n/n$ は $0$ に収束している. ゆえに, FatouとM. Rieszの収束定理より, このべき級数は\n",
    "\n",
    "$$\n",
    "|z|\\leqq 1, \\quad -\\pi < \\arg(z) < \\pi\n",
    "$$\n",
    "\n",
    "において $\\log(1+z)$ に広義一様収束している. $\\QED$\n",
    "\n",
    "**例:** $\\ds\\Li_2(z)=\\int_0^z\\frac{-\\log(1-t)}{t}\\,dt$ は $z=1$ 以外では多価正則であり, そのべき級数展開\n",
    "\n",
    "$$\n",
    "\\Li_2(z) = \\sum_{n=1}^\\infty \\frac{z^n}{n^2}\n",
    "$$\n",
    "\n",
    "は $|z|\\leqq 1$ において一様絶対収束している.  $\\ds\\sum_{n=1}^\\infty\\frac{1}{n^2}=\\zeta(2)=\\frac{\\pi^2}{6}$ なので, Abelの定理より, $z\\nearrow 1$ のとき, $\\ds\\sum_{n=1}^\\infty\\frac{z^n}{n^2}\\to\\zeta(2)$ となる. $\\QED$"
   ]
  },
  {
   "cell_type": "markdown",
   "metadata": {},
   "source": [
    "## 超幾何級数\n",
    "\n",
    "次のべき級数を**Gaussの超幾何級数** (Gauss's hypergeometric series)と呼ぶ:\n",
    "\n",
    "$$\n",
    "{}_2F_1(a,b; c; x) = \\sum_{k=0}^\\infty \\frac{(a)_k (b)_k}{(c)_k k!} x^k.\n",
    "$$\n",
    "\n",
    "ここで\n",
    "\n",
    "$$\n",
    "(\\alpha)_k = \\alpha(\\alpha+1)\\cdots(\\alpha+k-1).\n",
    "$$\n",
    "\n",
    "より一般に\n",
    "\n",
    "$$\n",
    "{}_rF_s(a_1,\\ldots,a_r;b_1,\\ldots,b_s;x) =\n",
    "\\sum_{k=0}^\\infty \\frac{(a_1)_k\\cdots(a_r)_k}{(b_1)_k\\cdots(b_s)_k k!}x^k\n",
    "$$\n",
    "\n",
    "と定める."
   ]
  },
  {
   "cell_type": "markdown",
   "metadata": {},
   "source": [
    "**問題:** Gaussの超幾何級数 ${}_2F_1$ が $|x|<1$ で絶対収束することを示せ.\n",
    "\n",
    "**解答例:** d'Alembertの判定法を使おう.\n",
    "\n",
    "$$\n",
    "\\frac{(a)_k(b)_k/((c)_k k!)}{(a)_{k+1}(b)_{k+1}/((c)_{k+1}(k+1)!)} =\n",
    "\\frac{(c+k)(k+1)}{(a+k)(b+k)}\\to 1 \\qquad(k\\to\\infty)\n",
    "$$\n",
    "\n",
    "より, Gaussの超幾何級数は $|x|<1$ で絶対収束する. $\\QED$"
   ]
  },
  {
   "cell_type": "markdown",
   "metadata": {},
   "source": [
    "**問題:** 以下を示せ:\n",
    "\n",
    "$$\n",
    "(1)_k=k!, \\quad (2)_k = (k+1)!, \\quad\n",
    "(1/2)_k k! = \\frac{(2k)!}{4^k}, \\quad\n",
    "(2k+1)(1/2)_k = (3/2)_k.\n",
    "$$\n",
    "\n",
    "**ヒント:** 3つ目の公式を除けば易しい. 3つ目の公式は以下のようにして示される:\n",
    "\n",
    "$$\n",
    "(1/2)_k k! =\n",
    "\\frac{1}{2}\\frac{3}{2}\\cdots\\frac{2k-1}{2} k! =\n",
    "\\frac{1\\cdot3\\cdots(2k-1)}{2^k}\\frac{2\\cdot4\\cdots(2k)}{2^k} =\n",
    "\\frac{(2k)!}{4^k}. \\quad \\QED\n",
    "$$"
   ]
  },
  {
   "cell_type": "markdown",
   "metadata": {},
   "source": [
    "**例:** 初等函数を以下のように表すことができる:\n",
    "$$\n",
    "\\begin{aligned}\n",
    "&\n",
    "{}_0F_0(;; x) = \\sum_{k=0}^\\infty\\frac{1}{k!}x^k = e^x.\n",
    "\\\\ &\n",
    "{}_0F_1(;1/2;-x^2/4) = \n",
    "\\sum_{k=0}^\\infty \\frac{(-x^2/4)^k}{(1/2)_k k!} =\n",
    "\\sum_{k=0}^\\infty \\frac{(-x^2)^k}{(2k)!} = \\cos x.\n",
    "\\\\ &\n",
    "{}_1F_0(a;; x) = \\sum_{k=0}^\\infty\\frac{(a)_k}{k!}x^k = (1-x)^{-a}.\n",
    "\\\\ &\n",
    "{}_2F_1(1,1;2;x) = \\sum_{k=0}^\\infty\\frac{k!k!}{(k+1)!k!}x^k = \n",
    "\\sum_{k=0}^\\infty\\frac{x^k}{k+1} = -\\frac{\\log(1-x)}{x}.\n",
    "\\\\ &\n",
    "x\\;{}_2F_1(1/2,1;3/2;-x^2) =\n",
    "x\\sum_{k=0}^\\infty\\frac{(1/2)_k k!}{(3/2)_k k!}(-x^2)^k =\n",
    "x\\sum_{k=0}^\\infty\\frac{(-x^2)^k}{2k+1} = \\arctan x.\n",
    "\\end{aligned}\n",
    "$$\n",
    "\n",
    "**問題:** 上の例の結果を確認せよ. $\\QED$"
   ]
  },
  {
   "cell_type": "markdown",
   "metadata": {},
   "source": [
    "**問題:** $\\sin x$ を ${}_0F_1$ を使って表せ. $\\QED$\n",
    "\n",
    "**問題:** $\\arcsin x$ を ${}_2F_1$ を使って表せ. $\\QED$\n",
    "\n",
    "**ヒント:** <a href=\"https://www.google.co.jp/search?q=%E8%B6%85%E5%B9%BE%E4%BD%95+%E5%88%9D%E7%AD%89%E5%87%BD%E6%95%B0\">「超幾何 初等函数」を検索</a>."
   ]
  },
  {
   "cell_type": "markdown",
   "metadata": {},
   "source": [
    "**問題:** ガンマ函数とベータ函数を\n",
    "\n",
    "$$\n",
    "\\Gamma(s) = \\int_0^\\infty e^{-x}x^{s-1}\\,dx, \\quad\n",
    "B(p,q) = \\int_0^1 t^{p-1}(1-t)^{q-1}\\,dt\n",
    "\\quad(s,p,q > 0)\n",
    "$$\n",
    "\n",
    "と定めると, \n",
    "\n",
    "$$\n",
    "(x)_k = \\frac{\\Gamma(x+k)}{\\Gamma(x)}, \\quad\n",
    "B(p,q) = \\frac{\\Gamma(p)\\Gamma(q)}{\\Gamma(p+q)}\n",
    "$$\n",
    "\n",
    "が成立することを認めて, $c>b>0$ のとき\n",
    "\n",
    "$$\n",
    "{}_2F_1(a,b;c;x) = \\frac{1}{B(b,c-b)}\n",
    "\\int_0^1 t^{b-1}(1-t)^{c-b-1}(1-xt)^{-a}\\,dt\n",
    "$$\n",
    "\n",
    "が成立することを示せ. これを**Gaussの超幾何函数の積分表示**と呼ぶ.\n",
    "\n",
    "**解答例:** \n",
    "\n",
    "$$\n",
    "\\begin{aligned}\n",
    "\\frac{(a)_k (b)_k}{(c)_k k!} x^k &=\n",
    "\\frac{\\Gamma(b+k)\\Gamma(c)}{\\Gamma(b)\\Gamma(x+k)} \\frac{(a)_k}{k!}x^k =\n",
    "\\frac{B(b+k,c-b)}{B(b,c-b)}\\frac{(a)_k}{k!}x^k\n",
    "\\\\ &=\n",
    "\\frac{1}{B(b,c-b)}\\int_0^1 t^{b-1}(1-t)^{c-b-1} \\frac{(a)_k}{k!}(xt)^k\\,dt.\n",
    "\\end{aligned}\n",
    "$$\n",
    "\n",
    "ゆえに, これを $k=0,1,2,\\ldots$ について足し上げて目的の公式を得る. $\\QED$\n",
    "\n",
    "**注意:** 高校数学における積分の取り扱いにおいて\n",
    "\n",
    "$$\n",
    "I = \\int_\\alpha^\\beta (x-\\alpha)^A (\\beta-x)^B (\\gamma-x)^C \\,dx\n",
    "$$\n",
    "\n",
    "の形の積分に出会っている人はその時点でGaussの超幾何函数にすでに出会っていると言える. この形の積分は $x = (1-t)\\alpha+t\\beta$, $z=(\\beta-\\alpha)/(\\gamma-\\alpha)$ とおくと\n",
    "\n",
    "$$\n",
    "I = (\\beta-\\alpha)^{A+B+1}(\\gamma-\\alpha)^C\\int_0^1 t^A (1-t)^B (1-zt)^C \\,dt\n",
    "$$\n",
    "\n",
    "と変形される. $\\QED$"
   ]
  },
  {
   "cell_type": "markdown",
   "metadata": {},
   "source": [
    "**問題:** 以下の公式を示せ: $c>b>0$ のとき,\n",
    "\n",
    "$$\n",
    "{}_1F_1(b;c;x) = \\frac{1}{B(b,c-b)}\\int_0^1 t^{b-1}(1-t)^{c-b-1}\\,e^{xt}\\,dt\n",
    "$$\n",
    "\n",
    "となることを示せ. これを**Kummerの合流型超幾何函数の積分表示**と呼ぶ.\n",
    "\n",
    "**解答例:**\n",
    "\n",
    "$$\n",
    "\\begin{aligned}\n",
    "\\frac{(b)_k}{(c)_k k!} x^k &=\n",
    "\\frac{\\Gamma(b+k)\\Gamma(c)}{\\Gamma(b)\\Gamma(x+k)} \\frac{x^k}{k!} =\n",
    "\\frac{B(b+k,c-b)}{B(b,c-b)}\\frac{x^k}{k!}\n",
    "\\\\ &=\n",
    "\\frac{1}{B(b,c-b)}\\int_0^1 t^{b-1}(1-t)^{c-b-1} \\frac{(xt)^k}{k!}\\,dt.\n",
    "\\end{aligned}\n",
    "$$\n",
    "\n",
    "ゆえに, これを $k=0,1,2,\\ldots$ について足し上げて目的の公式を得る. $\\QED$"
   ]
  },
  {
   "cell_type": "markdown",
   "metadata": {},
   "source": [
    "**問題(Gaussの超幾何微分方程式):** $y={}_2F_1(a,b; c; x)$ が\n",
    "\n",
    "$$\n",
    "x(1-x)y'' + (c-(a+b+1)x)y' - aby = 0\n",
    "$$\n",
    "\n",
    "を満たしていることを示せ. これを**Gaussの超幾何微分方程式**と呼ぶ.\n",
    "\n",
    "**解答例:** $\\d=\\frac{d}{dx}$ とおく. $x\\d x^k = kx^k$ となる. ゆえに, $\\ds{}_2F_1(a,b;c;x)=\\sum_{k=0}^\\infty \\frac{(a)_k (b)_k}{(c)_k k!} x^k$ より,\n",
    "\n",
    "$$\n",
    "\\begin{aligned}\n",
    "&\n",
    "(x\\d+a)y = \\sum_{k=0}^\\infty \\frac{(a)_k (b)_k}{(c)_k k!} (a+k)x^k =\n",
    "\\sum_{k=0}^\\infty \\frac{a(a+1)_k (b)_k}{(c)_k k!}x^k =\n",
    "a\\,{}_2F_1(a+1,b;c;x),\n",
    "\\\\& \\therefore\\quad\n",
    "(x\\d+a)(x\\d+b)y = ab\\,{}_2F_1(a+1,b+1;c;x).\n",
    "\\\\ &\n",
    "\\d(x\\d+c-1)y = \\sum_{k=1}^\\infty \\frac{(a)_k (b)_k}{(c)_k k!}(c+k-1)k x^{k-1} \n",
    "\\\\ &\\qquad\\qquad\\quad =\n",
    "\\sum_{k=1}^\\infty \\frac{a(a+1)_{k-1} b(b+1)_{k-1}}{(c)_{k-1} (k-1)!} x^{k-1} =\n",
    "ab\\,{}_2F_1(a+1,b+1;c;x),\n",
    "\\\\ & \\therefore\\quad\n",
    "[\\d(x\\d+c-1)-(x\\d+a)(x\\d+b)] y = 0.\n",
    "\\end{aligned}\n",
    "$$\n",
    "\n",
    "そして,\n",
    "\n",
    "$$\n",
    "\\begin{aligned}\n",
    "\\d(x\\d+c-1)-(x\\d+a)(x\\d+b) &=\n",
    "x\\d^2+c\\d - (x^2\\d^2 + (a+b+1)x\\d + ab) \n",
    "\\\\ &=\n",
    "x(1-x)\\d^2 +(c-(a+b+1)x)\\d - ab.\n",
    "\\end{aligned}\n",
    "$$\n",
    "\n",
    "これで示したい公式が示された. $\\QED$"
   ]
  },
  {
   "cell_type": "markdown",
   "metadata": {},
   "source": [
    "**注意:** Gaussの超幾何函数に関する詳しい結果を用いて, Virasoro代数の対称性を持つBelavin-Polyakov-Zamolodchikovの共形場理論の $c=1$ の場合を詳しく分析すると, Painlevé VI 方程式の $\\tau$ 函数を構成できるという面白い結果については, 次の集中講義のノートを参照せよ.\n",
    "\n",
    "* 名古屋創, <a href=\"https://genkuroki.github.io/documents/201805NagoyaHajime/\">共形場理論とPainlevé方程式</a>, 東北大学数学教室における集中講義, 2018年5月7日～10日\n",
    "\n",
    "この集中講義の<a href=\"https://genkuroki.github.io/documents/201805NagoyaHajime/2018-05-09%20%E5%90%8D%E5%8F%A4%E5%B1%8B%E5%89%B5%20%E5%85%B1%E5%BD%A2%E5%A0%B4%E7%90%86%E8%AB%96%E3%81%A8%E3%83%8F%E3%82%9A%E3%83%B3%E3%83%AB%E3%82%A6%E3%82%99%E3%82%A7%E6%96%B9%E7%A8%8B%E5%BC%8F%202%20of%204.pdf\">第2回目</a>はGaussの超幾何微分方程式の易しい入門的解説になっている. $\\QED$"
   ]
  },
  {
   "cell_type": "markdown",
   "metadata": {},
   "source": [
    "**問題(Kummerの合流型超幾何微分方程式):** $y={}_1F_1(b; c; x)$ が\n",
    "\n",
    "$$\n",
    "xy'' + (c-x)y' - by = 0\n",
    "$$\n",
    "\n",
    "を満たしていることを示せ. これを**Kummerの合流型超幾何微分方程式**と呼ぶ.\n",
    "\n",
    "**解答例:**$\\d=\\frac{d}{dx}$ とおく. $x\\d x^k = kx^k$ となる. ゆえに, $\\ds{}_1F_1(b;c;x)=\\sum_{k=0}^\\infty \\frac{(b)_k}{(c)_k k!} x^k$ より,\n",
    "\n",
    "$$\n",
    "\\begin{aligned}\n",
    "&\n",
    "(x\\d+b)y = \\sum_{k=0}^\\infty \\frac{(b)_k}{(c)_k k!} (b+k)x^k =\n",
    "\\sum_{k=0}^\\infty \\frac{b(b+1)_k}{(c)_k k!}x^k =\n",
    "b\\,{}_2F_1(b+1;c;x),\n",
    "\\\\ &\n",
    "\\d(x\\d+c-1)y = \\sum_{k=1}^\\infty \\frac{(b)_k}{(c)_k k!}(c+k-1)k x^{k-1} \n",
    "\\\\ &\\qquad\\qquad\\quad =\n",
    "\\sum_{k=1}^\\infty \\frac{b(b+1)_{k-1}}{(c)_{k-1} (k-1)!} x^{k-1} =\n",
    "b\\,{}_1F_1(b+1;c;x),\n",
    "\\\\ & \\therefore\\quad\n",
    "[\\d(x\\d+c-1)-(x\\d+b)] y = 0.\n",
    "\\end{aligned}\n",
    "$$\n",
    "\n",
    "そして,\n",
    "\n",
    "$$\n",
    "\\begin{aligned}\n",
    "\\d(x\\d+c-1)-(x\\d+b) &=\n",
    "x\\d^2+c\\d - (x\\d+b)\n",
    "\\\\ &=\n",
    "x(1-x)\\d^2 +(c-x)\\d - b.\n",
    "\\end{aligned}\n",
    "$$\n",
    "\n",
    "これで示したい公式が示された. $\\QED$"
   ]
  }
 ],
 "metadata": {
  "@webio": {
   "lastCommId": null,
   "lastKernelId": null
  },
  "_draft": {
   "nbviewer_url": "https://gist.github.com/bcbdff11a10b6c9679ecf773d4486a0f"
  },
  "gist": {
   "data": {
    "description": "06 Taylor's theorems",
    "public": true
   },
   "id": "bcbdff11a10b6c9679ecf773d4486a0f"
  },
  "jupytext": {
   "formats": "ipynb,md"
  },
  "kernelspec": {
   "display_name": "Julia 1.9.1",
   "language": "julia",
   "name": "julia-1.9"
  },
  "language_info": {
   "file_extension": ".jl",
   "mimetype": "application/julia",
   "name": "julia",
   "version": "1.9.1"
  },
  "toc": {
   "base_numbering": 1,
   "nav_menu": {
    "height": "207px",
    "width": "242px"
   },
   "number_sections": true,
   "sideBar": true,
   "skip_h1_title": true,
   "title_cell": "目次",
   "title_sidebar": "目次",
   "toc_cell": true,
   "toc_position": {
    "height": "calc(100% - 180px)",
    "left": "10px",
    "top": "150px",
    "width": "214px"
   },
   "toc_section_display": true,
   "toc_window_display": false
  }
 },
 "nbformat": 4,
 "nbformat_minor": 2
}
